{
 "cells": [
  {
   "cell_type": "code",
   "execution_count": 44,
   "metadata": {},
   "outputs": [],
   "source": [
    "import numpy as np"
   ]
  },
  {
   "cell_type": "code",
   "execution_count": 45,
   "metadata": {},
   "outputs": [
    {
     "name": "stdout",
     "output_type": "stream",
     "text": [
      "(77, 10)\n"
     ]
    }
   ],
   "source": [
    "# read poi.txt as 2d array\n",
    "\n",
    "poi = np.loadtxt('poi.txt', dtype='int32', delimiter=' ')\n",
    "\n",
    "print(poi.shape)"
   ]
  },
  {
   "cell_type": "code",
   "execution_count": 46,
   "metadata": {},
   "outputs": [
    {
     "name": "stdout",
     "output_type": "stream",
     "text": [
      "(77, 10)\n"
     ]
    }
   ],
   "source": [
    "# standardize poi\n",
    "\n",
    "poi = poi - poi.mean(axis=0)\n",
    "\n",
    "poi = poi / poi.std(axis=0)\n",
    "\n",
    "print(poi.shape)"
   ]
  },
  {
   "cell_type": "code",
   "execution_count": 47,
   "metadata": {},
   "outputs": [],
   "source": [
    "# write poi to npy file without exponential notation\n",
    "\n",
    "np.set_printoptions(suppress=True)\n",
    "\n",
    "np.save('embedding_chi_poi.npy', poi)"
   ]
  }
 ],
 "metadata": {
  "kernelspec": {
   "display_name": "venv",
   "language": "python",
   "name": "python3"
  },
  "language_info": {
   "codemirror_mode": {
    "name": "ipython",
    "version": 3
   },
   "file_extension": ".py",
   "mimetype": "text/x-python",
   "name": "python",
   "nbconvert_exporter": "python",
   "pygments_lexer": "ipython3",
   "version": "3.8.0"
  },
  "orig_nbformat": 4
 },
 "nbformat": 4,
 "nbformat_minor": 2
}
