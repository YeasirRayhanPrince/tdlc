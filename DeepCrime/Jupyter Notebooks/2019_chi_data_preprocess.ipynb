{
 "cells": [
  {
   "cell_type": "code",
   "execution_count": 1,
   "metadata": {},
   "outputs": [],
   "source": [
    "import pandas as pd\n",
    "import numpy as np\n",
    "import shapely.wkt\n",
    "from shapely.geometry import Point, Polygon, MultiPolygon"
   ]
  },
  {
   "cell_type": "code",
   "execution_count": 2,
   "metadata": {},
   "outputs": [],
   "source": [
    "file311 = \"../Chicago Dataset/2019_chi_311.csv\"\n",
    "fileCrime = \"../Chicago Dataset/data_2019.csv\"\n",
    "fileRegions = \"../Chicago Dataset/CommAreas.csv\""
   ]
  },
  {
   "cell_type": "code",
   "execution_count": 9,
   "metadata": {},
   "outputs": [
    {
     "data": {
      "text/plain": [
       "Index(['Unnamed: 0', 'sr_number', 'sr_type', 'sr_short_code',\n",
       "       'created_department', 'owner_department', 'status', 'origin',\n",
       "       'created_date', 'last_modified_date', 'closed_date', 'street_address',\n",
       "       'city', 'state', 'zip_code', 'street_number', 'street_direction',\n",
       "       'street_name', 'street_type', 'duplicate', 'legacy_record',\n",
       "       'community_area', 'ward', 'electricity_grid', 'police_sector',\n",
       "       'police_district', 'police_beat', 'precinct', 'created_hour',\n",
       "       'created_day_of_week', 'created_month', 'x_coordinate', 'y_coordinate',\n",
       "       'latitude', 'longitude', 'location', ':@computed_region_rpca_8um6',\n",
       "       ':@computed_region_vrxf_vc4k', ':@computed_region_6mkv_f3dw',\n",
       "       ':@computed_region_bdys_3d7i', ':@computed_region_43wa_7qmu',\n",
       "       'parent_sr_number'],\n",
       "      dtype='object')"
      ]
     },
     "execution_count": 9,
     "metadata": {},
     "output_type": "execute_result"
    }
   ],
   "source": [
    "data311 = pd.read_csv(file311)\n",
    "data311.columns"
   ]
  },
  {
   "cell_type": "code",
   "execution_count": 10,
   "metadata": {},
   "outputs": [
    {
     "data": {
      "text/plain": [
       "array(['311 INFORMATION ONLY CALL', 'Street Light Out Complaint',\n",
       "       'Aircraft Noise Complaint', 'Graffiti Removal Request',\n",
       "       'Alley Light Out Complaint', 'Snow – Uncleared Sidewalk Complaint',\n",
       "       'Traffic Signal Out Complaint', 'Pet Wellness Check Request',\n",
       "       'Sanitation Code Violation', 'Open Fire Hydrant Complaint',\n",
       "       'Building Violation', 'Coyote Interaction Complaint',\n",
       "       'Ice and Snow Removal Request', 'Recycling Pick Up',\n",
       "       'Pothole in Street Complaint', 'Stray Animal Complaint',\n",
       "       'Sewer Cave-In Inspection Request',\n",
       "       'Missed Garbage Pick-Up Complaint', 'Water Lead Test Kit Request',\n",
       "       'Rodent Baiting/Rat Complaint', 'Garbage Cart Maintenance',\n",
       "       'City Vehicle Sticker Violation', 'No Water Complaint',\n",
       "       'Water Lead Test Visit Request',\n",
       "       'Sewer Cleaning Inspection Request',\n",
       "       'Tree Debris Clean-Up Request', 'Vicious Animal Complaint',\n",
       "       'Street Light Pole Damage Complaint', 'Nuisance Animal Complaint',\n",
       "       'Buildings - Plumbing Violation', 'Abandoned Vehicle Complaint',\n",
       "       'Blue Recycling Cart', 'Report an Injured Animal',\n",
       "       'Water On Street Complaint', 'Dead Animal Pick-Up Request',\n",
       "       'Fly Dumping Complaint', 'Sign Repair Request - Stop Sign',\n",
       "       'Sign Repair Request - All Other Signs',\n",
       "       'Consumer Fraud Complaint', 'Water in Basement Complaint',\n",
       "       'Restaurant Complaint'], dtype=object)"
      ]
     },
     "execution_count": 10,
     "metadata": {},
     "output_type": "execute_result"
    }
   ],
   "source": [
    "data311[\"sr_type\"].unique()"
   ]
  },
  {
   "cell_type": "code",
   "execution_count": 11,
   "metadata": {},
   "outputs": [
    {
     "data": {
      "text/plain": [
       "array([ 9, 17, 18, 20, 32, 33, 36, 40, 41, 42, 47, 50, 54, 60, 66, 77])"
      ]
     },
     "execution_count": 11,
     "metadata": {},
     "output_type": "execute_result"
    }
   ],
   "source": [
    "data311[\"community_area\"].unique()\n",
    "comm = np.arange(1, 78)\n",
    "missings = np.setdiff1d(comm, data311[\"community_area\"].unique())\n",
    "missings"
   ]
  },
  {
   "cell_type": "code",
   "execution_count": 12,
   "metadata": {},
   "outputs": [
    {
     "name": "stdout",
     "output_type": "stream",
     "text": [
      "Anomalies preprocessed!!!\n"
     ]
    },
    {
     "data": {
      "text/plain": [
       "(859, 5)"
      ]
     },
     "execution_count": 12,
     "metadata": {},
     "output_type": "execute_result"
    }
   ],
   "source": [
    "relevantColumns311 = ['created_date','latitude','longitude','sr_type', 'community_area']\n",
    "relevantComplaints311 = ['311 INFORMATION ONLY CALL', 'Aircraft Noise Complaint', 'Street Light Out Complaint', 'Alley Light Out Complaint']\n",
    "# finalColumns311 = ['Created Date','Complaint Type','Precincts']\n",
    "\n",
    "# select only the first chunk of data\n",
    "data311 = pd.read_csv(file311)\n",
    "\n",
    "# keep only the relevant columns\n",
    "data311 = data311[relevantColumns311]\n",
    "\n",
    "# keep only the relevant complaints\n",
    "data311 = data311.loc[data311['sr_type'].isin(relevantComplaints311)]\n",
    "\n",
    "print('Anomalies preprocessed!!!')\n",
    "data311.shape"
   ]
  },
  {
   "cell_type": "code",
   "execution_count": 13,
   "metadata": {},
   "outputs": [
    {
     "data": {
      "text/plain": [
       "'01/01/2019 01:00:00 AM'"
      ]
     },
     "execution_count": 13,
     "metadata": {},
     "output_type": "execute_result"
    }
   ],
   "source": [
    "crime_df = pd.read_csv(fileCrime)\n",
    "min(crime_df[\"Date\"])"
   ]
  },
  {
   "cell_type": "code",
   "execution_count": 14,
   "metadata": {},
   "outputs": [],
   "source": [
    "# types_to_keep = ['THEFT', 'BATTERY', 'ASSAULT', 'CRIMINAL DAMAGE']\n",
    "types_to_keep = ['THEFT', 'CRIMINAL DAMAGE', 'BATTERY', 'NARCOTICS']\n",
    "crime_df = crime_df.loc[crime_df['Primary Type'].isin(types_to_keep)]"
   ]
  },
  {
   "attachments": {},
   "cell_type": "markdown",
   "metadata": {},
   "source": [
    "# Create Data for 1 day"
   ]
  },
  {
   "cell_type": "code",
   "execution_count": 15,
   "metadata": {},
   "outputs": [
    {
     "data": {
      "text/plain": [
       "(365, 77, 4)"
      ]
     },
     "execution_count": 15,
     "metadata": {},
     "output_type": "execute_result"
    }
   ],
   "source": [
    "# create a 365 x 77 x 4 matrix to store the number of crimes per day per community area per type\n",
    "crime_matrix = np.zeros((365, 77, 4))\n",
    "\n",
    "# iterate over the rows of the dataframe\n",
    "for index, row in crime_df.iterrows():\n",
    "    # get the date\n",
    "    date = row[\"Date\"]\n",
    "    # get the community area\n",
    "    community_area = int(row[\"Community Area\"])\n",
    "    # get the crime type\n",
    "    crime_type = row[\"Primary Type\"]\n",
    "    # get the day of the year\n",
    "    day_of_year = pd.to_datetime(date).dayofyear\n",
    "    # update the matrix\n",
    "\n",
    "    crime_matrix[day_of_year - 1, community_area - 1, types_to_keep.index(crime_type)] += 1\n",
    "\n",
    "crime_matrix.shape"
   ]
  },
  {
   "cell_type": "code",
   "execution_count": 16,
   "metadata": {},
   "outputs": [
    {
     "ename": "FileNotFoundError",
     "evalue": "[Errno 2] No such file or directory: '../../Comparison/TEMPORAL_PRECISION/Deepcrime/1d/crime_matrix_1d.pkl'",
     "output_type": "error",
     "traceback": [
      "\u001b[1;31m---------------------------------------------------------------------------\u001b[0m",
      "\u001b[1;31mFileNotFoundError\u001b[0m                         Traceback (most recent call last)",
      "\u001b[1;32m<ipython-input-16-899c9ab7bf02>\u001b[0m in \u001b[0;36m<module>\u001b[1;34m\u001b[0m\n\u001b[0;32m      3\u001b[0m \u001b[1;33m\u001b[0m\u001b[0m\n\u001b[0;32m      4\u001b[0m \u001b[1;31m# with open('../Chicago Dataset/crime_matrix.pkl', 'wb') as f:\u001b[0m\u001b[1;33m\u001b[0m\u001b[1;33m\u001b[0m\u001b[1;33m\u001b[0m\u001b[0m\n\u001b[1;32m----> 5\u001b[1;33m \u001b[1;32mwith\u001b[0m \u001b[0mopen\u001b[0m\u001b[1;33m(\u001b[0m\u001b[1;34m'../../Comparison/TEMPORAL_PRECISION/Deepcrime/1d/crime_matrix_1d.pkl'\u001b[0m\u001b[1;33m,\u001b[0m \u001b[1;34m'wb'\u001b[0m\u001b[1;33m)\u001b[0m \u001b[1;32mas\u001b[0m \u001b[0mf\u001b[0m\u001b[1;33m:\u001b[0m\u001b[1;33m\u001b[0m\u001b[1;33m\u001b[0m\u001b[0m\n\u001b[0m\u001b[0;32m      6\u001b[0m     \u001b[0mpickle\u001b[0m\u001b[1;33m.\u001b[0m\u001b[0mdump\u001b[0m\u001b[1;33m(\u001b[0m\u001b[0mcrime_matrix\u001b[0m\u001b[1;33m,\u001b[0m \u001b[0mf\u001b[0m\u001b[1;33m)\u001b[0m\u001b[1;33m\u001b[0m\u001b[1;33m\u001b[0m\u001b[0m\n",
      "\u001b[1;31mFileNotFoundError\u001b[0m: [Errno 2] No such file or directory: '../../Comparison/TEMPORAL_PRECISION/Deepcrime/1d/crime_matrix_1d.pkl'"
     ]
    }
   ],
   "source": [
    "# save the matrix in a pickle file\n",
    "import pickle\n",
    "\n",
    "# with open('../Chicago Dataset/crime_matrix.pkl', 'wb') as f:\n",
    "with open('../../Comparison/TEMPORAL_PRECISION/Deepcrime/1d/crime_matrix_1d.pkl', 'wb') as f:\n",
    "    pickle.dump(crime_matrix, f)"
   ]
  },
  {
   "cell_type": "code",
   "execution_count": 15,
   "metadata": {},
   "outputs": [
    {
     "data": {
      "text/plain": [
       "(365, 77, 4)"
      ]
     },
     "execution_count": 15,
     "metadata": {},
     "output_type": "execute_result"
    }
   ],
   "source": [
    "# create a 365 x 77 x 4 311complaint matrix to store the number of 311 complaints per day per community area per type\n",
    "complaint_matrix = np.zeros((365, 77, 4))\n",
    "\n",
    "# iterate over the rows of the dataframe\n",
    "for index, row in data311.iterrows():\n",
    "    # get the date\n",
    "    date = row[\"created_date\"]\n",
    "    # get the community area\n",
    "    community_area = int(row[\"community_area\"])\n",
    "    # get the crime type\n",
    "    complaint_type = row[\"sr_type\"]\n",
    "    # get the day of the year\n",
    "    day_of_year = pd.to_datetime(date).dayofyear\n",
    "    # update the matrix\n",
    "\n",
    "    complaint_matrix[day_of_year - 1, community_area - 1, relevantComplaints311.index(complaint_type)] += 1\n",
    "\n",
    "complaint_matrix.shape"
   ]
  },
  {
   "cell_type": "code",
   "execution_count": 16,
   "metadata": {},
   "outputs": [
    {
     "data": {
      "text/plain": [
       "50"
      ]
     },
     "execution_count": 16,
     "metadata": {},
     "output_type": "execute_result"
    }
   ],
   "source": [
    "np.count_nonzero(complaint_matrix)"
   ]
  },
  {
   "cell_type": "code",
   "execution_count": 17,
   "metadata": {},
   "outputs": [],
   "source": [
    "# save the matrix in a pickle file\n",
    "import pickle\n",
    "\n",
    "# with open('../Chicago Dataset/complaint_matrix.pkl', 'wb') as f:\n",
    "with open('../../Comparison/TEMPORAL_PRECISION/Deepcrime/1d/complaint_matrix_1d.pkl', 'wb') as f:\n",
    "    pickle.dump(complaint_matrix, f)"
   ]
  },
  {
   "attachments": {},
   "cell_type": "markdown",
   "metadata": {},
   "source": [
    "# Create 4 Hours data"
   ]
  },
  {
   "cell_type": "code",
   "execution_count": 18,
   "metadata": {},
   "outputs": [],
   "source": [
    "# create a 365 x 6 x 77 x 4 matrix to store the number of crimes per day per community area per type\n",
    "# 365 x 6 denotes the 6 time slots of the day\n",
    "\n",
    "crime_matrix = np.zeros((365, 6, 77, 4))\n",
    "\n",
    "# iterate over the rows of the dataframe\n",
    "for index, row in crime_df.iterrows():\n",
    "    # get the date\n",
    "    date = row[\"Date\"]\n",
    "    # get the community area\n",
    "    community_area = int(row[\"Community Area\"])\n",
    "    # get the crime type\n",
    "    crime_type = row[\"Primary Type\"]\n",
    "    # get the day of the year\n",
    "    day_of_year = pd.to_datetime(date).dayofyear\n",
    "    # get the hour of the day\n",
    "    hour_of_day = pd.to_datetime(date).hour\n",
    "    # update the matrix\n",
    "\n",
    "    crime_matrix[day_of_year - 1, hour_of_day // 4, community_area - 1, types_to_keep.index(crime_type)] += 1"
   ]
  },
  {
   "cell_type": "code",
   "execution_count": 19,
   "metadata": {},
   "outputs": [
    {
     "name": "stdout",
     "output_type": "stream",
     "text": [
      "(365, 6, 77, 4)\n",
      "(2190, 77, 4)\n"
     ]
    }
   ],
   "source": [
    "print(crime_matrix.shape)\n",
    "crime_matrix = crime_matrix.reshape((-1, 77, 4))\n",
    "print(crime_matrix.shape)"
   ]
  },
  {
   "cell_type": "code",
   "execution_count": 20,
   "metadata": {},
   "outputs": [],
   "source": [
    "# save the matrix in a pickle file\n",
    "import pickle\n",
    "\n",
    "# with open('../Chicago Dataset/crime_matrix_4h.pkl', 'wb') as f:\n",
    "with open('../../Comparison/TEMPORAL_PRECISION/Deepcrime/4h/crime_matrix_4h.pkl', 'wb') as f:\n",
    "    pickle.dump(crime_matrix, f)"
   ]
  },
  {
   "cell_type": "code",
   "execution_count": 21,
   "metadata": {},
   "outputs": [],
   "source": [
    "# create a 365 x 6 x 77 x 4 311complaint matrix to store the number of 311 complaints per day per community area per type\n",
    "# 365 x 6 denotes the 6 time slots of the day\n",
    "\n",
    "complaint_matrix = np.zeros((365, 6, 77, 4))\n",
    "\n",
    "# iterate over the rows of the dataframe\n",
    "for index, row in data311.iterrows():\n",
    "    # get the date\n",
    "    date = row[\"created_date\"]\n",
    "    # get the community area\n",
    "    community_area = int(row[\"community_area\"])\n",
    "    # get the crime type\n",
    "    complaint_type = row[\"sr_type\"]\n",
    "    # get the day of the year\n",
    "    day_of_year = pd.to_datetime(date).dayofyear\n",
    "    # get the hour of the day\n",
    "    hour_of_day = pd.to_datetime(date).hour\n",
    "    # update the matrix\n",
    "\n",
    "    complaint_matrix[day_of_year - 1, hour_of_day // 4, community_area - 1, relevantComplaints311.index(complaint_type)] += 1"
   ]
  },
  {
   "cell_type": "code",
   "execution_count": 22,
   "metadata": {},
   "outputs": [
    {
     "name": "stdout",
     "output_type": "stream",
     "text": [
      "(365, 6, 77, 4)\n",
      "(2190, 77, 4)\n"
     ]
    }
   ],
   "source": [
    "print(complaint_matrix.shape)\n",
    "complaint_matrix = complaint_matrix.reshape((-1, 77, 4))\n",
    "print(complaint_matrix.shape)"
   ]
  },
  {
   "cell_type": "code",
   "execution_count": 23,
   "metadata": {},
   "outputs": [
    {
     "data": {
      "text/plain": [
       "0.028767123287671233"
      ]
     },
     "execution_count": 23,
     "metadata": {},
     "output_type": "execute_result"
    }
   ],
   "source": [
    "np.count_nonzero(complaint_matrix)/len(complaint_matrix)"
   ]
  },
  {
   "cell_type": "code",
   "execution_count": 24,
   "metadata": {},
   "outputs": [],
   "source": [
    "# save the matrix in a pickle file\n",
    "import pickle\n",
    "\n",
    "# with open('../Chicago Dataset/complaint_matrix_4h.pkl', 'wb') as f:\n",
    "with open('../../Comparison/TEMPORAL_PRECISION/Deepcrime/4h/complaint_matrix_4h.pkl', 'wb') as f:\n",
    "    pickle.dump(complaint_matrix, f)"
   ]
  },
  {
   "attachments": {},
   "cell_type": "markdown",
   "metadata": {},
   "source": [
    "# Create 6 Hours Data"
   ]
  },
  {
   "cell_type": "code",
   "execution_count": 25,
   "metadata": {},
   "outputs": [],
   "source": [
    "# create a 365 x 4 x 77 x 4 matrix to store the number of crimes per day per community area per type\n",
    "# 365 x 4 denotes the 4 time slots of the day\n",
    "\n",
    "crime_matrix = np.zeros((365, 4, 77, 4))\n",
    "\n",
    "# iterate over the rows of the dataframe\n",
    "for index, row in crime_df.iterrows():\n",
    "    # get the date\n",
    "    date = row[\"Date\"]\n",
    "    # get the community area\n",
    "    community_area = int(row[\"Community Area\"])\n",
    "    # get the crime type\n",
    "    crime_type = row[\"Primary Type\"]\n",
    "    # get the day of the year\n",
    "    day_of_year = pd.to_datetime(date).dayofyear\n",
    "    # get the hour of the day\n",
    "    hour_of_day = pd.to_datetime(date).hour\n",
    "    # update the matrix\n",
    "\n",
    "    crime_matrix[day_of_year - 1, hour_of_day // 6, community_area - 1, types_to_keep.index(crime_type)] += 1"
   ]
  },
  {
   "cell_type": "code",
   "execution_count": 26,
   "metadata": {},
   "outputs": [
    {
     "name": "stdout",
     "output_type": "stream",
     "text": [
      "(365, 4, 77, 4)\n",
      "(1460, 77, 4)\n"
     ]
    }
   ],
   "source": [
    "print(crime_matrix.shape)\n",
    "crime_matrix = crime_matrix.reshape((-1, 77, 4))\n",
    "print(crime_matrix.shape)"
   ]
  },
  {
   "cell_type": "code",
   "execution_count": 27,
   "metadata": {},
   "outputs": [],
   "source": [
    "# save the matrix in a pickle file\n",
    "import pickle\n",
    "\n",
    "# with open('../Chicago Dataset/crime_matrix_4h.pkl', 'wb') as f:\n",
    "with open('../../Comparison/TEMPORAL_PRECISION/Deepcrime/6h/crime_matrix_6h.pkl', 'wb') as f:\n",
    "    pickle.dump(crime_matrix, f)"
   ]
  },
  {
   "cell_type": "code",
   "execution_count": 28,
   "metadata": {},
   "outputs": [],
   "source": [
    "# create a 365 x 6 x 77 x 4 311complaint matrix to store the number of 311 complaints per day per community area per type\n",
    "# 365 x 6 denotes the 6 time slots of the day\n",
    "\n",
    "complaint_matrix = np.zeros((365, 6, 77, 4))\n",
    "\n",
    "# iterate over the rows of the dataframe\n",
    "for index, row in data311.iterrows():\n",
    "    # get the date\n",
    "    date = row[\"created_date\"]\n",
    "    # get the community area\n",
    "    community_area = int(row[\"community_area\"])\n",
    "    # get the crime type\n",
    "    complaint_type = row[\"sr_type\"]\n",
    "    # get the day of the year\n",
    "    day_of_year = pd.to_datetime(date).dayofyear\n",
    "    # get the hour of the day\n",
    "    hour_of_day = pd.to_datetime(date).hour\n",
    "    # update the matrix\n",
    "\n",
    "    complaint_matrix[day_of_year - 1, hour_of_day // 4, community_area - 1, relevantComplaints311.index(complaint_type)] += 1"
   ]
  },
  {
   "cell_type": "code",
   "execution_count": 29,
   "metadata": {},
   "outputs": [
    {
     "name": "stdout",
     "output_type": "stream",
     "text": [
      "(365, 6, 77, 4)\n",
      "(2190, 77, 4)\n"
     ]
    }
   ],
   "source": [
    "print(complaint_matrix.shape)\n",
    "complaint_matrix = complaint_matrix.reshape((-1, 77, 4))\n",
    "print(complaint_matrix.shape)"
   ]
  },
  {
   "cell_type": "code",
   "execution_count": 30,
   "metadata": {},
   "outputs": [
    {
     "data": {
      "text/plain": [
       "0.028767123287671233"
      ]
     },
     "execution_count": 30,
     "metadata": {},
     "output_type": "execute_result"
    }
   ],
   "source": [
    "np.count_nonzero(complaint_matrix)/len(complaint_matrix)"
   ]
  },
  {
   "cell_type": "code",
   "execution_count": 31,
   "metadata": {},
   "outputs": [],
   "source": [
    "# save the matrix in a pickle file\n",
    "import pickle\n",
    "\n",
    "# with open('../Chicago Dataset/complaint_matrix_6h.pkl', 'wb') as f:\n",
    "with open('../../Comparison/TEMPORAL_PRECISION/Deepcrime/6h/complaint_matrix_6h.pkl', 'wb') as f:\n",
    "    pickle.dump(complaint_matrix, f)"
   ]
  },
  {
   "attachments": {},
   "cell_type": "markdown",
   "metadata": {},
   "source": [
    "# Create 12 Hours data"
   ]
  },
  {
   "cell_type": "code",
   "execution_count": 39,
   "metadata": {},
   "outputs": [],
   "source": [
    "# create a 365 x 12 x 77 x 4 matrix to store the number of crimes per day per community area per type\n",
    "# 365 x 2 denotes the 2 time slots of the day\n",
    "\n",
    "crime_matrix = np.zeros((365, 2, 77, 4))\n",
    "\n",
    "# iterate over the rows of the dataframe\n",
    "for index, row in crime_df.iterrows():\n",
    "    # get the date\n",
    "    date = row[\"Date\"]\n",
    "    # get the community area\n",
    "    community_area = int(row[\"Community Area\"])\n",
    "    # get the crime type\n",
    "    crime_type = row[\"Primary Type\"]\n",
    "    # get the day of the year\n",
    "    day_of_year = pd.to_datetime(date).dayofyear\n",
    "    # get the hour of the day\n",
    "    hour_of_day = pd.to_datetime(date).hour\n",
    "    # update the matrix\n",
    "\n",
    "    crime_matrix[day_of_year - 1, hour_of_day // 12, community_area - 1, types_to_keep.index(crime_type)] += 1"
   ]
  },
  {
   "cell_type": "code",
   "execution_count": 40,
   "metadata": {},
   "outputs": [
    {
     "name": "stdout",
     "output_type": "stream",
     "text": [
      "(365, 2, 77, 4)\n",
      "(730, 77, 4)\n"
     ]
    }
   ],
   "source": [
    "print(crime_matrix.shape)\n",
    "crime_matrix = crime_matrix.reshape((-1, 77, 4))\n",
    "print(crime_matrix.shape)"
   ]
  },
  {
   "cell_type": "code",
   "execution_count": 42,
   "metadata": {},
   "outputs": [],
   "source": [
    "# save the matrix in a pickle file\n",
    "import pickle\n",
    "\n",
    "# with open('../Chicago Dataset/crime_matrix_12h.pkl', 'wb') as f:\n",
    "with open('../../Comparison/TEMPORAL_PRECISION/Deepcrime/Dataset/12h/crime_matrix_12h.pkl', 'wb') as f:\n",
    "    pickle.dump(crime_matrix, f)"
   ]
  },
  {
   "cell_type": "code",
   "execution_count": 43,
   "metadata": {},
   "outputs": [],
   "source": [
    "# create a 365 x 2 x 77 x 4 311complaint matrix to store the number of 311 complaints per day per community area per type\n",
    "# 365 x 2 denotes the 62time slots of the day\n",
    "\n",
    "complaint_matrix = np.zeros((365, 2, 77, 4))\n",
    "\n",
    "# iterate over the rows of the dataframe\n",
    "for index, row in data311.iterrows():\n",
    "    # get the date\n",
    "    date = row[\"created_date\"]\n",
    "    # get the community area\n",
    "    community_area = int(row[\"community_area\"])\n",
    "    # get the crime type\n",
    "    complaint_type = row[\"sr_type\"]\n",
    "    # get the day of the year\n",
    "    day_of_year = pd.to_datetime(date).dayofyear\n",
    "    # get the hour of the day\n",
    "    hour_of_day = pd.to_datetime(date).hour\n",
    "    # update the matrix\n",
    "\n",
    "    complaint_matrix[day_of_year - 1, hour_of_day // 12, community_area - 1, relevantComplaints311.index(complaint_type)] += 1"
   ]
  },
  {
   "cell_type": "code",
   "execution_count": 44,
   "metadata": {},
   "outputs": [
    {
     "name": "stdout",
     "output_type": "stream",
     "text": [
      "(365, 2, 77, 4)\n",
      "(730, 77, 4)\n"
     ]
    }
   ],
   "source": [
    "print(complaint_matrix.shape)\n",
    "complaint_matrix = complaint_matrix.reshape((-1, 77, 4))\n",
    "print(complaint_matrix.shape)"
   ]
  },
  {
   "cell_type": "code",
   "execution_count": 45,
   "metadata": {},
   "outputs": [
    {
     "data": {
      "text/plain": [
       "0.0684931506849315"
      ]
     },
     "execution_count": 45,
     "metadata": {},
     "output_type": "execute_result"
    }
   ],
   "source": [
    "np.count_nonzero(complaint_matrix)/len(complaint_matrix)"
   ]
  },
  {
   "cell_type": "code",
   "execution_count": 46,
   "metadata": {},
   "outputs": [],
   "source": [
    "# save the matrix in a pickle file\n",
    "import pickle\n",
    "\n",
    "# with open('../Chicago Dataset/complaint_matrix_12h.pkl', 'wb') as f:\n",
    "with open('../../Comparison/TEMPORAL_PRECISION/Deepcrime/Dataset/12h/complaint_matrix_12h.pkl', 'wb') as f:\n",
    "    pickle.dump(complaint_matrix, f)"
   ]
  },
  {
   "attachments": {},
   "cell_type": "markdown",
   "metadata": {},
   "source": [
    "# Create 7 Days data"
   ]
  },
  {
   "cell_type": "code",
   "execution_count": 11,
   "metadata": {},
   "outputs": [],
   "source": [
    "# create a 365/7 x 77 x 4 matrix to store the number of crimes per day per community area per type\n",
    "# 365/7 denotes 7 days in a week\n",
    "\n",
    "crime_matrix = np.zeros((365//7+1, 77, 4))\n",
    "\n",
    "# iterate over the rows of the dataframe\n",
    "for index, row in crime_df.iterrows():\n",
    "    # get the date\n",
    "    date = row[\"Date\"]\n",
    "    # get the community area\n",
    "    community_area = int(row[\"Community Area\"])\n",
    "    # get the crime type\n",
    "    crime_type = row[\"Primary Type\"]\n",
    "    # get the day of the year\n",
    "    day_of_year = pd.to_datetime(date).dayofyear\n",
    "    # update the matrix\n",
    "\n",
    "    crime_matrix[(day_of_year) // 7, community_area - 1, types_to_keep.index(crime_type)] += 1"
   ]
  },
  {
   "cell_type": "code",
   "execution_count": 15,
   "metadata": {},
   "outputs": [],
   "source": [
    "# save the matrix in a pickle file\n",
    "import pickle\n",
    "\n",
    "with open('../Chicago Dataset/crime_matrix_7d.pkl', 'wb') as f:\n",
    "    pickle.dump(crime_matrix, f)"
   ]
  },
  {
   "cell_type": "code",
   "execution_count": 13,
   "metadata": {},
   "outputs": [],
   "source": [
    "# create a 365/7 x 77 x 4 311complaint matrix to store the number of 311 complaints per day per community area per type\n",
    "# 365/7 denotes 7 days in a week\n",
    "\n",
    "complaint_matrix = np.zeros((365//7+1, 77, 4))\n",
    "\n",
    "# iterate over the rows of the dataframe\n",
    "for index, row in data311.iterrows():\n",
    "    # get the date\n",
    "    date = row[\"created_date\"]\n",
    "    # get the community area\n",
    "    community_area = int(row[\"community_area\"])\n",
    "    # get the crime type\n",
    "    complaint_type = row[\"sr_type\"]\n",
    "    # get the day of the year\n",
    "    day_of_year = pd.to_datetime(date).dayofyear\n",
    "    # update the matrix\n",
    "\n",
    "    complaint_matrix[(day_of_year) // 7, community_area - 1, relevantComplaints311.index(complaint_type)] += 1"
   ]
  },
  {
   "cell_type": "code",
   "execution_count": 16,
   "metadata": {},
   "outputs": [],
   "source": [
    "# save the matrix in a pickle file\n",
    "import pickle\n",
    "\n",
    "with open('../Chicago Dataset/complaint_matrix_7d.pkl', 'wb') as f:\n",
    "    pickle.dump(complaint_matrix, f)"
   ]
  },
  {
   "attachments": {},
   "cell_type": "markdown",
   "metadata": {},
   "source": [
    "# Holiday Dataset"
   ]
  },
  {
   "attachments": {},
   "cell_type": "markdown",
   "metadata": {},
   "source": [
    "### Upto MARCH"
   ]
  },
  {
   "cell_type": "code",
   "execution_count": 15,
   "metadata": {},
   "outputs": [
    {
     "data": {
      "text/html": [
       "<div>\n",
       "<style scoped>\n",
       "    .dataframe tbody tr th:only-of-type {\n",
       "        vertical-align: middle;\n",
       "    }\n",
       "\n",
       "    .dataframe tbody tr th {\n",
       "        vertical-align: top;\n",
       "    }\n",
       "\n",
       "    .dataframe thead th {\n",
       "        text-align: right;\n",
       "    }\n",
       "</style>\n",
       "<table border=\"1\" class=\"dataframe\">\n",
       "  <thead>\n",
       "    <tr style=\"text-align: right;\">\n",
       "      <th></th>\n",
       "      <th>Date</th>\n",
       "      <th>Primary Type</th>\n",
       "      <th>Latitude</th>\n",
       "      <th>Longitude</th>\n",
       "      <th>Community Area</th>\n",
       "    </tr>\n",
       "  </thead>\n",
       "  <tbody>\n",
       "    <tr>\n",
       "      <th>0</th>\n",
       "      <td>2020-03-31 23:55:00</td>\n",
       "      <td>BATTERY</td>\n",
       "      <td>41.968492</td>\n",
       "      <td>-87.703906</td>\n",
       "      <td>14.0</td>\n",
       "    </tr>\n",
       "    <tr>\n",
       "      <th>1</th>\n",
       "      <td>2020-03-31 23:47:00</td>\n",
       "      <td>WEAPONS VIOLATION</td>\n",
       "      <td>41.793431</td>\n",
       "      <td>-87.645136</td>\n",
       "      <td>68.0</td>\n",
       "    </tr>\n",
       "    <tr>\n",
       "      <th>2</th>\n",
       "      <td>2020-03-31 23:45:00</td>\n",
       "      <td>CRIMINAL DAMAGE</td>\n",
       "      <td>41.953590</td>\n",
       "      <td>-87.732989</td>\n",
       "      <td>16.0</td>\n",
       "    </tr>\n",
       "    <tr>\n",
       "      <th>3</th>\n",
       "      <td>2020-03-31 23:42:00</td>\n",
       "      <td>ROBBERY</td>\n",
       "      <td>41.844263</td>\n",
       "      <td>-87.723744</td>\n",
       "      <td>30.0</td>\n",
       "    </tr>\n",
       "    <tr>\n",
       "      <th>4</th>\n",
       "      <td>2020-03-31 23:40:00</td>\n",
       "      <td>ROBBERY</td>\n",
       "      <td>41.722134</td>\n",
       "      <td>-87.662700</td>\n",
       "      <td>73.0</td>\n",
       "    </tr>\n",
       "  </tbody>\n",
       "</table>\n",
       "</div>"
      ],
      "text/plain": [
       "                  Date       Primary Type   Latitude  Longitude  \\\n",
       "0  2020-03-31 23:55:00            BATTERY  41.968492 -87.703906   \n",
       "1  2020-03-31 23:47:00  WEAPONS VIOLATION  41.793431 -87.645136   \n",
       "2  2020-03-31 23:45:00    CRIMINAL DAMAGE  41.953590 -87.732989   \n",
       "3  2020-03-31 23:42:00            ROBBERY  41.844263 -87.723744   \n",
       "4  2020-03-31 23:40:00            ROBBERY  41.722134 -87.662700   \n",
       "\n",
       "   Community Area  \n",
       "0            14.0  \n",
       "1            68.0  \n",
       "2            16.0  \n",
       "3            30.0  \n",
       "4            73.0  "
      ]
     },
     "execution_count": 15,
     "metadata": {},
     "output_type": "execute_result"
    }
   ],
   "source": [
    "crime_df = pd.read_csv(\"../../Comparison/data_2020_upto_MARCH.csv\")\n",
    "crime_df.head()"
   ]
  },
  {
   "cell_type": "code",
   "execution_count": 16,
   "metadata": {},
   "outputs": [
    {
     "data": {
      "text/html": [
       "<div>\n",
       "<style scoped>\n",
       "    .dataframe tbody tr th:only-of-type {\n",
       "        vertical-align: middle;\n",
       "    }\n",
       "\n",
       "    .dataframe tbody tr th {\n",
       "        vertical-align: top;\n",
       "    }\n",
       "\n",
       "    .dataframe thead th {\n",
       "        text-align: right;\n",
       "    }\n",
       "</style>\n",
       "<table border=\"1\" class=\"dataframe\">\n",
       "  <thead>\n",
       "    <tr style=\"text-align: right;\">\n",
       "      <th></th>\n",
       "      <th>Date</th>\n",
       "      <th>Primary Type</th>\n",
       "      <th>Latitude</th>\n",
       "      <th>Longitude</th>\n",
       "      <th>Community Area</th>\n",
       "    </tr>\n",
       "  </thead>\n",
       "  <tbody>\n",
       "    <tr>\n",
       "      <th>0</th>\n",
       "      <td>2020-03-31 23:55:00</td>\n",
       "      <td>BATTERY</td>\n",
       "      <td>41.968492</td>\n",
       "      <td>-87.703906</td>\n",
       "      <td>14.0</td>\n",
       "    </tr>\n",
       "    <tr>\n",
       "      <th>2</th>\n",
       "      <td>2020-03-31 23:45:00</td>\n",
       "      <td>CRIMINAL DAMAGE</td>\n",
       "      <td>41.953590</td>\n",
       "      <td>-87.732989</td>\n",
       "      <td>16.0</td>\n",
       "    </tr>\n",
       "    <tr>\n",
       "      <th>6</th>\n",
       "      <td>2020-03-31 23:22:00</td>\n",
       "      <td>BATTERY</td>\n",
       "      <td>41.812634</td>\n",
       "      <td>-87.639447</td>\n",
       "      <td>61.0</td>\n",
       "    </tr>\n",
       "    <tr>\n",
       "      <th>8</th>\n",
       "      <td>2020-03-31 23:10:00</td>\n",
       "      <td>CRIMINAL DAMAGE</td>\n",
       "      <td>41.772784</td>\n",
       "      <td>-87.698107</td>\n",
       "      <td>66.0</td>\n",
       "    </tr>\n",
       "    <tr>\n",
       "      <th>9</th>\n",
       "      <td>2020-03-31 23:09:00</td>\n",
       "      <td>BATTERY</td>\n",
       "      <td>41.745196</td>\n",
       "      <td>-87.601375</td>\n",
       "      <td>44.0</td>\n",
       "    </tr>\n",
       "  </tbody>\n",
       "</table>\n",
       "</div>"
      ],
      "text/plain": [
       "                  Date     Primary Type   Latitude  Longitude  Community Area\n",
       "0  2020-03-31 23:55:00          BATTERY  41.968492 -87.703906            14.0\n",
       "2  2020-03-31 23:45:00  CRIMINAL DAMAGE  41.953590 -87.732989            16.0\n",
       "6  2020-03-31 23:22:00          BATTERY  41.812634 -87.639447            61.0\n",
       "8  2020-03-31 23:10:00  CRIMINAL DAMAGE  41.772784 -87.698107            66.0\n",
       "9  2020-03-31 23:09:00          BATTERY  41.745196 -87.601375            44.0"
      ]
     },
     "execution_count": 16,
     "metadata": {},
     "output_type": "execute_result"
    }
   ],
   "source": [
    "# types_to_keep = ['THEFT', 'BATTERY', 'ASSAULT', 'CRIMINAL DAMAGE']\n",
    "types_to_keep = ['THEFT', 'CRIMINAL DAMAGE', 'BATTERY', 'NARCOTICS']\n",
    "crime_df = crime_df.loc[crime_df['Primary Type'].isin(types_to_keep)]\n",
    "crime_df.head()"
   ]
  },
  {
   "cell_type": "code",
   "execution_count": 17,
   "metadata": {},
   "outputs": [
    {
     "data": {
      "text/plain": [
       "(91, 77, 4)"
      ]
     },
     "execution_count": 17,
     "metadata": {},
     "output_type": "execute_result"
    }
   ],
   "source": [
    "# create a 365 x 77 x 4 matrix to store the number of crimes per day per community area per type\n",
    "crime_matrix = np.zeros((91, 77, 4))\n",
    "\n",
    "# iterate over the rows of the dataframe\n",
    "for index, row in crime_df.iterrows():\n",
    "    # get the date\n",
    "    date = row[\"Date\"]\n",
    "    # get the community area\n",
    "    community_area = int(row[\"Community Area\"])\n",
    "    # get the crime type\n",
    "    crime_type = row[\"Primary Type\"]\n",
    "    # get the day of the year\n",
    "    day_of_year = pd.to_datetime(date).dayofyear\n",
    "    # update the matrix\n",
    "\n",
    "    crime_matrix[day_of_year - 1, community_area - 1, types_to_keep.index(crime_type)] += 1\n",
    "\n",
    "crime_matrix.shape"
   ]
  },
  {
   "cell_type": "code",
   "execution_count": 18,
   "metadata": {},
   "outputs": [
    {
     "name": "stdout",
     "output_type": "stream",
     "text": [
      "28028\n",
      "13672\n"
     ]
    }
   ],
   "source": [
    "print(crime_matrix.size)\n",
    "print(np.count_nonzero(crime_matrix))"
   ]
  },
  {
   "cell_type": "code",
   "execution_count": 19,
   "metadata": {},
   "outputs": [],
   "source": [
    "# save the matrix in a pickle file\n",
    "import pickle\n",
    "\n",
    "with open('../Chicago Dataset/test_upto_MARCH.pkl', 'wb') as f:\n",
    "    pickle.dump(crime_matrix, f)"
   ]
  },
  {
   "attachments": {},
   "cell_type": "markdown",
   "metadata": {},
   "source": [
    "### Easter"
   ]
  },
  {
   "cell_type": "code",
   "execution_count": 20,
   "metadata": {},
   "outputs": [
    {
     "name": "stdout",
     "output_type": "stream",
     "text": [
      "9240\n",
      "2677\n"
     ]
    }
   ],
   "source": [
    "crime_df = pd.read_csv(\"../../Comparison/easter_2020_all_crimes.csv\")\n",
    "\n",
    "# types_to_keep = ['THEFT', 'BATTERY', 'ASSAULT', 'CRIMINAL DAMAGE']\n",
    "types_to_keep = ['THEFT', 'CRIMINAL DAMAGE', 'BATTERY', 'NARCOTICS']\n",
    "crime_df = crime_df.loc[crime_df['Primary Type'].isin(types_to_keep)]\n",
    "\n",
    "# create a 365 x 77 x 4 matrix to store the number of crimes per day per community area per type\n",
    "crime_matrix = np.zeros((30, 77, 4))                    ### from April 15 to May 15\n",
    "\n",
    "# iterate over the rows of the dataframe\n",
    "for index, row in crime_df.iterrows():\n",
    "    # get the date\n",
    "    date = row[\"Date\"]\n",
    "    # get the community area\n",
    "    community_area = int(row[\"Community Area\"])\n",
    "    # get the crime type\n",
    "    crime_type = row[\"Primary Type\"]\n",
    "    # get the day of the year\n",
    "    day_of_year = pd.to_datetime(date).dayofyear - 105          ### April 15 is 106th day of the year (2020 is a leap year)\n",
    "    # update the matrix\n",
    "\n",
    "    crime_matrix[day_of_year - 1, community_area - 1, types_to_keep.index(crime_type)] += 1\n",
    "\n",
    "crime_matrix.shape\n",
    "\n",
    "print(crime_matrix.size)\n",
    "print(np.count_nonzero(crime_matrix))\n",
    "\n",
    "with open('../Chicago Dataset/test_easter.pkl', 'wb') as f:\n",
    "    pickle.dump(crime_matrix, f)"
   ]
  },
  {
   "attachments": {},
   "cell_type": "markdown",
   "metadata": {},
   "source": [
    "# Xmas"
   ]
  },
  {
   "cell_type": "code",
   "execution_count": 21,
   "metadata": {},
   "outputs": [
    {
     "name": "stdout",
     "output_type": "stream",
     "text": [
      "9548\n",
      "4018\n"
     ]
    }
   ],
   "source": [
    "crime_df = pd.read_csv(\"../../Comparison/christmas_2020_all_crimes.csv\")\n",
    "\n",
    "# types_to_keep = ['THEFT', 'BATTERY', 'ASSAULT', 'CRIMINAL DAMAGE']\n",
    "types_to_keep = ['THEFT', 'CRIMINAL DAMAGE', 'BATTERY', 'NARCOTICS']\n",
    "crime_df = crime_df.loc[crime_df['Primary Type'].isin(types_to_keep)]\n",
    "\n",
    "# create a 365 x 77 x 4 matrix to store the number of crimes per day per community area per type\n",
    "crime_matrix = np.zeros((31, 77, 4))                    ### from Dec 15 to Jan 15\n",
    "\n",
    "# iterate over the rows of the dataframe\n",
    "for index, row in crime_df.iterrows():\n",
    "    # get the date\n",
    "    date = row[\"Date\"]\n",
    "    # get the community area\n",
    "    community_area = int(row[\"Community Area\"])\n",
    "    # get the crime type\n",
    "    crime_type = row[\"Primary Type\"]\n",
    "    # get the day of the year\n",
    "\n",
    "    if pd.to_datetime(date).dayofyear < 350:\n",
    "        day_of_year = pd.to_datetime(date).dayofyear + 15\n",
    "    else:\n",
    "        day_of_year = pd.to_datetime(date).dayofyear - 350\n",
    "\n",
    "    crime_matrix[day_of_year - 1, community_area - 1, types_to_keep.index(crime_type)] += 1\n",
    "\n",
    "crime_matrix.shape\n",
    "\n",
    "print(crime_matrix.size)\n",
    "print(np.count_nonzero(crime_matrix))\n",
    "\n",
    "with open('../Chicago Dataset/test_xmas.pkl', 'wb') as f:\n",
    "    pickle.dump(crime_matrix, f)"
   ]
  },
  {
   "cell_type": "code",
   "execution_count": null,
   "metadata": {},
   "outputs": [],
   "source": []
  }
 ],
 "metadata": {
  "kernelspec": {
   "display_name": "venv",
   "language": "python",
   "name": "venv"
  },
  "language_info": {
   "codemirror_mode": {
    "name": "ipython",
    "version": 3
   },
   "file_extension": ".py",
   "mimetype": "text/x-python",
   "name": "python",
   "nbconvert_exporter": "python",
   "pygments_lexer": "ipython3",
   "version": "3.7.4"
  },
  "orig_nbformat": 4
 },
 "nbformat": 4,
 "nbformat_minor": 2
}
