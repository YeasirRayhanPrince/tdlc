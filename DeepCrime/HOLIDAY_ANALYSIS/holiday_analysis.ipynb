{
 "cells": [
  {
   "cell_type": "code",
   "execution_count": 1,
   "metadata": {},
   "outputs": [],
   "source": [
    "import numpy as np\n",
    "import matplotlib.pyplot as plt\n",
    "import pickle\n",
    "from sklearn.metrics import mean_squared_error\n",
    "from sklearn.metrics import mean_absolute_error\n",
    "from sklearn.metrics import f1_score"
   ]
  },
  {
   "attachments": {},
   "cell_type": "markdown",
   "metadata": {},
   "source": [
    "# Easter"
   ]
  },
  {
   "cell_type": "code",
   "execution_count": 3,
   "metadata": {},
   "outputs": [
    {
     "name": "stdout",
     "output_type": "stream",
     "text": [
      "RMSE:  1.8107466248809152\n",
      "MAE:  1.101808905380334\n"
     ]
    }
   ],
   "source": [
    "true = pickle.load(open(\"true_reg_easter.pkl\", \"rb\"))\n",
    "pred = pickle.load(open(\"pred_reg_easter.pkl\", \"rb\"))\n",
    "\n",
    "print(\"RMSE: \", mean_squared_error(true, pred)**0.5)\n",
    "print(\"MAE: \", mean_absolute_error(true, pred))"
   ]
  },
  {
   "cell_type": "code",
   "execution_count": 4,
   "metadata": {},
   "outputs": [
    {
     "name": "stdout",
     "output_type": "stream",
     "text": [
      "Macro-F1:  0.7041333843206637\n",
      "Micro-F1:  0.738109868501905\n"
     ]
    }
   ],
   "source": [
    "true = pickle.load(open(\"true_class_easter.pkl\", \"rb\"))\n",
    "pred = pickle.load(open(\"pred_class_easter.pkl\", \"rb\"))\n",
    "\n",
    "print(\"Macro-F1: \", f1_score(true, pred, average='macro'))\n",
    "print(\"Micro-F1: \", f1_score(true, pred, average='micro'))"
   ]
  },
  {
   "attachments": {},
   "cell_type": "markdown",
   "metadata": {},
   "source": [
    "# Xmas"
   ]
  },
  {
   "cell_type": "code",
   "execution_count": 5,
   "metadata": {},
   "outputs": [
    {
     "name": "stdout",
     "output_type": "stream",
     "text": [
      "RMSE:  1.2984756297439553\n",
      "MAE:  0.9477272727272728\n"
     ]
    }
   ],
   "source": [
    "true = pickle.load(open(\"true_reg_xmas.pkl\", \"rb\"))\n",
    "pred = pickle.load(open(\"pred_reg_xmas.pkl\", \"rb\"))\n",
    "\n",
    "print(\"RMSE: \", mean_squared_error(true, pred)**0.5)\n",
    "print(\"MAE: \", mean_absolute_error(true, pred))"
   ]
  },
  {
   "cell_type": "code",
   "execution_count": 6,
   "metadata": {},
   "outputs": [
    {
     "name": "stdout",
     "output_type": "stream",
     "text": [
      "Macro-F1:  0.6711236333998483\n",
      "Micro-F1:  0.7040752351097179\n"
     ]
    }
   ],
   "source": [
    "true = pickle.load(open(\"true_class_xmas.pkl\", \"rb\"))\n",
    "pred = pickle.load(open(\"pred_class_xmas.pkl\", \"rb\"))\n",
    "\n",
    "print(\"Macro-F1: \", f1_score(true, pred, average='macro'))\n",
    "print(\"Micro-F1: \", f1_score(true, pred, average='micro'))"
   ]
  },
  {
   "attachments": {},
   "cell_type": "markdown",
   "metadata": {},
   "source": [
    "# Upto March"
   ]
  },
  {
   "cell_type": "code",
   "execution_count": 7,
   "metadata": {},
   "outputs": [
    {
     "name": "stdout",
     "output_type": "stream",
     "text": [
      "RMSE:  1.8118605327070423\n",
      "MAE:  1.1063079777365492\n"
     ]
    }
   ],
   "source": [
    "true = pickle.load(open(\"true_reg_MARCH.pkl\", \"rb\"))\n",
    "pred = pickle.load(open(\"pred_reg_MARCH.pkl\", \"rb\"))\n",
    "\n",
    "print(\"RMSE: \", mean_squared_error(true, pred)**0.5)\n",
    "print(\"MAE: \", mean_absolute_error(true, pred))"
   ]
  },
  {
   "cell_type": "code",
   "execution_count": 8,
   "metadata": {},
   "outputs": [
    {
     "name": "stdout",
     "output_type": "stream",
     "text": [
      "Macro-F1:  0.7003936136156478\n",
      "Micro-F1:  0.7378454078006772\n"
     ]
    }
   ],
   "source": [
    "true = pickle.load(open(\"true_class_MARCH.pkl\", \"rb\"))\n",
    "pred = pickle.load(open(\"pred_class_MARCH.pkl\", \"rb\"))\n",
    "\n",
    "print(\"Macro-F1: \", f1_score(true, pred, average='macro'))\n",
    "print(\"Micro-F1: \", f1_score(true, pred, average='micro'))"
   ]
  },
  {
   "cell_type": "code",
   "execution_count": null,
   "metadata": {},
   "outputs": [],
   "source": []
  }
 ],
 "metadata": {
  "kernelspec": {
   "display_name": "venv",
   "language": "python",
   "name": "venv"
  },
  "language_info": {
   "codemirror_mode": {
    "name": "ipython",
    "version": 3
   },
   "file_extension": ".py",
   "mimetype": "text/x-python",
   "name": "python",
   "nbconvert_exporter": "python",
   "pygments_lexer": "ipython3",
   "version": "3.7.4"
  },
  "orig_nbformat": 4
 },
 "nbformat": 4,
 "nbformat_minor": 2
}
