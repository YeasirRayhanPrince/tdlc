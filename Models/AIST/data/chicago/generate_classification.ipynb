{
 "cells": [
  {
   "cell_type": "code",
   "execution_count": null,
   "metadata": {},
   "outputs": [],
   "source": [
    "import numpy as np\n",
    "import os\n",
    "\n",
    "for i in range (0,77):\n",
    "  data = np.load(\"4h/com_crime/r_\"+str(i))\n",
    "  # if element in data greater than 0, make it 1\n",
    "  data[data > 0] = 1\n",
    "  \n",
    "  #if directory not exist, create it\n",
    "  if not os.path.exists(\"classification/4h/com_crime\"):\n",
    "    os.makedirs(\"classification/4h/com_crime\")\n",
    "\n",
    "  np.save(\"classification/4h/com_crime/r_\"+str(i), data)"
   ]
  },
  {
   "cell_type": "code",
   "execution_count": null,
   "metadata": {},
   "outputs": [],
   "source": [
    "import numpy as np\n",
    "import os\n",
    "\n",
    "for i in range (0,9):\n",
    "  data = np.load(\"4h/side_crime/s_\"+str(i))\n",
    "  # if element in data greater than 0, make it 1\n",
    "  data[data > 0] = 1\n",
    "  \n",
    "  #if directory not exist, create it\n",
    "  if not os.path.exists(\"classification/4h/side_crime\"):\n",
    "    os.makedirs(\"classification/4h/side_crime\")\n",
    "\n",
    "  np.save(\"classification/4h/side_crime/s_\"+str(i), data)"
   ]
  }
 ],
 "metadata": {
  "language_info": {
   "name": "python"
  },
  "orig_nbformat": 4
 },
 "nbformat": 4,
 "nbformat_minor": 2
}
