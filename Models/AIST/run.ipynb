{
 "cells": [
  {
   "attachments": {},
   "cell_type": "markdown",
   "metadata": {},
   "source": [
    "RUN MODEL"
   ]
  },
  {
   "cell_type": "code",
   "execution_count": null,
   "metadata": {},
   "outputs": [],
   "source": [
    "for m in range(0, 77):\n",
    "  for c in range (0, 8):\n",
    "    print(\"region: \" + str(m))\n",
    "    %run -i train.py --tr=$m --tc=$c"
   ]
  },
  {
   "attachments": {},
   "cell_type": "markdown",
   "metadata": {},
   "source": [
    "CALCULATE REGRESSION METRICS"
   ]
  },
  {
   "cell_type": "code",
   "execution_count": null,
   "metadata": {},
   "outputs": [],
   "source": [
    "import numpy as np\n",
    "\n",
    "res = np.loadtxt(\"Experiment Results/regionwise_24h_regression/aist_mae_mse.txt\")\n",
    "\n",
    "# take only the col 1\n",
    "mae = res[:, 1:2]\n",
    "mse = res[:, 2:]\n",
    "\n",
    "mae = np.mean(mae)\n",
    "rmse = np.mean(np.sqrt(mse))\n",
    "\n",
    "print(\"MAE: \", mae, \"RMSE: \", rmse)"
   ]
  },
  {
   "attachments": {},
   "cell_type": "markdown",
   "metadata": {},
   "source": [
    "CALCULATE CLASSIFICATION METRICS"
   ]
  },
  {
   "cell_type": "code",
   "execution_count": null,
   "metadata": {},
   "outputs": [],
   "source": [
    "import numpy as np\n",
    "\n",
    "res = res = np.loadtxt(\"Metrics/aist_4h_micro_macro.txt\")\n",
    "\n",
    "# take only the col 1\n",
    "micro = res[:, 1:2]\n",
    "macro = res[:, 2:]\n",
    "\n",
    "micro = np.mean(mae)\n",
    "macro = np.mean(mse)\n",
    "\n",
    "print(\"MICRO: \", micro, \"MACRO: \", macro)"
   ]
  }
 ],
 "metadata": {
  "kernelspec": {
   "display_name": "Python 3",
   "language": "python",
   "name": "python3"
  },
  "language_info": {
   "codemirror_mode": {
    "name": "ipython",
    "version": 3
   },
   "file_extension": ".py",
   "mimetype": "text/x-python",
   "name": "python",
   "nbconvert_exporter": "python",
   "pygments_lexer": "ipython3",
   "version": "3.8.0"
  },
  "orig_nbformat": 4
 },
 "nbformat": 4,
 "nbformat_minor": 2
}
