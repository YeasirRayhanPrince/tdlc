{
 "cells": [
  {
   "cell_type": "code",
   "execution_count": 23,
   "metadata": {},
   "outputs": [],
   "source": [
    "import pandas as pd\n",
    "import numpy as np\n",
    "import time\n",
    "import pickle \n",
    "from tqdm import tqdm"
   ]
  },
  {
   "cell_type": "code",
   "execution_count": 7,
   "metadata": {},
   "outputs": [],
   "source": [
    "df.to_csv('data_2019.csv', header=False, index=False)"
   ]
  },
  {
   "cell_type": "code",
   "execution_count": 12,
   "metadata": {},
   "outputs": [],
   "source": [
    "crime_types = ['THEFT', 'BATTERY', 'ASSAULT', 'CRIMINAL DAMAGE']\n",
    "st_df = df[df[\"Primary Type\"].isin(crime_types)]"
   ]
  },
  {
   "cell_type": "code",
   "execution_count": 22,
   "metadata": {},
   "outputs": [
    {
     "data": {
      "text/plain": [
       "158368"
      ]
     },
     "execution_count": 22,
     "metadata": {},
     "output_type": "execute_result"
    }
   ],
   "source": [
    "len(st_df)"
   ]
  },
  {
   "cell_type": "code",
   "execution_count": 21,
   "metadata": {},
   "outputs": [
    {
     "data": {
      "text/plain": [
       "77"
      ]
     },
     "execution_count": 21,
     "metadata": {},
     "output_type": "execute_result"
    }
   ],
   "source": [
    "st_df[\"Community Area\"].nunique()"
   ]
  },
  {
   "cell_type": "code",
   "execution_count": 33,
   "metadata": {},
   "outputs": [],
   "source": [
    "import os\n",
    "\n",
    "os.makedirs(\"Comm_Crime\", exist_ok=True)"
   ]
  },
  {
   "cell_type": "code",
   "execution_count": 34,
   "metadata": {},
   "outputs": [],
   "source": [
    "# create a directory for each community area\n",
    "for i in range(1, 78):\n",
    "    os.makedirs(\"Comm_Crime/Comm_\" + str(i), exist_ok=True)"
   ]
  },
  {
   "cell_type": "code",
   "execution_count": 35,
   "metadata": {},
   "outputs": [],
   "source": [
    "for i in range(1, 78):\n",
    "    st_df[st_df[\"Community Area\"] == i].to_csv(\"Comm_Crime/Comm_\" + str(i) + \"/crime.csv\", header=False, index=False)"
   ]
  },
  {
   "cell_type": "code",
   "execution_count": 36,
   "metadata": {},
   "outputs": [
    {
     "name": "stdout",
     "output_type": "stream",
     "text": [
      "Community Area 1 has 2694 rows\n",
      "Community Area 2 has 2127 rows\n",
      "Community Area 3 has 2145 rows\n",
      "Community Area 4 has 1152 rows\n",
      "Community Area 5 has 793 rows\n",
      "Community Area 6 has 3935 rows\n",
      "Community Area 7 has 3007 rows\n",
      "Community Area 8 has 8499 rows\n",
      "Community Area 9 has 153 rows\n",
      "Community Area 10 has 696 rows\n",
      "Community Area 11 has 596 rows\n",
      "Community Area 12 has 257 rows\n",
      "Community Area 13 has 494 rows\n",
      "Community Area 14 has 1408 rows\n",
      "Community Area 15 has 1829 rows\n",
      "Community Area 16 has 1665 rows\n",
      "Community Area 17 has 805 rows\n",
      "Community Area 18 has 342 rows\n",
      "Community Area 19 has 2597 rows\n",
      "Community Area 20 has 738 rows\n",
      "Community Area 21 has 1307 rows\n",
      "Community Area 22 has 3201 rows\n",
      "Community Area 23 has 3834 rows\n",
      "Community Area 24 has 4918 rows\n",
      "Community Area 25 has 8606 rows\n",
      "Community Area 26 has 2547 rows\n",
      "Community Area 27 has 2546 rows\n",
      "Community Area 28 has 6215 rows\n",
      "Community Area 29 has 4251 rows\n",
      "Community Area 30 has 2548 rows\n",
      "Community Area 31 has 1514 rows\n",
      "Community Area 32 has 7477 rows\n",
      "Community Area 33 has 1175 rows\n",
      "Community Area 34 has 681 rows\n",
      "Community Area 35 has 1788 rows\n",
      "Community Area 36 has 413 rows\n",
      "Community Area 37 has 488 rows\n",
      "Community Area 38 has 2093 rows\n",
      "Community Area 39 has 880 rows\n",
      "Community Area 40 has 1461 rows\n",
      "Community Area 41 has 1101 rows\n",
      "Community Area 42 has 2142 rows\n",
      "Community Area 43 has 5231 rows\n",
      "Community Area 44 has 4315 rows\n",
      "Community Area 45 has 716 rows\n",
      "Community Area 46 has 2481 rows\n",
      "Community Area 47 has 199 rows\n",
      "Community Area 48 has 792 rows\n",
      "Community Area 49 has 3792 rows\n",
      "Community Area 50 has 725 rows\n",
      "Community Area 51 has 1206 rows\n",
      "Community Area 52 has 591 rows\n",
      "Community Area 53 has 2253 rows\n",
      "Community Area 54 has 888 rows\n",
      "Community Area 55 has 331 rows\n",
      "Community Area 56 has 1122 rows\n",
      "Community Area 57 has 525 rows\n",
      "Community Area 58 has 1314 rows\n",
      "Community Area 59 has 534 rows\n",
      "Community Area 60 has 913 rows\n",
      "Community Area 61 has 2584 rows\n",
      "Community Area 62 has 537 rows\n",
      "Community Area 63 has 1265 rows\n",
      "Community Area 64 has 534 rows\n",
      "Community Area 65 has 1083 rows\n",
      "Community Area 66 has 3353 rows\n",
      "Community Area 67 has 4020 rows\n",
      "Community Area 68 has 3563 rows\n",
      "Community Area 69 has 4145 rows\n",
      "Community Area 70 has 1376 rows\n",
      "Community Area 71 has 4476 rows\n",
      "Community Area 72 has 499 rows\n",
      "Community Area 73 has 1942 rows\n",
      "Community Area 74 has 265 rows\n",
      "Community Area 75 has 1117 rows\n",
      "Community Area 76 has 927 rows\n",
      "Community Area 77 has 1636 rows\n",
      "Total number of rows: 158368\n"
     ]
    }
   ],
   "source": [
    "# print the number of rows in csv file of each community area\n",
    "total = 0\n",
    "for i in range(1, 78):\n",
    "    size = len(pd.read_csv(\"Comm_Crime/Comm_\" + str(i) + \"/crime.csv\", header=None))\n",
    "    total += size\n",
    "    print(\"Community Area \" + str(i) + \" has \" + str(size) + \" rows\")\n",
    "\n",
    "print(\"Total number of rows: \" + str(total))"
   ]
  }
 ],
 "metadata": {
  "kernelspec": {
   "display_name": "venv",
   "language": "python",
   "name": "venv"
  },
  "language_info": {
   "codemirror_mode": {
    "name": "ipython",
    "version": 3
   },
   "file_extension": ".py",
   "mimetype": "text/x-python",
   "name": "python",
   "nbconvert_exporter": "python",
   "pygments_lexer": "ipython3",
   "version": "3.7.4"
  },
  "orig_nbformat": 4
 },
 "nbformat": 4,
 "nbformat_minor": 2
}
