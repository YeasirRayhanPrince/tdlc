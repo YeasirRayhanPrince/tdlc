{
 "cells": [
  {
   "cell_type": "code",
   "execution_count": 1,
   "metadata": {},
   "outputs": [],
   "source": [
    "import numpy as np\n",
    "import matplotlib.pyplot as plt\n",
    "import pickle"
   ]
  },
  {
   "cell_type": "code",
   "execution_count": 2,
   "metadata": {},
   "outputs": [],
   "source": [
    "from sklearn.metrics import mean_squared_error\n",
    "from sklearn.metrics import mean_absolute_error\n",
    "from sklearn.metrics import accuracy_score\n",
    "from sklearn.metrics import f1_score"
   ]
  },
  {
   "attachments": {},
   "cell_type": "markdown",
   "metadata": {},
   "source": [
    "# MAE MSE"
   ]
  },
  {
   "cell_type": "code",
   "execution_count": 3,
   "metadata": {},
   "outputs": [
    {
     "data": {
      "text/plain": [
       "((3850, 4), (3850, 4))"
      ]
     },
     "execution_count": 3,
     "metadata": {},
     "output_type": "execute_result"
    }
   ],
   "source": [
    "y_true_path = \"trues_before_threshold_1d_only_crime_data.pkl\"\n",
    "y_pred_path = \"preds_before_threshold_1d_only_crime_data.pkl\"\n",
    "\n",
    "y_true = pickle.load(open(y_true_path, \"rb\"))\n",
    "y_pred = pickle.load(open(y_pred_path, \"rb\"))\n",
    "\n",
    "y_true.shape, y_pred.shape"
   ]
  },
  {
   "cell_type": "code",
   "execution_count": 4,
   "metadata": {},
   "outputs": [
    {
     "data": {
      "text/plain": [
       "((50, 77, 4), (50, 77, 4))"
      ]
     },
     "execution_count": 4,
     "metadata": {},
     "output_type": "execute_result"
    }
   ],
   "source": [
    "y_true = y_true.reshape(-1, 77, 4)\n",
    "y_pred = y_pred.reshape(-1, 77, 4)\n",
    "\n",
    "y_true.shape, y_pred.shape"
   ]
  },
  {
   "cell_type": "code",
   "execution_count": 5,
   "metadata": {},
   "outputs": [
    {
     "name": "stdout",
     "output_type": "stream",
     "text": [
      "Accuracy:  0.272987012987013\n"
     ]
    }
   ],
   "source": [
    "# print accuracy\n",
    "print(\"Accuracy: \", accuracy_score(y_true.reshape(-1, 1), y_pred.reshape(-1, 1)))"
   ]
  },
  {
   "cell_type": "code",
   "execution_count": 7,
   "metadata": {},
   "outputs": [
    {
     "name": "stdout",
     "output_type": "stream",
     "text": [
      "Community:  0  MAE:  1.4100000000000001  MSE:  3.91\n",
      "Community:  1  MAE:  1.01  MSE:  2.1\n",
      "Community:  2  MAE:  1.2  MSE:  2.86\n",
      "Community:  3  MAE:  0.875  MSE:  1.365\n",
      "Community:  4  MAE:  0.725  MSE:  0.965\n",
      "Community:  5  MAE:  1.955  MSE:  11.104999999999999\n",
      "Community:  6  MAE:  1.5  MSE:  6.07\n",
      "Community:  7  MAE:  4.88  MSE:  65.48\n",
      "Community:  8  MAE:  0.7  MSE:  0.7\n",
      "Community:  9  MAE:  0.735  MSE:  0.8350000000000001\n",
      "Community:  10  MAE:  0.7550000000000001  MSE:  0.815\n",
      "Community:  11  MAE:  0.74  MSE:  0.7699999999999999\n",
      "Community:  12  MAE:  0.7450000000000001  MSE:  0.7550000000000001\n",
      "Community:  13  MAE:  0.8049999999999999  MSE:  0.995\n",
      "Community:  14  MAE:  0.8400000000000001  MSE:  1.4100000000000001\n",
      "Community:  15  MAE:  0.96  MSE:  1.74\n",
      "Community:  16  MAE:  0.77  MSE:  0.8500000000000001\n",
      "Community:  17  MAE:  0.735  MSE:  0.7849999999999999\n",
      "Community:  18  MAE:  0.995  MSE:  2.165\n",
      "Community:  19  MAE:  0.6949999999999998  MSE:  0.7349999999999999\n",
      "Community:  20  MAE:  0.865  MSE:  1.385\n",
      "Community:  21  MAE:  1.905  MSE:  8.715\n",
      "Community:  22  MAE:  2.3499999999999996  MSE:  9.41\n",
      "Community:  23  MAE:  2.53  MSE:  15.280000000000001\n",
      "Community:  24  MAE:  4.755  MSE:  32.495000000000005\n",
      "Community:  25  MAE:  1.48  MSE:  4.109999999999999\n",
      "Community:  26  MAE:  1.265  MSE:  3.4050000000000002\n",
      "Community:  27  MAE:  3.3099999999999996  MSE:  27.38\n",
      "Community:  28  MAE:  2.575  MSE:  11.515\n",
      "Community:  29  MAE:  0.9650000000000001  MSE:  1.8249999999999997\n",
      "Community:  30  MAE:  0.89  MSE:  1.2800000000000002\n",
      "Community:  31  MAE:  3.9050000000000002  MSE:  46.794999999999995\n",
      "Community:  32  MAE:  0.845  MSE:  1.395\n",
      "Community:  33  MAE:  0.6900000000000001  MSE:  0.7799999999999999\n",
      "Community:  34  MAE:  0.975  MSE:  1.9549999999999996\n",
      "Community:  35  MAE:  0.81  MSE:  0.81\n",
      "Community:  36  MAE:  0.795  MSE:  0.805\n",
      "Community:  37  MAE:  0.9299999999999999  MSE:  1.58\n",
      "Community:  38  MAE:  0.715  MSE:  0.915\n",
      "Community:  39  MAE:  0.775  MSE:  1.105\n",
      "Community:  40  MAE:  0.785  MSE:  1.0950000000000002\n",
      "Community:  41  MAE:  0.9099999999999999  MSE:  1.4900000000000002\n",
      "Community:  42  MAE:  2.4999999999999996  MSE:  11.38\n",
      "Community:  43  MAE:  1.885  MSE:  6.735\n",
      "Community:  44  MAE:  0.74  MSE:  0.74\n",
      "Community:  45  MAE:  1.0799999999999998  MSE:  2.14\n",
      "Community:  46  MAE:  0.84  MSE:  0.84\n",
      "Community:  47  MAE:  0.75  MSE:  0.8300000000000001\n",
      "Community:  48  MAE:  1.7599999999999998  MSE:  6.120000000000001\n",
      "Community:  49  MAE:  0.68  MSE:  0.7300000000000001\n",
      "Community:  50  MAE:  0.815  MSE:  1.015\n",
      "Community:  51  MAE:  0.72  MSE:  0.74\n",
      "Community:  52  MAE:  1.0050000000000001  MSE:  1.835\n",
      "Community:  53  MAE:  0.62  MSE:  0.6699999999999999\n",
      "Community:  54  MAE:  0.7750000000000001  MSE:  0.7750000000000001\n",
      "Community:  55  MAE:  0.785  MSE:  0.905\n",
      "Community:  56  MAE:  0.6649999999999999  MSE:  0.6849999999999999\n",
      "Community:  57  MAE:  0.755  MSE:  0.8949999999999999\n",
      "Community:  58  MAE:  0.77  MSE:  0.81\n",
      "Community:  59  MAE:  0.88  MSE:  1.13\n",
      "Community:  60  MAE:  0.9749999999999999  MSE:  1.9249999999999998\n",
      "Community:  61  MAE:  0.74  MSE:  0.76\n",
      "Community:  62  MAE:  0.72  MSE:  0.9200000000000002\n",
      "Community:  63  MAE:  0.71  MSE:  0.73\n",
      "Community:  64  MAE:  0.7450000000000001  MSE:  1.025\n",
      "Community:  65  MAE:  1.35  MSE:  3.5700000000000003\n",
      "Community:  66  MAE:  1.6199999999999999  MSE:  5.239999999999999\n",
      "Community:  67  MAE:  1.545  MSE:  4.745\n",
      "Community:  68  MAE:  1.73  MSE:  5.98\n",
      "Community:  69  MAE:  0.78  MSE:  1.4100000000000001\n",
      "Community:  70  MAE:  1.7999999999999998  MSE:  6.2299999999999995\n",
      "Community:  71  MAE:  0.6649999999999999  MSE:  0.6749999999999999\n",
      "Community:  72  MAE:  0.95  MSE:  1.68\n",
      "Community:  73  MAE:  0.73  MSE:  0.7499999999999999\n",
      "Community:  74  MAE:  0.77  MSE:  0.96\n",
      "Community:  75  MAE:  0.8300000000000001  MSE:  1.3699999999999999\n",
      "Community:  76  MAE:  0.9349999999999999  MSE:  1.545\n"
     ]
    }
   ],
   "source": [
    "for i in range(77):\n",
    "    true = y_true[:, i, :]\n",
    "    pred = y_pred[:, i, :]\n",
    "    mae = mean_absolute_error(true, pred)\n",
    "    mse = mean_squared_error(true, pred)\n",
    "\n",
    "    # save in a text file\n",
    "    with open(\"mae_mse/\" + str(i) + \".txt\", \"w\") as f:\n",
    "        f.write(str(mae))\n",
    "        f.write(\" \")\n",
    "        f.write(str(mse))\n",
    "        f.close()\n",
    "\n",
    "    print(\"Community: \", i, \" MAE: \", mae, \" MSE: \", mse)"
   ]
  },
  {
   "cell_type": "code",
   "execution_count": 8,
   "metadata": {},
   "outputs": [
    {
     "name": "stdout",
     "output_type": "stream",
     "text": [
      "77\n",
      "77\n"
     ]
    }
   ],
   "source": [
    "deepcrime_mae = []\n",
    "deepcrime_mse = []\n",
    "\n",
    "for comm in range(0, 77):\n",
    "\n",
    "    # with open(deepcrime_path + str(comm) + \"_7.txt\", \"r\") as f:\n",
    "    with open(\"mae_mse/\" + str(comm) + \".txt\", \"r\") as f:\n",
    "        lines = f.readlines()\n",
    "        lines = lines[0].split(\" \")\n",
    "        deepcrime_mae.append(float(lines[0]))\n",
    "        deepcrime_mse.append(float(lines[1]))\n",
    "\n",
    "deepcrime_mae = np.array(deepcrime_mae)\n",
    "deepcrime_mse = np.array(deepcrime_mse)\n",
    "\n",
    "print(len(deepcrime_mae))\n",
    "print(len(deepcrime_mse))"
   ]
  },
  {
   "cell_type": "code",
   "execution_count": 9,
   "metadata": {},
   "outputs": [],
   "source": [
    "# save the mae and mse of deepcrime\n",
    "with open(\"dc_actual_mae_1d_default_aist_cats_only_crime_data.pkl\", \"wb\") as f:\n",
    "    pickle.dump(deepcrime_mae, f)\n",
    "    \n",
    "with open(\"dc_actual_mse_1d_default_aist_cats_only_crime_data.pkl\", \"wb\") as f:\n",
    "    pickle.dump(deepcrime_mse, f)"
   ]
  },
  {
   "attachments": {},
   "cell_type": "markdown",
   "metadata": {},
   "source": [
    "# F1 Scores"
   ]
  },
  {
   "cell_type": "code",
   "execution_count": 10,
   "metadata": {},
   "outputs": [
    {
     "data": {
      "text/plain": [
       "((3850, 4), (3850, 4))"
      ]
     },
     "execution_count": 10,
     "metadata": {},
     "output_type": "execute_result"
    }
   ],
   "source": [
    "y_true_path = \"trues_after_threshold_1d_only_crime_data.pkl\"\n",
    "y_pred_path = \"preds_after_threshold_1d_only_crime_data.pkl\"\n",
    "\n",
    "y_true = pickle.load(open(y_true_path, \"rb\"))\n",
    "y_pred = pickle.load(open(y_pred_path, \"rb\"))\n",
    "\n",
    "y_true.shape, y_pred.shape"
   ]
  },
  {
   "cell_type": "code",
   "execution_count": 11,
   "metadata": {},
   "outputs": [
    {
     "data": {
      "text/plain": [
       "((50, 77, 4), (50, 77, 4))"
      ]
     },
     "execution_count": 11,
     "metadata": {},
     "output_type": "execute_result"
    }
   ],
   "source": [
    "y_true = y_true.reshape(-1, 77, 4)\n",
    "y_pred = y_pred.reshape(-1, 77, 4)\n",
    "\n",
    "y_true.shape, y_pred.shape"
   ]
  },
  {
   "cell_type": "code",
   "execution_count": 12,
   "metadata": {},
   "outputs": [
    {
     "name": "stdout",
     "output_type": "stream",
     "text": [
      "Accuracy:  0.5522077922077923\n"
     ]
    }
   ],
   "source": [
    "# print accuracy\n",
    "print(\"Accuracy: \", accuracy_score(y_true.reshape(-1, 1), y_pred.reshape(-1, 1)))"
   ]
  },
  {
   "cell_type": "code",
   "execution_count": 13,
   "metadata": {},
   "outputs": [
    {
     "name": "stdout",
     "output_type": "stream",
     "text": [
      "Community:  0  Macro:  0.7380763598033637  Micro:  0.787878787878788\n",
      "Community:  1  Macro:  0.7613184258460358  Micro:  0.7914110429447853\n",
      "Community:  2  Macro:  0.680481423599432  Micro:  0.75625\n",
      "Community:  3  Macro:  0.5585329038886676  Micro:  0.6187050359712231\n",
      "Community:  4  Macro:  0.43147430853961144  Micro:  0.5344827586206896\n",
      "Community:  5  Macro:  0.7168334611404525  Micro:  0.7908496732026145\n",
      "Community:  6  Macro:  0.6629697463030797  Micro:  0.7972508591065293\n",
      "Community:  7  Macro:  0.7893708922426468  Micro:  0.8338192419825073\n",
      "Community:  8  Macro:  0.12737974622473103  Micro:  0.14634146341463414\n",
      "Community:  9  Macro:  0.4514133698916308  Micro:  0.5080645161290323\n",
      "Community:  10  Macro:  0.37796697626418985  Micro:  0.4351464435146444\n",
      "Community:  11  Macro:  0.16385707888170944  Micro:  0.19999999999999998\n",
      "Community:  12  Macro:  0.3163274607081006  Micro:  0.37037037037037035\n",
      "Community:  13  Macro:  0.6088263588263588  Micro:  0.6460481099656358\n",
      "Community:  14  Macro:  0.6411906411906412  Micro:  0.7372013651877134\n",
      "Community:  15  Macro:  0.6609062969581914  Micro:  0.7290322580645161\n",
      "Community:  16  Macro:  0.4577269577269577  Micro:  0.5179282868525896\n",
      "Community:  17  Macro:  0.28939505286664846  Micro:  0.33497536945812806\n",
      "Community:  18  Macro:  0.8508544956608337  Micro:  0.8700564971751412\n",
      "Community:  19  Macro:  0.5186833505331958  Micro:  0.5454545454545454\n",
      "Community:  20  Macro:  0.5674602727804384  Micro:  0.6323529411764706\n",
      "Community:  21  Macro:  0.730894213452353  Micro:  0.7876923076923077\n",
      "Community:  22  Macro:  0.9624407256955121  Micro:  0.9637305699481865\n",
      "Community:  23  Macro:  0.7822144152993415  Micro:  0.8338192419825073\n",
      "Community:  24  Macro:  0.992372706658421  Micro:  0.9924433249370278\n",
      "Community:  25  Macro:  0.9168519686554559  Micro:  0.921832884097035\n",
      "Community:  26  Macro:  0.8766632319707444  Micro:  0.8826815642458101\n",
      "Community:  27  Macro:  0.9081447226608518  Micro:  0.9189189189189189\n",
      "Community:  28  Macro:  0.9563717894376  Micro:  0.9583333333333334\n",
      "Community:  29  Macro:  0.8489452798663326  Micro:  0.8538681948424068\n",
      "Community:  30  Macro:  0.6184524988446557  Micro:  0.6554054054054054\n",
      "Community:  31  Macro:  0.8519965480244437  Micro:  0.8760806916426513\n",
      "Community:  32  Macro:  0.577510262137241  Micro:  0.652482269503546\n",
      "Community:  33  Macro:  0.46374518208399784  Micro:  0.547008547008547\n",
      "Community:  34  Macro:  0.6255039461176362  Micro:  0.6798679867986799\n",
      "Community:  35  Macro:  0.22098057541236205  Micro:  0.24880382775119617\n",
      "Community:  36  Macro:  0.3524106612341907  Micro:  0.36363636363636365\n",
      "Community:  37  Macro:  0.7502443792766373  Micro:  0.7767584097859327\n",
      "Community:  38  Macro:  0.5233519014613541  Micro:  0.6024096385542168\n",
      "Community:  39  Macro:  0.6898150868739105  Micro:  0.7220447284345047\n",
      "Community:  40  Macro:  0.45815351315351316  Micro:  0.5702479338842975\n",
      "Community:  41  Macro:  0.7174590874707109  Micro:  0.7499999999999999\n",
      "Community:  42  Macro:  0.9284161054994389  Micro:  0.9361702127659575\n",
      "Community:  43  Macro:  0.8824201522264903  Micro:  0.9041095890410958\n",
      "Community:  44  Macro:  0.47505702183121545  Micro:  0.49042145593869724\n",
      "Community:  45  Macro:  0.769830812838991  Micro:  0.787878787878788\n",
      "Community:  46  Macro:  0.185  Micro:  0.1862745098039216\n",
      "Community:  47  Macro:  0.499787793905441  Micro:  0.5210727969348659\n",
      "Community:  48  Macro:  0.884670324943745  Micro:  0.8980716253443526\n",
      "Community:  49  Macro:  0.45703395703395705  Micro:  0.5425101214574899\n",
      "Community:  50  Macro:  0.5310301526116575  Micro:  0.5977859778597786\n",
      "Community:  51  Macro:  0.4886051364697618  Micro:  0.5\n",
      "Community:  52  Macro:  0.7908919603896601  Micro:  0.8165680473372781\n",
      "Community:  53  Macro:  0.4881893468849991  Micro:  0.5843621399176955\n",
      "Community:  54  Macro:  0.25149157372158776  Micro:  0.28846153846153844\n",
      "Community:  55  Macro:  0.5408867514130672  Micro:  0.5620437956204378\n",
      "Community:  56  Macro:  0.38703567779169007  Micro:  0.45871559633027514\n",
      "Community:  57  Macro:  0.6616530805127296  Micro:  0.6885245901639345\n",
      "Community:  58  Macro:  0.39309857547562466  Micro:  0.43265306122448977\n",
      "Community:  59  Macro:  0.5254641108287361  Micro:  0.5567765567765568\n",
      "Community:  60  Macro:  0.8205004006934054  Micro:  0.8338192419825073\n",
      "Community:  61  Macro:  0.3796549027841631  Micro:  0.4219409282700422\n",
      "Community:  62  Macro:  0.6140000125868722  Micro:  0.6433566433566433\n",
      "Community:  63  Macro:  0.4046905148600064  Micro:  0.44725738396624476\n",
      "Community:  64  Macro:  0.5949670124157994  Micro:  0.644927536231884\n",
      "Community:  65  Macro:  0.8279983970971606  Micro:  0.8439306358381503\n",
      "Community:  66  Macro:  0.8898090792111799  Micro:  0.8980716253443526\n",
      "Community:  67  Macro:  0.8793982721173443  Micro:  0.888888888888889\n",
      "Community:  68  Macro:  0.9245307977628565  Micro:  0.9304812834224598\n",
      "Community:  69  Macro:  0.6785486552344515  Micro:  0.7296416938110749\n",
      "Community:  70  Macro:  0.8958477265541751  Micro:  0.9041095890410958\n",
      "Community:  71  Macro:  0.357223567393059  Micro:  0.42056074766355134\n",
      "Community:  72  Macro:  0.7530585356672314  Micro:  0.7767584097859327\n",
      "Community:  73  Macro:  0.2761031366294524  Micro:  0.3147208121827411\n",
      "Community:  74  Macro:  0.5452493795436401  Micro:  0.5836298932384342\n",
      "Community:  75  Macro:  0.5851844472262289  Micro:  0.6153846153846153\n",
      "Community:  76  Macro:  0.5412634750870046  Micro:  0.6164874551971326\n"
     ]
    }
   ],
   "source": [
    "for i in range(77):\n",
    "    true = y_true[:, i, :]\n",
    "    pred = y_pred[:, i, :]\n",
    "    macro = f1_score(true, pred, average=\"macro\")\n",
    "    micro = f1_score(true, pred, average=\"micro\")\n",
    "\n",
    "    # save in a text file\n",
    "    with open(\"f1_scores/\" + str(i) + \".txt\", \"w\") as f:\n",
    "        f.write(str(macro))\n",
    "        f.write(\" \")\n",
    "        f.write(str(micro))\n",
    "        f.close()\n",
    "\n",
    "    print(\"Community: \", i, \" Macro: \", macro, \" Micro: \", micro)"
   ]
  },
  {
   "cell_type": "code",
   "execution_count": 14,
   "metadata": {},
   "outputs": [
    {
     "name": "stdout",
     "output_type": "stream",
     "text": [
      "77\n",
      "77\n"
     ]
    }
   ],
   "source": [
    "deepcrime_macro = []\n",
    "deepcrime_micro = []\n",
    "\n",
    "for comm in range(0, 77):\n",
    "\n",
    "    # with open(deepcrime_path + str(comm) + \"_7.txt\", \"r\") as f:\n",
    "    with open(\"f1_scores/\" + str(comm) + \".txt\", \"r\") as f:\n",
    "        lines = f.readlines()\n",
    "        lines = lines[0].split(\" \")\n",
    "        deepcrime_macro.append(float(lines[0]))\n",
    "        deepcrime_micro.append(float(lines[1]))\n",
    "\n",
    "deepcrime_macro = np.array(deepcrime_macro)\n",
    "deepcrime_micro = np.array(deepcrime_micro)\n",
    "\n",
    "print(len(deepcrime_macro))\n",
    "print(len(deepcrime_micro))\n",
    "\n",
    "# save the mae and mse of deepcrime\n",
    "with open(\"dc_actual_macro_1d_default_aist_cats_only_crime_data.pkl\", \"wb\") as f:\n",
    "    pickle.dump(deepcrime_macro, f)\n",
    "    \n",
    "with open(\"dc_actual_micro_1d_default_aist_cats_only_crime_data.pkl\", \"wb\") as f:\n",
    "    pickle.dump(deepcrime_micro, f)"
   ]
  },
  {
   "cell_type": "code",
   "execution_count": null,
   "metadata": {},
   "outputs": [],
   "source": []
  }
 ],
 "metadata": {
  "kernelspec": {
   "display_name": "venv",
   "language": "python",
   "name": "venv"
  },
  "language_info": {
   "codemirror_mode": {
    "name": "ipython",
    "version": 3
   },
   "file_extension": ".py",
   "mimetype": "text/x-python",
   "name": "python",
   "nbconvert_exporter": "python",
   "pygments_lexer": "ipython3",
   "version": "3.7.4"
  },
  "orig_nbformat": 4
 },
 "nbformat": 4,
 "nbformat_minor": 2
}
