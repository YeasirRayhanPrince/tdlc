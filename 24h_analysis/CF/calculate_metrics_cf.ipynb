{
 "cells": [
  {
   "cell_type": "code",
   "execution_count": 1,
   "metadata": {},
   "outputs": [],
   "source": [
    "import numpy as np\n",
    "import matplotlib.pyplot as plt\n",
    "import pickle"
   ]
  },
  {
   "attachments": {},
   "cell_type": "markdown",
   "metadata": {},
   "source": [
    "# MAE MSE"
   ]
  },
  {
   "cell_type": "code",
   "execution_count": 3,
   "metadata": {},
   "outputs": [
    {
     "name": "stdout",
     "output_type": "stream",
     "text": [
      "MAE:  [0.50762623 0.52386962 0.48042581 0.55663892 0.56495439 0.49285095\n",
      " 0.51679811 0.48986937 0.57948514 0.55446863 0.58283069 0.55699411\n",
      " 0.56665481 0.53850049 0.56846682 0.51039343 0.59011329 0.5697499\n",
      " 0.53334955 0.54649109 0.55629042 0.49495553 0.48132894 0.50638887\n",
      " 0.50377838 0.51564308 0.55301814 0.54843706 0.5568476  0.48529552\n",
      " 0.52331189 0.49702786 0.53186395 0.57178098 0.4988081  0.62996108\n",
      " 0.60265798 0.53295451 0.55453188 0.5387421  0.52823509 0.54752076\n",
      " 0.49894899 0.49582142 0.60206902 0.51401687 0.57650335 0.57162324\n",
      " 0.51979314 0.5519392  0.54875577 0.56466154 0.49383095 0.52735509\n",
      " 0.57913746 0.57862334 0.51621305 0.55766169 0.58547773 0.54659431\n",
      " 0.52037479 0.61155225 0.56114635 0.55937463 0.55531729 0.50178436\n",
      " 0.6059964  0.54872849 0.51394014 0.54282423 0.51916478 0.54119765\n",
      " 0.52595151 0.60664426 0.56567962 0.56419953 0.52275147]\n",
      "MSE:  [0.31800635 0.34620092 0.31809974 0.39696727 0.41622231 0.3057613\n",
      " 0.32499766 0.30473506 0.46021302 0.41533037 0.43832746 0.43707197\n",
      " 0.41978945 0.37322591 0.40165154 0.34118803 0.44571651 0.44524666\n",
      " 0.35352096 0.40021306 0.40502206 0.32373084 0.30767842 0.33371229\n",
      " 0.31689414 0.34657303 0.37519022 0.36210175 0.38042094 0.3233353\n",
      " 0.36110323 0.31213469 0.36116493 0.4259959  0.32646376 0.50808864\n",
      " 0.46361544 0.35892898 0.39562544 0.38093134 0.37852078 0.38480518\n",
      " 0.31645505 0.30171498 0.47650947 0.34367768 0.45926766 0.42657516\n",
      " 0.34029973 0.4090301  0.38595569 0.42931109 0.31591166 0.39350851\n",
      " 0.45912831 0.41789576 0.36649096 0.40784827 0.45979779 0.40424537\n",
      " 0.33925714 0.47720028 0.39212436 0.42333407 0.39185019 0.32079067\n",
      " 0.43790701 0.37241312 0.33398564 0.3809528  0.34139982 0.382192\n",
      " 0.36352795 0.48024821 0.40860065 0.40337837 0.34786883]\n"
     ]
    }
   ],
   "source": [
    "cf_mae = np.zeros(77)\n",
    "cf_mse = np.zeros(77)\n",
    "\n",
    "# file_path = \"Crimeforecaster_mae_mse.txt\"\n",
    "file_path = \"Crimeforecaster_mae_mse_24h.txt\"\n",
    "\n",
    "# store the lines of the file in a list\n",
    "with open(file_path, 'r') as f:\n",
    "    lines = f.readlines()\n",
    "\n",
    "for line in lines:\n",
    "    mae = float(line.split()[1])\n",
    "    mse = float(line.split()[2])\n",
    "    cf_mae[int(line.split()[0])] = mae\n",
    "    cf_mse[int(line.split()[0])] = mse\n",
    "\n",
    "print(\"MAE: \", cf_mae)\n",
    "print(\"MSE: \", cf_mse)"
   ]
  },
  {
   "cell_type": "code",
   "execution_count": 4,
   "metadata": {},
   "outputs": [],
   "source": [
    "# save the mae and mse of cf\n",
    "with open(\"cf_mae.pkl\", \"wb\") as f:\n",
    "    pickle.dump(cf_mae, f)\n",
    "    \n",
    "with open(\"cf_mse.pkl\", \"wb\") as f:\n",
    "    pickle.dump(cf_mse, f)"
   ]
  },
  {
   "attachments": {},
   "cell_type": "markdown",
   "metadata": {},
   "source": [
    "# Analysis"
   ]
  },
  {
   "cell_type": "code",
   "execution_count": 5,
   "metadata": {},
   "outputs": [
    {
     "data": {
      "image/png": "[encoded data removed]",
      "text/plain": [
       "<Figure size 432x288 with 1 Axes>"
      ]
     },
     "metadata": {
      "needs_background": "light"
     },
     "output_type": "display_data"
    }
   ],
   "source": [
    "with open(\"Analysis cf_MAE.txt\", \"w\") as f:\n",
    "    f.write(\"Min: \" + str(np.min(cf_mae)) + \"\\n\")\n",
    "    f.write(\"Max: \" + str(np.max(cf_mae)) + \"\\n\")\n",
    "    f.write(\"Mean: \" + str(np.mean(cf_mae)) + \"\\n\")\n",
    "    f.write(\"Variance: \" + str(np.var(cf_mae)) + \"\\n\")\n",
    "\n",
    "# plot histogram\n",
    "plt.hist(cf_mae, bins=20, edgecolor=\"black\", linewidth=1.2)\n",
    "plt.title(\"Histogram of MAE\")\n",
    "plt.xlabel(\"MAE\")\n",
    "plt.ylabel(\"Frequency\")\n",
    "# plt.savefig(\"CF MAE Histogram.jpg\", bbox_inches=\"tight\")\n",
    "plt.show()"
   ]
  },
  {
   "cell_type": "code",
   "execution_count": 6,
   "metadata": {},
   "outputs": [
    {
     "data": {
      "image/png": "[encoded data removed]",
      "text/plain": [
       "<Figure size 432x288 with 1 Axes>"
      ]
     },
     "metadata": {
      "needs_background": "light"
     },
     "output_type": "display_data"
    }
   ],
   "source": [
    "with open(\"Analysis cf_RMSE.txt\", \"w\") as f:\n",
    "    f.write(\"Min: \" + str(np.min(cf_mse**0.5)) + \"\\n\")\n",
    "    f.write(\"Max: \" + str(np.max(cf_mse**0.5)) + \"\\n\")\n",
    "    f.write(\"Mean: \" + str(np.mean(cf_mse**0.5)) + \"\\n\")\n",
    "    f.write(\"Variance: \" + str(np.var(cf_mse**0.5)) + \"\\n\")\n",
    "\n",
    "# plot histogram of mse\n",
    "plt.hist(cf_mse**0.5, bins=20, edgecolor='black', linewidth=1.2)\n",
    "plt.title(\"Histogram of RMSE of CF\")\n",
    "plt.xlabel(\"RMSE\")\n",
    "plt.ylabel(\"Frequency\")\n",
    "# plt.savefig(\"RMSE Hisogram of CF.jpg\", bbox_inches='tight')\n",
    "plt.show()"
   ]
  },
  {
   "cell_type": "code",
   "execution_count": null,
   "metadata": {},
   "outputs": [],
   "source": []
  }
 ],
 "metadata": {
  "kernelspec": {
   "display_name": "venv",
   "language": "python",
   "name": "venv"
  },
  "language_info": {
   "codemirror_mode": {
    "name": "ipython",
    "version": 3
   },
   "file_extension": ".py",
   "mimetype": "text/x-python",
   "name": "python",
   "nbconvert_exporter": "python",
   "pygments_lexer": "ipython3",
   "version": "3.7.4"
  },
  "orig_nbformat": 4
 },
 "nbformat": 4,
 "nbformat_minor": 2
}
