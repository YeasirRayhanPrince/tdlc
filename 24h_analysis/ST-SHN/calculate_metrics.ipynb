{
 "cells": [
  {
   "cell_type": "code",
   "execution_count": 1,
   "metadata": {},
   "outputs": [],
   "source": [
    "import numpy as np\n",
    "import matplotlib.pyplot as plt\n",
    "import pickle\n",
    "import json\n",
    "import os"
   ]
  },
  {
   "cell_type": "code",
   "execution_count": 2,
   "metadata": {},
   "outputs": [],
   "source": [
    "from sklearn.metrics import mean_squared_error\n",
    "from sklearn.metrics import mean_absolute_error\n",
    "from sklearn.metrics import accuracy_score\n",
    "from sklearn.metrics import f1_score"
   ]
  },
  {
   "cell_type": "code",
   "execution_count": 5,
   "metadata": {},
   "outputs": [
    {
     "data": {
      "text/plain": [
       "[1,\n",
       " 14,\n",
       " 15,\n",
       " 16,\n",
       " 19,\n",
       " 2,\n",
       " 21,\n",
       " 22,\n",
       " 24,\n",
       " 25,\n",
       " 26,\n",
       " 27,\n",
       " 28,\n",
       " 29,\n",
       " 3,\n",
       " 30,\n",
       " 31,\n",
       " 32,\n",
       " 35,\n",
       " 38,\n",
       " 4,\n",
       " 40,\n",
       " 42,\n",
       " 43,\n",
       " 44,\n",
       " 46,\n",
       " 49,\n",
       " 51,\n",
       " 53,\n",
       " 58,\n",
       " 6,\n",
       " 61,\n",
       " 63,\n",
       " 66,\n",
       " 67,\n",
       " 68,\n",
       " 69,\n",
       " 7,\n",
       " 70,\n",
       " 71,\n",
       " 73,\n",
       " 77,\n",
       " 8]"
      ]
     },
     "execution_count": 5,
     "metadata": {},
     "output_type": "execute_result"
    }
   ],
   "source": [
    "files = os.listdir('Metrics/')\n",
    "files = [int(f.split(\".\")[0]) for f in files]\n",
    "files"
   ]
  },
  {
   "cell_type": "code",
   "execution_count": 9,
   "metadata": {},
   "outputs": [
    {
     "name": "stdout",
     "output_type": "stream",
     "text": [
      "Low:  4\n",
      "Medium:  19\n",
      "High:  20\n"
     ]
    }
   ],
   "source": [
    "group3 = {\"low\" : [55, 76, 12, 51, 74, 9, 10, 72, 13, 52, 17, 64, 54, 57, 11, 56, 70, 50, 18, 75, 65, 59, 47, 5, 60, 4, 15, 62],\n",
    "            \"medium\" : [16, 31, 48, 58, 61, 30, 63, 2, 34, 45, 33, 41, 21, 53, 36, 20, 19, 73, 14, 37, 46, 39, 49, 22, 7, 77, 3, 40],\n",
    "            \"high\" : [66, 24, 28, 35, 42, 69, 6, 38, 68, 71, 25, 67, 1, 23, 44, 27, 29, 43, 8, 26, 32]\n",
    "            }\n",
    "\n",
    "# check how many of the files fall into each group\n",
    "low = 0\n",
    "medium = 0\n",
    "high = 0\n",
    "\n",
    "for f in files:\n",
    "    if f in group3[\"low\"]:\n",
    "        low += 1\n",
    "    elif f in group3[\"medium\"]:\n",
    "        medium += 1\n",
    "    elif f in group3[\"high\"]:\n",
    "        high += 1\n",
    "\n",
    "print(\"Low: \", low)\n",
    "print(\"Medium: \", medium)\n",
    "print(\"High: \", high)"
   ]
  },
  {
   "cell_type": "code",
   "execution_count": 10,
   "metadata": {},
   "outputs": [
    {
     "name": "stdout",
     "output_type": "stream",
     "text": [
      "Very Low:  1\n",
      "Low:  3\n",
      "Medium:  12\n",
      "High:  7\n",
      "Very High:  20\n"
     ]
    }
   ],
   "source": [
    "group5 = {\"very_low\" : [55, 76, 12, 51, 74, 9, 10, 72, 13, 52, 17, 64],\n",
    "            \"low\" : [54, 57, 11, 56, 70, 50, 18, 75, 65, 59, 47, 5, 60, 4, 15, 62],\n",
    "            \"medium\" : [16, 31, 48, 58, 61, 30, 63, 2, 34, 45, 33, 41, 21, 53, 36, 20, 19, 73, 14],\n",
    "            \"high\" : [37, 46, 39, 49, 22, 7, 77, 3, 40],\n",
    "            \"very_high\" : [66, 24, 28, 35, 42, 69, 6, 38, 68, 71, 25, 67, 1, 23, 44, 27, 29, 43, 8, 26, 32]\n",
    "            }\n",
    "\n",
    "# check how many of the files fall into each group\n",
    "very_low = 0\n",
    "low = 0\n",
    "medium = 0\n",
    "high = 0\n",
    "very_high = 0\n",
    "\n",
    "for f in files:\n",
    "    if f in group5[\"very_low\"]:\n",
    "        very_low += 1\n",
    "    elif f in group5[\"low\"]:\n",
    "        low += 1\n",
    "    elif f in group5[\"medium\"]:\n",
    "        medium += 1\n",
    "    elif f in group5[\"high\"]:\n",
    "        high += 1\n",
    "    elif f in group5[\"very_high\"]:\n",
    "        very_high += 1\n",
    "\n",
    "print(\"Very Low: \", very_low)\n",
    "print(\"Low: \", low)\n",
    "print(\"Medium: \", medium)\n",
    "print(\"High: \", high)\n",
    "print(\"Very High: \", very_high)"
   ]
  },
  {
   "cell_type": "code",
   "execution_count": 17,
   "metadata": {},
   "outputs": [
    {
     "name": "stdout",
     "output_type": "stream",
     "text": [
      "[ 0.32841744  0.79615083  0.38094827  1.66222422 -1.          0.53894678\n",
      "  0.46915076  0.84810562 -1.         -1.         -1.         -1.\n",
      " -1.          0.63216623  0.42125288  1.02957843 -1.         -1.\n",
      "  0.56252497 -1.          0.99557728  0.56847381 -1.          0.6745708\n",
      "  0.52842548  0.72821154  0.35006806  0.79764644  0.92955836  0.52887645\n",
      "  0.88001534  0.76255226 -1.         -1.          0.65562333 -1.\n",
      " -1.          0.6813939  -1.          1.11081026 -1.          0.75652537\n",
      "  0.79794134  0.52727384 -1.          0.67871676 -1.         -1.\n",
      "  0.74819635 -1.          1.00086979 -1.          0.53801544 -1.\n",
      " -1.         -1.         -1.          0.55244637 -1.         -1.\n",
      "  0.65606526 -1.          0.86846728 -1.         -1.          0.83546356\n",
      "  0.71388332  0.76891209  0.37528224  0.39570477  0.63414728 -1.\n",
      "  0.53051819 -1.         -1.         -1.          0.47387905]\n",
      "[ 0.17665072  0.91789315  0.13579931 12.29344557 -1.          0.54838536\n",
      "  0.15670675  1.68883753 -1.         -1.         -1.         -1.\n",
      " -1.          0.42879784  0.19095424  4.40902077 -1.         -1.\n",
      "  0.38206206 -1.          0.98594186  0.37505832 -1.          0.63979454\n",
      "  0.2396934   0.78860894  0.10381023  1.11227351  1.12508343  0.32512736\n",
      "  1.88655223  1.33483256 -1.         -1.          0.54262987 -1.\n",
      " -1.          0.87830662 -1.          2.82436292 -1.          1.32037998\n",
      "  1.417113    0.37435525 -1.          0.97804572 -1.         -1.\n",
      "  1.28884495 -1.          1.3956009  -1.          0.33802137 -1.\n",
      " -1.         -1.         -1.          0.3786542  -1.         -1.\n",
      "  0.76418538 -1.          1.55114333 -1.         -1.          1.10745077\n",
      "  0.93077907  1.2564284   0.04588473  0.05592141  0.82748416 -1.\n",
      "  1.70125437 -1.         -1.         -1.          0.35640122]\n"
     ]
    }
   ],
   "source": [
    "# initialize an array with -1 for size 77\n",
    "# this will be used to store the metrics for each file\n",
    "stshn_mae = np.full((77), -1.0)\n",
    "stshn_mse = np.full((77), -1.0)\n",
    "\n",
    "# load the metrics for each file\n",
    "for f in files:\n",
    "    with open('Metrics/' + str(f) + '.txt') as file:\n",
    "        lines = file.readlines()\n",
    "        lines = lines[0].split(\" \")\n",
    "        stshn_mae[f-1] = float(lines[0])\n",
    "        stshn_mse[f-1] = float(lines[1]) * float(lines[1])\n",
    "\n",
    "print(stshn_mae)\n",
    "print(stshn_mse)"
   ]
  },
  {
   "cell_type": "code",
   "execution_count": 18,
   "metadata": {},
   "outputs": [],
   "source": [
    "with open(\"stshn_mae.pkl\", \"wb\") as f:\n",
    "    pickle.dump(stshn_mae, f)\n",
    "\n",
    "with open(\"stshn_mse.pkl\", \"wb\") as f:\n",
    "    pickle.dump(stshn_mse, f)"
   ]
  },
  {
   "attachments": {},
   "cell_type": "markdown",
   "metadata": {},
   "source": [
    "# Analysis"
   ]
  },
  {
   "cell_type": "code",
   "execution_count": 2,
   "metadata": {},
   "outputs": [],
   "source": [
    "stshn_mae = pickle.load(open(\"stshn_mae.pkl\", \"rb\"))\n",
    "stshn_mse = pickle.load(open(\"stshn_mse.pkl\", \"rb\"))"
   ]
  },
  {
   "cell_type": "code",
   "execution_count": 3,
   "metadata": {},
   "outputs": [
    {
     "data": {
      "image/png": "[encoded data removed]",
      "text/plain": [
       "<Figure size 432x288 with 1 Axes>"
      ]
     },
     "metadata": {
      "needs_background": "light"
     },
     "output_type": "display_data"
    }
   ],
   "source": [
    "temp_stshn_mae = stshn_mae[stshn_mae != -1.0]\n",
    "\n",
    "with open(\"Analysis ST-SHN_MAE.txt\", \"w\") as f:\n",
    "    f.write(\"Min: \" + str(np.min(temp_stshn_mae)) + \"\\n\")\n",
    "    f.write(\"Max: \" + str(np.max(temp_stshn_mae)) + \"\\n\")\n",
    "    f.write(\"Mean: \" + str(np.mean(temp_stshn_mae)) + \"\\n\")\n",
    "    f.write(\"Variance: \" + str(np.var(temp_stshn_mae)) + \"\\n\")\n",
    "\n",
    "# plot histogram\n",
    "plt.hist(temp_stshn_mae, bins=20, edgecolor=\"black\", linewidth=1.2)\n",
    "plt.title(\"Histogram of MAE\")\n",
    "plt.xlabel(\"MAE\")\n",
    "plt.ylabel(\"Frequency\")\n",
    "plt.savefig(\"ST-HSL MAE Histogram.jpg\", bbox_inches=\"tight\")\n",
    "plt.show()"
   ]
  },
  {
   "cell_type": "code",
   "execution_count": 4,
   "metadata": {},
   "outputs": [
    {
     "data": {
      "image/png": "[encoded data removed]",
      "text/plain": [
       "<Figure size 432x288 with 1 Axes>"
      ]
     },
     "metadata": {
      "needs_background": "light"
     },
     "output_type": "display_data"
    }
   ],
   "source": [
    "temp_stshn_mse = stshn_mse[stshn_mse != -1.0]\n",
    "\n",
    "with open(\"Analysis ST-SHN_RMSE.txt\", \"w\") as f:\n",
    "    f.write(\"Min: \" + str(np.min(temp_stshn_mse**0.5)) + \"\\n\")\n",
    "    f.write(\"Max: \" + str(np.max(temp_stshn_mse**0.5)) + \"\\n\")\n",
    "    f.write(\"Mean: \" + str(np.mean(temp_stshn_mse**0.5)) + \"\\n\")\n",
    "    f.write(\"Variance: \" + str(np.var(temp_stshn_mse**0.5)) + \"\\n\")\n",
    "\n",
    "# plot histogram\n",
    "plt.hist(temp_stshn_mse**0.5, bins=20, edgecolor=\"black\", linewidth=1.2)\n",
    "plt.title(\"Histogram of RMSE\")\n",
    "plt.xlabel(\"RMSE\")\n",
    "plt.ylabel(\"Frequency\")\n",
    "plt.savefig(\"ST-HSL RMSE Histogram.jpg\", bbox_inches=\"tight\")\n",
    "plt.show()"
   ]
  },
  {
   "cell_type": "code",
   "execution_count": null,
   "metadata": {},
   "outputs": [],
   "source": []
  }
 ],
 "metadata": {
  "kernelspec": {
   "display_name": "venv",
   "language": "python",
   "name": "venv"
  },
  "language_info": {
   "codemirror_mode": {
    "name": "ipython",
    "version": 3
   },
   "file_extension": ".py",
   "mimetype": "text/x-python",
   "name": "python",
   "nbconvert_exporter": "python",
   "pygments_lexer": "ipython3",
   "version": "3.7.4"
  },
  "orig_nbformat": 4
 },
 "nbformat": 4,
 "nbformat_minor": 2
}
