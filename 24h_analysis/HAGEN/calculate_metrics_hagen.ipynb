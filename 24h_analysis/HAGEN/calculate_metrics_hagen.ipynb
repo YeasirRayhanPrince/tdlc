{
 "cells": [
  {
   "cell_type": "code",
   "execution_count": 1,
   "metadata": {},
   "outputs": [],
   "source": [
    "import numpy as np\n",
    "import matplotlib.pyplot as plt\n",
    "import pickle"
   ]
  },
  {
   "attachments": {},
   "cell_type": "markdown",
   "metadata": {},
   "source": [
    "# MAE MSE"
   ]
  },
  {
   "cell_type": "code",
   "execution_count": 2,
   "metadata": {},
   "outputs": [
    {
     "name": "stdout",
     "output_type": "stream",
     "text": [
      "MAE:  [0.49971889 0.49202159 0.50050032 0.50058112 0.4820634  0.50993068\n",
      " 0.49797982 0.52235434 0.06514094 0.49296119 0.50233997 0.48430279\n",
      " 0.49465985 0.49917989 0.50919439 0.52361287 0.47818036 0.49585864\n",
      " 0.50165139 0.47619199 0.52270723 0.48907342 0.49025501 0.49814144\n",
      " 0.50124477 0.49001559 0.49021804 0.50964871 0.49740386 0.50860768\n",
      " 0.4941518  0.51349307 0.51152963 0.49474582 0.47038334 0.48590045\n",
      " 0.47896608 0.4909135  0.49266933 0.48498621 0.5050268  0.49697102\n",
      " 0.51239959 0.47547633 0.53574081 0.50431458 0.46382936 0.48735799\n",
      " 0.50964828 0.51959959 0.50955888 0.4849269  0.5150961  0.48781962\n",
      " 0.4791105  0.50298599 0.4965167  0.497452   0.49580319 0.51447694\n",
      " 0.50443579 0.48957502 0.49391615 0.46664558 0.50813143 0.50294516\n",
      " 0.50146656 0.50227979 0.50492622 0.51079248 0.5047169  0.50473323\n",
      " 0.50738998 0.51050879 0.50275088 0.49092725 0.49884721]\n",
      "MSE:  [0.29871843 0.28885073 0.29765864 0.30230026 0.27916021 0.30997707\n",
      " 0.29703321 0.3250376  0.06514083 0.31556806 0.29901627 0.28789195\n",
      " 0.28940788 0.29880956 0.31027637 0.33143755 0.27349814 0.29760109\n",
      " 0.30216718 0.27333426 0.32538764 0.28823032 0.28899832 0.30012505\n",
      " 0.3055372  0.28910222 0.29050099 0.30532888 0.29387955 0.30516648\n",
      " 0.28859197 0.30884268 0.31344105 0.29136289 0.2694869  0.28397945\n",
      " 0.27670373 0.29480004 0.29149167 0.28687587 0.30231536 0.29411895\n",
      " 0.31542387 0.26901382 0.3306284  0.30478729 0.26309268 0.27983874\n",
      " 0.30381423 0.32378736 0.30765053 0.28763737 0.31021548 0.2880646\n",
      " 0.27751757 0.30262248 0.2934806  0.29631336 0.29322062 0.30821455\n",
      " 0.30662536 0.28270485 0.29249491 0.27393269 0.30054251 0.30296195\n",
      " 0.30413004 0.29639106 0.30020892 0.30546094 0.29862938 0.30128432\n",
      " 0.29830246 0.30209594 0.30211265 0.2922012  0.29845549]\n"
     ]
    }
   ],
   "source": [
    "hagen_mae = np.zeros(77)\n",
    "hagen_mse = np.zeros(77)\n",
    "\n",
    "# file_path = \"Hagen_mae_mse.txt\"\n",
    "file_path = \"Hagen_mae_mse_24h.txt\"\n",
    "\n",
    "\n",
    "# store the lines of the file in a list\n",
    "with open(file_path, 'r') as f:\n",
    "    lines = f.readlines()\n",
    "\n",
    "for line in lines:\n",
    "    mae = float(line.split()[1])\n",
    "    mse = float(line.split()[2])\n",
    "    hagen_mae[int(line.split()[0])] = mae\n",
    "    hagen_mse[int(line.split()[0])] = mse\n",
    "\n",
    "print(\"MAE: \", hagen_mae)\n",
    "print(\"MSE: \", hagen_mse)"
   ]
  },
  {
   "cell_type": "code",
   "execution_count": 3,
   "metadata": {},
   "outputs": [],
   "source": [
    "# save the mae and mse of hagen\n",
    "with open(\"hagen_mae.pkl\", \"wb\") as f:\n",
    "    pickle.dump(hagen_mae, f)\n",
    "    \n",
    "with open(\"hagen_mse.pkl\", \"wb\") as f:\n",
    "    pickle.dump(hagen_mse, f)"
   ]
  },
  {
   "attachments": {},
   "cell_type": "markdown",
   "metadata": {},
   "source": [
    "# Analysis"
   ]
  },
  {
   "cell_type": "code",
   "execution_count": 4,
   "metadata": {},
   "outputs": [
    {
     "data": {
      "image/png": "[encoded data removed]",
      "text/plain": [
       "<Figure size 432x288 with 1 Axes>"
      ]
     },
     "metadata": {
      "needs_background": "light"
     },
     "output_type": "display_data"
    }
   ],
   "source": [
    "with open(\"Analysis hagen_MAE.txt\", \"w\") as f:\n",
    "    f.write(\"Min: \" + str(np.min(hagen_mae)) + \"\\n\")\n",
    "    f.write(\"Max: \" + str(np.max(hagen_mae)) + \"\\n\")\n",
    "    f.write(\"Mean: \" + str(np.mean(hagen_mae)) + \"\\n\")\n",
    "    f.write(\"Variance: \" + str(np.var(hagen_mae)) + \"\\n\")\n",
    "\n",
    "# plot histogram\n",
    "plt.hist(hagen_mae, bins=20, edgecolor=\"black\", linewidth=1.2)\n",
    "plt.title(\"Histogram of MAE\")\n",
    "plt.xlabel(\"MAE\")\n",
    "plt.ylabel(\"Frequency\")\n",
    "# plt.savefig(\"hagen MAE Histogram.jpg\", bbox_inches=\"tight\")\n",
    "plt.show()"
   ]
  },
  {
   "cell_type": "code",
   "execution_count": 5,
   "metadata": {},
   "outputs": [
    {
     "data": {
      "image/png": "[encoded data removed]",
      "text/plain": [
       "<Figure size 432x288 with 1 Axes>"
      ]
     },
     "metadata": {
      "needs_background": "light"
     },
     "output_type": "display_data"
    }
   ],
   "source": [
    "with open(\"Analysis hagen_RMSE.txt\", \"w\") as f:\n",
    "    f.write(\"Min: \" + str(np.min(hagen_mse**0.5)) + \"\\n\")\n",
    "    f.write(\"Max: \" + str(np.max(hagen_mse**0.5)) + \"\\n\")\n",
    "    f.write(\"Mean: \" + str(np.mean(hagen_mse**0.5)) + \"\\n\")\n",
    "    f.write(\"Variance: \" + str(np.var(hagen_mse**0.5)) + \"\\n\")\n",
    "\n",
    "# plot histogram of mse\n",
    "plt.hist(hagen_mse**0.5, bins=20, edgecolor='black', linewidth=1.2)\n",
    "plt.title(\"Histogram of RMSE of hagen\")\n",
    "plt.xlabel(\"RMSE\")\n",
    "plt.ylabel(\"Frequency\")\n",
    "# plt.savefig(\"RMSE Hisogram of hagen.jpg\", bbox_inches='tight')\n",
    "plt.show()"
   ]
  },
  {
   "cell_type": "code",
   "execution_count": null,
   "metadata": {},
   "outputs": [],
   "source": []
  }
 ],
 "metadata": {
  "kernelspec": {
   "display_name": "venv",
   "language": "python",
   "name": "venv"
  },
  "language_info": {
   "codemirror_mode": {
    "name": "ipython",
    "version": 3
   },
   "file_extension": ".py",
   "mimetype": "text/x-python",
   "name": "python",
   "nbconvert_exporter": "python",
   "pygments_lexer": "ipython3",
   "version": "3.7.4"
  },
  "orig_nbformat": 4
 },
 "nbformat": 4,
 "nbformat_minor": 2
}
