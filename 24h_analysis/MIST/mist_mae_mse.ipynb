{
 "cells": [
  {
   "cell_type": "code",
   "execution_count": 1,
   "metadata": {},
   "outputs": [],
   "source": [
    "import numpy as np\n",
    "import matplotlib.pyplot as plt\n",
    "import pickle"
   ]
  },
  {
   "cell_type": "code",
   "execution_count": 2,
   "metadata": {},
   "outputs": [],
   "source": [
    "from sklearn.metrics import mean_squared_error\n",
    "from sklearn.metrics import mean_absolute_error\n",
    "from sklearn.metrics import accuracy_score\n",
    "from sklearn.metrics import f1_score"
   ]
  },
  {
   "attachments": {},
   "cell_type": "markdown",
   "metadata": {},
   "source": [
    "# MAE MSE"
   ]
  },
  {
   "cell_type": "code",
   "execution_count": 4,
   "metadata": {},
   "outputs": [
    {
     "name": "stdout",
     "output_type": "stream",
     "text": [
      "77\n",
      "77\n"
     ]
    }
   ],
   "source": [
    "mist_mae = []\n",
    "mist_mse = []\n",
    "\n",
    "for comm in range(1, 78):\n",
    "\n",
    "    # with open(mist_path + str(comm) + \"_7.txt\", \"r\") as f:\n",
    "    with open(\"mist_actual_metrics_v2/\" + str(comm) + \".txt\", \"r\") as f:\n",
    "        lines = f.readlines()\n",
    "        lines = lines[0].split(\" \")\n",
    "        mist_mae.append(float(lines[0]))\n",
    "        mist_mse.append(float(lines[1]))\n",
    "\n",
    "mist_mae = np.array(mist_mae)\n",
    "mist_mse = np.array(mist_mse)\n",
    "\n",
    "print(len(mist_mae))\n",
    "print(len(mist_mse))"
   ]
  },
  {
   "cell_type": "code",
   "execution_count": 5,
   "metadata": {},
   "outputs": [],
   "source": [
    "# save the mae and mse of mist\n",
    "with open(\"mist_actual_mae_v2.pkl\", \"wb\") as f:\n",
    "    pickle.dump(mist_mae, f)\n",
    "    \n",
    "with open(\"mist_actual_mse_v2.pkl\", \"wb\") as f:\n",
    "    pickle.dump(mist_mse, f)"
   ]
  },
  {
   "attachments": {},
   "cell_type": "markdown",
   "metadata": {},
   "source": [
    "# Analysis"
   ]
  },
  {
   "cell_type": "code",
   "execution_count": 2,
   "metadata": {},
   "outputs": [],
   "source": [
    "mist_mae = pickle.load(open(\"mist_actual_mae_v2.pkl\", \"rb\"))\n",
    "mist_mse = pickle.load(open(\"mist_actual_mse_v2.pkl\", \"rb\"))"
   ]
  },
  {
   "cell_type": "code",
   "execution_count": 3,
   "metadata": {},
   "outputs": [
    {
     "data": {
      "image/png": "[encoded data removed]",
      "text/plain": [
       "<Figure size 432x288 with 1 Axes>"
      ]
     },
     "metadata": {
      "needs_background": "light"
     },
     "output_type": "display_data"
    }
   ],
   "source": [
    "with open(\"Analysis mist_MAE.txt\", \"w\") as f:\n",
    "    f.write(\"Min: \" + str(np.min(mist_mae)) + \"\\n\")\n",
    "    f.write(\"Max: \" + str(np.max(mist_mae)) + \"\\n\")\n",
    "    f.write(\"Mean: \" + str(np.mean(mist_mae)) + \"\\n\")\n",
    "    f.write(\"Variance: \" + str(np.var(mist_mae)) + \"\\n\")\n",
    "\n",
    "# plot histogram\n",
    "plt.hist(mist_mae, bins=20, edgecolor=\"black\", linewidth=1.2)\n",
    "plt.title(\"Histogram of MAE\")\n",
    "plt.xlabel(\"MAE\")\n",
    "plt.ylabel(\"Frequency\")\n",
    "plt.savefig(\"Mist MAE Histogram.jpg\", bbox_inches=\"tight\")\n",
    "plt.show()"
   ]
  },
  {
   "cell_type": "code",
   "execution_count": 4,
   "metadata": {},
   "outputs": [
    {
     "data": {
      "image/png": "[encoded data removed]",
      "text/plain": [
       "<Figure size 432x288 with 1 Axes>"
      ]
     },
     "metadata": {
      "needs_background": "light"
     },
     "output_type": "display_data"
    }
   ],
   "source": [
    "with open(\"Analysis mist_RMSE.txt\", \"w\") as f:\n",
    "    f.write(\"Min: \" + str(np.min(mist_mse**0.5)) + \"\\n\")\n",
    "    f.write(\"Max: \" + str(np.max(mist_mse**0.5)) + \"\\n\")\n",
    "    f.write(\"Mean: \" + str(np.mean(mist_mse**0.5)) + \"\\n\")\n",
    "    f.write(\"Variance: \" + str(np.var(mist_mse**0.5)) + \"\\n\")\n",
    "\n",
    "# plot histogram of mse\n",
    "plt.hist(mist_mse**0.5, bins=20, edgecolor='black', linewidth=1.2)\n",
    "plt.title(\"Histogram of RMSE of mist\")\n",
    "plt.xlabel(\"RMSE\")\n",
    "plt.ylabel(\"Frequency\")\n",
    "plt.savefig(\"RMSE Hisogram of mist.jpg\", bbox_inches='tight')\n",
    "plt.show()"
   ]
  },
  {
   "attachments": {},
   "cell_type": "markdown",
   "metadata": {},
   "source": [
    "# F1 Scores"
   ]
  },
  {
   "cell_type": "code",
   "execution_count": 11,
   "metadata": {},
   "outputs": [
    {
     "data": {
      "text/plain": [
       "((3850, 4), (3850, 4))"
      ]
     },
     "execution_count": 11,
     "metadata": {},
     "output_type": "execute_result"
    }
   ],
   "source": [
    "y_true_path = \"trues_after_threshold_1d_run3.pkl\"\n",
    "y_pred_path = \"preds_after_threshold_1d_run3.pkl\"\n",
    "\n",
    "y_true = pickle.load(open(y_true_path, \"rb\"))\n",
    "y_pred = pickle.load(open(y_pred_path, \"rb\"))\n",
    "\n",
    "y_true.shape, y_pred.shape"
   ]
  },
  {
   "cell_type": "code",
   "execution_count": 12,
   "metadata": {},
   "outputs": [
    {
     "data": {
      "text/plain": [
       "((50, 77, 4), (50, 77, 4))"
      ]
     },
     "execution_count": 12,
     "metadata": {},
     "output_type": "execute_result"
    }
   ],
   "source": [
    "y_true = y_true.reshape(-1, 77, 4)\n",
    "y_pred = y_pred.reshape(-1, 77, 4)\n",
    "\n",
    "y_true.shape, y_pred.shape"
   ]
  },
  {
   "cell_type": "code",
   "execution_count": 13,
   "metadata": {},
   "outputs": [
    {
     "name": "stdout",
     "output_type": "stream",
     "text": [
      "Accuracy:  0.5487012987012987\n"
     ]
    }
   ],
   "source": [
    "# print accuracy\n",
    "print(\"Accuracy: \", accuracy_score(y_true.reshape(-1, 1), y_pred.reshape(-1, 1)))"
   ]
  },
  {
   "cell_type": "code",
   "execution_count": 14,
   "metadata": {},
   "outputs": [
    {
     "name": "stdout",
     "output_type": "stream",
     "text": [
      "Community:  0  Macro:  0.7380763598033637  Micro:  0.787878787878788\n",
      "Community:  1  Macro:  0.7382309941520467  Micro:  0.7753846153846154\n",
      "Community:  2  Macro:  0.679937156545731  Micro:  0.7538940809968847\n",
      "Community:  3  Macro:  0.5578082662075082  Micro:  0.6164874551971326\n",
      "Community:  4  Macro:  0.42589118198874293  Micro:  0.5\n",
      "Community:  5  Macro:  0.7214405072109131  Micro:  0.7870967741935483\n",
      "Community:  6  Macro:  0.6759970415884394  Micro:  0.7905405405405406\n",
      "Community:  7  Macro:  0.7893708922426468  Micro:  0.8338192419825073\n",
      "Community:  8  Macro:  0.15006096778333977  Micro:  0.1829268292682927\n",
      "Community:  9  Macro:  0.4503449938232547  Micro:  0.50199203187251\n",
      "Community:  10  Macro:  0.3752907942838152  Micro:  0.4444444444444445\n",
      "Community:  11  Macro:  0.17325428194993414  Micro:  0.19883040935672516\n",
      "Community:  12  Macro:  0.30335576259489305  Micro:  0.33476394849785407\n",
      "Community:  13  Macro:  0.6054150527834739  Micro:  0.6394557823129251\n",
      "Community:  14  Macro:  0.6604599104599105  Micro:  0.7161290322580646\n",
      "Community:  15  Macro:  0.6615185418561506  Micro:  0.731391585760518\n",
      "Community:  16  Macro:  0.45611820611820614  Micro:  0.5078125\n",
      "Community:  17  Macro:  0.26970638401559455  Micro:  0.3368421052631579\n",
      "Community:  18  Macro:  0.8508544956608337  Micro:  0.8700564971751412\n",
      "Community:  19  Macro:  0.5117389060887513  Micro:  0.5333333333333333\n",
      "Community:  20  Macro:  0.5596109792168592  Micro:  0.6099290780141843\n",
      "Community:  21  Macro:  0.7285793986375382  Micro:  0.7828746177370031\n",
      "Community:  22  Macro:  0.9624407256955121  Micro:  0.9637305699481865\n",
      "Community:  23  Macro:  0.7848905972797162  Micro:  0.8387096774193548\n",
      "Community:  24  Macro:  0.992372706658421  Micro:  0.9924433249370278\n",
      "Community:  25  Macro:  0.9168519686554559  Micro:  0.921832884097035\n",
      "Community:  26  Macro:  0.8766632319707444  Micro:  0.8826815642458101\n",
      "Community:  27  Macro:  0.9081447226608518  Micro:  0.9189189189189189\n",
      "Community:  28  Macro:  0.9563717894376  Micro:  0.9583333333333334\n",
      "Community:  29  Macro:  0.8489452798663326  Micro:  0.8538681948424068\n",
      "Community:  30  Macro:  0.6149274524624664  Micro:  0.6620689655172414\n",
      "Community:  31  Macro:  0.8410075370354327  Micro:  0.8636363636363636\n",
      "Community:  32  Macro:  0.5834428677376208  Micro:  0.6458333333333334\n",
      "Community:  33  Macro:  0.46778645331276913  Micro:  0.5241935483870968\n",
      "Community:  34  Macro:  0.6178786737864814  Micro:  0.6799999999999999\n",
      "Community:  35  Macro:  0.22098057541236205  Micro:  0.26943005181347146\n",
      "Community:  36  Macro:  0.3598756538686748  Micro:  0.37190082644628103\n",
      "Community:  37  Macro:  0.7502443792766373  Micro:  0.7767584097859327\n",
      "Community:  38  Macro:  0.5174248150438626  Micro:  0.5608856088560885\n",
      "Community:  39  Macro:  0.6898150868739105  Micro:  0.7220447284345047\n",
      "Community:  40  Macro:  0.436650780913076  Micro:  0.5528455284552847\n",
      "Community:  41  Macro:  0.7174590874707109  Micro:  0.7499999999999999\n",
      "Community:  42  Macro:  0.9284161054994389  Micro:  0.9361702127659575\n",
      "Community:  43  Macro:  0.8824201522264903  Micro:  0.9041095890410958\n",
      "Community:  44  Macro:  0.47505702183121545  Micro:  0.49042145593869724\n",
      "Community:  45  Macro:  0.769830812838991  Micro:  0.787878787878788\n",
      "Community:  46  Macro:  0.16337719298245615  Micro:  0.1798941798941799\n",
      "Community:  47  Macro:  0.47621201722093975  Micro:  0.5078125\n",
      "Community:  48  Macro:  0.884670324943745  Micro:  0.8980716253443526\n",
      "Community:  49  Macro:  0.4705474705474706  Micro:  0.5354330708661417\n",
      "Community:  50  Macro:  0.5284972245468146  Micro:  0.5869565217391305\n",
      "Community:  51  Macro:  0.4843316321962575  Micro:  0.5083333333333333\n",
      "Community:  52  Macro:  0.788727458225158  Micro:  0.817910447761194\n",
      "Community:  53  Macro:  0.4942279942279943  Micro:  0.5966386554621849\n",
      "Community:  54  Macro:  0.25855921855921854  Micro:  0.326530612244898\n",
      "Community:  55  Macro:  0.5462473751947436  Micro:  0.5631768953068592\n",
      "Community:  56  Macro:  0.356777716874323  Micro:  0.43946188340807174\n",
      "Community:  57  Macro:  0.6676054614651106  Micro:  0.6976744186046512\n",
      "Community:  58  Macro:  0.40152783380395324  Micro:  0.4481327800829875\n",
      "Community:  59  Macro:  0.527387187751813  Micro:  0.5608856088560886\n",
      "Community:  60  Macro:  0.8205004006934054  Micro:  0.8338192419825073\n",
      "Community:  61  Macro:  0.38278935258958  Micro:  0.43103448275862066\n",
      "Community:  62  Macro:  0.6168136504551278  Micro:  0.6413793103448276\n",
      "Community:  63  Macro:  0.403136858082469  Micro:  0.43902439024390244\n",
      "Community:  64  Macro:  0.5251995705553343  Micro:  0.6587301587301588\n",
      "Community:  65  Macro:  0.8279983970971606  Micro:  0.8439306358381503\n",
      "Community:  66  Macro:  0.8898090792111799  Micro:  0.8980716253443526\n",
      "Community:  67  Macro:  0.8793982721173443  Micro:  0.888888888888889\n",
      "Community:  68  Macro:  0.9245307977628565  Micro:  0.9304812834224598\n",
      "Community:  69  Macro:  0.6763288994075924  Micro:  0.7249190938511327\n",
      "Community:  70  Macro:  0.8958477265541751  Micro:  0.9041095890410958\n",
      "Community:  71  Macro:  0.3457337098001522  Micro:  0.38461538461538464\n",
      "Community:  72  Macro:  0.7530585356672314  Micro:  0.7767584097859327\n",
      "Community:  73  Macro:  0.259437656641604  Micro:  0.32460732984293195\n",
      "Community:  74  Macro:  0.5452493795436401  Micro:  0.5836298932384342\n",
      "Community:  75  Macro:  0.5821280426694074  Micro:  0.6111111111111112\n",
      "Community:  76  Macro:  0.5410109498344793  Micro:  0.6142857142857142\n"
     ]
    }
   ],
   "source": [
    "for i in range(77):\n",
    "    true = y_true[:, i, :]\n",
    "    pred = y_pred[:, i, :]\n",
    "    macro = f1_score(true, pred, average=\"macro\")\n",
    "    micro = f1_score(true, pred, average=\"micro\")\n",
    "\n",
    "    # save in a text file\n",
    "    with open(\"f1_scores/\" + str(i) + \".txt\", \"w\") as f:\n",
    "        f.write(str(macro))\n",
    "        f.write(\" \")\n",
    "        f.write(str(micro))\n",
    "        f.close()\n",
    "\n",
    "    print(\"Community: \", i, \" Macro: \", macro, \" Micro: \", micro)"
   ]
  },
  {
   "cell_type": "code",
   "execution_count": 5,
   "metadata": {},
   "outputs": [
    {
     "name": "stdout",
     "output_type": "stream",
     "text": [
      "77\n",
      "77\n"
     ]
    }
   ],
   "source": [
    "deepcrime_macro = []\n",
    "deepcrime_micro = []\n",
    "\n",
    "for comm in range(0, 77):\n",
    "\n",
    "    # with open(deepcrime_path + str(comm) + \"_7.txt\", \"r\") as f:\n",
    "    with open(\"f1_scores/\" + str(comm) + \".txt\", \"r\") as f:\n",
    "        lines = f.readlines()\n",
    "        lines = lines[0].split(\" \")\n",
    "        deepcrime_macro.append(float(lines[0]))\n",
    "        deepcrime_micro.append(float(lines[1]))\n",
    "\n",
    "deepcrime_macro = np.array(deepcrime_macro)\n",
    "deepcrime_micro = np.array(deepcrime_micro)\n",
    "\n",
    "print(len(deepcrime_macro))\n",
    "print(len(deepcrime_micro))\n",
    "\n",
    "# save the mae and mse of deepcrime\n",
    "with open(\"dc_actual_macro_1d_default_aist_cats_run3.pkl\", \"wb\") as f:\n",
    "    pickle.dump(deepcrime_macro, f)\n",
    "    \n",
    "with open(\"dc_actual_micro_1d_default_aist_cats_run3.pkl\", \"wb\") as f:\n",
    "    pickle.dump(deepcrime_micro, f)"
   ]
  },
  {
   "cell_type": "code",
   "execution_count": null,
   "metadata": {},
   "outputs": [],
   "source": []
  }
 ],
 "metadata": {
  "kernelspec": {
   "display_name": "venv",
   "language": "python",
   "name": "venv"
  },
  "language_info": {
   "codemirror_mode": {
    "name": "ipython",
    "version": 3
   },
   "file_extension": ".py",
   "mimetype": "text/x-python",
   "name": "python",
   "nbconvert_exporter": "python",
   "pygments_lexer": "ipython3",
   "version": "3.7.4"
  },
  "orig_nbformat": 4
 },
 "nbformat": 4,
 "nbformat_minor": 2
}
