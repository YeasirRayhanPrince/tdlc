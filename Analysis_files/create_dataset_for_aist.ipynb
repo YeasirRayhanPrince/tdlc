{
 "cells": [
  {
   "cell_type": "code",
   "execution_count": 4,
   "metadata": {},
   "outputs": [],
   "source": [
    "import numpy as np\n",
    "import pandas as pd\n",
    "import os"
   ]
  },
  {
   "attachments": {},
   "cell_type": "markdown",
   "metadata": {},
   "source": [
    "# Generate from raw data"
   ]
  },
  {
   "cell_type": "code",
   "execution_count": 5,
   "metadata": {},
   "outputs": [
    {
     "data": {
      "text/html": [
       "<div>\n",
       "<style scoped>\n",
       "    .dataframe tbody tr th:only-of-type {\n",
       "        vertical-align: middle;\n",
       "    }\n",
       "\n",
       "    .dataframe tbody tr th {\n",
       "        vertical-align: top;\n",
       "    }\n",
       "\n",
       "    .dataframe thead th {\n",
       "        text-align: right;\n",
       "    }\n",
       "</style>\n",
       "<table border=\"1\" class=\"dataframe\">\n",
       "  <thead>\n",
       "    <tr style=\"text-align: right;\">\n",
       "      <th></th>\n",
       "      <th>ID</th>\n",
       "      <th>Date</th>\n",
       "      <th>Primary Type</th>\n",
       "      <th>Latitude</th>\n",
       "      <th>Longitude</th>\n",
       "      <th>Community Area</th>\n",
       "    </tr>\n",
       "  </thead>\n",
       "  <tbody>\n",
       "    <tr>\n",
       "      <th>0</th>\n",
       "      <td>11864018</td>\n",
       "      <td>09/24/2019 08:00:00 AM</td>\n",
       "      <td>DECEPTIVE PRACTICE</td>\n",
       "      <td>41.852248</td>\n",
       "      <td>-87.623786</td>\n",
       "      <td>33.0</td>\n",
       "    </tr>\n",
       "    <tr>\n",
       "      <th>1</th>\n",
       "      <td>11859805</td>\n",
       "      <td>10/13/2019 08:30:00 PM</td>\n",
       "      <td>THEFT</td>\n",
       "      <td>41.895732</td>\n",
       "      <td>-87.687784</td>\n",
       "      <td>24.0</td>\n",
       "    </tr>\n",
       "    <tr>\n",
       "      <th>2</th>\n",
       "      <td>11863808</td>\n",
       "      <td>10/05/2019 06:30:00 PM</td>\n",
       "      <td>THEFT</td>\n",
       "      <td>41.882002</td>\n",
       "      <td>-87.662287</td>\n",
       "      <td>28.0</td>\n",
       "    </tr>\n",
       "    <tr>\n",
       "      <th>3</th>\n",
       "      <td>11859727</td>\n",
       "      <td>10/13/2019 07:00:00 PM</td>\n",
       "      <td>CRIMINAL DAMAGE</td>\n",
       "      <td>41.946987</td>\n",
       "      <td>-87.669164</td>\n",
       "      <td>6.0</td>\n",
       "    </tr>\n",
       "    <tr>\n",
       "      <th>4</th>\n",
       "      <td>11859656</td>\n",
       "      <td>10/13/2019 02:10:00 PM</td>\n",
       "      <td>ASSAULT</td>\n",
       "      <td>41.975838</td>\n",
       "      <td>-87.659854</td>\n",
       "      <td>3.0</td>\n",
       "    </tr>\n",
       "  </tbody>\n",
       "</table>\n",
       "</div>"
      ],
      "text/plain": [
       "         ID                    Date        Primary Type   Latitude  Longitude  \\\n",
       "0  11864018  09/24/2019 08:00:00 AM  DECEPTIVE PRACTICE  41.852248 -87.623786   \n",
       "1  11859805  10/13/2019 08:30:00 PM               THEFT  41.895732 -87.687784   \n",
       "2  11863808  10/05/2019 06:30:00 PM               THEFT  41.882002 -87.662287   \n",
       "3  11859727  10/13/2019 07:00:00 PM     CRIMINAL DAMAGE  41.946987 -87.669164   \n",
       "4  11859656  10/13/2019 02:10:00 PM             ASSAULT  41.975838 -87.659854   \n",
       "\n",
       "   Community Area  \n",
       "0            33.0  \n",
       "1            24.0  \n",
       "2            28.0  \n",
       "3             6.0  \n",
       "4             3.0  "
      ]
     },
     "execution_count": 5,
     "metadata": {},
     "output_type": "execute_result"
    }
   ],
   "source": [
    "data_path = \"data_2019.csv\"\n",
    "data = pd.read_csv(data_path)\n",
    "data.head()"
   ]
  },
  {
   "cell_type": "code",
   "execution_count": 6,
   "metadata": {},
   "outputs": [
    {
     "data": {
      "text/plain": [
       "THEFT                                62484\n",
       "BATTERY                              49513\n",
       "CRIMINAL DAMAGE                      26681\n",
       "ASSAULT                              20619\n",
       "DECEPTIVE PRACTICE                   18975\n",
       "OTHER OFFENSE                        16794\n",
       "NARCOTICS                            15069\n",
       "BURGLARY                              9639\n",
       "MOTOR VEHICLE THEFT                   8977\n",
       "ROBBERY                               7994\n",
       "CRIMINAL TRESPASS                     6818\n",
       "WEAPONS VIOLATION                     6339\n",
       "OFFENSE INVOLVING CHILDREN            2413\n",
       "INTERFERENCE WITH PUBLIC OFFICER      1546\n",
       "PUBLIC PEACE VIOLATION                1520\n",
       "SEX OFFENSE                           1357\n",
       "CRIM SEXUAL ASSAULT                    913\n",
       "CRIMINAL SEXUAL ASSAULT                738\n",
       "PROSTITUTION                           681\n",
       "HOMICIDE                               508\n",
       "ARSON                                  376\n",
       "LIQUOR LAW VIOLATION                   232\n",
       "STALKING                               226\n",
       "CONCEALED CARRY LICENSE VIOLATION      217\n",
       "KIDNAPPING                             173\n",
       "INTIMIDATION                           163\n",
       "GAMBLING                               142\n",
       "OBSCENITY                               59\n",
       "HUMAN TRAFFICKING                       15\n",
       "PUBLIC INDECENCY                        11\n",
       "OTHER NARCOTIC VIOLATION                 8\n",
       "NON-CRIMINAL                             4\n",
       "Name: Primary Type, dtype: int64"
      ]
     },
     "execution_count": 6,
     "metadata": {},
     "output_type": "execute_result"
    }
   ],
   "source": [
    "# get the counts of primary type\n",
    "data[\"Primary Type\"].value_counts()"
   ]
  },
  {
   "cell_type": "code",
   "execution_count": 7,
   "metadata": {},
   "outputs": [
    {
     "data": {
      "text/plain": [
       "THEFT                 62484\n",
       "BATTERY               49513\n",
       "CRIMINAL DAMAGE       26681\n",
       "ASSAULT               20619\n",
       "DECEPTIVE PRACTICE    18975\n",
       "NARCOTICS             15069\n",
       "BURGLARY               9639\n",
       "ROBBERY                7994\n",
       "Name: Primary Type, dtype: int64"
      ]
     },
     "execution_count": 7,
     "metadata": {},
     "output_type": "execute_result"
    }
   ],
   "source": [
    "types_to_keep = ['THEFT', 'BATTERY', 'CRIMINAL DAMAGE', 'NARCOTICS', 'ASSAULT', 'DECEPTIVE PRACTICE', 'BURGLARY', 'ROBBERY']\n",
    "data = data[data[\"Primary Type\"].isin(types_to_keep)]    \n",
    "data[\"Primary Type\"].value_counts()"
   ]
  },
  {
   "cell_type": "code",
   "execution_count": 8,
   "metadata": {},
   "outputs": [
    {
     "data": {
      "text/plain": [
       "(365, 77, 8)"
      ]
     },
     "execution_count": 8,
     "metadata": {},
     "output_type": "execute_result"
    }
   ],
   "source": [
    "# create a 365 x 77 x 4 matrix to store the number of crimes per day per community area per type\n",
    "crime_matrix = np.zeros((365, 77, 8))\n",
    "\n",
    "# iterate over the rows of the dataframe\n",
    "for index, row in data.iterrows():\n",
    "    # get the date\n",
    "    date = row[\"Date\"]\n",
    "    # get the community area\n",
    "    community_area = int(row[\"Community Area\"])\n",
    "    # get the crime type\n",
    "    crime_type = row[\"Primary Type\"]\n",
    "    # get the day of the year\n",
    "    day_of_year = pd.to_datetime(date).dayofyear\n",
    "    # update the matrix\n",
    "\n",
    "    crime_matrix[day_of_year - 1, community_area - 1, types_to_keep.index(crime_type)] += 1\n",
    "\n",
    "crime_matrix.shape"
   ]
  },
  {
   "cell_type": "code",
   "execution_count": 6,
   "metadata": {},
   "outputs": [
    {
     "data": {
      "text/plain": [
       "array([[2., 4., 4., ..., 3., 0., 1.],\n",
       "       [3., 2., 1., ..., 0., 1., 0.],\n",
       "       [1., 4., 3., ..., 1., 0., 0.],\n",
       "       ...,\n",
       "       [2., 2., 3., ..., 0., 0., 0.],\n",
       "       [2., 0., 5., ..., 0., 0., 0.],\n",
       "       [1., 1., 0., ..., 0., 1., 0.]])"
      ]
     },
     "execution_count": 6,
     "metadata": {},
     "output_type": "execute_result"
    }
   ],
   "source": [
    "crime_matrix[:, 0, :]"
   ]
  },
  {
   "cell_type": "code",
   "execution_count": 7,
   "metadata": {},
   "outputs": [],
   "source": [
    "# store the crime counts region-wise in a text file\n",
    "# 8 rows x 365 columns\n",
    "# each row corresponds to a crime type\n",
    "# each column corresponds to a day of the year\n",
    "\n",
    "save_dir = \"AIST_Custom_DATASET/Train/\"\n",
    "\n",
    "for i in range(77):\n",
    "    with open(save_dir + \"r_\" + str(i) + \".txt\", \"w\") as f:\n",
    "        for j in range(8):\n",
    "            for k in range(365):\n",
    "                f.write(str(int(crime_matrix[k, i, j])))\n",
    "                f.write(\" \")\n",
    "            f.write(\"\\n\")"
   ]
  },
  {
   "cell_type": "code",
   "execution_count": 8,
   "metadata": {},
   "outputs": [
    {
     "data": {
      "text/plain": [
       "(8, 365)"
      ]
     },
     "execution_count": 8,
     "metadata": {},
     "output_type": "execute_result"
    }
   ],
   "source": [
    "# load crime counts of a region from a text file into a numpy array\n",
    "# 8 rows x 365 columns\n",
    "# each row corresponds to a crime type\n",
    "# each column corresponds to a day of the year\n",
    "save_dir = \"AIST_Custom_DATASET/Train/\"\n",
    "\n",
    "r0 = np.loadtxt(save_dir + \"r_0.txt\")\n",
    "r0.shape"
   ]
  },
  {
   "attachments": {},
   "cell_type": "markdown",
   "metadata": {},
   "source": [
    "# Test"
   ]
  },
  {
   "cell_type": "code",
   "execution_count": 16,
   "metadata": {},
   "outputs": [],
   "source": [
    "data_path = \"christmas_2020_all_crimes.csv\"\n",
    "data = pd.read_csv(data_path)\n",
    "\n",
    "types_to_keep = ['THEFT', 'BATTERY', 'CRIMINAL DAMAGE', 'NARCOTICS', 'ASSAULT', 'DECEPTIVE PRACTICE', 'BURGLARY', 'ROBBERY']\n",
    "data = data[data[\"Primary Type\"].isin(types_to_keep)]    \n",
    "\n",
    "crime_matrix = np.zeros((32, 77, 8))\n",
    "\n",
    "# iterate over the rows of the dataframe\n",
    "for index, row in data.iterrows():\n",
    "    # get the date\n",
    "    date = row[\"Date\"]\n",
    "    # get the community area\n",
    "    community_area = int(row[\"Community Area\"])\n",
    "    # get the crime type\n",
    "    crime_type = row[\"Primary Type\"]\n",
    "    # get the day of the year\n",
    "    # dec 15 to jan 15\n",
    "    if pd.to_datetime(date).month == 12:\n",
    "        day_of_year = pd.to_datetime(date).day - 15\n",
    "    else:\n",
    "        day_of_year = pd.to_datetime(date).day + 31 - 15\n",
    "\n",
    "    crime_matrix[day_of_year - 1, community_area - 1, types_to_keep.index(crime_type)] += 1\n",
    "\n",
    "# store the crime counts region-wise in a text file\n",
    "# 8 rows x 365 columns\n",
    "# each row corresponds to a crime type\n",
    "# each column corresponds to a day of the year\n",
    "\n",
    "save_dir = \"AIST_Custom_DATASET/Test_Christmas/\"\n",
    "\n",
    "for i in range(77):\n",
    "    with open(save_dir + \"r_\" + str(i) + \".txt\", \"w\") as f:\n",
    "        for j in range(8):\n",
    "            for k in range(32):\n",
    "                f.write(str(int(crime_matrix[k, i, j])))\n",
    "                f.write(\" \")\n",
    "            f.write(\"\\n\")"
   ]
  },
  {
   "cell_type": "code",
   "execution_count": null,
   "metadata": {},
   "outputs": [],
   "source": [
    "data_path = \"christmas_2020_all_crimes.csv\"\n",
    "data = pd.read_csv(data_path)\n",
    "\n",
    "types_to_keep = ['THEFT', 'BATTERY', 'CRIMINAL DAMAGE', 'NARCOTICS', 'ASSAULT', 'DECEPTIVE PRACTICE', 'BURGLARY', 'ROBBERY']\n",
    "data = data[data[\"Primary Type\"].isin(types_to_keep)]    \n",
    "\n",
    "crime_matrix = np.zeros((32, 77, 8))\n",
    "\n",
    "# iterate over the rows of the dataframe\n",
    "for index, row in data.iterrows():\n",
    "    # get the date\n",
    "    date = row[\"Date\"]\n",
    "    # get the community area\n",
    "    community_area = int(row[\"Community Area\"])\n",
    "    # get the crime type\n",
    "    crime_type = row[\"Primary Type\"]\n",
    "    # get the day of the year\n",
    "    # dec 15 to jan 15\n",
    "    if pd.to_datetime(date).month == 12:\n",
    "        day_of_year = pd.to_datetime(date).day - 15\n",
    "    else:\n",
    "        day_of_year = pd.to_datetime(date).day + 31 - 15\n",
    "\n",
    "    crime_matrix[day_of_year - 1, community_area - 1, types_to_keep.index(crime_type)] += 1\n",
    "\n",
    "# store the crime counts region-wise in a text file\n",
    "# 8 rows x 365 columns\n",
    "# each row corresponds to a crime type\n",
    "# each column corresponds to a day of the year\n",
    "\n",
    "save_dir = \"AIST_Custom_DATASET/Test_Christmas/\"\n",
    "\n",
    "for i in range(77):\n",
    "    with open(save_dir + \"r_\" + str(i) + \".txt\", \"w\") as f:\n",
    "        for j in range(8):\n",
    "            for k in range(32):\n",
    "                f.write(str(int(crime_matrix[k, i, j])))\n",
    "                f.write(\" \")\n",
    "            f.write(\"\\n\")"
   ]
  },
  {
   "cell_type": "code",
   "execution_count": 17,
   "metadata": {},
   "outputs": [],
   "source": [
    "data_path = \"./easter_2020_all_crimes.csv\"\n",
    "data = pd.read_csv(data_path)\n",
    "\n",
    "types_to_keep = ['THEFT', 'BATTERY', 'CRIMINAL DAMAGE', 'NARCOTICS', 'ASSAULT', 'DECEPTIVE PRACTICE', 'BURGLARY', 'ROBBERY']\n",
    "data = data[data[\"Primary Type\"].isin(types_to_keep)]    \n",
    "\n",
    "crime_matrix = np.zeros((21, 77, 8))\n",
    "\n",
    "# iterate over the rows of the dataframe\n",
    "for index, row in data.iterrows():\n",
    "    # get the date\n",
    "    date = row[\"Date\"]\n",
    "    # get the community area\n",
    "    community_area = int(row[\"Community Area\"])\n",
    "    # get the crime type\n",
    "    crime_type = row[\"Primary Type\"]\n",
    "    # get the day of the year\n",
    "    # april 16 to may 6\n",
    "    if pd.to_datetime(date).month == 4:\n",
    "        day_of_year = pd.to_datetime(date).day - 16\n",
    "    else:\n",
    "        day_of_year = pd.to_datetime(date).day + 30 - 16\n",
    "\n",
    "    crime_matrix[day_of_year - 1, community_area - 1, types_to_keep.index(crime_type)] += 1\n",
    "\n",
    "# store the crime counts region-wise in a text file\n",
    "# 8 rows x 365 columns\n",
    "# each row corresponds to a crime type\n",
    "# each column corresponds to a day of the year\n",
    "\n",
    "save_dir = \"AIST_Custom_DATASET/Test_easter/\"\n",
    "\n",
    "for i in range(77):\n",
    "    with open(save_dir + \"r_\" + str(i) + \".txt\", \"w\") as f:\n",
    "        for j in range(8):\n",
    "            for k in range(21):\n",
    "                f.write(str(int(crime_matrix[k, i, j])))\n",
    "                f.write(\" \")\n",
    "            f.write(\"\\n\")"
   ]
  },
  {
   "cell_type": "code",
   "execution_count": 19,
   "metadata": {},
   "outputs": [],
   "source": [
    "data_path = \"./data_2020_upto_MARCH.csv\"\n",
    "data = pd.read_csv(data_path)\n",
    "\n",
    "types_to_keep = ['THEFT', 'BATTERY', 'CRIMINAL DAMAGE', 'NARCOTICS', 'ASSAULT', 'DECEPTIVE PRACTICE', 'BURGLARY', 'ROBBERY']\n",
    "data = data[data[\"Primary Type\"].isin(types_to_keep)]    \n",
    "\n",
    "crime_matrix = np.zeros((91, 77, 8))\n",
    "\n",
    "# iterate over the rows of the dataframe\n",
    "for index, row in data.iterrows():\n",
    "    # get the date\n",
    "    date = row[\"Date\"]\n",
    "    # get the community area\n",
    "    community_area = int(row[\"Community Area\"])\n",
    "    # get the crime type\n",
    "    crime_type = row[\"Primary Type\"]\n",
    "    # get the day of the year\n",
    "    day_of_year = pd.to_datetime(date).dayofyear\n",
    "\n",
    "    crime_matrix[day_of_year - 1, community_area - 1, types_to_keep.index(crime_type)] += 1\n",
    "\n",
    "# store the crime counts region-wise in a text file\n",
    "# 8 rows x 365 columns\n",
    "# each row corresponds to a crime type\n",
    "# each column corresponds to a day of the year\n",
    "\n",
    "save_dir = \"AIST_Custom_DATASET/Test_upto_march/\"\n",
    "\n",
    "for i in range(77):\n",
    "    with open(save_dir + \"r_\" + str(i) + \".txt\", \"w\") as f:\n",
    "        for j in range(8):\n",
    "            for k in range(91):\n",
    "                f.write(str(int(crime_matrix[k, i, j])))\n",
    "                f.write(\" \")\n",
    "            f.write(\"\\n\")"
   ]
  },
  {
   "attachments": {},
   "cell_type": "markdown",
   "metadata": {},
   "source": [
    "# Generate Side Crimes"
   ]
  },
  {
   "cell_type": "code",
   "execution_count": 15,
   "metadata": {},
   "outputs": [
    {
     "data": {
      "text/plain": [
       "array([[[ 9., 18.,  9., ..., 19.,  3.,  3.],\n",
       "        [10., 11.,  4., ...,  4.,  2.,  0.],\n",
       "        [16., 12.,  8., ..., 14.,  2.,  1.],\n",
       "        ...,\n",
       "        [11., 29., 14., ..., 18.,  3.,  6.],\n",
       "        [ 4., 12.,  9., ..., 18.,  2.,  2.],\n",
       "        [17., 35., 19., ..., 21.,  2.,  5.]],\n",
       "\n",
       "       [[17.,  7.,  2., ..., 10.,  3.,  0.],\n",
       "        [ 4.,  3.,  3., ...,  4.,  3.,  3.],\n",
       "        [15.,  7.,  0., ...,  6.,  5.,  3.],\n",
       "        ...,\n",
       "        [18.,  9.,  9., ...,  6.,  4.,  0.],\n",
       "        [ 7.,  7.,  7., ...,  5.,  0.,  0.],\n",
       "        [12., 21., 13., ...,  7.,  3.,  4.]],\n",
       "\n",
       "       [[24., 11., 11., ..., 10.,  2.,  1.],\n",
       "        [ 8.,  3.,  4., ...,  3.,  3.,  4.],\n",
       "        [16.,  1.,  6., ...,  4.,  2.,  0.],\n",
       "        ...,\n",
       "        [31., 25., 13., ...,  4.,  1.,  5.],\n",
       "        [ 9.,  9.,  7., ...,  5.,  3.,  1.],\n",
       "        [16., 19., 10., ...,  4., 10.,  2.]],\n",
       "\n",
       "       ...,\n",
       "\n",
       "       [[19.,  8., 10., ...,  6.,  1.,  1.],\n",
       "        [ 6.,  5.,  6., ...,  2.,  2.,  1.],\n",
       "        [22.,  6.,  1., ...,  2.,  1.,  2.],\n",
       "        ...,\n",
       "        [12., 25., 14., ...,  4.,  5.,  5.],\n",
       "        [10., 15.,  5., ...,  1.,  1.,  5.],\n",
       "        [17., 21., 11., ...,  2.,  1.,  4.]],\n",
       "\n",
       "       [[19.,  7.,  9., ...,  9.,  2.,  0.],\n",
       "        [14.,  2.,  3., ...,  4.,  1.,  1.],\n",
       "        [13.,  7.,  2., ...,  2.,  1.,  2.],\n",
       "        ...,\n",
       "        [15., 15., 12., ...,  3.,  5.,  2.],\n",
       "        [11.,  8.,  2., ...,  5.,  3.,  1.],\n",
       "        [18., 15., 10., ...,  2.,  2.,  2.]],\n",
       "\n",
       "       [[ 8.,  9.,  1., ...,  6.,  2.,  1.],\n",
       "        [ 3.,  9.,  4., ...,  2.,  0.,  1.],\n",
       "        [15.,  2.,  3., ...,  7.,  2.,  2.],\n",
       "        ...,\n",
       "        [ 8., 19.,  4., ...,  3.,  8.,  6.],\n",
       "        [ 9.,  8.,  7., ...,  3.,  3.,  2.],\n",
       "        [19., 21., 12., ...,  4.,  4.,  1.]]])"
      ]
     },
     "execution_count": 15,
     "metadata": {},
     "output_type": "execute_result"
    }
   ],
   "source": [
    "sides = [\n",
    "    [1, 2, 3, 4, 77, 9, 10, 11, 12, 13, 14, 76],\n",
    "    [15, 16, 17, 18, 19, 20],\n",
    "    [5, 6, 7, 21, 22],\n",
    "    [23, 24, 25, 26, 27, 28, 29, 30, 31],\n",
    "    [8, 32, 33],\n",
    "    [34, 35, 36, 37, 38, 39, 40, 41, 42, 43, 60, 69],\n",
    "    [56, 57, 58, 59, 61, 62, 63, 64, 65, 66, 67, 68],\n",
    "    [70, 71, 72, 73, 74, 75],\n",
    "    [44, 45, 46, 47, 48, 49, 50, 51, 52, 53, 54, 55],\n",
    "]\n",
    "\n",
    "side_crimes = np.zeros((365, 9, 8))\n",
    "\n",
    "# group the crimes by side and add them up\n",
    "for i in range(77):\n",
    "    for j in range(365):\n",
    "        for k in range(8):\n",
    "            for l in sides:\n",
    "                if i + 1 in l:\n",
    "                    side_crimes[j, sides.index(l), k] += crime_matrix[j, i, k]\n",
    "\n",
    "side_crimes"
   ]
  },
  {
   "cell_type": "code",
   "execution_count": 20,
   "metadata": {},
   "outputs": [],
   "source": [
    "save_dir = \"AIST_HOLIDAY_DATASET/Side Crime/\"\n",
    "\n",
    "for i in range(9):\n",
    "    with open(save_dir + \"s_\" + str(i) + \".txt\", \"w\") as f:\n",
    "        for j in range(8):\n",
    "            for k in range(365):\n",
    "                f.write(str(int(side_crimes[k, i, j])))\n",
    "                f.write(\" \")\n",
    "            f.write(\"\\n\")"
   ]
  },
  {
   "attachments": {},
   "cell_type": "markdown",
   "metadata": {},
   "source": [
    "# Generate from existing AIST dataset"
   ]
  },
  {
   "cell_type": "code",
   "execution_count": 10,
   "metadata": {},
   "outputs": [
    {
     "data": {
      "text/plain": [
       "(8, 77, 2190)"
      ]
     },
     "execution_count": 10,
     "metadata": {},
     "output_type": "execute_result"
    }
   ],
   "source": [
    "crime_matrix = np.zeros((8, 77, 365 * 6))\n",
    "\n",
    "path = \"../AIST/aist-main/data/chicago/com_crime/\"\n",
    "\n",
    "for i in range(77):\n",
    "    crime_matrix[:, i, :] = np.loadtxt(path + \"r_\" + str(i) + \".txt\")\n",
    "\n",
    "crime_matrix.shape"
   ]
  },
  {
   "cell_type": "code",
   "execution_count": 11,
   "metadata": {},
   "outputs": [
    {
     "data": {
      "text/plain": [
       "(8, 77, 365)"
      ]
     },
     "execution_count": 11,
     "metadata": {},
     "output_type": "execute_result"
    }
   ],
   "source": [
    "# sum up every 6 time steps to get a 365 x 77 x 8 matrix\n",
    "\n",
    "crime_matrix_6 = np.zeros((8, 77, 365))\n",
    "\n",
    "for i in range(365):\n",
    "    crime_matrix_6[:, :, i] = np.sum(crime_matrix[:, :, i * 6 : (i + 1) * 6], axis = 2)\n",
    "\n",
    "crime_matrix_6.shape"
   ]
  },
  {
   "cell_type": "code",
   "execution_count": 12,
   "metadata": {},
   "outputs": [],
   "source": [
    "os.mkdir(\"Comm_wise_data/aist_1d_from_existing/\")"
   ]
  },
  {
   "cell_type": "code",
   "execution_count": 13,
   "metadata": {},
   "outputs": [],
   "source": [
    "# save the crime counts region-wise in a text file\n",
    "# 8 rows x 365 columns\n",
    "# each row corresponds to a crime type\n",
    "# each column corresponds to a day of the year\n",
    "\n",
    "save_dir = \"Comm_wise_data/aist_1d_from_existing/\"\n",
    "\n",
    "for i in range(77):\n",
    "    with open(save_dir + \"r_\" + str(i) + \".txt\", \"w\") as f:\n",
    "        for j in range(8):\n",
    "            for k in range(365):\n",
    "                f.write(str(int(crime_matrix[j, i, k])))\n",
    "                f.write(\" \")\n",
    "            f.write(\"\\n\")"
   ]
  },
  {
   "attachments": {},
   "cell_type": "markdown",
   "metadata": {},
   "source": [
    "# Generate Side Crimes from AIST dataset for 1 day"
   ]
  },
  {
   "cell_type": "code",
   "execution_count": 16,
   "metadata": {},
   "outputs": [
    {
     "data": {
      "text/plain": [
       "(8, 9, 2190)"
      ]
     },
     "execution_count": 16,
     "metadata": {},
     "output_type": "execute_result"
    }
   ],
   "source": [
    "side_crime_matrix = np.zeros((8, 9, 365 * 6))\n",
    "\n",
    "path = \"../AIST/aist-main/data/chicago/side_crime/\"\n",
    "\n",
    "for i in range(9):\n",
    "    side_crime_matrix[:, i, :] = np.loadtxt(path + \"s_\" + str(i) + \".txt\")\n",
    "\n",
    "side_crime_matrix.shape"
   ]
  },
  {
   "cell_type": "code",
   "execution_count": 18,
   "metadata": {},
   "outputs": [
    {
     "data": {
      "text/plain": [
       "(8, 9, 365)"
      ]
     },
     "execution_count": 18,
     "metadata": {},
     "output_type": "execute_result"
    }
   ],
   "source": [
    "# sum up every 6 time steps to get a 365 x 9 x 8 matrix\n",
    "\n",
    "side_crime_matrix_6 = np.zeros((8, 9, 365))\n",
    "\n",
    "for i in range(365):\n",
    "    side_crime_matrix_6[:, :, i] = np.sum(side_crime_matrix[:, :, i * 6 : (i + 1) * 6], axis = 2)\n",
    "\n",
    "side_crime_matrix_6.shape"
   ]
  },
  {
   "cell_type": "code",
   "execution_count": 20,
   "metadata": {},
   "outputs": [],
   "source": [
    "os.mkdir(\"Comm_wise_data/aist_1d_from_existing_side/\")"
   ]
  },
  {
   "cell_type": "code",
   "execution_count": 21,
   "metadata": {},
   "outputs": [],
   "source": [
    "# save the crime counts region-wise in a text file\n",
    "# 8 rows x 365 columns\n",
    "# each row corresponds to a crime type\n",
    "# each column corresponds to a day of the year\n",
    "\n",
    "save_dir = \"Comm_wise_data/aist_1d_from_existing_side/\"\n",
    "\n",
    "for i in range(9):\n",
    "    with open(save_dir + \"s_\" + str(i) + \".txt\", \"w\") as f:\n",
    "        for j in range(8):\n",
    "            for k in range(365):\n",
    "                f.write(str(int(side_crime_matrix[j, i, k])))\n",
    "                f.write(\" \")\n",
    "            f.write(\"\\n\")"
   ]
  },
  {
   "cell_type": "code",
   "execution_count": null,
   "metadata": {},
   "outputs": [],
   "source": []
  }
 ],
 "metadata": {
  "kernelspec": {
   "display_name": "venv",
   "language": "python",
   "name": "venv"
  },
  "language_info": {
   "codemirror_mode": {
    "name": "ipython",
    "version": 3
   },
   "file_extension": ".py",
   "mimetype": "text/x-python",
   "name": "python",
   "nbconvert_exporter": "python",
   "pygments_lexer": "ipython3",
   "version": "3.7.4"
  },
  "orig_nbformat": 4
 },
 "nbformat": 4,
 "nbformat_minor": 2
}
