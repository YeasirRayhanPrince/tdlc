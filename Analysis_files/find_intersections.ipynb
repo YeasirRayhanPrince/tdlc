{
 "cells": [
  {
   "cell_type": "code",
   "execution_count": 1,
   "metadata": {},
   "outputs": [],
   "source": [
    "import numpy as np"
   ]
  },
  {
   "cell_type": "code",
   "execution_count": 2,
   "metadata": {},
   "outputs": [],
   "source": [
    "densities = [\n",
    "    [55, 76, 12, 51, 74, 9, 10, 72, 13, 52, 17, 64],                                    # very low\n",
    "    [54, 57, 11, 56, 70, 50, 18, 75, 65, 59, 47, 5, 60, 4, 15, 62],                     # low\n",
    "    [16, 31, 48, 58, 61, 30, 63, 2, 34, 45, 33, 41, 21, 53, 36, 20, 19, 73, 14],        # medium\n",
    "    [37, 46, 39, 49, 22, 7, 77, 3, 40],                                                 # high\n",
    "    [66, 24, 28, 35, 42, 69, 6, 38, 68, 71, 25, 67, 1, 23, 44, 27, 29, 43, 8, 26, 32]   # very high\n",
    "]\n",
    "\n",
    "areas = [\n",
    "    [9, 18, 20, 26, 34, 36, 37, 39, 40, 45, 47, 59, 62],\n",
    "    [1, 5, 14, 21, 27, 32, 33, 35, 38, 41, 42, 48, 50, 57, 60, 63, 77],\n",
    "    [3, 4, 8, 11, 13, 31, 43, 44, 52, 58, 64, 65, 68, 73, 74],\n",
    "    [2, 6, 7, 12, 16, 17, 22, 23, 29, 46, 53, 54, 66, 67, 69, 71, 72, 75],\n",
    "    [10, 15, 19, 24, 25, 28, 30, 49, 51, 55, 56, 61, 70, 76]\n",
    "]"
   ]
  },
  {
   "cell_type": "code",
   "execution_count": 3,
   "metadata": {},
   "outputs": [],
   "source": [
    "# find out all the intersections among all the sublists\n",
    "def find_intersections(densities, areas):\n",
    "    intersections = {}\n",
    "    for i in range(len(densities)):\n",
    "        for j in range(len(areas)):\n",
    "            cat = \"\"\n",
    "            if i == 0:\n",
    "                cat += \"very low\"\n",
    "            elif i == 1:\n",
    "                cat += \"low\"\n",
    "            elif i == 2:\n",
    "                cat += \"medium\"\n",
    "            elif i == 3:\n",
    "                cat += \"high\"\n",
    "            else:\n",
    "                cat += \"very high\"\n",
    "\n",
    "            if j == 0:\n",
    "                cat += \" - very small\"\n",
    "            elif j == 1:\n",
    "                cat += \" - small\"\n",
    "            elif j == 2:\n",
    "                cat += \" - medium\"\n",
    "            elif j == 3:\n",
    "                cat += \" - large\"\n",
    "            else:\n",
    "                cat += \" - very large\"\n",
    "            # intersections[cat] = len(set(densities[i]).intersection(set(areas[j])))\n",
    "            intersections[cat] = set(densities[i]).intersection(set(areas[j]))\n",
    "    return intersections"
   ]
  },
  {
   "cell_type": "code",
   "execution_count": 4,
   "metadata": {},
   "outputs": [
    {
     "data": {
      "text/plain": [
       "{'very low - very small': {9},\n",
       " 'very low - small': set(),\n",
       " 'very low - medium': {13, 52, 64, 74},\n",
       " 'very low - large': {12, 17, 72},\n",
       " 'very low - very large': {10, 51, 55, 76},\n",
       " 'low - very small': {18, 47, 59, 62},\n",
       " 'low - small': {5, 50, 57, 60},\n",
       " 'low - medium': {4, 11, 65},\n",
       " 'low - large': {54, 75},\n",
       " 'low - very large': {15, 56, 70},\n",
       " 'medium - very small': {20, 34, 36, 45},\n",
       " 'medium - small': {14, 21, 33, 41, 48, 63},\n",
       " 'medium - medium': {31, 58, 73},\n",
       " 'medium - large': {2, 16, 53},\n",
       " 'medium - very large': {19, 30, 61},\n",
       " 'high - very small': {37, 39, 40},\n",
       " 'high - small': {77},\n",
       " 'high - medium': {3},\n",
       " 'high - large': {7, 22, 46},\n",
       " 'high - very large': {49},\n",
       " 'very high - very small': {26},\n",
       " 'very high - small': {1, 27, 32, 35, 38, 42},\n",
       " 'very high - medium': {8, 43, 44, 68},\n",
       " 'very high - large': {6, 23, 29, 66, 67, 69, 71},\n",
       " 'very high - very large': {24, 25, 28}}"
      ]
     },
     "execution_count": 4,
     "metadata": {},
     "output_type": "execute_result"
    }
   ],
   "source": [
    "intersects = find_intersections(densities, areas)\n",
    "intersects"
   ]
  },
  {
   "cell_type": "code",
   "execution_count": 9,
   "metadata": {},
   "outputs": [
    {
     "name": "stdout",
     "output_type": "stream",
     "text": [
      "Total intersections:  77\n"
     ]
    }
   ],
   "source": [
    "sum = 0\n",
    "for key in intersects:\n",
    "    sum += intersects[key]\n",
    "\n",
    "print(\"Total intersections: \", sum)"
   ]
  }
 ],
 "metadata": {
  "kernelspec": {
   "display_name": "venv",
   "language": "python",
   "name": "venv"
  },
  "language_info": {
   "codemirror_mode": {
    "name": "ipython",
    "version": 3
   },
   "file_extension": ".py",
   "mimetype": "text/x-python",
   "name": "python",
   "nbconvert_exporter": "python",
   "pygments_lexer": "ipython3",
   "version": "3.7.4"
  },
  "orig_nbformat": 4
 },
 "nbformat": 4,
 "nbformat_minor": 2
}
