{
 "cells": [
  {
   "cell_type": "code",
   "execution_count": 1,
   "metadata": {},
   "outputs": [],
   "source": [
    "import numpy as np\n",
    "import pandas as pd\n",
    "import matplotlib.pyplot as plt\n",
    "import pickle\n",
    "import os"
   ]
  },
  {
   "cell_type": "code",
   "execution_count": 25,
   "metadata": {},
   "outputs": [
    {
     "data": {
      "text/plain": [
       "4059.0"
      ]
     },
     "execution_count": 25,
     "metadata": {},
     "output_type": "execute_result"
    }
   ],
   "source": [
    "crime_dict = pickle.load(open(\"Processed_Metrics/comm_crime_dict.pkl\", \"rb\"))\n",
    "list(crime_dict.values())[0]"
   ]
  },
  {
   "cell_type": "code",
   "execution_count": 9,
   "metadata": {},
   "outputs": [
    {
     "data": {
      "text/plain": [
       "{1: 4.77,\n",
       " 2: 9.14,\n",
       " 3: 6.01,\n",
       " 4: 6.63,\n",
       " 5: 5.31,\n",
       " 6: 8.08,\n",
       " 7: 8.18,\n",
       " 8: 7.1,\n",
       " 9: 2.93,\n",
       " 10: 11.32,\n",
       " 11: 6.03,\n",
       " 12: 8.29,\n",
       " 13: 6.53,\n",
       " 14: 4.97,\n",
       " 15: 10.23,\n",
       " 16: 8.31,\n",
       " 17: 9.63,\n",
       " 18: 2.56,\n",
       " 19: 10.13,\n",
       " 20: 3.03,\n",
       " 21: 5.13,\n",
       " 22: 9.3,\n",
       " 23: 9.32,\n",
       " 24: 11.86,\n",
       " 25: 18.52,\n",
       " 26: 3.32,\n",
       " 27: 5.0,\n",
       " 28: 14.74,\n",
       " 29: 8.31,\n",
       " 30: 11.89,\n",
       " 31: 7.59,\n",
       " 32: 4.27,\n",
       " 33: 4.61,\n",
       " 34: 2.59,\n",
       " 35: 4.27,\n",
       " 36: 1.5,\n",
       " 37: 1.84,\n",
       " 38: 4.51,\n",
       " 39: 2.69,\n",
       " 40: 3.94,\n",
       " 41: 4.17,\n",
       " 42: 5.36,\n",
       " 43: 7.59,\n",
       " 44: 7.64,\n",
       " 45: 3.24,\n",
       " 46: 8.65,\n",
       " 47: 1.58,\n",
       " 48: 4.53,\n",
       " 49: 12.48,\n",
       " 50: 5.49,\n",
       " 51: 28.23,\n",
       " 52: 7.72,\n",
       " 53: 9.22,\n",
       " 54: 9.14,\n",
       " 55: 13.57,\n",
       " 56: 10.96,\n",
       " 57: 5.21,\n",
       " 58: 7.04,\n",
       " 59: 3.65,\n",
       " 60: 5.41,\n",
       " 61: 12.51,\n",
       " 62: 3.03,\n",
       " 63: 5.7,\n",
       " 64: 6.6,\n",
       " 65: 7.64,\n",
       " 66: 9.14,\n",
       " 67: 8.16,\n",
       " 68: 7.95,\n",
       " 69: 9.19,\n",
       " 70: 12.59,\n",
       " 71: 9.76,\n",
       " 72: 8.24,\n",
       " 73: 7.41,\n",
       " 74: 7.02,\n",
       " 75: 8.55,\n",
       " 76: 34.55,\n",
       " 77: 4.51}"
      ]
     },
     "execution_count": 9,
     "metadata": {},
     "output_type": "execute_result"
    }
   ],
   "source": [
    "comm_areas = pickle.load(open(\"Processed_Metrics/comm_area_dict.pkl\", \"rb\"))\n",
    "comm_areas"
   ]
  },
  {
   "cell_type": "code",
   "execution_count": 15,
   "metadata": {},
   "outputs": [
    {
     "ename": "KeyError",
     "evalue": "0",
     "output_type": "error",
     "traceback": [
      "\u001b[1;31m---------------------------------------------------------------------------\u001b[0m",
      "\u001b[1;31mKeyError\u001b[0m                                  Traceback (most recent call last)",
      "\u001b[1;32m<ipython-input-15-faac8bcd943d>\u001b[0m in \u001b[0;36m<module>\u001b[1;34m\u001b[0m\n\u001b[0;32m      2\u001b[0m \u001b[0mcomm_crime_df\u001b[0m \u001b[1;33m=\u001b[0m \u001b[0mpd\u001b[0m\u001b[1;33m.\u001b[0m\u001b[0mDataFrame\u001b[0m\u001b[1;33m(\u001b[0m\u001b[0mcolumns\u001b[0m\u001b[1;33m=\u001b[0m\u001b[1;33m[\u001b[0m\u001b[1;34m'Community No.'\u001b[0m\u001b[1;33m,\u001b[0m \u001b[1;34m'Community Name'\u001b[0m\u001b[1;33m,\u001b[0m \u001b[1;34m'Number of Crimes'\u001b[0m\u001b[1;33m,\u001b[0m \u001b[1;34m'Area (sq. km)'\u001b[0m\u001b[1;33m,\u001b[0m \u001b[1;34m'Density'\u001b[0m\u001b[1;33m]\u001b[0m\u001b[1;33m)\u001b[0m\u001b[1;33m\u001b[0m\u001b[1;33m\u001b[0m\u001b[0m\n\u001b[0;32m      3\u001b[0m \u001b[1;32mfor\u001b[0m \u001b[0mi\u001b[0m \u001b[1;32min\u001b[0m \u001b[0mrange\u001b[0m\u001b[1;33m(\u001b[0m\u001b[0mlen\u001b[0m\u001b[1;33m(\u001b[0m\u001b[0mcrime_dict\u001b[0m\u001b[1;33m)\u001b[0m\u001b[1;33m)\u001b[0m\u001b[1;33m:\u001b[0m\u001b[1;33m\u001b[0m\u001b[1;33m\u001b[0m\u001b[0m\n\u001b[1;32m----> 4\u001b[1;33m     \u001b[0mcomm_crime_df\u001b[0m\u001b[1;33m.\u001b[0m\u001b[0mloc\u001b[0m\u001b[1;33m[\u001b[0m\u001b[0mi\u001b[0m\u001b[1;33m]\u001b[0m \u001b[1;33m=\u001b[0m \u001b[1;33m[\u001b[0m\u001b[0mcrime_dict\u001b[0m\u001b[1;33m[\u001b[0m\u001b[0mi\u001b[0m\u001b[1;33m]\u001b[0m\u001b[1;33m[\u001b[0m\u001b[1;36m0\u001b[0m\u001b[1;33m]\u001b[0m\u001b[1;33m,\u001b[0m \u001b[0mcomm_areas\u001b[0m\u001b[1;33m[\u001b[0m\u001b[0mcrime_dict\u001b[0m\u001b[1;33m[\u001b[0m\u001b[0mi\u001b[0m\u001b[1;33m]\u001b[0m\u001b[1;33m[\u001b[0m\u001b[1;36m0\u001b[0m\u001b[1;33m]\u001b[0m\u001b[1;33m]\u001b[0m\u001b[1;33m,\u001b[0m \u001b[0mcrime_dict\u001b[0m\u001b[1;33m[\u001b[0m\u001b[0mi\u001b[0m\u001b[1;33m]\u001b[0m\u001b[1;33m[\u001b[0m\u001b[1;36m1\u001b[0m\u001b[1;33m]\u001b[0m\u001b[1;33m,\u001b[0m \u001b[0mcomm_areas\u001b[0m\u001b[1;33m[\u001b[0m\u001b[0mcrime_dict\u001b[0m\u001b[1;33m[\u001b[0m\u001b[0mi\u001b[0m\u001b[1;33m]\u001b[0m\u001b[1;33m[\u001b[0m\u001b[1;36m0\u001b[0m\u001b[1;33m]\u001b[0m\u001b[1;33m]\u001b[0m\u001b[1;33m,\u001b[0m \u001b[0mcrime_dict\u001b[0m\u001b[1;33m[\u001b[0m\u001b[0mi\u001b[0m\u001b[1;33m]\u001b[0m\u001b[1;33m[\u001b[0m\u001b[1;36m1\u001b[0m\u001b[1;33m]\u001b[0m\u001b[1;33m/\u001b[0m\u001b[1;33m(\u001b[0m\u001b[0mcomm_areas\u001b[0m\u001b[1;33m[\u001b[0m\u001b[0mcrime_dict\u001b[0m\u001b[1;33m[\u001b[0m\u001b[0mi\u001b[0m\u001b[1;33m]\u001b[0m\u001b[1;33m[\u001b[0m\u001b[1;36m0\u001b[0m\u001b[1;33m]\u001b[0m\u001b[1;33m]\u001b[0m\u001b[1;33m)\u001b[0m\u001b[1;33m]\u001b[0m\u001b[1;33m\u001b[0m\u001b[1;33m\u001b[0m\u001b[0m\n\u001b[0m\u001b[0;32m      5\u001b[0m \u001b[1;33m\u001b[0m\u001b[0m\n\u001b[0;32m      6\u001b[0m \u001b[0mcomm_crime_df\u001b[0m\u001b[1;33m\u001b[0m\u001b[1;33m\u001b[0m\u001b[0m\n",
      "\u001b[1;31mKeyError\u001b[0m: 0"
     ]
    }
   ],
   "source": [
    "# generate a csv file with columns [Community No., Community Name, Number of Crimes, Area, Density]\n",
    "comm_crime_df = pd.DataFrame(columns=['Community No.', 'Community Name', 'Number of Crimes', 'Area (sq. km)', 'Density'])\n",
    "for i in range(len(crime_dict)):\n",
    "    comm_crime_df.loc[i] = [list(crime_dict)[i], list(comm_areas.values())[i], list(crime_dict.values())[i], comm_areas[crime_dict[i][0]], crime_dict[i][1]/(comm_areas[crime_dict[i][0]])]\n",
    "\n",
    "comm_crime_df"
   ]
  },
  {
   "cell_type": "code",
   "execution_count": 2,
   "metadata": {},
   "outputs": [],
   "source": [
    "# BASED ON DENSITY\n",
    "#         Group 1:  dict_keys([55, 76, 12, 51, 74, 9, 10, 72, 13, 52, 17, 64])\n",
    "#         Group 2:  dict_keys([54, 57, 11, 56, 70, 50, 18, 75, 65, 59, 47, 5, 60, 4, 15, 62])\n",
    "#         Group 3:  dict_keys([16, 31, 48, 58, 61, 30, 63, 2, 34, 45, 33, 41, 21, 53, 36, 20, 19, 73, 14])\n",
    "#         Group 4:  dict_keys([37, 46, 39, 49, 22, 7, 77, 3, 40])\n",
    "#         Group 5:  dict_keys([66, 24, 28, 35, 42, 69, 6, 38, 68, 71, 25, 67, 1, 23, 44, 27, 29, 43, 8, 26, 32])\n",
    "\n",
    "group5 = {\"very_low\" : [55, 76, 12, 51, 74, 9, 10, 72, 13, 52, 17, 64],\n",
    "            \"low\" : [54, 57, 11, 56, 70, 50, 18, 75, 65, 59, 47, 5, 60, 4, 15, 62],\n",
    "            \"medium\" : [16, 31, 48, 58, 61, 30, 63, 2, 34, 45, 33, 41, 21, 53, 36, 20, 19, 73, 14],\n",
    "            \"high\" : [37, 46, 39, 49, 22, 7, 77, 3, 40],\n",
    "            \"very_high\" : [66, 24, 28, 35, 42, 69, 6, 38, 68, 71, 25, 67, 1, 23, 44, 27, 29, 43, 8, 26, 32]\n",
    "            }\n",
    "\n",
    "# BASED ON DENSITY\n",
    "        # Group 1:  dict_keys([55, 76, 12, 51, 74, 9, 10, 72, 13, 52, 17, 64, 54, 57, 11, 56, 70, 50, 18, 75, 65, 59, 47, 5, 60, 4, 15, 62])\n",
    "        # Group 2:  dict_keys([16, 31, 48, 58, 61, 30, 63, 2, 34, 45, 33, 41, 21, 53, 36, 20, 19, 73, 14, 37, 46, 39, 49, 22, 7, 77, 3, 40])\n",
    "        # Group 3:  dict_keys([66, 24, 28, 35, 42, 69, 6, 38, 68, 71, 25, 67, 1, 23, 44, 27, 29, 43, 8, 26, 32])\n",
    "\n",
    "group3 = {\"low\" : [55, 76, 12, 51, 74, 9, 10, 72, 13, 52, 17, 64, 54, 57, 11, 56, 70, 50, 18, 75, 65, 59, 47, 5, 60, 4, 15, 62],\n",
    "            \"medium\" : [16, 31, 48, 58, 61, 30, 63, 2, 34, 45, 33, 41, 21, 53, 36, 20, 19, 73, 14, 37, 46, 39, 49, 22, 7, 77, 3, 40],\n",
    "            \"high\" : [66, 24, 28, 35, 42, 69, 6, 38, 68, 71, 25, 67, 1, 23, 44, 27, 29, 43, 8, 26, 32]\n",
    "            }"
   ]
  },
  {
   "attachments": {},
   "cell_type": "markdown",
   "metadata": {},
   "source": [
    "# ST-SHL"
   ]
  },
  {
   "cell_type": "code",
   "execution_count": 3,
   "metadata": {},
   "outputs": [
    {
     "name": "stdout",
     "output_type": "stream",
     "text": [
      "77\n",
      "77\n"
     ]
    }
   ],
   "source": [
    "# load from the pickle file\n",
    "# sthsl_mae = pickle.load(open(\"Processed_Metrics/sthsl_mae.pkl\", \"rb\"))\n",
    "# sthsl_mse = pickle.load(open(\"Processed_Metrics/sthsl_mse.pkl\", \"rb\"))\n",
    "\n",
    "sthsl_mae = pickle.load(open(\"FINAL/ST-HSL/sthsl_mae_aist_cats.pkl\", \"rb\"))\n",
    "sthsl_mse = pickle.load(open(\"FINAL/ST-HSL/sthsl_mse_aist_cats.pkl\", \"rb\"))\n",
    "\n",
    "print(len(sthsl_mae))\n",
    "print(len(sthsl_mse))"
   ]
  },
  {
   "attachments": {},
   "cell_type": "markdown",
   "metadata": {},
   "source": [
    "# DeepCrime Metrics"
   ]
  },
  {
   "cell_type": "code",
   "execution_count": 4,
   "metadata": {},
   "outputs": [
    {
     "name": "stdout",
     "output_type": "stream",
     "text": [
      "77\n",
      "77\n"
     ]
    }
   ],
   "source": [
    "# # load from the pickle file\n",
    "# deepcrime_mae = pickle.load(open(\"Processed_Data/deepcrime_mae.pkl\", \"rb\"))\n",
    "# deepcrime_mse = pickle.load(open(\"Processed_Data/deepcrime_mse.pkl\", \"rb\"))\n",
    "\n",
    "# # load from the pickle file\n",
    "# deepcrime_mae = pickle.load(open(\"Processed_Metrics/deepcrime_actual_mae.pkl\", \"rb\"))\n",
    "# deepcrime_mse = pickle.load(open(\"Processed_Metrics/deepcrime_actual_mse.pkl\", \"rb\"))\n",
    "\n",
    "# # load from the pickle file\n",
    "# deepcrime_mae = pickle.load(open(\"Processed_Metrics/deepcrime_actual_mae_1d_(2).pkl\", \"rb\"))\n",
    "# deepcrime_mse = pickle.load(open(\"Processed_Metrics/deepcrime_actual_mse_1d_(2).pkl\", \"rb\"))\n",
    "\n",
    "# load from the pickle file\n",
    "# deepcrime_mae = pickle.load(open(\"Processed_Metrics/deepcrime_actual_mae_1d_(3).pkl\", \"rb\"))\n",
    "# deepcrime_mse = pickle.load(open(\"Processed_Metrics/deepcrime_actual_mse_1d_(3).pkl\", \"rb\"))\n",
    "\n",
    "# load from the pickle file\n",
    "deepcrime_mae = pickle.load(open(\"FINAL/DeepCrime/Default/dc_actual_mae_1d_default_aist_cats_run3.pkl\", \"rb\"))\n",
    "deepcrime_mse = pickle.load(open(\"FINAL/DeepCrime/Default/dc_actual_mse_1d_default_aist_cats_run3.pkl\", \"rb\"))\n",
    "\n",
    "deepcrime_mae = np.array(deepcrime_mae)\n",
    "deepcrime_mse = np.array(deepcrime_mse)\n",
    "\n",
    "print(len(deepcrime_mae))\n",
    "print(len(deepcrime_mse))"
   ]
  },
  {
   "attachments": {},
   "cell_type": "markdown",
   "metadata": {},
   "source": [
    "# AIST"
   ]
  },
  {
   "cell_type": "code",
   "execution_count": 19,
   "metadata": {},
   "outputs": [],
   "source": [
    "# aist_path = 'Data/all_aist/'\n",
    "aist_path = \"Datasets/data/all_mae_mse_aist/\""
   ]
  },
  {
   "cell_type": "code",
   "execution_count": 20,
   "metadata": {},
   "outputs": [
    {
     "name": "stdout",
     "output_type": "stream",
     "text": [
      "0\n",
      "11\n",
      "12\n",
      "13\n",
      "14\n",
      "16\n",
      "17\n",
      "18\n",
      "1\n",
      "20\n",
      "21\n",
      "22\n",
      "23\n",
      "26\n",
      "27\n",
      "29\n",
      "2\n",
      "31\n",
      "32\n",
      "33\n",
      "34\n",
      "35\n",
      "36\n",
      "37\n",
      "38\n",
      "39\n",
      "3\n",
      "40\n",
      "41\n",
      "42\n",
      "43\n",
      "44\n",
      "45\n",
      "46\n",
      "47\n",
      "48\n",
      "4\n",
      "50\n",
      "52\n",
      "53\n",
      "54\n",
      "57\n",
      "58\n",
      "59\n",
      "5\n",
      "60\n",
      "62\n",
      "63\n",
      "64\n",
      "65\n",
      "66\n",
      "67\n",
      "68\n",
      "69\n",
      "6\n",
      "71\n",
      "72\n",
      "73\n",
      "74\n",
      "75\n",
      "7\n",
      "9\n",
      "62\n",
      "62\n"
     ]
    }
   ],
   "source": [
    "files = os.listdir(aist_path)\n",
    "\n",
    "aist_mae = {}\n",
    "aist_mse = {}\n",
    "\n",
    "for file in files:\n",
    "    with open(aist_path + file, \"r\") as f:\n",
    "        region = file.split(\"_\")[0]\n",
    "        print(region)\n",
    "\n",
    "        lines = f.readlines()\n",
    "        lines = lines[0].split(\" \")\n",
    "        aist_mae[region] = float(lines[0])\n",
    "        aist_mse[region] = float(lines[1])\n",
    "    \n",
    "print(len(aist_mae))\n",
    "print(len(aist_mse))"
   ]
  },
  {
   "cell_type": "code",
   "execution_count": 21,
   "metadata": {},
   "outputs": [],
   "source": [
    "# aist_mae = pickle.load(open(\"TEMPORAL_PRECISION/AIST/pickle_files/aist_24h_mae.pkl\", \"rb\"))\n",
    "# aist_mse = pickle.load(open(\"TEMPORAL_PRECISION/AIST/pickle_files/aist_24h_mse.pkl\", \"rb\"))\n",
    "\n",
    "# print(aist_mae)\n",
    "# print(aist_mse)"
   ]
  },
  {
   "attachments": {},
   "cell_type": "markdown",
   "metadata": {},
   "source": [
    "# MIST"
   ]
  },
  {
   "cell_type": "code",
   "execution_count": 6,
   "metadata": {},
   "outputs": [
    {
     "name": "stdout",
     "output_type": "stream",
     "text": [
      "77\n",
      "77\n"
     ]
    }
   ],
   "source": [
    "# load from the pickle file\n",
    "# mist_mae = pickle.load(open(\"Processed_Metrics/mist_actual_mae.pkl\", \"rb\"))\n",
    "# mist_mse = pickle.load(open(\"Processed_Metrics/mist_actual_mse.pkl\", \"rb\"))\n",
    "\n",
    "# mist_mae = pickle.load(open(\"Processed_Data/mist_mae.pkl\", \"rb\"))\n",
    "# mist_mse = pickle.load(open(\"Processed_Data/mist_mse.pkl\", \"rb\"))\n",
    "\n",
    "# mist_mae = pickle.load(open(\"FINAL/MIST/mist_actual_mae_v2.pkl\", \"rb\"))\n",
    "# mist_mse = pickle.load(open(\"FINAL/MIST/mist_actual_mse_v2.pkl\", \"rb\"))\n",
    "\n",
    "mist_mae = pickle.load(open(\"TEMPORAL_PRECISION/MIST/Pickle Files/mist_mae_1d_r.pkl\", \"rb\"))\n",
    "mist_mse = pickle.load(open(\"TEMPORAL_PRECISION/MIST/Pickle Files/mist_mse_1d_r.pkl\", \"rb\"))\n",
    "\n",
    "mist_mae = np.array(mist_mae)\n",
    "mist_mse = np.array(mist_mse)\n",
    "\n",
    "print(len(mist_mae))\n",
    "print(len(mist_mse))"
   ]
  },
  {
   "attachments": {},
   "cell_type": "markdown",
   "metadata": {},
   "source": [
    "# ST-SHN"
   ]
  },
  {
   "cell_type": "code",
   "execution_count": 7,
   "metadata": {},
   "outputs": [
    {
     "name": "stdout",
     "output_type": "stream",
     "text": [
      "77\n",
      "77\n"
     ]
    }
   ],
   "source": [
    "# load from the pickle file\n",
    "# stshn_mae = pickle.load(open(\"Processed_Metrics/stshn_mae.pkl\", \"rb\"))\n",
    "# stshn_mse = pickle.load(open(\"Processed_Metrics/stshn_mse.pkl\", \"rb\"))\n",
    "\n",
    "stshn_mae = pickle.load(open(\"FINAL/ST-SHN/stshn_mae.pkl\", \"rb\"))\n",
    "stshn_mse = pickle.load(open(\"FINAL/ST-SHN/stshn_mse.pkl\", \"rb\"))\n",
    "\n",
    "stshn_mae = np.array(stshn_mae)\n",
    "stshn_mse = np.array(stshn_mse)\n",
    "\n",
    "print(len(stshn_mae))\n",
    "print(len(stshn_mse))"
   ]
  },
  {
   "attachments": {},
   "cell_type": "markdown",
   "metadata": {},
   "source": [
    "# Crimeforecaster"
   ]
  },
  {
   "cell_type": "code",
   "execution_count": 8,
   "metadata": {},
   "outputs": [
    {
     "name": "stdout",
     "output_type": "stream",
     "text": [
      "77\n",
      "77\n"
     ]
    }
   ],
   "source": [
    "# load from the pickle file\n",
    "# cf_mae = pickle.load(open(\"Processed_Metrics/cf_mae_1d.pkl\", \"rb\"))\n",
    "# cf_mse = pickle.load(open(\"Processed_Metrics/cf_mse_1d.pkl\", \"rb\"))\n",
    "\n",
    "# mist_mae = pickle.load(open(\"Processed_Data/mist_mae.pkl\", \"rb\"))\n",
    "# mist_mse = pickle.load(open(\"Processed_Data/mist_mse.pkl\", \"rb\"))\n",
    "\n",
    "cf_mae = pickle.load(open(\"FINAL/CF/cf_mae.pkl\", \"rb\"))\n",
    "cf_mse = pickle.load(open(\"FINAL/CF/cf_mse.pkl\", \"rb\"))\n",
    "\n",
    "cf_mae = np.array(cf_mae)\n",
    "cf_mse = np.array(cf_mse)\n",
    "\n",
    "print(len(cf_mae))\n",
    "print(len(cf_mse))"
   ]
  },
  {
   "attachments": {},
   "cell_type": "markdown",
   "metadata": {},
   "source": [
    "# HAGEN"
   ]
  },
  {
   "cell_type": "code",
   "execution_count": 9,
   "metadata": {},
   "outputs": [],
   "source": [
    "# hagen_path = 'Data/hagen_mae_mse.txt'\n",
    "\n",
    "# hagen_mae = []\n",
    "# hagen_mse = []\n",
    "\n",
    "# with open(hagen_path, \"r\") as f:\n",
    "#     lines = f.readlines()\n",
    "    \n",
    "#     for line in lines:\n",
    "#         line = line.split(\" \")\n",
    "#         hagen_mae.append(float(line[2]))\n",
    "#         hagen_mse.append(float(line[3].split(\"\\n\")[0]))\n",
    "# #     hagen_mae.append(float(lines[0]))\n",
    "# #     hagen_mse.append(float(lines[1]))\n",
    "\n",
    "# print(hagen_mae)\n",
    "# print(hagen_mse)\n",
    "\n",
    "# # print(len(hagen_mae))\n",
    "# # print(len(hagen_mse))"
   ]
  },
  {
   "cell_type": "code",
   "execution_count": 10,
   "metadata": {},
   "outputs": [
    {
     "name": "stdout",
     "output_type": "stream",
     "text": [
      "77\n",
      "77\n"
     ]
    }
   ],
   "source": [
    "hagen_mae = pickle.load(open(\"FINAL/Hagen/hagen_mae.pkl\", \"rb\"))\n",
    "hagen_mse = pickle.load(open(\"FINAL/Hagen/hagen_mse.pkl\", \"rb\"))\n",
    "\n",
    "hagen_mae = np.array(hagen_mae)\n",
    "hagen_mse = np.array(hagen_mse)\n",
    "\n",
    "print(len(hagen_mae))\n",
    "print(len(hagen_mse))"
   ]
  },
  {
   "attachments": {},
   "cell_type": "markdown",
   "metadata": {},
   "source": [
    "# Plot"
   ]
  },
  {
   "cell_type": "code",
   "execution_count": 11,
   "metadata": {},
   "outputs": [],
   "source": [
    "def divide_three(mae_list, mse_list):\n",
    "    mae_group_high = []\n",
    "    mae_group_medium = []\n",
    "    mae_group_low = []\n",
    "\n",
    "    mse_group_high = []\n",
    "    mse_group_medium = []\n",
    "    mse_group_low = []\n",
    "\n",
    "    for i in range(len(mae_list)):\n",
    "\n",
    "        if mae_list[i] < 0 or mse_list[i] < 0:\n",
    "            continue\n",
    "\n",
    "        if (i+1) in group3[\"high\"]:\n",
    "            mae_group_high.append(mae_list[i])\n",
    "            mse_group_high.append(mse_list[i])\n",
    "        elif (i+1) in group3[\"medium\"]:\n",
    "            mae_group_medium.append(mae_list[i])\n",
    "            mse_group_medium.append(mse_list[i])\n",
    "        elif (i+1) in group3[\"low\"]:\n",
    "            mae_group_low.append(mae_list[i])\n",
    "            mse_group_low.append(mse_list[i])\n",
    "        else:\n",
    "            print(\"Error: \", i)\n",
    "\n",
    "    return [np.mean(mae_group_low), np.mean(mae_group_medium), np.mean(mae_group_high)], [np.mean(mse_group_low), np.mean(mse_group_medium), np.mean(mse_group_high)]"
   ]
  },
  {
   "cell_type": "code",
   "execution_count": 13,
   "metadata": {},
   "outputs": [],
   "source": [
    "def divide_five(mae_list, mse_list):\n",
    "    mae_group_very_high = []\n",
    "    mae_group_high = []\n",
    "    mae_group_medium = []\n",
    "    mae_group_low = []\n",
    "    mae_group_very_low = []\n",
    "\n",
    "    mse_group_very_high = []\n",
    "    mse_group_high = []\n",
    "    mse_group_medium = []\n",
    "    mse_group_low = []\n",
    "    mse_group_very_low = []\n",
    "\n",
    "    for i in range(len(mae_list)):\n",
    "\n",
    "        if mae_list[i] < 0 or mse_list[i] < 0:\n",
    "            continue\n",
    "\n",
    "        if (i+1) in group5[\"very_high\"]:\n",
    "            mae_group_very_high.append(mae_list[i])\n",
    "            mse_group_very_high.append(mse_list[i])\n",
    "        elif (i+1) in group5[\"high\"]:\n",
    "            mae_group_high.append(mae_list[i])\n",
    "            mse_group_high.append(mse_list[i])\n",
    "        elif (i+1) in group5[\"medium\"]:\n",
    "            mae_group_medium.append(mae_list[i])\n",
    "            mse_group_medium.append(mse_list[i])\n",
    "        elif (i+1) in group5[\"low\"]:\n",
    "            mae_group_low.append(mae_list[i])\n",
    "            mse_group_low.append(mse_list[i])\n",
    "        elif (i+1) in group5[\"very_low\"]:\n",
    "            mae_group_very_low.append(mae_list[i])\n",
    "            mse_group_very_low.append(mse_list[i])\n",
    "        else:\n",
    "            print(\"Error: \", i)\n",
    "\n",
    "    return [np.mean(mae_group_very_low), np.mean(mae_group_low), np.mean(mae_group_medium), np.mean(mae_group_high), np.mean(mae_group_very_high)], [np.mean(mse_group_very_low), np.mean(mse_group_low), np.mean(mse_group_medium), np.mean(mse_group_high), np.mean(mse_group_very_high)]"
   ]
  },
  {
   "attachments": {},
   "cell_type": "markdown",
   "metadata": {},
   "source": [
    "# Plot 3"
   ]
  },
  {
   "cell_type": "code",
   "execution_count": 65,
   "metadata": {},
   "outputs": [],
   "source": [
    "dc_mae_groups = divide_three(deepcrime_mae, deepcrime_mse)[0]\n",
    "# dc_mse_groups = [x * 1.73 for x in dc_mae_groups]\n",
    "dc_mse_groups = divide_three(deepcrime_mae, deepcrime_mse)[1]\n",
    "\n",
    "# aist_mae_groups = divide_three(aist_mae, aist_mse)[0]\n",
    "# aist_mse_groups = divide_three(aist_mae, aist_mse)[1]\n",
    "\n",
    "mist_mae_groups = divide_three(mist_mae, mist_mse)[0]\n",
    "# mist_mse_groups = [x * 1.73 for x in mist_mae_groups]\n",
    "mist_mse_groups = divide_three(mist_mae, mist_mse)[1]\n",
    "\n",
    "stshn_mae_groups = divide_three(stshn_mae, stshn_mse)[0]\n",
    "stshn_mse_groups = divide_three(stshn_mae, stshn_mse)[1]\n",
    "\n",
    "cf_mae_groups = divide_three(cf_mae, cf_mse)[0]\n",
    "cf_mse_groups = divide_three(cf_mae, cf_mse)[1]\n",
    "\n",
    "sthsl_mae_groups = divide_three(sthsl_mae, sthsl_mse)[0]\n",
    "sthsl_mse_groups = divide_three(sthsl_mae, sthsl_mse)[1]\n",
    "\n",
    "hagen_mae_groups = divide_three(hagen_mae, hagen_mse)[0]\n",
    "hagen_mse_groups = divide_three(hagen_mae, hagen_mse)[1]"
   ]
  },
  {
   "cell_type": "code",
   "execution_count": 66,
   "metadata": {},
   "outputs": [
    {
     "name": "stdout",
     "output_type": "stream",
     "text": [
      "[0.13853809770562026, 0.2983450342024241, 0.6577626164426703]\n",
      "[0.17735638594304573, 0.4644682695933316, 1.331443306269722]\n"
     ]
    }
   ],
   "source": [
    "aist_group_low = []\n",
    "aist_group_medium = []\n",
    "aist_group_high = []\n",
    "\n",
    "for key, value in aist_mae.items():\n",
    "    if (int(key)+1) in group3[\"low\"]:\n",
    "        aist_group_low.append(value)\n",
    "    elif (int(key)+1) in group3[\"medium\"]:\n",
    "        aist_group_medium.append(value)\n",
    "    elif (int(key)+1) in group3[\"high\"]:\n",
    "        aist_group_high.append(value)\n",
    "\n",
    "aist_mae_groups = [np.mean(aist_group_low), np.mean(aist_group_medium), np.mean(aist_group_high)]\n",
    "\n",
    "\n",
    "aist_group_low = []\n",
    "aist_group_medium = []\n",
    "aist_group_high = []\n",
    "\n",
    "for key, value in aist_mse.items():\n",
    "    if (int(key)+1) in group3[\"low\"]:\n",
    "        aist_group_low.append(value)\n",
    "    elif (int(key)+1) in group3[\"medium\"]:\n",
    "        aist_group_medium.append(value)\n",
    "    elif (int(key)+1) in group3[\"high\"]:\n",
    "        aist_group_high.append(value)\n",
    "\n",
    "aist_mse_groups = [np.mean(aist_group_low), np.mean(aist_group_medium), np.mean(aist_group_high)]\n",
    "\n",
    "print(aist_mae_groups)\n",
    "print(aist_mse_groups)"
   ]
  },
  {
   "cell_type": "code",
   "execution_count": 36,
   "metadata": {},
   "outputs": [
    {
     "data": {
      "image/png": "[encoded data removed]",
      "text/plain": [
       "<Figure size 720x360 with 1 Axes>"
      ]
     },
     "metadata": {
      "needs_background": "light"
     },
     "output_type": "display_data"
    },
    {
     "data": {
      "text/plain": [
       "<Figure size 432x288 with 0 Axes>"
      ]
     },
     "metadata": {},
     "output_type": "display_data"
    }
   ],
   "source": [
    "n_groups = 3\n",
    "\n",
    "# bar plot the mean mae of all models for each group in one figure\n",
    "fig, ax = plt.subplots(figsize=(10, 5))\n",
    "index = np.arange(n_groups)\n",
    "bar_width = 0.1\n",
    "opacity = 1\n",
    "\n",
    "\n",
    "rects1 = plt.bar(index, [x for x in dc_mae_groups], bar_width,                       \n",
    "                    alpha=opacity,\n",
    "                    color='#7f6dff',\n",
    "                    label='DeepCrime',\n",
    "                    edgecolor='black')\n",
    "\n",
    "temp_aist_mae_groups = aist_mae_groups\n",
    "rects2 = plt.bar(index + bar_width, [x for x in temp_aist_mae_groups], bar_width,     # /5\n",
    "                    alpha=opacity,\n",
    "                    color='#fd7f00',\n",
    "                    label='AIST',\n",
    "                    edgecolor='black')\n",
    "\n",
    "rects3 = plt.bar(index + bar_width*2, [x for x in mist_mae_groups], bar_width,       \n",
    "                    alpha=opacity,\n",
    "                    color='#5f0f2d',\n",
    "                    label='MIST',\n",
    "                    edgecolor='black')\n",
    "\n",
    "temp_sthsl_mae_groups = sthsl_mae_groups\n",
    "# temp_sthsl_mae_groups[0] = temp_sthsl_mae_groups[0] / 3\n",
    "# temp_sthsl_mae_groups[1] = temp_sthsl_mae_groups[1] / 2\n",
    "# temp_sthsl_mae_groups[2] = temp_sthsl_mae_groups[2] / 1.5\n",
    "rects4 = plt.bar(index + bar_width*3, [x for x in temp_sthsl_mae_groups], bar_width,      # /3\n",
    "                    alpha=opacity,\n",
    "                    color='#2d7f5e',\n",
    "                    label='STHSL',\n",
    "                    edgecolor='black')\n",
    "\n",
    "# temp_stshn_mae_groups = [x/1.5 for x in stshn_mae_groups]\n",
    "# temp_stshn_mae_groups[0] = temp_stshn_mae_groups[0] / 3\n",
    "# temp_stshn_mae_groups[1] = temp_stshn_mae_groups[1] / 1.5\n",
    "# temp_stshn_mae_groups[2] = temp_stshn_mae_groups[2] / 1.2\n",
    "rects5 = plt.bar(index + bar_width*4, [x for x in stshn_mae_groups], bar_width,      \n",
    "                    alpha=opacity,\n",
    "                    color='#a8328d',\n",
    "                    label='STSHN',\n",
    "                    edgecolor='black')\n",
    "\n",
    "rects6 = plt.bar(index + bar_width*5, [x for x in cf_mae_groups], bar_width,         \n",
    "                    alpha=opacity,\n",
    "                    color='#ff0000',\n",
    "                    label='CF',\n",
    "                    edgecolor='black')\n",
    "\n",
    "rects7 = plt.bar(index + bar_width*6, [x for x in hagen_mae_groups], bar_width,      # /8\n",
    "                    alpha=opacity,\n",
    "                    color='#00ff00',\n",
    "                    label='Hagen',\n",
    "                    edgecolor='black')\n",
    "\n",
    "plt.xlabel('Group')\n",
    "plt.ylabel('MAE')\n",
    "plt.title('MAE of all models for each group' + ' (' + \"DENSITY\" + ')')\n",
    "if n_groups==3:\n",
    "    plt.xticks(index + bar_width, ('Low', 'Medium', 'High'))\n",
    "elif n_groups==5:\n",
    "    plt.xticks(index + bar_width, ('Very Low', 'Low', 'Medium', 'High', 'Very High'))\n",
    "plt.legend()\n",
    "plt.tight_layout()\n",
    "plt.savefig('FINAL/Results/density'+'_wise_mae_group_' + str(n_groups) + '.jpg', bbox_inches='tight')\n",
    "plt.show()\n",
    "plt.clf()"
   ]
  },
  {
   "cell_type": "code",
   "execution_count": 37,
   "metadata": {},
   "outputs": [
    {
     "data": {
      "image/png": "[encoded data removed]",
      "text/plain": [
       "<Figure size 720x360 with 1 Axes>"
      ]
     },
     "metadata": {
      "needs_background": "light"
     },
     "output_type": "display_data"
    },
    {
     "data": {
      "text/plain": [
       "<Figure size 432x288 with 0 Axes>"
      ]
     },
     "metadata": {},
     "output_type": "display_data"
    }
   ],
   "source": [
    "n_groups = 3\n",
    "\n",
    "# bar plot the mean mse of all models for each group in one figure\n",
    "fig, ax = plt.subplots(figsize=(10, 5))\n",
    "index = np.arange(n_groups)\n",
    "bar_width = 0.1\n",
    "opacity = 1\n",
    "\n",
    "\n",
    "rects1 = plt.bar(index, [x**0.5 for x in dc_mse_groups], bar_width,                       \n",
    "                    alpha=opacity,\n",
    "                    color='#7f6dff',\n",
    "                    label='DeepCrime',\n",
    "                    edgecolor='black')\n",
    "\n",
    "temp_aist_mse_groups = aist_mse_groups\n",
    "rects2 = plt.bar(index + bar_width, [x**0.5 for x in temp_aist_mse_groups], bar_width,     #/5\n",
    "                    alpha=opacity,\n",
    "                    color='#fd7f00',\n",
    "                    label='AIST',\n",
    "                    edgecolor='black')\n",
    "\n",
    "rects3 = plt.bar(index + bar_width*2, [x**0.5 for x in mist_mse_groups], bar_width,       \n",
    "                    alpha=opacity,\n",
    "                    color='#5f0f2d',\n",
    "                    label='MIST',\n",
    "                    edgecolor='black')\n",
    "\n",
    "temp_sthsl_mse_groups = sthsl_mse_groups\n",
    "# temp_sthsl_mse_groups[0] = temp_sthsl_mse_groups[0] / 3\n",
    "# temp_sthsl_mse_groups[1] = temp_sthsl_mse_groups[1] / 2\n",
    "# temp_sthsl_mse_groups[2] = temp_sthsl_mse_groups[2] / 1.5\n",
    "rects4 = plt.bar(index + bar_width*3, [x**0.5 for x in temp_sthsl_mse_groups], bar_width,      # /3\n",
    "                    alpha=opacity,\n",
    "                    color='#2d7f5e',\n",
    "                    label='STHSL',\n",
    "                    edgecolor='black')\n",
    "\n",
    "# temp_stshn_mse_groups = [x/1.5 for x in stshn_mse_groups]\n",
    "# temp_stshn_mse_groups[0] = temp_stshn_mse_groups[0] / 3\n",
    "# temp_stshn_mse_groups[1] = temp_stshn_mse_groups[1] / 1.5\n",
    "# temp_stshn_mse_groups[2] = temp_stshn_mse_groups[2] / 1.2\n",
    "rects5 = plt.bar(index + bar_width*4, [x**0.5 for x in stshn_mse_groups], bar_width,      \n",
    "                    alpha=opacity,\n",
    "                    color='#a8328d',\n",
    "                    label='STSHN',\n",
    "                    edgecolor='black')\n",
    "\n",
    "rects6 = plt.bar(index + bar_width*5, [x**0.5 for x in cf_mse_groups], bar_width,         \n",
    "                    alpha=opacity,\n",
    "                    color='#ff0000',\n",
    "                    label='CF',\n",
    "                    edgecolor='black')\n",
    "\n",
    "rects7 = plt.bar(index + bar_width*6, [x**0.5 for x in hagen_mse_groups], bar_width,     \n",
    "                    alpha=opacity,\n",
    "                    color='#00ff00',\n",
    "                    label='Hagen',\n",
    "                    edgecolor='black')\n",
    "\n",
    "plt.xlabel('Group')\n",
    "plt.ylabel('RMSE')\n",
    "plt.title('RMSE of all models for each group' + ' (' + \"DENSITY\" + ')')\n",
    "if n_groups==3:\n",
    "    plt.xticks(index + bar_width, ('Low', 'Medium', 'High'))\n",
    "elif n_groups==5:\n",
    "    plt.xticks(index + bar_width, ('Very Low', 'Low', 'Medium', 'High', 'Very High'))\n",
    "plt.legend()\n",
    "plt.tight_layout()\n",
    "plt.savefig('FINAL/Results/density'+'_wise_rmse_group_' + str(n_groups) + '.jpg', bbox_inches='tight')\n",
    "plt.show()\n",
    "plt.clf()"
   ]
  },
  {
   "attachments": {},
   "cell_type": "markdown",
   "metadata": {},
   "source": [
    "# Plot 5"
   ]
  },
  {
   "cell_type": "code",
   "execution_count": 22,
   "metadata": {},
   "outputs": [],
   "source": [
    "dc_mae_groups = divide_five(deepcrime_mae, deepcrime_mse)[0]\n",
    "# dc_mse_groups = [x * 1.73 for x in dc_mae_groups]\n",
    "dc_mse_groups = divide_five(deepcrime_mae, deepcrime_mse)[1]\n",
    "\n",
    "# aist_mae_groups = divide_five(aist_mae, aist_mse)[0]\n",
    "# aist_mse_groups = divide_five(aist_mae, aist_mse)[1]\n",
    "\n",
    "mist_mae_groups = divide_five(mist_mae, mist_mse)[0]\n",
    "# mist_mse_groups = [x * 1.73 for x in mist_mae_groups]\n",
    "mist_mse_groups = divide_five(mist_mae, mist_mse)[1]\n",
    "\n",
    "stshn_mae_groups = divide_five(stshn_mae, stshn_mse)[0]\n",
    "stshn_mse_groups = divide_five(stshn_mae, stshn_mse)[1]\n",
    "\n",
    "cf_mae_groups = divide_five(cf_mae, cf_mse)[0]\n",
    "cf_mse_groups = divide_five(cf_mae, cf_mse)[1]\n",
    "\n",
    "sthsl_mae_groups = divide_five(sthsl_mae, sthsl_mse)[0]\n",
    "sthsl_mse_groups = divide_five(sthsl_mae, sthsl_mse)[1]\n",
    "\n",
    "hagen_mae_groups = divide_five(hagen_mae, hagen_mse)[0]\n",
    "hagen_mse_groups = divide_five(hagen_mae, hagen_mse)[1]"
   ]
  },
  {
   "cell_type": "code",
   "execution_count": 23,
   "metadata": {},
   "outputs": [
    {
     "name": "stdout",
     "output_type": "stream",
     "text": [
      "[0.10833333531793739, 0.16599697260351373, 0.23784289733365377, 0.562753447535215, 0.6255855693681431]\n",
      "[0.12857142722768905, 0.2217063484115518, 0.32214581386175156, 0.7491131810564917, 1.331443306269722]\n"
     ]
    }
   ],
   "source": [
    "aist_group_very_low = []\n",
    "aist_group_low = []\n",
    "aist_group_medium = []\n",
    "aist_group_high = []\n",
    "aist_group_very_high = []\n",
    "\n",
    "for key, value in aist_mae.items():\n",
    "    if (int(key)+1) in group5[\"very_low\"]:\n",
    "        aist_group_very_low.append(value)\n",
    "    elif (int(key)+1) in group5[\"low\"]:\n",
    "        aist_group_low.append(value)\n",
    "    elif (int(key)+1) in group5[\"medium\"]:\n",
    "        aist_group_medium.append(value)\n",
    "    elif int(key) in group5[\"high\"]:\n",
    "        aist_group_high.append(value)\n",
    "    elif int(key) in group5[\"very_high\"]:\n",
    "        aist_group_very_high.append(value)\n",
    "\n",
    "aist_mae_groups = [np.mean(aist_group_very_low), np.mean(aist_group_low), np.mean(aist_group_medium), np.mean(aist_group_high), np.mean(aist_group_very_high)]\n",
    "\n",
    "aist_group_very_low = []\n",
    "aist_group_low = []\n",
    "aist_group_medium = []\n",
    "aist_group_high = []\n",
    "aist_group_very_high = []\n",
    "\n",
    "for key, value in aist_mse.items():\n",
    "    if (int(key)+1) in group5[\"very_low\"]:\n",
    "        aist_group_very_low.append(value)\n",
    "    elif (int(key)+1) in group5[\"low\"]:\n",
    "        aist_group_low.append(value)\n",
    "    elif (int(key)+1) in group5[\"medium\"]:\n",
    "        aist_group_medium.append(value)\n",
    "    elif (int(key)+1) in group5[\"high\"]:\n",
    "        aist_group_high.append(value)\n",
    "    elif (int(key)+1) in group5[\"very_high\"]:\n",
    "        aist_group_very_high.append(value)\n",
    "    \n",
    "aist_mse_groups = [np.mean(aist_group_very_low), np.mean(aist_group_low), np.mean(aist_group_medium), np.mean(aist_group_high), np.mean(aist_group_very_high)]\n",
    "\n",
    "print(aist_mae_groups)\n",
    "print(aist_mse_groups)"
   ]
  },
  {
   "cell_type": "code",
   "execution_count": 24,
   "metadata": {},
   "outputs": [
    {
     "name": "stdout",
     "output_type": "stream",
     "text": [
      "[0.7504166666666666, 0.7590625, 0.8592105263157894, 1.198888888888889, 2.175238095238095]\n",
      "[0.10833333531793739, 0.16599697260351373, 0.23784289733365377, 0.562753447535215, 0.6255855693681431]\n",
      "[0.907458005609414, 0.8706943364733859, 0.7013745150327805, 0.6913628234050769, 0.6685949027498322]\n",
      "[1.009260326329219, 1.0114929568130315, 1.0091228895464741, 1.0119020207173066, 1.0061543548689953]\n",
      "[1.0008697867393495, 0.8263939568870947, 0.7142001723511813, 0.63288217918171, 0.6616474531421932]\n",
      "[0.5676405684017102, 0.5625450120313766, 0.5427368772001956, 0.5271858759535656, 0.5198325910537831]\n",
      "[0.45513802178274015, 0.4988949198118398, 0.5029850500967876, 0.49522058430225446, 0.49928108691209755]\n"
     ]
    },
    {
     "data": {
      "image/png": "[encoded data removed]",
      "text/plain": [
       "<Figure size 720x360 with 1 Axes>"
      ]
     },
     "metadata": {
      "needs_background": "light"
     },
     "output_type": "display_data"
    },
    {
     "data": {
      "text/plain": [
       "<Figure size 432x288 with 0 Axes>"
      ]
     },
     "metadata": {},
     "output_type": "display_data"
    }
   ],
   "source": [
    "print(dc_mae_groups)\n",
    "print(aist_mae_groups)\n",
    "print(mist_mae_groups)\n",
    "print(sthsl_mae_groups)\n",
    "print(stshn_mae_groups)\n",
    "print(cf_mae_groups)\n",
    "print(hagen_mae_groups)\n",
    "\n",
    "n_groups = 5\n",
    "\n",
    "# bar plot the mean mae of all models for each group in one figure\n",
    "fig, ax = plt.subplots(figsize=(10, 5))\n",
    "index = np.arange(n_groups)\n",
    "bar_width = 0.1\n",
    "opacity = 1\n",
    "\n",
    "temp_dc_mae_groups = dc_mae_groups\n",
    "# temp_dc_mae_groups[4] = temp_dc_mae_groups[4] * 1.73\n",
    "rects1 = plt.bar(index, [x for x in temp_dc_mae_groups], bar_width,                       \n",
    "                    alpha=opacity * 0.8,\n",
    "                    color='#7f6dff',\n",
    "                    label='DeepCrime',\n",
    "                    edgecolor='black')\n",
    "\n",
    "temp_aist_mae_groups = aist_mae_groups\n",
    "rects2 = plt.bar(index + bar_width, [x for x in temp_aist_mae_groups], bar_width,     # /5\n",
    "                    alpha=opacity,\n",
    "                    color='#fb8490',\n",
    "                    label='AIST',\n",
    "                    edgecolor='black')\n",
    "\n",
    "rects3 = plt.bar(index + bar_width*2, [x for x in mist_mae_groups], bar_width,       \n",
    "                    alpha=opacity,\n",
    "                    color='#f0fcb5',\n",
    "                    label='MIST',\n",
    "                    edgecolor='black')\n",
    "\n",
    "temp_sthsl_mae_groups = sthsl_mae_groups\n",
    "# temp_sthsl_mae_groups[0] = temp_sthsl_mae_groups[0] / 3\n",
    "# temp_sthsl_mae_groups[1] = temp_sthsl_mae_groups[1] / 2\n",
    "# temp_sthsl_mae_groups[2] = temp_sthsl_mae_groups[2] / 1.5\n",
    "rects4 = plt.bar(index + bar_width*3, [x for x in temp_sthsl_mae_groups], bar_width,      # /5\n",
    "                    alpha=opacity,\n",
    "                    color='#e3b5fc',\n",
    "                    label='STHSL',\n",
    "                    edgecolor='black')\n",
    "\n",
    "# temp_stshn_mae_groups = [x/1.5 for x in stshn_mae_groups]\n",
    "# temp_stshn_mae_groups[0] = temp_stshn_mae_groups[0] / 3\n",
    "# temp_stshn_mae_groups[1] = temp_stshn_mae_groups[1] / 1.5\n",
    "# temp_stshn_mae_groups[2] = temp_stshn_mae_groups[2] / 1.2\n",
    "rects5 = plt.bar(index + bar_width*4, [x for x in stshn_mae_groups], bar_width,      # /1.5\n",
    "                    alpha=opacity,\n",
    "                    color='#b5eafc',\n",
    "                    label='STSHN',\n",
    "                    edgecolor='black')\n",
    "\n",
    "rects6 = plt.bar(index + bar_width*5, [x for x in cf_mae_groups], bar_width,         \n",
    "                    alpha=opacity,\n",
    "                    color='#fbb384',\n",
    "                    label='CF',\n",
    "                    edgecolor='black')\n",
    "\n",
    "rects7 = plt.bar(index + bar_width*6, [x for x in hagen_mae_groups], bar_width,      # /5\n",
    "                    alpha=opacity,\n",
    "                    color='#84fbbd',\n",
    "                    label='Hagen',\n",
    "                    edgecolor='black')\n",
    "\n",
    "plt.xlabel('Group')\n",
    "plt.ylabel('MAE')\n",
    "plt.title('MAE of all models for each density group')\n",
    "if n_groups==3:\n",
    "    plt.xticks(index + 3 * bar_width, ('Low', 'Medium', 'High'))\n",
    "elif n_groups==5:\n",
    "    plt.xticks(index + 3 * bar_width, ('Very Low', 'Low', 'Medium', 'High', 'Very High'))\n",
    "plt.legend()\n",
    "plt.tight_layout()\n",
    "# plt.savefig('FINAL/Results/density'+'_wise_mae_group_' + str(n_groups) + '.jpg', bbox_inches='tight')\n",
    "plt.show()\n",
    "plt.clf()"
   ]
  },
  {
   "cell_type": "code",
   "execution_count": 25,
   "metadata": {},
   "outputs": [
    {
     "name": "stdout",
     "output_type": "stream",
     "text": [
      "[0.9140113055464175, 0.974839730417262, 1.1526856512190633, 1.837570860311696, 3.6502446101988446]\n",
      "[0.35856858092656285, 0.4708570360646125, 0.567578905405893, 0.8655132471871773, 1.1538818424213642]\n",
      "[0.9526059025690603, 0.9331100344939958, 0.8374810535366042, 0.831482304926014, 0.817676526965176]\n",
      "[1.0180166184270014, 1.0308550058526036, 1.0295316162716464, 1.0470483040990453, 1.0553845373207644]\n",
      "[1.181355535984039, 2.0445310163382295, 1.082768593644017, 0.9346671834143081, 0.9071599107331113]\n",
      "[0.6545780478389036, 0.6455257212848353, 0.6198188930335795, 0.5998932031260629, 0.5838326735264758]\n",
      "[0.5223206621540247, 0.5449574541013561, 0.548647276514846, 0.5421203704474344, 0.5460338785192168]\n"
     ]
    },
    {
     "data": {
      "image/png": "[encoded data removed]",
      "text/plain": [
       "<Figure size 720x360 with 1 Axes>"
      ]
     },
     "metadata": {
      "needs_background": "light"
     },
     "output_type": "display_data"
    },
    {
     "data": {
      "text/plain": [
       "<Figure size 432x288 with 0 Axes>"
      ]
     },
     "metadata": {},
     "output_type": "display_data"
    }
   ],
   "source": [
    "print([x**0.5 for x in dc_mse_groups])\n",
    "print([x**0.5 for x in aist_mse_groups])\n",
    "print([x**0.5 for x in mist_mse_groups])\n",
    "print([x**0.5 for x in sthsl_mse_groups])\n",
    "print([x**0.5 for x in stshn_mse_groups])\n",
    "print([x**0.5 for x in cf_mse_groups])\n",
    "print([x**0.5 for x in hagen_mse_groups])\n",
    "\n",
    "n_groups = 5\n",
    "\n",
    "# bar plot the mean mse of all models for each group in one figure\n",
    "fig, ax = plt.subplots(figsize=(10, 5))\n",
    "index = np.arange(n_groups)\n",
    "bar_width = 0.1\n",
    "opacity = 1\n",
    "\n",
    "temp_dc_mse_groups = dc_mse_groups\n",
    "# temp_dc_mse_groups[4] = temp_dc_mse_groups[4] * 1.73\n",
    "rects1 = plt.bar(index, [x**0.5 for x in temp_dc_mse_groups], bar_width,                       \n",
    "                    alpha=opacity * 0.8,\n",
    "                    color='#7f6dff',\n",
    "                    label='DeepCrime',\n",
    "                    edgecolor='black')\n",
    "\n",
    "temp_aist_mse_groups = aist_mse_groups\n",
    "rects2 = plt.bar(index + bar_width, [x**0.5 for x in temp_aist_mse_groups], bar_width,     # /5\n",
    "                    alpha=opacity,\n",
    "                    color='#fb8490',\n",
    "                    label='AIST',\n",
    "                    edgecolor='black')\n",
    "\n",
    "rects3 = plt.bar(index + bar_width*2, [x**0.5 for x in mist_mse_groups], bar_width,       \n",
    "                    alpha=opacity,\n",
    "                    color='#f0fcb5',\n",
    "                    label='MIST',\n",
    "                    edgecolor='black')\n",
    "\n",
    "temp_sthsl_mse_groups = sthsl_mse_groups\n",
    "# temp_sthsl_mse_groups[0] = temp_sthsl_mse_groups[0] / 3\n",
    "# temp_sthsl_mse_groups[1] = temp_sthsl_mse_groups[1] / 2\n",
    "# temp_sthsl_mse_groups[2] = temp_sthsl_mse_groups[2] / 1.5\n",
    "rects4 = plt.bar(index + bar_width*3, [x**0.5 for x in temp_sthsl_mse_groups], bar_width,      # /5\n",
    "                    alpha=opacity,\n",
    "                    color='#e3b5fc',\n",
    "                    label='STHSL',\n",
    "                    edgecolor='black')\n",
    "\n",
    "# temp_stshn_mse_groups = [x/1.5 for x in stshn_mse_groups]\n",
    "# temp_stshn_mse_groups[0] = temp_stshn_mse_groups[0] / 3\n",
    "# temp_stshn_mse_groups[1] = temp_stshn_mse_groups[1] / 1.5\n",
    "# temp_stshn_mse_groups[2] = temp_stshn_mse_groups[2] / 1.2\n",
    "rects5 = plt.bar(index + bar_width*4, [x**0.5 for x in stshn_mse_groups], bar_width,      # /1.5\n",
    "                    alpha=opacity,\n",
    "                    color='#b5eafc',\n",
    "                    label='STSHN',\n",
    "                    edgecolor='black')\n",
    "\n",
    "rects6 = plt.bar(index + bar_width*5, [x**0.5 for x in cf_mse_groups], bar_width,         \n",
    "                    alpha=opacity,\n",
    "                    color='#fbb384',\n",
    "                    label='CF',\n",
    "                    edgecolor='black')\n",
    "\n",
    "rects7 = plt.bar(index + bar_width*6, [x**0.5 for x in hagen_mse_groups], bar_width,      # /5\n",
    "                    alpha=opacity,\n",
    "                    color='#84fbbd',\n",
    "                    label='Hagen',\n",
    "                    edgecolor='black')\n",
    "\n",
    "plt.xlabel('Group')\n",
    "plt.ylabel('RMSE')\n",
    "plt.title('RMSE of all models for each density group')\n",
    "if n_groups==3:\n",
    "    plt.xticks(index + 3 * bar_width, ('Low', 'Medium', 'High'))\n",
    "elif n_groups==5:\n",
    "    plt.xticks(index + 3 * bar_width, ('Very Low', 'Low', 'Medium', 'High', 'Very High'))\n",
    "plt.legend()\n",
    "plt.tight_layout()\n",
    "# plt.savefig('FINAL/Results/density'+'_wise_rmse_group_' + str(n_groups) + '.jpg', bbox_inches='tight')\n",
    "plt.show()\n",
    "plt.clf()"
   ]
  },
  {
   "attachments": {},
   "cell_type": "markdown",
   "metadata": {},
   "source": [
    "### CSV file generation"
   ]
  },
  {
   "attachments": {},
   "cell_type": "markdown",
   "metadata": {},
   "source": [
    "# Area"
   ]
  },
  {
   "cell_type": "code",
   "execution_count": 26,
   "metadata": {},
   "outputs": [
    {
     "name": "stdout",
     "output_type": "stream",
     "text": [
      "{1: 4.77, 2: 9.14, 3: 6.01, 4: 6.63, 5: 5.31, 6: 8.08, 7: 8.18, 8: 7.1, 9: 2.93, 10: 11.32, 11: 6.03, 12: 8.29, 13: 6.53, 14: 4.97, 15: 10.23, 16: 8.31, 17: 9.63, 18: 2.56, 19: 10.13, 20: 3.03, 21: 5.13, 22: 9.3, 23: 9.32, 24: 11.86, 25: 18.52, 26: 3.32, 27: 5.0, 28: 14.74, 29: 8.31, 30: 11.89, 31: 7.59, 32: 4.27, 33: 4.61, 34: 2.59, 35: 4.27, 36: 1.5, 37: 1.84, 38: 4.51, 39: 2.69, 40: 3.94, 41: 4.17, 42: 5.36, 43: 7.59, 44: 7.64, 45: 3.24, 46: 8.65, 47: 1.58, 48: 4.53, 49: 12.48, 50: 5.49, 51: 28.23, 52: 7.72, 53: 9.22, 54: 9.14, 55: 13.57, 56: 10.96, 57: 5.21, 58: 7.04, 59: 3.65, 60: 5.41, 61: 12.51, 62: 3.03, 63: 5.7, 64: 6.6, 65: 7.64, 66: 9.14, 67: 8.16, 68: 7.95, 69: 9.19, 70: 12.59, 71: 9.76, 72: 8.24, 73: 7.41, 74: 7.02, 75: 8.55, 76: 34.55, 77: 4.51}\n"
     ]
    }
   ],
   "source": [
    "area_dict_path = \"Processed_Metrics/comm_area_dict.pkl\"\n",
    "\n",
    "with open(area_dict_path, 'rb') as f:\n",
    "    area_dict = pickle.load(f)\n",
    "\n",
    "print(area_dict)"
   ]
  },
  {
   "attachments": {},
   "cell_type": "markdown",
   "metadata": {},
   "source": [
    "# Group into 5"
   ]
  },
  {
   "cell_type": "code",
   "execution_count": 27,
   "metadata": {},
   "outputs": [
    {
     "name": "stdout",
     "output_type": "stream",
     "text": [
      "[[9, 18, 20, 26, 34, 36, 37, 39, 40, 45, 47, 59, 62], [1, 5, 14, 21, 27, 32, 33, 35, 38, 41, 42, 48, 50, 57, 60, 63, 77], [3, 4, 8, 11, 13, 31, 43, 44, 52, 58, 64, 65, 68, 73, 74], [2, 6, 7, 12, 16, 17, 22, 23, 29, 46, 53, 54, 66, 67, 69, 71, 72, 75], [10, 15, 19, 24, 25, 28, 30, 49, 51, 55, 56, 61, 70, 76]]\n"
     ]
    }
   ],
   "source": [
    "# group area into 5\n",
    "# group threshold: 0-4, 4-6, 6-8, 8-10, 10-above\n",
    "\n",
    "area_groups = [[], [], [], [], []]\n",
    "\n",
    "for area in area_dict:\n",
    "    if area_dict[area] < 4:\n",
    "        area_groups[0].append(area)\n",
    "    elif area_dict[area] < 6:\n",
    "        area_groups[1].append(area)\n",
    "    elif area_dict[area] < 8:\n",
    "        area_groups[2].append(area)\n",
    "    elif area_dict[area] < 10:\n",
    "        area_groups[3].append(area)\n",
    "    else:\n",
    "        area_groups[4].append(area)\n",
    "\n",
    "print(area_groups)"
   ]
  },
  {
   "cell_type": "code",
   "execution_count": 28,
   "metadata": {},
   "outputs": [],
   "source": [
    "def divide_five(mae_list, mse_list):\n",
    "    mae_group_very_high = []\n",
    "    mae_group_high = []\n",
    "    mae_group_medium = []\n",
    "    mae_group_low = []\n",
    "    mae_group_very_low = []\n",
    "\n",
    "    mse_group_very_high = []\n",
    "    mse_group_high = []\n",
    "    mse_group_medium = []\n",
    "    mse_group_low = []\n",
    "    mse_group_very_low = []\n",
    "\n",
    "    for i in range(len(mae_list)):\n",
    "\n",
    "        if mae_list[i] < 0 or mse_list[i] < 0:\n",
    "            continue\n",
    "\n",
    "        if (i+1) in area_groups[4]:\n",
    "            mae_group_very_high.append(mae_list[i])\n",
    "            mse_group_very_high.append(mse_list[i])\n",
    "        elif (i+1) in area_groups[3]:\n",
    "            mae_group_high.append(mae_list[i])\n",
    "            mse_group_high.append(mse_list[i])\n",
    "        elif (i+1) in area_groups[2]:\n",
    "            mae_group_medium.append(mae_list[i])\n",
    "            mse_group_medium.append(mse_list[i])\n",
    "        elif (i+1) in area_groups[1]:\n",
    "            mae_group_low.append(mae_list[i])\n",
    "            mse_group_low.append(mse_list[i])\n",
    "        elif (i+1) in area_groups[0]:\n",
    "            mae_group_very_low.append(mae_list[i])\n",
    "            mse_group_very_low.append(mse_list[i])\n",
    "        else:\n",
    "            print(\"Error: \", i)\n",
    "\n",
    "    return [np.mean(mae_group_very_low), np.mean(mae_group_low), np.mean(mae_group_medium), np.mean(mae_group_high), np.mean(mae_group_very_high)], [np.mean(mse_group_very_low), np.mean(mse_group_low), np.mean(mse_group_medium), np.mean(mse_group_high), np.mean(mse_group_very_high)]"
   ]
  },
  {
   "cell_type": "code",
   "execution_count": 29,
   "metadata": {},
   "outputs": [],
   "source": [
    "dc_mae_groups = divide_five(deepcrime_mae, deepcrime_mse)[0]\n",
    "# dc_mse_groups = [x * 1.73 for x in dc_mae_groups]\n",
    "dc_mse_groups = divide_five(deepcrime_mae, deepcrime_mse)[1]\n",
    "\n",
    "# aist_mae_groups = divide_five(aist_mae, aist_mse)[0]\n",
    "# aist_mse_groups = divide_five(aist_mae, aist_mse)[1]\n",
    "\n",
    "mist_mae_groups = divide_five(mist_mae, mist_mse)[0]\n",
    "# mist_mse_groups = [x * 1.73 for x in mist_mae_groups]\n",
    "mist_mse_groups = divide_five(mist_mae, mist_mse)[1]\n",
    "\n",
    "stshn_mae_groups = divide_five(stshn_mae, stshn_mse)[0]\n",
    "stshn_mse_groups = divide_five(stshn_mae, stshn_mse)[1]\n",
    "\n",
    "cf_mae_groups = divide_five(cf_mae, cf_mse)[0]\n",
    "cf_mse_groups = divide_five(cf_mae, cf_mse)[1]\n",
    "\n",
    "sthsl_mae_groups = divide_five(sthsl_mae, sthsl_mse)[0]\n",
    "sthsl_mse_groups = divide_five(sthsl_mae, sthsl_mse)[1]\n",
    "\n",
    "hagen_mae_groups = divide_five(hagen_mae, hagen_mse)[0]\n",
    "hagen_mse_groups = divide_five(hagen_mae, hagen_mse)[1]"
   ]
  },
  {
   "cell_type": "code",
   "execution_count": 30,
   "metadata": {},
   "outputs": [
    {
     "name": "stdout",
     "output_type": "stream",
     "text": [
      "[0.10168652818415058, 0.3490990912620941, 0.3824924110081083, 0.3904371409351746, 0.4168761062291672]\n",
      "[0.12185845673422786, 0.5938073606996894, 0.665575598416176, 0.6898651083923244, 0.8134454845288764]\n"
     ]
    }
   ],
   "source": [
    "aist_group_very_low = []\n",
    "aist_group_low = []\n",
    "aist_group_medium = []\n",
    "aist_group_high = []\n",
    "aist_group_very_high = []\n",
    "\n",
    "for key, value in aist_mae.items():\n",
    "    if (int(key)+1) in area_groups[0]:\n",
    "        aist_group_very_low.append(value)\n",
    "    elif (int(key)+1) in area_groups[1]:\n",
    "        aist_group_low.append(value)\n",
    "    elif (int(key)+1) in area_groups[2]:\n",
    "        aist_group_medium.append(value)\n",
    "    elif (int(key)+1) in area_groups[3]:\n",
    "        aist_group_high.append(value)\n",
    "    elif (int(key)+1) in area_groups[4]:\n",
    "        aist_group_very_high.append(value)\n",
    "\n",
    "aist_mae_groups = [np.mean(aist_group_very_low), np.mean(aist_group_low), np.mean(aist_group_medium), np.mean(aist_group_high), np.mean(aist_group_very_high)]\n",
    "\n",
    "aist_group_very_low = []\n",
    "aist_group_low = []\n",
    "aist_group_medium = []\n",
    "aist_group_high = []\n",
    "aist_group_very_high = []\n",
    "\n",
    "for key, value in aist_mse.items():\n",
    "    if (int(key)+1) in area_groups[0]:\n",
    "        aist_group_very_low.append(value)\n",
    "    elif (int(key)+1) in area_groups[1]:\n",
    "        aist_group_low.append(value)\n",
    "    elif (int(key)+1) in area_groups[2]:\n",
    "        aist_group_medium.append(value)\n",
    "    elif (int(key)+1) in area_groups[3]:\n",
    "        aist_group_high.append(value)\n",
    "    elif (int(key)+1) in area_groups[4]:\n",
    "        aist_group_very_high.append(value)\n",
    "    \n",
    "aist_mse_groups = [np.mean(aist_group_very_low), np.mean(aist_group_low), np.mean(aist_group_medium), np.mean(aist_group_high), np.mean(aist_group_very_high)]\n",
    "\n",
    "print(aist_mae_groups)\n",
    "print(aist_mse_groups)"
   ]
  },
  {
   "cell_type": "code",
   "execution_count": 31,
   "metadata": {},
   "outputs": [
    {
     "name": "stdout",
     "output_type": "stream",
     "text": [
      "[0.8, 1.078529411764706, 1.3206666666666664, 1.3622222222222222, 1.4914285714285713]\n",
      "[0.10168652818415058, 0.3490990912620941, 0.3824924110081083, 0.3904371409351746, 0.4168761062291672]\n",
      "[0.8513933249848743, 0.7287293278386899, 0.7579156758734223, 0.7393604048533627, 0.733981812955656]\n",
      "[0.999909313765674, 1.0141127246432007, 1.0051509785121964, 1.0088468954432122, 1.0171455219802192]\n",
      "[0.9195108968278636, 0.6504670201134825, 0.7720428089701066, 0.6756139649199104, 0.6314133188170203]\n",
      "[0.5757419667556738, 0.5368863274656833, 0.5408560877452014, 0.5281731902886582, 0.5395637928373972]\n",
      "[0.4576479567624507, 0.4995834932113938, 0.49865318620708626, 0.4995294251538965, 0.502064910408117]\n"
     ]
    },
    {
     "data": {
      "image/png": "[encoded data removed]",
      "text/plain": [
       "<Figure size 720x360 with 1 Axes>"
      ]
     },
     "metadata": {
      "needs_background": "light"
     },
     "output_type": "display_data"
    },
    {
     "data": {
      "text/plain": [
       "<Figure size 432x288 with 0 Axes>"
      ]
     },
     "metadata": {},
     "output_type": "display_data"
    }
   ],
   "source": [
    "print(dc_mae_groups)\n",
    "print(aist_mae_groups)\n",
    "print(mist_mae_groups)\n",
    "print(sthsl_mae_groups)\n",
    "print(stshn_mae_groups)\n",
    "print(cf_mae_groups)\n",
    "print(hagen_mae_groups)\n",
    "\n",
    "n_groups = 5\n",
    "\n",
    "# bar plot the mean mae of all models for each group in one figure\n",
    "fig, ax = plt.subplots(figsize=(10, 5))\n",
    "index = np.arange(n_groups)\n",
    "bar_width = 0.1\n",
    "opacity = 1\n",
    "\n",
    "temp_dc_mae_groups = dc_mae_groups\n",
    "# temp_dc_mae_groups[4] = temp_dc_mae_groups[4] * 1.73\n",
    "rects1 = plt.bar(index, [x for x in temp_dc_mae_groups], bar_width,                       \n",
    "                    alpha=opacity * 0.8,\n",
    "                    color='#7f6dff',\n",
    "                    label='DeepCrime',\n",
    "                    edgecolor='black')\n",
    "\n",
    "temp_aist_mae_groups = aist_mae_groups\n",
    "rects2 = plt.bar(index + bar_width, [x for x in temp_aist_mae_groups], bar_width,     # /5\n",
    "                    alpha=opacity,\n",
    "                    color='#fb8490',\n",
    "                    label='AIST',\n",
    "                    edgecolor='black')\n",
    "\n",
    "rects3 = plt.bar(index + bar_width*2, [x for x in mist_mae_groups], bar_width,       \n",
    "                    alpha=opacity,\n",
    "                    color='#f0fcb5',\n",
    "                    label='MIST',\n",
    "                    edgecolor='black')\n",
    "\n",
    "temp_sthsl_mae_groups = sthsl_mae_groups\n",
    "# temp_sthsl_mae_groups[0] = temp_sthsl_mae_groups[0] / 3\n",
    "# temp_sthsl_mae_groups[1] = temp_sthsl_mae_groups[1] / 2\n",
    "# temp_sthsl_mae_groups[2] = temp_sthsl_mae_groups[2] / 1.5\n",
    "rects4 = plt.bar(index + bar_width*3, [x for x in temp_sthsl_mae_groups], bar_width,      # /5\n",
    "                    alpha=opacity,\n",
    "                    color='#e3b5fc',\n",
    "                    label='STHSL',\n",
    "                    edgecolor='black')\n",
    "\n",
    "# temp_stshn_mae_groups = [x/1.5 for x in stshn_mae_groups]\n",
    "# temp_stshn_mae_groups[0] = temp_stshn_mae_groups[0] / 3\n",
    "# temp_stshn_mae_groups[1] = temp_stshn_mae_groups[1] / 1.5\n",
    "# temp_stshn_mae_groups[2] = temp_stshn_mae_groups[2] / 1.2\n",
    "rects5 = plt.bar(index + bar_width*4, [x for x in stshn_mae_groups], bar_width,      # /1.5\n",
    "                    alpha=opacity,\n",
    "                    color='#b5eafc',\n",
    "                    label='STSHN',\n",
    "                    edgecolor='black')\n",
    "\n",
    "rects6 = plt.bar(index + bar_width*5, [x for x in cf_mae_groups], bar_width,         \n",
    "                    alpha=opacity,\n",
    "                    color='#fbb384',\n",
    "                    label='CF',\n",
    "                    edgecolor='black')\n",
    "\n",
    "rects7 = plt.bar(index + bar_width*6, [x for x in hagen_mae_groups], bar_width,      # /5\n",
    "                    alpha=opacity,\n",
    "                    color='#84fbbd',\n",
    "                    label='Hagen',\n",
    "                    edgecolor='black')\n",
    "\n",
    "plt.xlabel('Group')\n",
    "plt.ylabel('MAE')\n",
    "plt.title('MAE of all models for each area group')\n",
    "if n_groups==3:\n",
    "    plt.xticks(index + bar_width, ('Low', 'Medium', 'High'))\n",
    "elif n_groups==5:\n",
    "    plt.xticks(index + bar_width, ('Very Low', 'Low', 'Medium', 'High', 'Very High'))\n",
    "plt.legend()\n",
    "plt.tight_layout()\n",
    "plt.savefig('FINAL/Results/area'+'_wise_mae_group_' + str(n_groups) + '.jpg', bbox_inches='tight')\n",
    "plt.show()\n",
    "plt.clf()"
   ]
  },
  {
   "cell_type": "code",
   "execution_count": 32,
   "metadata": {},
   "outputs": [
    {
     "name": "stdout",
     "output_type": "stream",
     "text": [
      "[1.0303098861694289, 2.0450082697948706, 2.5969212541007094, 2.104096533484674, 2.6039804695339566]\n",
      "[0.34908230653275435, 0.7705889700091024, 0.815828167211807, 0.830581187116783, 0.90191212683325]\n",
      "[0.9227097728890024, 0.8536564460242129, 0.8705835260751391, 0.8598606892127135, 0.8567273854357966]\n",
      "[1.0195107565291806, 1.0506342524288395, 1.0349131079595966, 1.0361192438469518, 1.041136016854667]\n",
      "[1.3440557764539411, 0.8762930006327705, 1.5323344522540256, 0.989941648215362, 0.7996535365907343]\n",
      "[0.6621223294670331, 0.6114601591766704, 0.6178308901257804, 0.6004970276206996, 0.6114043641354082]\n",
      "[0.5207419671653075, 0.5462090455696734, 0.5441608656951779, 0.5463104267191963, 0.5503285732214086]\n"
     ]
    },
    {
     "data": {
      "image/png": "[encoded data removed]",
      "text/plain": [
       "<Figure size 720x360 with 1 Axes>"
      ]
     },
     "metadata": {
      "needs_background": "light"
     },
     "output_type": "display_data"
    },
    {
     "data": {
      "text/plain": [
       "<Figure size 432x288 with 0 Axes>"
      ]
     },
     "metadata": {},
     "output_type": "display_data"
    }
   ],
   "source": [
    "print([x**0.5 for x in dc_mse_groups])\n",
    "print([x**0.5 for x in aist_mse_groups])\n",
    "print([x**0.5 for x in mist_mse_groups])\n",
    "print([x**0.5 for x in sthsl_mse_groups])\n",
    "print([x**0.5 for x in stshn_mse_groups])\n",
    "print([x**0.5 for x in cf_mse_groups])\n",
    "print([x**0.5 for x in hagen_mse_groups])\n",
    "\n",
    "n_groups = 5\n",
    "\n",
    "# bar plot the mean mse of all models for each group in one figure\n",
    "fig, ax = plt.subplots(figsize=(10, 5))\n",
    "index = np.arange(n_groups)\n",
    "bar_width = 0.1\n",
    "opacity = 1\n",
    "\n",
    "temp_dc_mse_groups = dc_mse_groups\n",
    "# temp_dc_mse_groups[4] = temp_dc_mse_groups[4] * 1.73\n",
    "rects1 = plt.bar(index, [x**0.5 for x in temp_dc_mse_groups], bar_width,                       \n",
    "                    alpha=opacity * 0.8,\n",
    "                    color='#7f6dff',\n",
    "                    label='DeepCrime',\n",
    "                    edgecolor='black')\n",
    "\n",
    "temp_aist_mse_groups = aist_mse_groups\n",
    "rects2 = plt.bar(index + bar_width, [x**0.5 for x in temp_aist_mse_groups], bar_width,     # /5\n",
    "                    alpha=opacity,\n",
    "                    color='#fb8490',\n",
    "                    label='AIST',\n",
    "                    edgecolor='black')\n",
    "\n",
    "rects3 = plt.bar(index + bar_width*2, [x**0.5 for x in mist_mse_groups], bar_width,       \n",
    "                    alpha=opacity,\n",
    "                    color='#f0fcb5',\n",
    "                    label='MIST',\n",
    "                    edgecolor='black')\n",
    "\n",
    "temp_sthsl_mse_groups = sthsl_mse_groups\n",
    "# temp_sthsl_mse_groups[0] = temp_sthsl_mse_groups[0] / 3\n",
    "# temp_sthsl_mse_groups[1] = temp_sthsl_mse_groups[1] / 2\n",
    "# temp_sthsl_mse_groups[2] = temp_sthsl_mse_groups[2] / 1.5\n",
    "rects4 = plt.bar(index + bar_width*3, [x**0.5 for x in temp_sthsl_mse_groups], bar_width,      # /5\n",
    "                    alpha=opacity,\n",
    "                    color='#e3b5fc',\n",
    "                    label='STHSL',\n",
    "                    edgecolor='black')\n",
    "\n",
    "# temp_stshn_mse_groups = [x**0.5/1.5 for x in stshn_mse_groups]\n",
    "# temp_stshn_mse_groups[0] = temp_stshn_mse_groups[0] / 3\n",
    "# temp_stshn_mse_groups[1] = temp_stshn_mse_groups[1] / 1.5\n",
    "# temp_stshn_mse_groups[2] = temp_stshn_mse_groups[2] / 1.2\n",
    "rects5 = plt.bar(index + bar_width*4, [x**0.5 for x in stshn_mse_groups], bar_width,      # /1.5\n",
    "                    alpha=opacity,\n",
    "                    color='#b5eafc',\n",
    "                    label='STSHN',\n",
    "                    edgecolor='black')\n",
    "\n",
    "rects6 = plt.bar(index + bar_width*5, [x**0.5 for x in cf_mse_groups], bar_width,         \n",
    "                    alpha=opacity,\n",
    "                    color='#fbb384',\n",
    "                    label='CF',\n",
    "                    edgecolor='black')\n",
    "\n",
    "rects7 = plt.bar(index + bar_width*6, [x**0.5 for x in hagen_mse_groups], bar_width,      # /5\n",
    "                    alpha=opacity,\n",
    "                    color='#84fbbd',\n",
    "                    label='Hagen',\n",
    "                    edgecolor='black')\n",
    "\n",
    "plt.xlabel('Group')\n",
    "plt.ylabel('RMSE')\n",
    "plt.title('RMSE of all models for each area group')\n",
    "if n_groups==3:\n",
    "    plt.xticks(index + bar_width, ('Low', 'Medium', 'High'))\n",
    "elif n_groups==5:\n",
    "    plt.xticks(index + bar_width, ('Very Low', 'Low', 'Medium', 'High', 'Very High'))\n",
    "plt.legend()\n",
    "plt.tight_layout()\n",
    "plt.savefig('FINAL/Results/area'+'_wise_rmse_group_' + str(n_groups) + '.jpg', bbox_inches='tight')\n",
    "plt.show()\n",
    "plt.clf()"
   ]
  },
  {
   "attachments": {},
   "cell_type": "markdown",
   "metadata": {},
   "source": [
    "## Group into 3"
   ]
  },
  {
   "cell_type": "code",
   "execution_count": 49,
   "metadata": {},
   "outputs": [
    {
     "name": "stdout",
     "output_type": "stream",
     "text": [
      "[[1, 9, 14, 18, 20, 26, 32, 33, 34, 35, 36, 37, 38, 39, 40, 41, 45, 47, 48, 59, 62, 77], [2, 3, 4, 5, 6, 7, 8, 11, 12, 13, 16, 17, 21, 22, 23, 27, 29, 31, 42, 43, 44, 46, 50, 52, 53, 54, 57, 58, 60, 63, 64, 65, 66, 67, 68, 69, 71, 72, 73, 74, 75], [10, 15, 19, 24, 25, 28, 30, 49, 51, 55, 56, 61, 70, 76]]\n"
     ]
    }
   ],
   "source": [
    "# group area into 3\n",
    "# group threshold: 0-5, 5-10, 10-above\n",
    "\n",
    "area_groups = [[], [], []]\n",
    "\n",
    "for area in area_dict:\n",
    "    if area_dict[area] < 5:\n",
    "        area_groups[0].append(area)\n",
    "    elif area_dict[area] < 10:\n",
    "        area_groups[1].append(area)\n",
    "    else:\n",
    "        area_groups[2].append(area)\n",
    "\n",
    "print(area_groups)"
   ]
  },
  {
   "cell_type": "code",
   "execution_count": 50,
   "metadata": {},
   "outputs": [],
   "source": [
    "def divide_three(mae_list, mse_list):\n",
    "    mae_group_high = []\n",
    "    mae_group_medium = []\n",
    "    mae_group_low = []\n",
    "\n",
    "    mse_group_high = []\n",
    "    mse_group_medium = []\n",
    "    mse_group_low = []\n",
    "\n",
    "    for i in range(len(mae_list)):\n",
    "\n",
    "        if mae_list[i] < 0 or mse_list[i] < 0:\n",
    "            continue\n",
    "\n",
    "        if (i+1) in area_groups[2]:\n",
    "            mae_group_high.append(mae_list[i])\n",
    "            mse_group_high.append(mse_list[i])\n",
    "        elif (i+1) in area_groups[1]:\n",
    "            mae_group_medium.append(mae_list[i])\n",
    "            mse_group_medium.append(mse_list[i])\n",
    "        elif (i+1) in area_groups[0]:\n",
    "            mae_group_low.append(mae_list[i])\n",
    "            mse_group_low.append(mse_list[i])\n",
    "        else:\n",
    "            print(\"Error: \", i)\n",
    "\n",
    "    return [np.mean(mae_group_low), np.mean(mae_group_medium), np.mean(mae_group_high)], [np.mean(mse_group_low), np.mean(mse_group_medium), np.mean(mse_group_high)]"
   ]
  },
  {
   "cell_type": "code",
   "execution_count": 51,
   "metadata": {},
   "outputs": [],
   "source": [
    "dc_mae_groups = divide_three(deepcrime_mae, deepcrime_mse)[0]\n",
    "# dc_mse_groups = [x * 1.73 for x in dc_mae_groups]\n",
    "dc_mse_groups = divide_three(deepcrime_mae, deepcrime_mse)[1]\n",
    "\n",
    "# aist_mae_groups = divide_three(aist_mae, aist_mse)[0]\n",
    "# aist_mse_groups = divide_three(aist_mae, aist_mse)[1]\n",
    "\n",
    "mist_mae_groups = divide_three(mist_mae, mist_mse)[0]\n",
    "# mist_mse_groups = [x * 1.73 for x in mist_mae_groups]\n",
    "mist_mse_groups = divide_three(mist_mae, mist_mse)[1]\n",
    "\n",
    "stshn_mae_groups = divide_three(stshn_mae, stshn_mse)[0]\n",
    "stshn_mse_groups = divide_three(stshn_mae, stshn_mse)[1]\n",
    "\n",
    "cf_mae_groups = divide_three(cf_mae, cf_mse)[0]\n",
    "cf_mse_groups = divide_three(cf_mae, cf_mse)[1]\n",
    "\n",
    "sthsl_mae_groups = divide_three(sthsl_mae, sthsl_mse)[0]\n",
    "sthsl_mse_groups = divide_three(sthsl_mae, sthsl_mse)[1]\n",
    "\n",
    "hagen_mae_groups = divide_three(hagen_mae, hagen_mse)[0]\n",
    "hagen_mse_groups = divide_three(hagen_mae, hagen_mse)[1]"
   ]
  },
  {
   "cell_type": "code",
   "execution_count": 52,
   "metadata": {},
   "outputs": [
    {
     "name": "stdout",
     "output_type": "stream",
     "text": [
      "[0.2583442211075469, 0.35930849450373614, 0.4168761062291672]\n",
      "[0.44253673094219426, 0.6127814709474355, 0.8134454845288764]\n"
     ]
    }
   ],
   "source": [
    "aist_group_low = []\n",
    "aist_group_medium = []\n",
    "aist_group_high = []\n",
    "\n",
    "for key, value in aist_mae.items():\n",
    "    if (int(key)+1) in area_groups[0]:\n",
    "        aist_group_low.append(value)\n",
    "    elif (int(key)+1) in area_groups[1]:\n",
    "        aist_group_medium.append(value)\n",
    "    elif (int(key)+1) in area_groups[2]:\n",
    "        aist_group_high.append(value)\n",
    "\n",
    "aist_mae_groups = [np.mean(aist_group_low), np.mean(aist_group_medium), np.mean(aist_group_high)]\n",
    "\n",
    "\n",
    "aist_group_low = []\n",
    "aist_group_medium = []\n",
    "aist_group_high = []\n",
    "\n",
    "for key, value in aist_mse.items():\n",
    "    if (int(key)+1) in area_groups[0]:\n",
    "        aist_group_low.append(value)\n",
    "    elif (int(key)+1) in area_groups[1]:\n",
    "        aist_group_medium.append(value)\n",
    "    elif (int(key)+1) in area_groups[2]:\n",
    "        aist_group_high.append(value)\n",
    "\n",
    "aist_mse_groups = [np.mean(aist_group_low), np.mean(aist_group_medium), np.mean(aist_group_high)]\n",
    "\n",
    "print(aist_mae_groups)\n",
    "print(aist_mse_groups)"
   ]
  },
  {
   "cell_type": "code",
   "execution_count": 53,
   "metadata": {},
   "outputs": [
    {
     "data": {
      "image/png": "[encoded data removed]",
      "text/plain": [
       "<Figure size 720x360 with 1 Axes>"
      ]
     },
     "metadata": {
      "needs_background": "light"
     },
     "output_type": "display_data"
    },
    {
     "data": {
      "text/plain": [
       "<Figure size 432x288 with 0 Axes>"
      ]
     },
     "metadata": {},
     "output_type": "display_data"
    }
   ],
   "source": [
    "n_groups = 3\n",
    "\n",
    "# bar plot the mean mae of all models for each group in one figure\n",
    "fig, ax = plt.subplots(figsize=(10, 5))\n",
    "index = np.arange(n_groups)\n",
    "bar_width = 0.1\n",
    "opacity = 1\n",
    "\n",
    "temp_dc_mae_groups = dc_mae_groups\n",
    "# temp_dc_mae_groups[4] = temp_dc_mae_groups[4] * 1.73\n",
    "rects1 = plt.bar(index, [x for x in temp_dc_mae_groups], bar_width,                       \n",
    "                    alpha=opacity,\n",
    "                    color='#7f6dff',\n",
    "                    label='DeepCrime',\n",
    "                    edgecolor='black')\n",
    "\n",
    "temp_aist_mae_groups = aist_mae_groups\n",
    "rects2 = plt.bar(index + bar_width, [x for x in temp_aist_mae_groups], bar_width,     # /5\n",
    "                    alpha=opacity,\n",
    "                    color='#fd7f00',\n",
    "                    label='AIST',\n",
    "                    edgecolor='black')\n",
    "\n",
    "rects3 = plt.bar(index + bar_width*2, [x for x in mist_mae_groups], bar_width,       \n",
    "                    alpha=opacity,\n",
    "                    color='#5f0f2d',\n",
    "                    label='MIST',\n",
    "                    edgecolor='black')\n",
    "\n",
    "temp_sthsl_mae_groups = sthsl_mae_groups\n",
    "# temp_sthsl_mae_groups[0] = temp_sthsl_mae_groups[0] / 3\n",
    "# temp_sthsl_mae_groups[1] = temp_sthsl_mae_groups[1] / 2\n",
    "# temp_sthsl_mae_groups[2] = temp_sthsl_mae_groups[2] / 1.5\n",
    "rects4 = plt.bar(index + bar_width*3, [x for x in temp_sthsl_mae_groups], bar_width,      # /5\n",
    "                    alpha=opacity,\n",
    "                    color='#2d7f5e',\n",
    "                    label='STHSL',\n",
    "                    edgecolor='black')\n",
    "\n",
    "# temp_stshn_mae_groups = [x/1.5 for x in stshn_mae_groups]\n",
    "# temp_stshn_mae_groups[0] = temp_stshn_mae_groups[0] / 3\n",
    "# temp_stshn_mae_groups[1] = temp_stshn_mae_groups[1] / 1.5\n",
    "# temp_stshn_mae_groups[2] = temp_stshn_mae_groups[2] / 1.2\n",
    "rects5 = plt.bar(index + bar_width*4, [x for x in stshn_mae_groups], bar_width,      # /1.5\n",
    "                    alpha=opacity,\n",
    "                    color='#a8328d',\n",
    "                    label='STSHN',\n",
    "                    edgecolor='black')\n",
    "\n",
    "rects6 = plt.bar(index + bar_width*5, [x for x in cf_mae_groups], bar_width,         \n",
    "                    alpha=opacity,\n",
    "                    color='#ff0000',\n",
    "                    label='CF',\n",
    "                    edgecolor='black')\n",
    "\n",
    "rects7 = plt.bar(index + bar_width*6, [x for x in hagen_mae_groups], bar_width,      # /5\n",
    "                    alpha=opacity,\n",
    "                    color='#00ff00',\n",
    "                    label='Hagen',\n",
    "                    edgecolor='black')\n",
    "\n",
    "plt.xlabel('Group')\n",
    "plt.ylabel('MAE')\n",
    "plt.title('MAE of all models for each group' + ' (' + \"AREA\" + ')')\n",
    "if n_groups==3:\n",
    "    plt.xticks(index + bar_width, ('Low', 'Medium', 'High'))\n",
    "elif n_groups==5:\n",
    "    plt.xticks(index + bar_width, ('Very Low', 'Low', 'Medium', 'High', 'Very High'))\n",
    "plt.legend()\n",
    "plt.tight_layout()\n",
    "plt.savefig('FINAL/Results/area'+'_wise_mae_group_' + str(n_groups) + '.jpg', bbox_inches='tight')\n",
    "plt.show()\n",
    "plt.clf()"
   ]
  },
  {
   "cell_type": "code",
   "execution_count": 54,
   "metadata": {},
   "outputs": [
    {
     "data": {
      "image/png": "[encoded data removed]",
      "text/plain": [
       "<Figure size 720x360 with 1 Axes>"
      ]
     },
     "metadata": {
      "needs_background": "light"
     },
     "output_type": "display_data"
    },
    {
     "data": {
      "text/plain": [
       "<Figure size 432x288 with 0 Axes>"
      ]
     },
     "metadata": {},
     "output_type": "display_data"
    }
   ],
   "source": [
    "n_groups = 3\n",
    "\n",
    "# bar plot the mean mse of all models for each group in one figure\n",
    "fig, ax = plt.subplots(figsize=(10, 5))\n",
    "index = np.arange(n_groups)\n",
    "bar_width = 0.1\n",
    "opacity = 1\n",
    "\n",
    "\n",
    "rects1 = plt.bar(index, [x**0.5 for x in dc_mse_groups], bar_width,                       \n",
    "                    alpha=opacity,\n",
    "                    color='#7f6dff',\n",
    "                    label='DeepCrime',\n",
    "                    edgecolor='black')\n",
    "\n",
    "temp_aist_mse_groups = aist_mse_groups\n",
    "rects2 = plt.bar(index + bar_width, [x**0.5 for x in temp_aist_mse_groups], bar_width,     #/5\n",
    "                    alpha=opacity,\n",
    "                    color='#fd7f00',\n",
    "                    label='AIST',\n",
    "                    edgecolor='black')\n",
    "\n",
    "rects3 = plt.bar(index + bar_width*2, [x**0.5 for x in mist_mse_groups], bar_width,       \n",
    "                    alpha=opacity,\n",
    "                    color='#5f0f2d',\n",
    "                    label='MIST',\n",
    "                    edgecolor='black')\n",
    "\n",
    "temp_sthsl_mse_groups = sthsl_mse_groups\n",
    "# temp_sthsl_mse_groups[0] = temp_sthsl_mse_groups[0] / 3\n",
    "# temp_sthsl_mse_groups[1] = temp_sthsl_mse_groups[1] / 2\n",
    "# temp_sthsl_mse_groups[2] = temp_sthsl_mse_groups[2] / 1.5\n",
    "rects4 = plt.bar(index + bar_width*3, [x**0.5 for x in temp_sthsl_mse_groups], bar_width,      # /3\n",
    "                    alpha=opacity,\n",
    "                    color='#2d7f5e',\n",
    "                    label='STHSL',\n",
    "                    edgecolor='black')\n",
    "\n",
    "# temp_stshn_mse_groups = [x/1.5 for x in stshn_mse_groups]\n",
    "# temp_stshn_mse_groups[0] = temp_stshn_mse_groups[0] / 3\n",
    "# temp_stshn_mse_groups[1] = temp_stshn_mse_groups[1] / 1.5\n",
    "# temp_stshn_mse_groups[2] = temp_stshn_mse_groups[2] / 1.2\n",
    "rects5 = plt.bar(index + bar_width*4, [x**0.5 for x in stshn_mse_groups], bar_width,      \n",
    "                    alpha=opacity,\n",
    "                    color='#a8328d',\n",
    "                    label='STSHN',\n",
    "                    edgecolor='black')\n",
    "\n",
    "rects6 = plt.bar(index + bar_width*5, [x**0.5 for x in cf_mse_groups], bar_width,         \n",
    "                    alpha=opacity,\n",
    "                    color='#ff0000',\n",
    "                    label='CF',\n",
    "                    edgecolor='black')\n",
    "\n",
    "rects7 = plt.bar(index + bar_width*6, [x**0.5 for x in hagen_mse_groups], bar_width,     \n",
    "                    alpha=opacity,\n",
    "                    color='#00ff00',\n",
    "                    label='Hagen',\n",
    "                    edgecolor='black')\n",
    "\n",
    "plt.xlabel('Group')\n",
    "plt.ylabel('RMSE')\n",
    "plt.title('RMSE of all models for each group' + ' (' + \"AREA\" + ')')\n",
    "if n_groups==3:\n",
    "    plt.xticks(index + bar_width, ('Low', 'Medium', 'High'))\n",
    "elif n_groups==5:\n",
    "    plt.xticks(index + bar_width, ('Very Low', 'Low', 'Medium', 'High', 'Very High'))\n",
    "plt.legend()\n",
    "plt.tight_layout()\n",
    "plt.savefig('FINAL/Results/area'+'_wise_rmse_group_' + str(n_groups) + '.jpg', bbox_inches='tight')\n",
    "plt.show()\n",
    "plt.clf()"
   ]
  },
  {
   "attachments": {},
   "cell_type": "markdown",
   "metadata": {},
   "source": [
    "# Crime Count"
   ]
  },
  {
   "cell_type": "code",
   "execution_count": 11,
   "metadata": {},
   "outputs": [
    {
     "name": "stdout",
     "output_type": "stream",
     "text": [
      "{1: 4059.0, 2: 3478.0, 3: 3369.0, 4: 1806.0, 5: 1276.0, 6: 5990.0, 7: 4321.0, 8: 12595.0, 9: 268.0, 10: 1165.0, 11: 970.0, 12: 463.0, 13: 796.0, 14: 2220.0, 15: 2907.0, 16: 2540.0, 17: 1338.0, 18: 553.0, 19: 4364.0, 20: 1302.0, 21: 2149.0, 22: 4897.0, 23: 8016.0, 24: 7305.0, 25: 14778.0, 26: 6232.0, 27: 4661.0, 28: 9367.0, 29: 9016.0, 30: 4452.0, 31: 2343.0, 32: 10603.0, 33: 1872.0, 34: 1026.0, 35: 2748.0, 36: 638.0, 37: 906.0, 38: 3396.0, 39: 1391.0, 40: 2344.0, 41: 1727.0, 42: 3565.0, 43: 8688.0, 44: 6807.0, 45: 1305.0, 46: 4260.0, 47: 375.0, 48: 1433.0, 49: 6547.0, 50: 1163.0, 51: 1854.0, 52: 1006.0, 53: 3865.0, 54: 1397.0, 55: 497.0, 56: 1865.0, 57: 814.0, 58: 2232.0, 59: 828.0, 60: 1453.0, 61: 4269.0, 62: 902.0, 63: 2161.0, 64: 939.0, 65: 1695.0, 66: 5526.0, 67: 6629.0, 68: 6036.0, 69: 6761.0, 70: 2350.0, 71: 7631.0, 72: 927.0, 73: 3224.0, 74: 473.0, 75: 1878.0, 76: 1689.0, 77: 2513.0}\n"
     ]
    }
   ],
   "source": [
    "crime_count_path = \"Processed_Metrics/comm_crime_dict.pkl\"\n",
    "with open(crime_count_path, 'rb') as f:\n",
    "    crime_count_dict = pickle.load(f)\n",
    "\n",
    "print(crime_count_dict)"
   ]
  },
  {
   "attachments": {},
   "cell_type": "markdown",
   "metadata": {},
   "source": [
    "## Group into 5"
   ]
  },
  {
   "cell_type": "code",
   "execution_count": 14,
   "metadata": {},
   "outputs": [
    {
     "name": "stdout",
     "output_type": "stream",
     "text": [
      "[[5, 9, 10, 11, 12, 13, 17, 18, 20, 34, 36, 37, 39, 45, 47, 48, 50, 52, 54, 55, 57, 59, 60, 62, 64, 72, 74], [4, 14, 15, 16, 21, 31, 33, 35, 40, 41, 51, 56, 58, 63, 65, 70, 75, 76, 77], [1, 2, 3, 7, 19, 30, 38, 42, 46, 53, 61, 73], [6, 22, 27, 66], [8, 23, 24, 25, 26, 28, 29, 32, 43, 44, 49, 67, 68, 69, 71]]\n"
     ]
    }
   ],
   "source": [
    "# group into 5\n",
    "# group threshold: 0-1500, 1500-3000, 3000-4500, 4500-6000, 6000-above\n",
    "\n",
    "crime_count_groups = [[], [], [], [], []]\n",
    "for key in crime_count_dict:\n",
    "    if crime_count_dict[key] < 1500:\n",
    "        crime_count_groups[0].append(key)\n",
    "    elif crime_count_dict[key] < 3000:\n",
    "        crime_count_groups[1].append(key)\n",
    "    elif crime_count_dict[key] < 4500:\n",
    "        crime_count_groups[2].append(key)\n",
    "    elif crime_count_dict[key] < 6000:\n",
    "        crime_count_groups[3].append(key)\n",
    "    else:\n",
    "        crime_count_groups[4].append(key)\n",
    "\n",
    "print(crime_count_groups)"
   ]
  },
  {
   "cell_type": "code",
   "execution_count": 15,
   "metadata": {},
   "outputs": [],
   "source": [
    "def divide_five(mae_list, mse_list):\n",
    "    mae_group_very_high = []\n",
    "    mae_group_high = []\n",
    "    mae_group_medium = []\n",
    "    mae_group_low = []\n",
    "    mae_group_very_low = []\n",
    "\n",
    "    mse_group_very_high = []\n",
    "    mse_group_high = []\n",
    "    mse_group_medium = []\n",
    "    mse_group_low = []\n",
    "    mse_group_very_low = []\n",
    "\n",
    "    for i in range(len(mae_list)):\n",
    "\n",
    "        if mae_list[i] < 0 or mse_list[i] < 0:\n",
    "            continue\n",
    "\n",
    "        if (i+1) in crime_count_groups[4]:\n",
    "            mae_group_very_high.append(mae_list[i])\n",
    "            mse_group_very_high.append(mse_list[i])\n",
    "        elif (i+1) in crime_count_groups[3]:\n",
    "            mae_group_high.append(mae_list[i])\n",
    "            mse_group_high.append(mse_list[i])\n",
    "        elif (i+1) in crime_count_groups[2]:\n",
    "            mae_group_medium.append(mae_list[i])\n",
    "            mse_group_medium.append(mse_list[i])\n",
    "        elif (i+1) in crime_count_groups[1]:\n",
    "            mae_group_low.append(mae_list[i])\n",
    "            mse_group_low.append(mse_list[i])\n",
    "        elif (i+1) in crime_count_groups[0]:\n",
    "            mae_group_very_low.append(mae_list[i])\n",
    "            mse_group_very_low.append(mse_list[i])\n",
    "        else:\n",
    "            print(\"Error: \", i)\n",
    "\n",
    "    return [np.mean(mae_group_very_low), np.mean(mae_group_low), np.mean(mae_group_medium), np.mean(mae_group_high), np.mean(mae_group_very_high)], [np.mean(mse_group_very_low), np.mean(mse_group_low), np.mean(mse_group_medium), np.mean(mse_group_high), np.mean(mse_group_very_high)]"
   ]
  },
  {
   "cell_type": "code",
   "execution_count": 16,
   "metadata": {},
   "outputs": [
    {
     "name": "stderr",
     "output_type": "stream",
     "text": [
      "c:\\Users\\Asus\\AppData\\Local\\Programs\\Python\\Python37\\lib\\site-packages\\numpy\\core\\fromnumeric.py:3335: RuntimeWarning: Mean of empty slice.\n",
      "  out=out, **kwargs)\n",
      "c:\\Users\\Asus\\AppData\\Local\\Programs\\Python\\Python37\\lib\\site-packages\\numpy\\core\\_methods.py:161: RuntimeWarning: invalid value encountered in double_scalars\n",
      "  ret = ret.dtype.type(ret / rcount)\n"
     ]
    }
   ],
   "source": [
    "dc_mae_groups = divide_five(deepcrime_mae, deepcrime_mse)[0]\n",
    "# dc_mse_groups = [x * 1.73 for x in dc_mae_groups]\n",
    "dc_mse_groups = divide_five(deepcrime_mae, deepcrime_mse)[1]\n",
    "\n",
    "# aist_mae_groups = divide_five(aist_mae, aist_mse)[0]\n",
    "# aist_mse_groups = divide_five(aist_mae, aist_mse)[1]\n",
    "\n",
    "mist_mae_groups = divide_five(mist_mae, mist_mse)[0]\n",
    "# mist_mse_groups = [x * 1.73 for x in mist_mae_groups]\n",
    "mist_mse_groups = divide_five(mist_mae, mist_mse)[1]\n",
    "\n",
    "stshn_mae_groups = divide_five(stshn_mae, stshn_mse)[0]\n",
    "stshn_mse_groups = divide_five(stshn_mae, stshn_mse)[1]\n",
    "\n",
    "cf_mae_groups = divide_five(cf_mae, cf_mse)[0]\n",
    "cf_mse_groups = divide_five(cf_mae, cf_mse)[1]\n",
    "\n",
    "sthsl_mae_groups = divide_five(sthsl_mae, sthsl_mse)[0]\n",
    "sthsl_mse_groups = divide_five(sthsl_mae, sthsl_mse)[1]\n",
    "\n",
    "hagen_mae_groups = divide_five(hagen_mae, hagen_mse)[0]\n",
    "hagen_mse_groups = divide_five(hagen_mae, hagen_mse)[1]"
   ]
  },
  {
   "cell_type": "code",
   "execution_count": 17,
   "metadata": {},
   "outputs": [
    {
     "name": "stdout",
     "output_type": "stream",
     "text": [
      "[0.09657738069404981, 0.24384326121089833, 0.38879309864141903, 0.6356591742535654, 0.768563176313258]\n",
      "[0.11488095189755163, 0.33157394689471076, 0.6022590682054606, 1.2762391521381227, 1.6275422830217712]\n"
     ]
    }
   ],
   "source": [
    "aist_group_very_low = []\n",
    "aist_group_low = []\n",
    "aist_group_medium = []\n",
    "aist_group_high = []\n",
    "aist_group_very_high = []\n",
    "\n",
    "for key, value in aist_mae.items():\n",
    "    if (int(key)+1) in crime_count_groups[0]:\n",
    "        aist_group_very_low.append(value)\n",
    "    elif (int(key)+1) in crime_count_groups[1]:\n",
    "        aist_group_low.append(value)\n",
    "    elif (int(key)+1) in crime_count_groups[2]:\n",
    "        aist_group_medium.append(value)\n",
    "    elif (int(key)+1) in crime_count_groups[3]:\n",
    "        aist_group_high.append(value)\n",
    "    elif (int(key)+1) in crime_count_groups[4]:\n",
    "        aist_group_very_high.append(value)\n",
    "\n",
    "aist_mae_groups = [np.mean(aist_group_very_low), np.mean(aist_group_low), np.mean(aist_group_medium), np.mean(aist_group_high), np.mean(aist_group_very_high)]\n",
    "\n",
    "aist_group_very_low = []\n",
    "aist_group_low = []\n",
    "aist_group_medium = []\n",
    "aist_group_high = []\n",
    "aist_group_very_high = []\n",
    "\n",
    "for key, value in aist_mse.items():\n",
    "    if (int(key)+1) in crime_count_groups[0]:\n",
    "        aist_group_very_low.append(value)\n",
    "    elif (int(key)+1) in crime_count_groups[1]:\n",
    "        aist_group_low.append(value)\n",
    "    elif (int(key)+1) in crime_count_groups[2]:\n",
    "        aist_group_medium.append(value)\n",
    "    elif (int(key)+1) in crime_count_groups[3]:\n",
    "        aist_group_high.append(value)\n",
    "    elif (int(key)+1) in crime_count_groups[4]:\n",
    "        aist_group_very_high.append(value)\n",
    "    \n",
    "aist_mse_groups = [np.mean(aist_group_very_low), np.mean(aist_group_low), np.mean(aist_group_medium), np.mean(aist_group_high), np.mean(aist_group_very_high)]\n",
    "\n",
    "print(aist_mae_groups)\n",
    "print(aist_mse_groups)"
   ]
  },
  {
   "cell_type": "code",
   "execution_count": 19,
   "metadata": {},
   "outputs": [
    {
     "data": {
      "image/png": "[encoded data removed]",
      "text/plain": [
       "<Figure size 720x360 with 1 Axes>"
      ]
     },
     "metadata": {
      "needs_background": "light"
     },
     "output_type": "display_data"
    },
    {
     "data": {
      "text/plain": [
       "<Figure size 432x288 with 0 Axes>"
      ]
     },
     "metadata": {},
     "output_type": "display_data"
    }
   ],
   "source": [
    "n_groups = 5\n",
    "\n",
    "# bar plot the mean mae of all models for each group in one figure\n",
    "fig, ax = plt.subplots(figsize=(10, 5))\n",
    "index = np.arange(n_groups)\n",
    "bar_width = 0.1\n",
    "opacity = 1\n",
    "\n",
    "temp_dc_mae_groups = dc_mae_groups\n",
    "# temp_dc_mae_groups[4] = temp_dc_mae_groups[4] * 1.73\n",
    "rects1 = plt.bar(index, [x for x in temp_dc_mae_groups], bar_width,                       \n",
    "                    alpha=opacity,\n",
    "                    color='#7f6dff',\n",
    "                    label='DeepCrime',\n",
    "                    edgecolor='black')\n",
    "\n",
    "temp_aist_mae_groups = aist_mae_groups\n",
    "rects2 = plt.bar(index + bar_width, [x for x in temp_aist_mae_groups], bar_width,     # /5\n",
    "                    alpha=opacity,\n",
    "                    color='#fd7f00',\n",
    "                    label='AIST',\n",
    "                    edgecolor='black')\n",
    "\n",
    "rects3 = plt.bar(index + bar_width*2, [x for x in mist_mae_groups], bar_width,       \n",
    "                    alpha=opacity,\n",
    "                    color='#5f0f2d',\n",
    "                    label='MIST',\n",
    "                    edgecolor='black')\n",
    "\n",
    "temp_sthsl_mae_groups = sthsl_mae_groups\n",
    "# temp_sthsl_mae_groups[0] = temp_sthsl_mae_groups[0] / 3\n",
    "# temp_sthsl_mae_groups[1] = temp_sthsl_mae_groups[1] / 2\n",
    "# temp_sthsl_mae_groups[2] = temp_sthsl_mae_groups[2] / 1.5\n",
    "rects4 = plt.bar(index + bar_width*3, [x for x in temp_sthsl_mae_groups], bar_width,      # /5\n",
    "                    alpha=opacity,\n",
    "                    color='#2d7f5e',\n",
    "                    label='STHSL',\n",
    "                    edgecolor='black')\n",
    "\n",
    "# temp_stshn_mae_groups = [x/1.5 for x in stshn_mae_groups]\n",
    "# temp_stshn_mae_groups[0] = temp_stshn_mae_groups[0] / 3\n",
    "# temp_stshn_mae_groups[1] = temp_stshn_mae_groups[1] / 1.5\n",
    "# temp_stshn_mae_groups[2] = temp_stshn_mae_groups[2] / 1.2\n",
    "rects5 = plt.bar(index + bar_width*4, [x for x in stshn_mae_groups], bar_width,      # /1.5\n",
    "                    alpha=opacity,\n",
    "                    color='#a8328d',\n",
    "                    label='STSHN',\n",
    "                    edgecolor='black')\n",
    "\n",
    "rects6 = plt.bar(index + bar_width*5, [x for x in cf_mae_groups], bar_width,         \n",
    "                    alpha=opacity,\n",
    "                    color='#ff0000',\n",
    "                    label='CF',\n",
    "                    edgecolor='black')\n",
    "\n",
    "rects7 = plt.bar(index + bar_width*6, [x for x in hagen_mae_groups], bar_width,      # /5\n",
    "                    alpha=opacity,\n",
    "                    color='#00ff00',\n",
    "                    label='Hagen',\n",
    "                    edgecolor='black')\n",
    "\n",
    "plt.xlabel('Group')\n",
    "plt.ylabel('MAE')\n",
    "plt.title('MAE of all models for each group' + ' (' + \"CRIME COUNT\" + ')')\n",
    "if n_groups==3:\n",
    "    plt.xticks(index + bar_width, ('Low', 'Medium', 'High'))\n",
    "elif n_groups==5:\n",
    "    plt.xticks(index + bar_width, ('Very Low', 'Low', 'Medium', 'High', 'Very High'))\n",
    "plt.legend()\n",
    "plt.tight_layout()\n",
    "plt.savefig('FINAL/Results/Crime Count'+'_wise_mae_group_' + str(n_groups) + '.jpg', bbox_inches='tight')\n",
    "plt.show()\n",
    "plt.clf()"
   ]
  },
  {
   "cell_type": "code",
   "execution_count": 20,
   "metadata": {},
   "outputs": [
    {
     "data": {
      "image/png": "[encoded data removed]",
      "text/plain": [
       "<Figure size 720x360 with 1 Axes>"
      ]
     },
     "metadata": {
      "needs_background": "light"
     },
     "output_type": "display_data"
    },
    {
     "data": {
      "text/plain": [
       "<Figure size 432x288 with 0 Axes>"
      ]
     },
     "metadata": {},
     "output_type": "display_data"
    }
   ],
   "source": [
    "n_groups = 5\n",
    "\n",
    "# bar plot the mean mse of all models for each group in one figure\n",
    "fig, ax = plt.subplots(figsize=(10, 5))\n",
    "index = np.arange(n_groups)\n",
    "bar_width = 0.1\n",
    "opacity = 1\n",
    "\n",
    "temp_dc_mse_groups = dc_mse_groups\n",
    "# temp_dc_mse_groups[4] = temp_dc_mse_groups[4] * 1.73\n",
    "rects1 = plt.bar(index, [x**0.5 for x in temp_dc_mse_groups], bar_width,                       \n",
    "                    alpha=opacity,\n",
    "                    color='#7f6dff',\n",
    "                    label='DeepCrime',\n",
    "                    edgecolor='black')\n",
    "\n",
    "temp_aist_mse_groups = aist_mse_groups\n",
    "rects2 = plt.bar(index + bar_width, [x**0.5 for x in temp_aist_mse_groups], bar_width,         # /5\n",
    "                    alpha=opacity,\n",
    "                    color='#fd7f00',\n",
    "                    label='AIST',\n",
    "                    edgecolor='black')\n",
    "\n",
    "rects3 = plt.bar(index + bar_width*2, [x**0.5 for x in mist_mse_groups], bar_width,       # 10\n",
    "                    alpha=opacity,\n",
    "                    color='#5f0f2d',\n",
    "                    label='MIST',\n",
    "                    edgecolor='black')\n",
    "\n",
    "temp_sthsl_mse_groups = sthsl_mse_groups\n",
    "# temp_sthsl_mse_groups[0] = temp_sthsl_mse_groups[0] / 3\n",
    "# temp_sthsl_mse_groups[1] = temp_sthsl_mse_groups[1] / 2\n",
    "# temp_sthsl_mse_groups[2] = temp_sthsl_mse_groups[2] / 1.5\n",
    "rects4 = plt.bar(index + bar_width*3, [x**0.5 for x in temp_sthsl_mse_groups], bar_width,      # /5\n",
    "                    alpha=opacity,\n",
    "                    color='#2d7f5e',\n",
    "                    label='STHSL',\n",
    "                    edgecolor='black')\n",
    "\n",
    "# temp_stshn_mse_groups = [x/1.5 for x in stshn_mse_groups]\n",
    "# temp_stshn_mse_groups[0] = temp_stshn_mse_groups[0] / 3\n",
    "# temp_stshn_mse_groups[1] = temp_stshn_mse_groups[1] / 1.5\n",
    "# temp_stshn_mse_groups[2] = temp_stshn_mse_groups[2] / 1.2\n",
    "rects5 = plt.bar(index + bar_width*4, [x**0.5 for x in stshn_mse_groups], bar_width,      # /1.5\n",
    "                    alpha=opacity,\n",
    "                    color='#a8328d',\n",
    "                    label='STSHN',\n",
    "                    edgecolor='black')\n",
    "\n",
    "rects6 = plt.bar(index + bar_width*5, [x**0.5 for x in cf_mse_groups], bar_width,         \n",
    "                    alpha=opacity,\n",
    "                    color='#ff0000',\n",
    "                    label='CF',\n",
    "                    edgecolor='black')\n",
    "\n",
    "rects7 = plt.bar(index + bar_width*6, [x**0.5 for x in hagen_mse_groups], bar_width,      # /5\n",
    "                    alpha=opacity,\n",
    "                    color='#00ff00',\n",
    "                    label='Hagen',\n",
    "                    edgecolor='black')\n",
    "\n",
    "plt.xlabel('Group')\n",
    "plt.ylabel('RMSE')\n",
    "plt.title('RMSE of all models for each group' + ' (' + \"CRIME COUNT\" + ')')\n",
    "if n_groups==3:\n",
    "    plt.xticks(index + bar_width, ('Low', 'Medium', 'High'))\n",
    "elif n_groups==5:\n",
    "    plt.xticks(index + bar_width, ('Very Low', 'Low', 'Medium', 'High', 'Very High'))\n",
    "plt.legend()\n",
    "plt.tight_layout()\n",
    "plt.savefig('FINAL/Results/crime count'+'_wise_rmse_group_' + str(n_groups) + '.jpg', bbox_inches='tight')\n",
    "plt.show()\n",
    "plt.clf()"
   ]
  },
  {
   "cell_type": "code",
   "execution_count": 32,
   "metadata": {},
   "outputs": [
    {
     "name": "stdout",
     "output_type": "stream",
     "text": [
      "[array([ 5,  9, 10, 11, 12, 13, 17, 18, 20, 23, 33, 34, 36, 37, 39, 41, 45,\n",
      "       47, 48, 50, 52, 54, 55, 56, 57, 59, 60, 62, 64, 65, 72, 74, 75, 76],\n",
      "      dtype=int64)]\n",
      "[5, 9, 10, 11, 12, 13, 17, 18, 20, 23, 33, 34, 36, 37, 39, 41, 45, 47, 48, 50, 52, 54, 55, 56, 57, 59, 60, 62, 64, 65, 72, 74, 75, 76]\n",
      "[5, 9, 10, 11, 12, 13, 17, 18, 20, 34, 36, 37, 39, 45, 47, 48, 50, 52, 54, 55, 57, 59, 60, 62, 64, 72, 74]\n"
     ]
    }
   ],
   "source": [
    "# get index of values of stshn_mse where value = -1\n",
    "indexNames = np.where(stshn_mse == -1)\n",
    "print([x+1 for x in indexNames])\n",
    "\n",
    "import os\n",
    "files_stshn = os.listdir('FINAL/ST-SHN/Metrics/')\n",
    "files_stshn = [int(f.split(\".\")[0]) for f in files_stshn]\n",
    "\n",
    "missing = []\n",
    "\n",
    "for i in range(1, 78):\n",
    "    if i not in files_stshn:\n",
    "        missing.append(i)\n",
    "\n",
    "print(missing)\n",
    "\n",
    "print(crime_count_groups[0])"
   ]
  },
  {
   "attachments": {},
   "cell_type": "markdown",
   "metadata": {},
   "source": [
    "## Group into 3"
   ]
  },
  {
   "cell_type": "code",
   "execution_count": 41,
   "metadata": {},
   "outputs": [
    {
     "name": "stdout",
     "output_type": "stream",
     "text": [
      "[[4, 5, 9, 10, 11, 12, 13, 14, 15, 16, 17, 18, 20, 21, 31, 33, 34, 35, 36, 37, 39, 40, 41, 45, 47, 48, 50, 51, 52, 54, 55, 56, 57, 58, 59, 60, 62, 63, 64, 65, 70, 72, 74, 75, 76, 77], [1, 2, 3, 6, 7, 19, 22, 27, 30, 38, 42, 46, 53, 61, 66, 73], [8, 23, 24, 25, 26, 28, 29, 32, 43, 44, 49, 67, 68, 69, 71]]\n"
     ]
    }
   ],
   "source": [
    "# group into 5\n",
    "# group threshold: 0-3000, 3000-6000, 6000-above\n",
    "\n",
    "crime_count_groups = [[], [], []]\n",
    "for key in crime_count_dict:\n",
    "    if crime_count_dict[key] < 3000:\n",
    "        crime_count_groups[0].append(key)\n",
    "    elif crime_count_dict[key] < 6000:\n",
    "        crime_count_groups[1].append(key)\n",
    "    else:\n",
    "        crime_count_groups[2].append(key)\n",
    "\n",
    "print(crime_count_groups)"
   ]
  },
  {
   "cell_type": "code",
   "execution_count": 42,
   "metadata": {},
   "outputs": [],
   "source": [
    "def divide_three(mae_list, mse_list):\n",
    "    mae_group_high = []\n",
    "    mae_group_medium = []\n",
    "    mae_group_low = []\n",
    "\n",
    "    mse_group_high = []\n",
    "    mse_group_medium = []\n",
    "    mse_group_low = []\n",
    "\n",
    "    for i in range(len(mae_list)):\n",
    "\n",
    "        if mae_list[i] < 0 or mse_list[i] < 0:\n",
    "            continue\n",
    "\n",
    "        if (i+1) in crime_count_groups[2]:\n",
    "            mae_group_high.append(mae_list[i])\n",
    "            mse_group_high.append(mse_list[i])\n",
    "        elif (i+1) in crime_count_groups[1]:\n",
    "            mae_group_medium.append(mae_list[i])\n",
    "            mse_group_medium.append(mse_list[i])\n",
    "        elif (i+1) in crime_count_groups[0]:\n",
    "            mae_group_low.append(mae_list[i])\n",
    "            mse_group_low.append(mse_list[i])\n",
    "        else:\n",
    "            print(\"Error: \", i)\n",
    "\n",
    "    return [np.mean(mae_group_low), np.mean(mae_group_medium), np.mean(mae_group_high)], [np.mean(mse_group_low), np.mean(mse_group_medium), np.mean(mse_group_high)]"
   ]
  },
  {
   "cell_type": "code",
   "execution_count": 43,
   "metadata": {},
   "outputs": [],
   "source": [
    "dc_mae_groups = divide_three(deepcrime_mae, deepcrime_mse)[0]\n",
    "# dc_mse_groups = [x * 1.73 for x in dc_mae_groups]\n",
    "dc_mse_groups = divide_three(deepcrime_mae, deepcrime_mse)[1]\n",
    "\n",
    "# aist_mae_groups = divide_three(aist_mae, aist_mse)[0]\n",
    "# aist_mse_groups = divide_three(aist_mae, aist_mse)[1]\n",
    "\n",
    "mist_mae_groups = divide_three(mist_mae, mist_mse)[0]\n",
    "# mist_mse_groups = [x * 1.73 for x in mist_mae_groups]\n",
    "mist_mse_groups = divide_three(mist_mae, mist_mse)[1]\n",
    "\n",
    "stshn_mae_groups = divide_three(stshn_mae, stshn_mse)[0]\n",
    "stshn_mse_groups = divide_three(stshn_mae, stshn_mse)[1]\n",
    "\n",
    "cf_mae_groups = divide_three(cf_mae, cf_mse)[0]\n",
    "cf_mse_groups = divide_three(cf_mae, cf_mse)[1]\n",
    "\n",
    "sthsl_mae_groups = divide_three(sthsl_mae, sthsl_mse)[0]\n",
    "sthsl_mse_groups = divide_three(sthsl_mae, sthsl_mse)[1]\n",
    "\n",
    "hagen_mae_groups = divide_three(hagen_mae, hagen_mse)[0]\n",
    "hagen_mse_groups = divide_three(hagen_mae, hagen_mse)[1]"
   ]
  },
  {
   "cell_type": "code",
   "execution_count": 44,
   "metadata": {},
   "outputs": [
    {
     "name": "stdout",
     "output_type": "stream",
     "text": [
      "[0.1596913294869849, 0.4505096175444556, 0.768563176313258]\n",
      "[0.2077493783249055, 0.7707540891886262, 1.6275422830217712]\n"
     ]
    }
   ],
   "source": [
    "aist_group_low = []\n",
    "aist_group_medium = []\n",
    "aist_group_high = []\n",
    "\n",
    "for key, value in aist_mae.items():\n",
    "    if (int(key)+1) in crime_count_groups[0]:\n",
    "        aist_group_low.append(value)\n",
    "    elif (int(key)+1) in crime_count_groups[1]:\n",
    "        aist_group_medium.append(value)\n",
    "    elif (int(key)+1) in crime_count_groups[2]:\n",
    "        aist_group_high.append(value)\n",
    "\n",
    "aist_mae_groups = [np.mean(aist_group_low), np.mean(aist_group_medium), np.mean(aist_group_high)]\n",
    "\n",
    "\n",
    "aist_group_low = []\n",
    "aist_group_medium = []\n",
    "aist_group_high = []\n",
    "\n",
    "for key, value in aist_mse.items():\n",
    "    if (int(key)+1) in crime_count_groups[0]:\n",
    "        aist_group_low.append(value)\n",
    "    elif (int(key)+1) in crime_count_groups[1]:\n",
    "        aist_group_medium.append(value)\n",
    "    elif (int(key)+1) in crime_count_groups[2]:\n",
    "        aist_group_high.append(value)\n",
    "\n",
    "aist_mse_groups = [np.mean(aist_group_low), np.mean(aist_group_medium), np.mean(aist_group_high)]\n",
    "\n",
    "print(aist_mae_groups)\n",
    "print(aist_mse_groups)"
   ]
  },
  {
   "cell_type": "code",
   "execution_count": 46,
   "metadata": {},
   "outputs": [
    {
     "data": {
      "image/png": "[encoded data removed]",
      "text/plain": [
       "<Figure size 720x360 with 1 Axes>"
      ]
     },
     "metadata": {
      "needs_background": "light"
     },
     "output_type": "display_data"
    },
    {
     "data": {
      "text/plain": [
       "<Figure size 432x288 with 0 Axes>"
      ]
     },
     "metadata": {},
     "output_type": "display_data"
    }
   ],
   "source": [
    "n_groups = 3\n",
    "\n",
    "# bar plot the mean mae of all models for each group in one figure\n",
    "fig, ax = plt.subplots(figsize=(10, 5))\n",
    "index = np.arange(n_groups)\n",
    "bar_width = 0.1\n",
    "opacity = 1\n",
    "\n",
    "temp_dc_mae_groups = dc_mae_groups\n",
    "# temp_dc_mae_groups[4] = temp_dc_mae_groups[4] * 1.73\n",
    "rects1 = plt.bar(index, [x for x in temp_dc_mae_groups], bar_width,                       \n",
    "                    alpha=opacity,\n",
    "                    color='#7f6dff',\n",
    "                    label='DeepCrime',\n",
    "                    edgecolor='black')\n",
    "\n",
    "temp_aist_mae_groups = aist_mae_groups\n",
    "rects2 = plt.bar(index + bar_width, [x for x in temp_aist_mae_groups], bar_width,     # /5\n",
    "                    alpha=opacity,\n",
    "                    color='#fd7f00',\n",
    "                    label='AIST',\n",
    "                    edgecolor='black')\n",
    "\n",
    "rects3 = plt.bar(index + bar_width*2, [x for x in mist_mae_groups], bar_width,       \n",
    "                    alpha=opacity,\n",
    "                    color='#5f0f2d',\n",
    "                    label='MIST',\n",
    "                    edgecolor='black')\n",
    "\n",
    "temp_sthsl_mae_groups = sthsl_mae_groups\n",
    "# temp_sthsl_mae_groups[0] = temp_sthsl_mae_groups[0] / 3\n",
    "# temp_sthsl_mae_groups[1] = temp_sthsl_mae_groups[1] / 2\n",
    "# temp_sthsl_mae_groups[2] = temp_sthsl_mae_groups[2] / 1.5\n",
    "rects4 = plt.bar(index + bar_width*3, [x for x in temp_sthsl_mae_groups], bar_width,      # /5\n",
    "                    alpha=opacity,\n",
    "                    color='#2d7f5e',\n",
    "                    label='STHSL',\n",
    "                    edgecolor='black')\n",
    "\n",
    "# temp_stshn_mae_groups = [x/1.5 for x in stshn_mae_groups]\n",
    "# temp_stshn_mae_groups[0] = temp_stshn_mae_groups[0] / 3\n",
    "# temp_stshn_mae_groups[1] = temp_stshn_mae_groups[1] / 1.5\n",
    "# temp_stshn_mae_groups[2] = temp_stshn_mae_groups[2] / 1.2\n",
    "rects5 = plt.bar(index + bar_width*4, [x for x in stshn_mae_groups], bar_width,      # /1.5\n",
    "                    alpha=opacity,\n",
    "                    color='#a8328d',\n",
    "                    label='STSHN',\n",
    "                    edgecolor='black')\n",
    "\n",
    "rects6 = plt.bar(index + bar_width*5, [x for x in cf_mae_groups], bar_width,         \n",
    "                    alpha=opacity,\n",
    "                    color='#ff0000',\n",
    "                    label='CF',\n",
    "                    edgecolor='black')\n",
    "\n",
    "rects7 = plt.bar(index + bar_width*6, [x for x in hagen_mae_groups], bar_width,      # /5\n",
    "                    alpha=opacity,\n",
    "                    color='#00ff00',\n",
    "                    label='Hagen',\n",
    "                    edgecolor='black')\n",
    "\n",
    "plt.xlabel('Group')\n",
    "plt.ylabel('MAE')\n",
    "plt.title('MAE of all models for each group' + ' (' + \"CRIME COUNT\" + ')')\n",
    "if n_groups==3:\n",
    "    plt.xticks(index + bar_width, ('Low', 'Medium', 'High'))\n",
    "elif n_groups==5:\n",
    "    plt.xticks(index + bar_width, ('Very Low', 'Low', 'Medium', 'High', 'Very High'))\n",
    "plt.legend()\n",
    "plt.tight_layout()\n",
    "plt.savefig('FINAL/Results/Crime Count'+'_wise_mae_group_' + str(n_groups) + '.jpg', bbox_inches='tight')\n",
    "plt.show()\n",
    "plt.clf()"
   ]
  },
  {
   "cell_type": "code",
   "execution_count": 47,
   "metadata": {},
   "outputs": [
    {
     "data": {
      "image/png": "[encoded data removed]",
      "text/plain": [
       "<Figure size 720x360 with 1 Axes>"
      ]
     },
     "metadata": {
      "needs_background": "light"
     },
     "output_type": "display_data"
    },
    {
     "data": {
      "text/plain": [
       "<Figure size 432x288 with 0 Axes>"
      ]
     },
     "metadata": {},
     "output_type": "display_data"
    }
   ],
   "source": [
    "n_groups = 3\n",
    "\n",
    "# bar plot the mean mse of all models for each group in one figure\n",
    "fig, ax = plt.subplots(figsize=(10, 5))\n",
    "index = np.arange(n_groups)\n",
    "bar_width = 0.1\n",
    "opacity = 1\n",
    "\n",
    "\n",
    "rects1 = plt.bar(index, [x**0.5 for x in dc_mse_groups], bar_width,                       \n",
    "                    alpha=opacity,\n",
    "                    color='#7f6dff',\n",
    "                    label='DeepCrime',\n",
    "                    edgecolor='black')\n",
    "\n",
    "temp_aist_mse_groups = aist_mse_groups\n",
    "rects2 = plt.bar(index + bar_width, [x**0.5 for x in temp_aist_mse_groups], bar_width,     #/5\n",
    "                    alpha=opacity,\n",
    "                    color='#fd7f00',\n",
    "                    label='AIST',\n",
    "                    edgecolor='black')\n",
    "\n",
    "rects3 = plt.bar(index + bar_width*2, [x**0.5 for x in mist_mse_groups], bar_width,       \n",
    "                    alpha=opacity,\n",
    "                    color='#5f0f2d',\n",
    "                    label='MIST',\n",
    "                    edgecolor='black')\n",
    "\n",
    "temp_sthsl_mse_groups = sthsl_mse_groups\n",
    "# temp_sthsl_mse_groups[0] = temp_sthsl_mse_groups[0] / 3\n",
    "# temp_sthsl_mse_groups[1] = temp_sthsl_mse_groups[1] / 2\n",
    "# temp_sthsl_mse_groups[2] = temp_sthsl_mse_groups[2] / 1.5\n",
    "rects4 = plt.bar(index + bar_width*3, [x**0.5 for x in temp_sthsl_mse_groups], bar_width,      # /3\n",
    "                    alpha=opacity,\n",
    "                    color='#2d7f5e',\n",
    "                    label='STHSL',\n",
    "                    edgecolor='black')\n",
    "\n",
    "# temp_stshn_mse_groups = [x/1.5 for x in stshn_mse_groups]\n",
    "# temp_stshn_mse_groups[0] = temp_stshn_mse_groups[0] / 3\n",
    "# temp_stshn_mse_groups[1] = temp_stshn_mse_groups[1] / 1.5\n",
    "# temp_stshn_mse_groups[2] = temp_stshn_mse_groups[2] / 1.2\n",
    "rects5 = plt.bar(index + bar_width*4, [x**0.5 for x in stshn_mse_groups], bar_width,      \n",
    "                    alpha=opacity,\n",
    "                    color='#a8328d',\n",
    "                    label='STSHN',\n",
    "                    edgecolor='black')\n",
    "\n",
    "rects6 = plt.bar(index + bar_width*5, [x**0.5 for x in cf_mse_groups], bar_width,         \n",
    "                    alpha=opacity,\n",
    "                    color='#ff0000',\n",
    "                    label='CF',\n",
    "                    edgecolor='black')\n",
    "\n",
    "rects7 = plt.bar(index + bar_width*6, [x**0.5 for x in hagen_mse_groups], bar_width,     \n",
    "                    alpha=opacity,\n",
    "                    color='#00ff00',\n",
    "                    label='Hagen',\n",
    "                    edgecolor='black')\n",
    "\n",
    "plt.xlabel('Group')\n",
    "plt.ylabel('RMSE')\n",
    "plt.title('RMSE of all models for each group' + ' (' + \"CRIME COUNT\" + ')')\n",
    "if n_groups==3:\n",
    "    plt.xticks(index + bar_width, ('Low', 'Medium', 'High'))\n",
    "elif n_groups==5:\n",
    "    plt.xticks(index + bar_width, ('Very Low', 'Low', 'Medium', 'High', 'Very High'))\n",
    "plt.legend()\n",
    "plt.tight_layout()\n",
    "plt.savefig('FINAL/Results/crime count'+'_wise_rmse_group_' + str(n_groups) + '.jpg', bbox_inches='tight')\n",
    "plt.show()\n",
    "plt.clf()"
   ]
  },
  {
   "attachments": {},
   "cell_type": "markdown",
   "metadata": {},
   "source": [
    "# Overall"
   ]
  },
  {
   "cell_type": "code",
   "execution_count": 33,
   "metadata": {},
   "outputs": [],
   "source": [
    "# calculating mean for 6 models\n",
    "dc_mae = np.mean(deepcrime_mae[deepcrime_mae>=0])\n",
    "dc_mse = np.mean(deepcrime_mse[deepcrime_mse>=0]**0.5)\n",
    "\n",
    "mist_mae = np.mean(mist_mae[mist_mae>=0])\n",
    "mist_mse = np.mean(mist_mse[mist_mse>=0]**0.5)\n",
    "\n",
    "sthsl_mae = np.mean(sthsl_mae[sthsl_mae>=0])\n",
    "sthsl_mse = np.mean(sthsl_mse[sthsl_mse>=0]**0.5)\n",
    "\n",
    "stshn_mae = np.mean(stshn_mae[stshn_mae>=0])\n",
    "stshn_mse = np.mean(stshn_mse[stshn_mse>=0]**0.5)\n",
    "\n",
    "cf_mae = np.mean(cf_mae[cf_mae>=0])\n",
    "cf_mse = np.mean(cf_mse[cf_mse>=0]**0.5)\n",
    "\n",
    "hagen_mae = np.mean(hagen_mae[hagen_mae>=0])\n",
    "hagen_mse = np.mean(hagen_mse[hagen_mse>=0]**0.5)\n",
    "\n",
    "\n",
    "# calculating mean for aist\n",
    "temp_mae = []\n",
    "for key, value in aist_mae.items():\n",
    "    temp_mae.append(value)\n",
    "aist_mae = np.mean(temp_mae)\n",
    "\n",
    "temp_mse = []\n",
    "for key, value in aist_mse.items():\n",
    "    temp_mse.append(value**0.5)\n",
    "aist_mse = np.mean(temp_mse)\n",
    "\n",
    "del temp_mae, temp_mse"
   ]
  },
  {
   "cell_type": "code",
   "execution_count": 38,
   "metadata": {},
   "outputs": [
    {
     "name": "stdout",
     "output_type": "stream",
     "text": [
      "DC MIST CF HAGEN STSHN STHSL AIST\n",
      "1.220064935064935 0.7585646701935344 0.5426696750108805 0.49276076641682626 0.6910134428542011 1.009190547784648 0.3427668605193807\n"
     ]
    },
    {
     "ename": "ValueError",
     "evalue": "The number of FixedLocator locations (5), usually from a call to set_ticks, does not match the number of ticklabels (7).",
     "output_type": "error",
     "traceback": [
      "\u001b[1;31m---------------------------------------------------------------------------\u001b[0m",
      "\u001b[1;31mValueError\u001b[0m                                Traceback (most recent call last)",
      "\u001b[1;32m<ipython-input-38-182fc5cca980>\u001b[0m in \u001b[0;36m<module>\u001b[1;34m\u001b[0m\n\u001b[0;32m     24\u001b[0m \u001b[0mplt\u001b[0m\u001b[1;33m.\u001b[0m\u001b[0mylabel\u001b[0m\u001b[1;33m(\u001b[0m\u001b[1;34m'MAE'\u001b[0m\u001b[1;33m)\u001b[0m\u001b[1;33m\u001b[0m\u001b[1;33m\u001b[0m\u001b[0m\n\u001b[0;32m     25\u001b[0m \u001b[0mplt\u001b[0m\u001b[1;33m.\u001b[0m\u001b[0mtitle\u001b[0m\u001b[1;33m(\u001b[0m\u001b[1;34m'MAE of all models for each group'\u001b[0m\u001b[1;33m)\u001b[0m\u001b[1;33m\u001b[0m\u001b[1;33m\u001b[0m\u001b[0m\n\u001b[1;32m---> 26\u001b[1;33m \u001b[0mplt\u001b[0m\u001b[1;33m.\u001b[0m\u001b[0mxticks\u001b[0m\u001b[1;33m(\u001b[0m\u001b[0mindex\u001b[0m \u001b[1;33m+\u001b[0m \u001b[0mbar_width\u001b[0m\u001b[1;33m,\u001b[0m \u001b[1;33m(\u001b[0m\u001b[1;34m'DeepCrime'\u001b[0m\u001b[1;33m,\u001b[0m \u001b[1;34m'AIST'\u001b[0m\u001b[1;33m,\u001b[0m \u001b[1;34m'MIST'\u001b[0m\u001b[1;33m,\u001b[0m \u001b[1;34m'STHSL'\u001b[0m\u001b[1;33m,\u001b[0m \u001b[1;34m'STSHN'\u001b[0m\u001b[1;33m,\u001b[0m \u001b[1;34m'CF'\u001b[0m\u001b[1;33m,\u001b[0m \u001b[1;34m'Hagen'\u001b[0m\u001b[1;33m)\u001b[0m\u001b[1;33m)\u001b[0m\u001b[1;33m\u001b[0m\u001b[1;33m\u001b[0m\u001b[0m\n\u001b[0m\u001b[0;32m     27\u001b[0m \u001b[0mplt\u001b[0m\u001b[1;33m.\u001b[0m\u001b[0mlegend\u001b[0m\u001b[1;33m(\u001b[0m\u001b[1;33m)\u001b[0m\u001b[1;33m\u001b[0m\u001b[1;33m\u001b[0m\u001b[0m\n\u001b[0;32m     28\u001b[0m \u001b[0mplt\u001b[0m\u001b[1;33m.\u001b[0m\u001b[0mtight_layout\u001b[0m\u001b[1;33m(\u001b[0m\u001b[1;33m)\u001b[0m\u001b[1;33m\u001b[0m\u001b[1;33m\u001b[0m\u001b[0m\n",
      "\u001b[1;32mc:\\Users\\Asus\\AppData\\Local\\Programs\\Python\\Python37\\lib\\site-packages\\matplotlib\\pyplot.py\u001b[0m in \u001b[0;36mxticks\u001b[1;34m(ticks, labels, **kwargs)\u001b[0m\n\u001b[0;32m   1812\u001b[0m             \u001b[0ml\u001b[0m\u001b[1;33m.\u001b[0m\u001b[0mupdate\u001b[0m\u001b[1;33m(\u001b[0m\u001b[0mkwargs\u001b[0m\u001b[1;33m)\u001b[0m\u001b[1;33m\u001b[0m\u001b[1;33m\u001b[0m\u001b[0m\n\u001b[0;32m   1813\u001b[0m     \u001b[1;32melse\u001b[0m\u001b[1;33m:\u001b[0m\u001b[1;33m\u001b[0m\u001b[1;33m\u001b[0m\u001b[0m\n\u001b[1;32m-> 1814\u001b[1;33m         \u001b[0mlabels\u001b[0m \u001b[1;33m=\u001b[0m \u001b[0max\u001b[0m\u001b[1;33m.\u001b[0m\u001b[0mset_xticklabels\u001b[0m\u001b[1;33m(\u001b[0m\u001b[0mlabels\u001b[0m\u001b[1;33m,\u001b[0m \u001b[1;33m**\u001b[0m\u001b[0mkwargs\u001b[0m\u001b[1;33m)\u001b[0m\u001b[1;33m\u001b[0m\u001b[1;33m\u001b[0m\u001b[0m\n\u001b[0m\u001b[0;32m   1815\u001b[0m \u001b[1;33m\u001b[0m\u001b[0m\n\u001b[0;32m   1816\u001b[0m     \u001b[1;32mreturn\u001b[0m \u001b[0mlocs\u001b[0m\u001b[1;33m,\u001b[0m \u001b[0mlabels\u001b[0m\u001b[1;33m\u001b[0m\u001b[1;33m\u001b[0m\u001b[0m\n",
      "\u001b[1;32mc:\\Users\\Asus\\AppData\\Local\\Programs\\Python\\Python37\\lib\\site-packages\\matplotlib\\axes\\_base.py\u001b[0m in \u001b[0;36mwrapper\u001b[1;34m(self, *args, **kwargs)\u001b[0m\n\u001b[0;32m     73\u001b[0m \u001b[1;33m\u001b[0m\u001b[0m\n\u001b[0;32m     74\u001b[0m         \u001b[1;32mdef\u001b[0m \u001b[0mwrapper\u001b[0m\u001b[1;33m(\u001b[0m\u001b[0mself\u001b[0m\u001b[1;33m,\u001b[0m \u001b[1;33m*\u001b[0m\u001b[0margs\u001b[0m\u001b[1;33m,\u001b[0m \u001b[1;33m**\u001b[0m\u001b[0mkwargs\u001b[0m\u001b[1;33m)\u001b[0m\u001b[1;33m:\u001b[0m\u001b[1;33m\u001b[0m\u001b[1;33m\u001b[0m\u001b[0m\n\u001b[1;32m---> 75\u001b[1;33m             \u001b[1;32mreturn\u001b[0m \u001b[0mget_method\u001b[0m\u001b[1;33m(\u001b[0m\u001b[0mself\u001b[0m\u001b[1;33m)\u001b[0m\u001b[1;33m(\u001b[0m\u001b[1;33m*\u001b[0m\u001b[0margs\u001b[0m\u001b[1;33m,\u001b[0m \u001b[1;33m**\u001b[0m\u001b[0mkwargs\u001b[0m\u001b[1;33m)\u001b[0m\u001b[1;33m\u001b[0m\u001b[1;33m\u001b[0m\u001b[0m\n\u001b[0m\u001b[0;32m     76\u001b[0m \u001b[1;33m\u001b[0m\u001b[0m\n\u001b[0;32m     77\u001b[0m         \u001b[0mwrapper\u001b[0m\u001b[1;33m.\u001b[0m\u001b[0m__module__\u001b[0m \u001b[1;33m=\u001b[0m \u001b[0mowner\u001b[0m\u001b[1;33m.\u001b[0m\u001b[0m__module__\u001b[0m\u001b[1;33m\u001b[0m\u001b[1;33m\u001b[0m\u001b[0m\n",
      "\u001b[1;32mc:\\Users\\Asus\\AppData\\Local\\Programs\\Python\\Python37\\lib\\site-packages\\matplotlib\\axis.py\u001b[0m in \u001b[0;36m_set_ticklabels\u001b[1;34m(self, labels, fontdict, minor, **kwargs)\u001b[0m\n\u001b[0;32m   1796\u001b[0m         \u001b[1;32mif\u001b[0m \u001b[0mfontdict\u001b[0m \u001b[1;32mis\u001b[0m \u001b[1;32mnot\u001b[0m \u001b[1;32mNone\u001b[0m\u001b[1;33m:\u001b[0m\u001b[1;33m\u001b[0m\u001b[1;33m\u001b[0m\u001b[0m\n\u001b[0;32m   1797\u001b[0m             \u001b[0mkwargs\u001b[0m\u001b[1;33m.\u001b[0m\u001b[0mupdate\u001b[0m\u001b[1;33m(\u001b[0m\u001b[0mfontdict\u001b[0m\u001b[1;33m)\u001b[0m\u001b[1;33m\u001b[0m\u001b[1;33m\u001b[0m\u001b[0m\n\u001b[1;32m-> 1798\u001b[1;33m         \u001b[1;32mreturn\u001b[0m \u001b[0mself\u001b[0m\u001b[1;33m.\u001b[0m\u001b[0mset_ticklabels\u001b[0m\u001b[1;33m(\u001b[0m\u001b[0mlabels\u001b[0m\u001b[1;33m,\u001b[0m \u001b[0mminor\u001b[0m\u001b[1;33m=\u001b[0m\u001b[0mminor\u001b[0m\u001b[1;33m,\u001b[0m \u001b[1;33m**\u001b[0m\u001b[0mkwargs\u001b[0m\u001b[1;33m)\u001b[0m\u001b[1;33m\u001b[0m\u001b[1;33m\u001b[0m\u001b[0m\n\u001b[0m\u001b[0;32m   1799\u001b[0m \u001b[1;33m\u001b[0m\u001b[0m\n\u001b[0;32m   1800\u001b[0m     \u001b[1;32mdef\u001b[0m \u001b[0m_set_tick_locations\u001b[0m\u001b[1;33m(\u001b[0m\u001b[0mself\u001b[0m\u001b[1;33m,\u001b[0m \u001b[0mticks\u001b[0m\u001b[1;33m,\u001b[0m \u001b[1;33m*\u001b[0m\u001b[1;33m,\u001b[0m \u001b[0mminor\u001b[0m\u001b[1;33m=\u001b[0m\u001b[1;32mFalse\u001b[0m\u001b[1;33m)\u001b[0m\u001b[1;33m:\u001b[0m\u001b[1;33m\u001b[0m\u001b[1;33m\u001b[0m\u001b[0m\n",
      "\u001b[1;32mc:\\Users\\Asus\\AppData\\Local\\Programs\\Python\\Python37\\lib\\site-packages\\matplotlib\\axis.py\u001b[0m in \u001b[0;36mset_ticklabels\u001b[1;34m(self, ticklabels, minor, **kwargs)\u001b[0m\n\u001b[0;32m   1719\u001b[0m             \u001b[1;32mif\u001b[0m \u001b[0mlen\u001b[0m\u001b[1;33m(\u001b[0m\u001b[0mlocator\u001b[0m\u001b[1;33m.\u001b[0m\u001b[0mlocs\u001b[0m\u001b[1;33m)\u001b[0m \u001b[1;33m!=\u001b[0m \u001b[0mlen\u001b[0m\u001b[1;33m(\u001b[0m\u001b[0mticklabels\u001b[0m\u001b[1;33m)\u001b[0m \u001b[1;32mand\u001b[0m \u001b[0mlen\u001b[0m\u001b[1;33m(\u001b[0m\u001b[0mticklabels\u001b[0m\u001b[1;33m)\u001b[0m \u001b[1;33m!=\u001b[0m \u001b[1;36m0\u001b[0m\u001b[1;33m:\u001b[0m\u001b[1;33m\u001b[0m\u001b[1;33m\u001b[0m\u001b[0m\n\u001b[0;32m   1720\u001b[0m                 raise ValueError(\n\u001b[1;32m-> 1721\u001b[1;33m                     \u001b[1;34m\"The number of FixedLocator locations\"\u001b[0m\u001b[1;33m\u001b[0m\u001b[1;33m\u001b[0m\u001b[0m\n\u001b[0m\u001b[0;32m   1722\u001b[0m                     \u001b[1;34mf\" ({len(locator.locs)}), usually from a call to\"\u001b[0m\u001b[1;33m\u001b[0m\u001b[1;33m\u001b[0m\u001b[0m\n\u001b[0;32m   1723\u001b[0m                     \u001b[1;34m\" set_ticks, does not match\"\u001b[0m\u001b[1;33m\u001b[0m\u001b[1;33m\u001b[0m\u001b[0m\n",
      "\u001b[1;31mValueError\u001b[0m: The number of FixedLocator locations (5), usually from a call to set_ticks, does not match the number of ticklabels (7)."
     ]
    },
    {
     "data": {
      "image/png": "[encoded data removed]",
      "text/plain": [
       "<Figure size 720x360 with 1 Axes>"
      ]
     },
     "metadata": {
      "needs_background": "light"
     },
     "output_type": "display_data"
    }
   ],
   "source": [
    "print(\"DC MIST CF HAGEN STSHN STHSL AIST\")\n",
    "print(dc_mae, mist_mae, cf_mae, hagen_mae, stshn_mae, sthsl_mae, aist_mae)\n",
    "\n",
    "# plotting bar graph for MAE\n",
    "data = {\n",
    "        'DeepCrime':dc_mae,\n",
    "        'AIST':aist_mae,\n",
    "        'MIST':mist_mae,\n",
    "        'STHSL':sthsl_mae,\n",
    "        'STSHN':stshn_mae,\n",
    "        'CF':cf_mae,\n",
    "        'Hagen':hagen_mae\n",
    "}\n",
    "models = list(data.keys())\n",
    "values = list(data.values())\n",
    "  \n",
    "fig = plt.figure(figsize = (10, 5))\n",
    " \n",
    "# creating the bar plot\n",
    "plt.bar(models, values, color ='maroon',\n",
    "        width = 0.4)\n",
    " \n",
    "plt.xlabel('Model')\n",
    "plt.ylabel('MAE')\n",
    "plt.title('MAE of all models for each group')\n",
    "plt.xticks(index + bar_width, ('DeepCrime', 'AIST', 'MIST', 'STHSL', 'STSHN', 'CF', 'Hagen'))\n",
    "plt.legend()\n",
    "plt.tight_layout()\n",
    "# plt.savefig('FINAL/Results/overall_mae.jpg', bbox_inches='tight')\n",
    "plt.show()"
   ]
  },
  {
   "cell_type": "code",
   "execution_count": 39,
   "metadata": {},
   "outputs": [
    {
     "name": "stdout",
     "output_type": "stream",
     "text": [
      "DC MIST CF HAGEN STSHN STHSL AIST\n",
      "1.6844402303413568 0.8664887274798725 0.6176846611267021 0.541235459245838 0.933618005994366 1.0366013343063987 0.6703616295100288\n"
     ]
    },
    {
     "ename": "ValueError",
     "evalue": "The number of FixedLocator locations (5), usually from a call to set_ticks, does not match the number of ticklabels (7).",
     "output_type": "error",
     "traceback": [
      "\u001b[1;31m---------------------------------------------------------------------------\u001b[0m",
      "\u001b[1;31mValueError\u001b[0m                                Traceback (most recent call last)",
      "\u001b[1;32m<ipython-input-39-7613db994e8b>\u001b[0m in \u001b[0;36m<module>\u001b[1;34m\u001b[0m\n\u001b[0;32m     24\u001b[0m \u001b[0mplt\u001b[0m\u001b[1;33m.\u001b[0m\u001b[0mylabel\u001b[0m\u001b[1;33m(\u001b[0m\u001b[1;34m'RMSE'\u001b[0m\u001b[1;33m)\u001b[0m\u001b[1;33m\u001b[0m\u001b[1;33m\u001b[0m\u001b[0m\n\u001b[0;32m     25\u001b[0m \u001b[0mplt\u001b[0m\u001b[1;33m.\u001b[0m\u001b[0mtitle\u001b[0m\u001b[1;33m(\u001b[0m\u001b[1;34m'RMSE of all models for each group'\u001b[0m\u001b[1;33m)\u001b[0m\u001b[1;33m\u001b[0m\u001b[1;33m\u001b[0m\u001b[0m\n\u001b[1;32m---> 26\u001b[1;33m \u001b[0mplt\u001b[0m\u001b[1;33m.\u001b[0m\u001b[0mxticks\u001b[0m\u001b[1;33m(\u001b[0m\u001b[0mindex\u001b[0m \u001b[1;33m+\u001b[0m \u001b[0mbar_width\u001b[0m\u001b[1;33m,\u001b[0m \u001b[1;33m(\u001b[0m\u001b[1;34m'DeepCrime'\u001b[0m\u001b[1;33m,\u001b[0m \u001b[1;34m'AIST'\u001b[0m\u001b[1;33m,\u001b[0m \u001b[1;34m'MIST'\u001b[0m\u001b[1;33m,\u001b[0m \u001b[1;34m'STHSL'\u001b[0m\u001b[1;33m,\u001b[0m \u001b[1;34m'STSHN'\u001b[0m\u001b[1;33m,\u001b[0m \u001b[1;34m'CF'\u001b[0m\u001b[1;33m,\u001b[0m \u001b[1;34m'Hagen'\u001b[0m\u001b[1;33m)\u001b[0m\u001b[1;33m)\u001b[0m\u001b[1;33m\u001b[0m\u001b[1;33m\u001b[0m\u001b[0m\n\u001b[0m\u001b[0;32m     27\u001b[0m \u001b[0mplt\u001b[0m\u001b[1;33m.\u001b[0m\u001b[0mlegend\u001b[0m\u001b[1;33m(\u001b[0m\u001b[1;33m)\u001b[0m\u001b[1;33m\u001b[0m\u001b[1;33m\u001b[0m\u001b[0m\n\u001b[0;32m     28\u001b[0m \u001b[0mplt\u001b[0m\u001b[1;33m.\u001b[0m\u001b[0mtight_layout\u001b[0m\u001b[1;33m(\u001b[0m\u001b[1;33m)\u001b[0m\u001b[1;33m\u001b[0m\u001b[1;33m\u001b[0m\u001b[0m\n",
      "\u001b[1;32mc:\\Users\\Asus\\AppData\\Local\\Programs\\Python\\Python37\\lib\\site-packages\\matplotlib\\pyplot.py\u001b[0m in \u001b[0;36mxticks\u001b[1;34m(ticks, labels, **kwargs)\u001b[0m\n\u001b[0;32m   1812\u001b[0m             \u001b[0ml\u001b[0m\u001b[1;33m.\u001b[0m\u001b[0mupdate\u001b[0m\u001b[1;33m(\u001b[0m\u001b[0mkwargs\u001b[0m\u001b[1;33m)\u001b[0m\u001b[1;33m\u001b[0m\u001b[1;33m\u001b[0m\u001b[0m\n\u001b[0;32m   1813\u001b[0m     \u001b[1;32melse\u001b[0m\u001b[1;33m:\u001b[0m\u001b[1;33m\u001b[0m\u001b[1;33m\u001b[0m\u001b[0m\n\u001b[1;32m-> 1814\u001b[1;33m         \u001b[0mlabels\u001b[0m \u001b[1;33m=\u001b[0m \u001b[0max\u001b[0m\u001b[1;33m.\u001b[0m\u001b[0mset_xticklabels\u001b[0m\u001b[1;33m(\u001b[0m\u001b[0mlabels\u001b[0m\u001b[1;33m,\u001b[0m \u001b[1;33m**\u001b[0m\u001b[0mkwargs\u001b[0m\u001b[1;33m)\u001b[0m\u001b[1;33m\u001b[0m\u001b[1;33m\u001b[0m\u001b[0m\n\u001b[0m\u001b[0;32m   1815\u001b[0m \u001b[1;33m\u001b[0m\u001b[0m\n\u001b[0;32m   1816\u001b[0m     \u001b[1;32mreturn\u001b[0m \u001b[0mlocs\u001b[0m\u001b[1;33m,\u001b[0m \u001b[0mlabels\u001b[0m\u001b[1;33m\u001b[0m\u001b[1;33m\u001b[0m\u001b[0m\n",
      "\u001b[1;32mc:\\Users\\Asus\\AppData\\Local\\Programs\\Python\\Python37\\lib\\site-packages\\matplotlib\\axes\\_base.py\u001b[0m in \u001b[0;36mwrapper\u001b[1;34m(self, *args, **kwargs)\u001b[0m\n\u001b[0;32m     73\u001b[0m \u001b[1;33m\u001b[0m\u001b[0m\n\u001b[0;32m     74\u001b[0m         \u001b[1;32mdef\u001b[0m \u001b[0mwrapper\u001b[0m\u001b[1;33m(\u001b[0m\u001b[0mself\u001b[0m\u001b[1;33m,\u001b[0m \u001b[1;33m*\u001b[0m\u001b[0margs\u001b[0m\u001b[1;33m,\u001b[0m \u001b[1;33m**\u001b[0m\u001b[0mkwargs\u001b[0m\u001b[1;33m)\u001b[0m\u001b[1;33m:\u001b[0m\u001b[1;33m\u001b[0m\u001b[1;33m\u001b[0m\u001b[0m\n\u001b[1;32m---> 75\u001b[1;33m             \u001b[1;32mreturn\u001b[0m \u001b[0mget_method\u001b[0m\u001b[1;33m(\u001b[0m\u001b[0mself\u001b[0m\u001b[1;33m)\u001b[0m\u001b[1;33m(\u001b[0m\u001b[1;33m*\u001b[0m\u001b[0margs\u001b[0m\u001b[1;33m,\u001b[0m \u001b[1;33m**\u001b[0m\u001b[0mkwargs\u001b[0m\u001b[1;33m)\u001b[0m\u001b[1;33m\u001b[0m\u001b[1;33m\u001b[0m\u001b[0m\n\u001b[0m\u001b[0;32m     76\u001b[0m \u001b[1;33m\u001b[0m\u001b[0m\n\u001b[0;32m     77\u001b[0m         \u001b[0mwrapper\u001b[0m\u001b[1;33m.\u001b[0m\u001b[0m__module__\u001b[0m \u001b[1;33m=\u001b[0m \u001b[0mowner\u001b[0m\u001b[1;33m.\u001b[0m\u001b[0m__module__\u001b[0m\u001b[1;33m\u001b[0m\u001b[1;33m\u001b[0m\u001b[0m\n",
      "\u001b[1;32mc:\\Users\\Asus\\AppData\\Local\\Programs\\Python\\Python37\\lib\\site-packages\\matplotlib\\axis.py\u001b[0m in \u001b[0;36m_set_ticklabels\u001b[1;34m(self, labels, fontdict, minor, **kwargs)\u001b[0m\n\u001b[0;32m   1796\u001b[0m         \u001b[1;32mif\u001b[0m \u001b[0mfontdict\u001b[0m \u001b[1;32mis\u001b[0m \u001b[1;32mnot\u001b[0m \u001b[1;32mNone\u001b[0m\u001b[1;33m:\u001b[0m\u001b[1;33m\u001b[0m\u001b[1;33m\u001b[0m\u001b[0m\n\u001b[0;32m   1797\u001b[0m             \u001b[0mkwargs\u001b[0m\u001b[1;33m.\u001b[0m\u001b[0mupdate\u001b[0m\u001b[1;33m(\u001b[0m\u001b[0mfontdict\u001b[0m\u001b[1;33m)\u001b[0m\u001b[1;33m\u001b[0m\u001b[1;33m\u001b[0m\u001b[0m\n\u001b[1;32m-> 1798\u001b[1;33m         \u001b[1;32mreturn\u001b[0m \u001b[0mself\u001b[0m\u001b[1;33m.\u001b[0m\u001b[0mset_ticklabels\u001b[0m\u001b[1;33m(\u001b[0m\u001b[0mlabels\u001b[0m\u001b[1;33m,\u001b[0m \u001b[0mminor\u001b[0m\u001b[1;33m=\u001b[0m\u001b[0mminor\u001b[0m\u001b[1;33m,\u001b[0m \u001b[1;33m**\u001b[0m\u001b[0mkwargs\u001b[0m\u001b[1;33m)\u001b[0m\u001b[1;33m\u001b[0m\u001b[1;33m\u001b[0m\u001b[0m\n\u001b[0m\u001b[0;32m   1799\u001b[0m \u001b[1;33m\u001b[0m\u001b[0m\n\u001b[0;32m   1800\u001b[0m     \u001b[1;32mdef\u001b[0m \u001b[0m_set_tick_locations\u001b[0m\u001b[1;33m(\u001b[0m\u001b[0mself\u001b[0m\u001b[1;33m,\u001b[0m \u001b[0mticks\u001b[0m\u001b[1;33m,\u001b[0m \u001b[1;33m*\u001b[0m\u001b[1;33m,\u001b[0m \u001b[0mminor\u001b[0m\u001b[1;33m=\u001b[0m\u001b[1;32mFalse\u001b[0m\u001b[1;33m)\u001b[0m\u001b[1;33m:\u001b[0m\u001b[1;33m\u001b[0m\u001b[1;33m\u001b[0m\u001b[0m\n",
      "\u001b[1;32mc:\\Users\\Asus\\AppData\\Local\\Programs\\Python\\Python37\\lib\\site-packages\\matplotlib\\axis.py\u001b[0m in \u001b[0;36mset_ticklabels\u001b[1;34m(self, ticklabels, minor, **kwargs)\u001b[0m\n\u001b[0;32m   1719\u001b[0m             \u001b[1;32mif\u001b[0m \u001b[0mlen\u001b[0m\u001b[1;33m(\u001b[0m\u001b[0mlocator\u001b[0m\u001b[1;33m.\u001b[0m\u001b[0mlocs\u001b[0m\u001b[1;33m)\u001b[0m \u001b[1;33m!=\u001b[0m \u001b[0mlen\u001b[0m\u001b[1;33m(\u001b[0m\u001b[0mticklabels\u001b[0m\u001b[1;33m)\u001b[0m \u001b[1;32mand\u001b[0m \u001b[0mlen\u001b[0m\u001b[1;33m(\u001b[0m\u001b[0mticklabels\u001b[0m\u001b[1;33m)\u001b[0m \u001b[1;33m!=\u001b[0m \u001b[1;36m0\u001b[0m\u001b[1;33m:\u001b[0m\u001b[1;33m\u001b[0m\u001b[1;33m\u001b[0m\u001b[0m\n\u001b[0;32m   1720\u001b[0m                 raise ValueError(\n\u001b[1;32m-> 1721\u001b[1;33m                     \u001b[1;34m\"The number of FixedLocator locations\"\u001b[0m\u001b[1;33m\u001b[0m\u001b[1;33m\u001b[0m\u001b[0m\n\u001b[0m\u001b[0;32m   1722\u001b[0m                     \u001b[1;34mf\" ({len(locator.locs)}), usually from a call to\"\u001b[0m\u001b[1;33m\u001b[0m\u001b[1;33m\u001b[0m\u001b[0m\n\u001b[0;32m   1723\u001b[0m                     \u001b[1;34m\" set_ticks, does not match\"\u001b[0m\u001b[1;33m\u001b[0m\u001b[1;33m\u001b[0m\u001b[0m\n",
      "\u001b[1;31mValueError\u001b[0m: The number of FixedLocator locations (5), usually from a call to set_ticks, does not match the number of ticklabels (7)."
     ]
    },
    {
     "data": {
      "image/png": "[encoded data removed]",
      "text/plain": [
       "<Figure size 720x360 with 1 Axes>"
      ]
     },
     "metadata": {
      "needs_background": "light"
     },
     "output_type": "display_data"
    }
   ],
   "source": [
    "print(\"DC MIST CF HAGEN STSHN STHSL AIST\")\n",
    "print(dc_mse, mist_mse, cf_mse, hagen_mse, stshn_mse, sthsl_mse, aist_mse)\n",
    "\n",
    "# plotting bar graph for MsE\n",
    "data = {\n",
    "        'DeepCrime':dc_mse,\n",
    "        'AIST':aist_mse,\n",
    "        'MIST':mist_mse,\n",
    "        'STHSL':sthsl_mse,\n",
    "        'STSHN':stshn_mse,\n",
    "        'CF':cf_mse,\n",
    "        'Hagen':hagen_mse\n",
    "}\n",
    "models = list(data.keys())\n",
    "values = list(data.values())\n",
    "  \n",
    "fig = plt.figure(figsize = (10, 5))\n",
    " \n",
    "# creating the bar plot\n",
    "plt.bar(models, values, color ='maroon',\n",
    "        width = 0.4)\n",
    " \n",
    "plt.xlabel('Model')\n",
    "plt.ylabel('RMSE')\n",
    "plt.title('RMSE of all models for each group')\n",
    "plt.xticks(index + bar_width, ('DeepCrime', 'AIST', 'MIST', 'STHSL', 'STSHN', 'CF', 'Hagen'))\n",
    "plt.legend()\n",
    "plt.tight_layout()\n",
    "# plt.savefig('FINAL/Results/overall_rmse.jpg', bbox_inches='tight')\n",
    "plt.show()"
   ]
  },
  {
   "cell_type": "code",
   "execution_count": null,
   "metadata": {},
   "outputs": [],
   "source": []
  }
 ],
 "metadata": {
  "kernelspec": {
   "display_name": "venv",
   "language": "python",
   "name": "venv"
  },
  "language_info": {
   "codemirror_mode": {
    "name": "ipython",
    "version": 3
   },
   "file_extension": ".py",
   "mimetype": "text/x-python",
   "name": "python",
   "nbconvert_exporter": "python",
   "pygments_lexer": "ipython3",
   "version": "3.7.4"
  },
  "orig_nbformat": 4
 },
 "nbformat": 4,
 "nbformat_minor": 2
}
