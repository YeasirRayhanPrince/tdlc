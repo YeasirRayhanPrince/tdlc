{
 "cells": [
  {
   "cell_type": "code",
   "execution_count": 32,
   "metadata": {},
   "outputs": [],
   "source": [
    "import numpy as np\n",
    "import matplotlib.pyplot as plt\n",
    "import pickle\n",
    "import pandas as pd\n",
    "import os"
   ]
  },
  {
   "attachments": {},
   "cell_type": "markdown",
   "metadata": {},
   "source": [
    "# DeepCrime"
   ]
  },
  {
   "cell_type": "code",
   "execution_count": 5,
   "metadata": {},
   "outputs": [
    {
     "name": "stdout",
     "output_type": "stream",
     "text": [
      "77\n",
      "77\n"
     ]
    }
   ],
   "source": [
    "deepcrime_mae = pickle.load(open(\"FINAL/DeepCrime/Default/dc_actual_mae_1d_default_aist_cats_run3.pkl\", \"rb\"))\n",
    "deepcrime_mse = pickle.load(open(\"FINAL/DeepCrime/Default/dc_actual_mse_1d_default_aist_cats_run3.pkl\", \"rb\"))\n",
    "\n",
    "deepcrime_mae = np.array(deepcrime_mae)\n",
    "deepcrime_mse = np.array(deepcrime_mse)\n",
    "\n",
    "print(len(deepcrime_mae))\n",
    "print(len(deepcrime_mse))"
   ]
  },
  {
   "cell_type": "code",
   "execution_count": 6,
   "metadata": {},
   "outputs": [],
   "source": [
    "content = pd.DataFrame(columns=['MAE', 'RMSE'])\n",
    "content['MAE'] = deepcrime_mae\n",
    "content['RMSE'] = np.sqrt(deepcrime_mse)\n",
    "content.to_csv(\"Generated_CSV/DeepCrime_regression.csv\", index=False)"
   ]
  },
  {
   "cell_type": "code",
   "execution_count": 11,
   "metadata": {},
   "outputs": [
    {
     "name": "stdout",
     "output_type": "stream",
     "text": [
      "77\n",
      "77\n"
     ]
    }
   ],
   "source": [
    "# load from the pickle file\n",
    "deepcrime_macro = pickle.load(open(\"TEMPORAL_PRECISION/DEEPCRIME/Metrics/macro_f1_1d.pkl\", \"rb\"))\n",
    "deepcrime_micro = pickle.load(open(\"TEMPORAL_PRECISION/DEEPCRIME/Metrics/micro_f1_1d.pkl\", \"rb\"))\n",
    "\n",
    "deepcrime_macro = np.array(deepcrime_macro)\n",
    "deepcrime_micro = np.array(deepcrime_micro)\n",
    "\n",
    "print(len(deepcrime_macro))\n",
    "print(len(deepcrime_micro))"
   ]
  },
  {
   "cell_type": "code",
   "execution_count": 12,
   "metadata": {},
   "outputs": [],
   "source": [
    "content = pd.DataFrame(columns=['Macro-F1', 'Micro-F1'])\n",
    "content['Macro-F1'] = deepcrime_macro\n",
    "content['Micro-F1'] = deepcrime_micro\n",
    "content.to_csv(\"Generated_CSV/DeepCrime_classification.csv\", index=False)"
   ]
  },
  {
   "attachments": {},
   "cell_type": "markdown",
   "metadata": {},
   "source": [
    "# MiST"
   ]
  },
  {
   "cell_type": "code",
   "execution_count": 13,
   "metadata": {},
   "outputs": [
    {
     "name": "stdout",
     "output_type": "stream",
     "text": [
      "77\n",
      "77\n"
     ]
    }
   ],
   "source": [
    "mist_mae = pickle.load(open(\"TEMPORAL_PRECISION/MIST/Pickle Files/mist_mae_1d_r.pkl\", \"rb\"))\n",
    "mist_mse = pickle.load(open(\"TEMPORAL_PRECISION/MIST/Pickle Files/mist_mse_1d_r.pkl\", \"rb\"))\n",
    "\n",
    "mist_mae = np.array(mist_mae)\n",
    "mist_mse = np.array(mist_mse)\n",
    "\n",
    "print(len(mist_mae))\n",
    "print(len(mist_mse))"
   ]
  },
  {
   "cell_type": "code",
   "execution_count": 14,
   "metadata": {},
   "outputs": [],
   "source": [
    "content = pd.DataFrame(columns=['MAE', 'RMSE'])\n",
    "content['MAE'] = mist_mae\n",
    "content['RMSE'] = np.sqrt(mist_mse)\n",
    "content.to_csv(\"Generated_CSV/MIST_regression.csv\", index=False)"
   ]
  },
  {
   "cell_type": "code",
   "execution_count": 15,
   "metadata": {},
   "outputs": [
    {
     "name": "stdout",
     "output_type": "stream",
     "text": [
      "77\n",
      "77\n"
     ]
    }
   ],
   "source": [
    "# load from the pickle file\n",
    "mist_macro = pickle.load(open(\"TEMPORAL_PRECISION/mist/Pickle Files/mist_macro_1d_c.pkl\", \"rb\"))\n",
    "mist_micro = pickle.load(open(\"TEMPORAL_PRECISION/mist/Pickle Files/mist_micro_1d_c.pkl\", \"rb\"))\n",
    "\n",
    "mist_macro = np.array(mist_macro)\n",
    "mist_micro = np.array(mist_micro)\n",
    "\n",
    "print(len(mist_macro))\n",
    "print(len(mist_micro))"
   ]
  },
  {
   "cell_type": "code",
   "execution_count": 16,
   "metadata": {},
   "outputs": [],
   "source": [
    "content = pd.DataFrame(columns=['Macro-F1', 'Micro-F1'])\n",
    "content['Macro-F1'] = mist_macro\n",
    "content['Micro-F1'] = mist_micro\n",
    "content.to_csv(\"Generated_CSV/MIST_classification.csv\", index=False)"
   ]
  },
  {
   "attachments": {},
   "cell_type": "markdown",
   "metadata": {},
   "source": [
    "# CrimeForecaster"
   ]
  },
  {
   "cell_type": "code",
   "execution_count": 17,
   "metadata": {},
   "outputs": [
    {
     "name": "stdout",
     "output_type": "stream",
     "text": [
      "77\n",
      "77\n"
     ]
    }
   ],
   "source": [
    "cf_mae = pickle.load(open(\"FINAL/CF/cf_mae.pkl\", \"rb\"))\n",
    "cf_mse = pickle.load(open(\"FINAL/CF/cf_mse.pkl\", \"rb\"))\n",
    "\n",
    "cf_mae = np.array(cf_mae)\n",
    "cf_mse = np.array(cf_mse)\n",
    "\n",
    "print(len(cf_mae))\n",
    "print(len(cf_mse))"
   ]
  },
  {
   "cell_type": "code",
   "execution_count": 18,
   "metadata": {},
   "outputs": [],
   "source": [
    "content = pd.DataFrame(columns=['MAE', 'RMSE'])\n",
    "content['MAE'] = cf_mae\n",
    "content['RMSE'] = np.sqrt(cf_mse)\n",
    "content.to_csv(\"Generated_CSV/CF_regression.csv\", index=False)"
   ]
  },
  {
   "cell_type": "code",
   "execution_count": 19,
   "metadata": {},
   "outputs": [
    {
     "name": "stdout",
     "output_type": "stream",
     "text": [
      "77\n",
      "77\n"
     ]
    }
   ],
   "source": [
    "# load from the pickle file\n",
    "cf_macro = pickle.load(open(\"TEMPORAL_PRECISION/cf/pickle_files/cf_1d_macro.pkl\", \"rb\"))\n",
    "cf_micro = pickle.load(open(\"TEMPORAL_PRECISION/cf/pickle_files/cf_1d_micro.pkl\", \"rb\"))\n",
    "\n",
    "cf_macro = np.array(cf_macro)\n",
    "cf_micro = np.array(cf_micro)\n",
    "\n",
    "print(len(cf_macro))\n",
    "print(len(cf_micro))"
   ]
  },
  {
   "cell_type": "code",
   "execution_count": 20,
   "metadata": {},
   "outputs": [],
   "source": [
    "content = pd.DataFrame(columns=['Macro-F1', 'Micro-F1'])\n",
    "content['Macro-F1'] = cf_macro\n",
    "content['Micro-F1'] = cf_micro\n",
    "content.to_csv(\"Generated_CSV/CF_classification.csv\", index=False)"
   ]
  },
  {
   "attachments": {},
   "cell_type": "markdown",
   "metadata": {},
   "source": [
    "# HAGEN"
   ]
  },
  {
   "cell_type": "code",
   "execution_count": 21,
   "metadata": {},
   "outputs": [
    {
     "name": "stdout",
     "output_type": "stream",
     "text": [
      "77\n",
      "77\n"
     ]
    }
   ],
   "source": [
    "hagen_mae = pickle.load(open(\"FINAL/Hagen/hagen_mae.pkl\", \"rb\"))\n",
    "hagen_mse = pickle.load(open(\"FINAL/Hagen/hagen_mse.pkl\", \"rb\"))\n",
    "\n",
    "hagen_mae = np.array(hagen_mae)\n",
    "hagen_mse = np.array(hagen_mse)\n",
    "\n",
    "print(len(hagen_mae))\n",
    "print(len(hagen_mse))"
   ]
  },
  {
   "cell_type": "code",
   "execution_count": 22,
   "metadata": {},
   "outputs": [],
   "source": [
    "content = pd.DataFrame(columns=['MAE', 'RMSE'])\n",
    "content['MAE'] = hagen_mae\n",
    "content['RMSE'] = np.sqrt(hagen_mse)\n",
    "content.to_csv(\"Generated_CSV/HAGEN_regression.csv\", index=False)"
   ]
  },
  {
   "cell_type": "code",
   "execution_count": 23,
   "metadata": {},
   "outputs": [
    {
     "name": "stdout",
     "output_type": "stream",
     "text": [
      "77\n",
      "77\n"
     ]
    }
   ],
   "source": [
    "# load from the pickle file\n",
    "hagen_macro = pickle.load(open(\"TEMPORAL_PRECISION/HAGEN/pickle_files/hagen_1d_macro.pkl\", \"rb\"))\n",
    "hagen_micro = pickle.load(open(\"TEMPORAL_PRECISION/HAGEN/pickle_files/hagen_1d_micro.pkl\", \"rb\"))\n",
    "\n",
    "hagen_macro = np.array(hagen_macro)\n",
    "hagen_micro = np.array(hagen_micro)\n",
    "\n",
    "print(len(hagen_macro))\n",
    "print(len(hagen_micro))"
   ]
  },
  {
   "cell_type": "code",
   "execution_count": 24,
   "metadata": {},
   "outputs": [],
   "source": [
    "content = pd.DataFrame(columns=['Macro-F1', 'Micro-F1'])\n",
    "content['Macro-F1'] = hagen_macro\n",
    "content['Micro-F1'] = hagen_micro\n",
    "content.to_csv(\"Generated_CSV/HAGEN_classification.csv\", index=False)"
   ]
  },
  {
   "attachments": {},
   "cell_type": "markdown",
   "metadata": {},
   "source": [
    "# ST-SHN"
   ]
  },
  {
   "cell_type": "code",
   "execution_count": 25,
   "metadata": {},
   "outputs": [
    {
     "name": "stdout",
     "output_type": "stream",
     "text": [
      "77\n",
      "77\n"
     ]
    }
   ],
   "source": [
    "stshn_mae = pickle.load(open(\"FINAL/ST-SHN/stshn_mae.pkl\", \"rb\"))\n",
    "stshn_mse = pickle.load(open(\"FINAL/ST-SHN/stshn_mse.pkl\", \"rb\"))\n",
    "\n",
    "stshn_mae = np.array(stshn_mae)\n",
    "stshn_mse = np.array(stshn_mse)\n",
    "\n",
    "print(len(stshn_mae))\n",
    "print(len(stshn_mse))"
   ]
  },
  {
   "cell_type": "code",
   "execution_count": 26,
   "metadata": {},
   "outputs": [
    {
     "name": "stderr",
     "output_type": "stream",
     "text": [
      "c:\\Users\\Asus\\AppData\\Local\\Programs\\Python\\Python37\\lib\\site-packages\\ipykernel_launcher.py:3: RuntimeWarning: invalid value encountered in sqrt\n",
      "  This is separate from the ipykernel package so we can avoid doing imports until\n"
     ]
    }
   ],
   "source": [
    "content = pd.DataFrame(columns=['MAE', 'RMSE'])\n",
    "content['MAE'] = stshn_mae\n",
    "content['RMSE'] = np.sqrt(stshn_mse)\n",
    "content.to_csv(\"Generated_CSV/STSHN_regression.csv\", index=False)"
   ]
  },
  {
   "attachments": {},
   "cell_type": "markdown",
   "metadata": {},
   "source": [
    "# ST-HSL"
   ]
  },
  {
   "cell_type": "code",
   "execution_count": 27,
   "metadata": {},
   "outputs": [
    {
     "name": "stdout",
     "output_type": "stream",
     "text": [
      "77\n",
      "77\n"
     ]
    }
   ],
   "source": [
    "sthsl_mae = pickle.load(open(\"FINAL/ST-HSL/sthsl_mae_aist_cats.pkl\", \"rb\"))\n",
    "sthsl_mse = pickle.load(open(\"FINAL/ST-HSL/sthsl_mse_aist_cats.pkl\", \"rb\"))\n",
    "\n",
    "print(len(sthsl_mae))\n",
    "print(len(sthsl_mse))"
   ]
  },
  {
   "cell_type": "code",
   "execution_count": 28,
   "metadata": {},
   "outputs": [
    {
     "name": "stderr",
     "output_type": "stream",
     "text": [
      "c:\\Users\\Asus\\AppData\\Local\\Programs\\Python\\Python37\\lib\\site-packages\\ipykernel_launcher.py:3: RuntimeWarning: invalid value encountered in sqrt\n",
      "  This is separate from the ipykernel package so we can avoid doing imports until\n"
     ]
    }
   ],
   "source": [
    "content = pd.DataFrame(columns=['MAE', 'RMSE'])\n",
    "content['MAE'] = sthsl_mae\n",
    "content['RMSE'] = np.sqrt(sthsl_mse)\n",
    "content.to_csv(\"Generated_CSV/STHSL_regression.csv\", index=False)"
   ]
  },
  {
   "cell_type": "code",
   "execution_count": 29,
   "metadata": {},
   "outputs": [
    {
     "name": "stdout",
     "output_type": "stream",
     "text": [
      "77\n",
      "77\n"
     ]
    }
   ],
   "source": [
    "sthsl_macro = pickle.load(open(\"TEMPORAL_PRECISION/ST-HSL/metrics_pickle_files/sthsl_macro_1d.pkl\", \"rb\"))\n",
    "sthsl_micro = pickle.load(open(\"TEMPORAL_PRECISION/ST-HSL/metrics_pickle_files/sthsl_micro_1d.pkl\", \"rb\"))\n",
    "\n",
    "print(len(sthsl_macro))\n",
    "print(len(sthsl_micro))"
   ]
  },
  {
   "cell_type": "code",
   "execution_count": 30,
   "metadata": {},
   "outputs": [],
   "source": [
    "content = pd.DataFrame(columns=['Macro-F1', 'Micro-F1'])\n",
    "content['Macro-F1'] = sthsl_macro\n",
    "content['Micro-F1'] = sthsl_micro\n",
    "content.to_csv(\"Generated_CSV/STHSL_classification.csv\", index=False)"
   ]
  },
  {
   "attachments": {},
   "cell_type": "markdown",
   "metadata": {},
   "source": [
    "# AIST"
   ]
  },
  {
   "cell_type": "code",
   "execution_count": 55,
   "metadata": {},
   "outputs": [
    {
     "name": "stdout",
     "output_type": "stream",
     "text": [
      "{'0': 0.5816061957739294, '11': 0.03720238095238095, '12': 0.09970237979931491, '13': 0.28125, '14': 0.27239064038509414, '16': 0.09970238095238096, '17': 0.053571428482731186, '18': 0.34879065384822233, '1': 0.41072901615518187, '20': 0.2812499887797804, '21': 0.8607591803496083, '22': 0.50446464280997, '23': 1.2483464333982695, '26': 0.3020833333333333, '27': 1.1255460989306725, '29': 0.32589285678806756, '2': 0.41071427307490793, '31': 1.2389799116977624, '32': 0.26934521250604165, '33': 0.15029761904761904, '34': 0.41220238077498617, '35': 0.049107142857142856, '36': 0.07142857142857142, '37': 0.3065477334672496, '38': 0.17113095238095238, '39': 0.20238113469843352, '3': 0.2514927415620713, '40': 0.276622523331926, '41': 0.25148809523809523, '42': 0.7081971474524055, '43': 0.6336701874776433, '44': 0.08779761904761904, '45': 0.3169642857142857, '46': 0.019345238095238096, '47': 0.11011904761904762, '48': 0.5059523818393549, '4': 0.2499999982038779, '50': 0.2291666639835707, '52': 0.23363095238095238, '53': 0.08035714285714286, '54': 0.049107142857142856, '57': 0.1428571440989063, '58': 0.11011904761904762, '59': 0.15178571328786866, '5': 0.9661037213213387, '60': 0.3467251515082483, '62': 0.17410714365541935, '63': 0.08333333333333333, '64': 0.23511904823992932, '65': 0.4136904620099813, '66': 0.38392857142857145, '67': 0.4136904932203747, '68': 0.4537987920256065, '69': 0.22172617982141674, '6': 0.8154636840336025, '71': 0.09970238095238096, '72': 0.3169642857142857, '73': 0.05654761895892166, '74': 0.1800595200842335, '75': 0.22767859624166573, '7': 1.2376202791652067, '9': 0.10119047514828187}\n",
      "{'0': 0.9251953432904363, '11': 0.046130952380952384, '12': 0.11458333124894471, '13': 0.38244047619047616, '14': 0.3524647418495287, '16': 0.10863095238095238, '17': 0.05654761887022427, '18': 0.47664059025990324, '1': 0.6547599506888228, '20': 0.40029759627456535, '21': 1.8819140194072372, '22': 0.7991070797493227, '23': 3.442325699542725, '26': 0.38244047619047616, '27': 2.6610479820527897, '29': 0.4449404751261077, '2': 0.6696428220186981, '31': 3.1866017633629493, '32': 0.41220232771195287, '33': 0.19196428571428573, '34': 0.6324404754808971, '35': 0.052083333333333336, '36': 0.07738095238095238, '37': 0.4226188744862398, '38': 0.20089285714285715, '39': 0.267857063166398, '3': 0.3437456038769911, '40': 0.3488276263148708, '41': 0.34672619047619047, '42': 1.1631077793534839, '43': 1.0399849873496823, '44': 0.09970238095238096, '45': 0.4419642857142857, '46': 0.022321428571428572, '47': 0.11607142857142858, '48': 0.8184523795332238, '4': 0.34821428331945625, '50': 0.27380951884247007, '52': 0.28422619047619047, '53': 0.08333333333333333, '54': 0.05505952380952381, '57': 0.16369047619047722, '58': 0.12797619047619047, '59': 0.20833333098285264, '5': 2.1977449986138438, '60': 0.4925573125546585, '62': 0.20089285714285757, '63': 0.11011904761904762, '64': 0.33630952123730085, '65': 0.6428571143409334, '66': 0.5565476190476191, '67': 0.6458332875658443, '68': 0.6826257347803283, '69': 0.3348214065079539, '6': 1.6348010690882806, '71': 0.10863095238095238, '72': 0.4330357142857143, '73': 0.05952380934641475, '74': 0.22470237350180966, '75': 0.29910713913211145, '7': 2.907330800901513, '9': 0.11011904513552084}\n"
     ]
    }
   ],
   "source": [
    "# aist_path = 'Data/all_aist/'\n",
    "aist_path = \"Datasets/data/all_mae_mse_aist/\"\n",
    "\n",
    "files = os.listdir(aist_path)\n",
    "\n",
    "aist_mae = {}\n",
    "aist_mse = {}\n",
    "\n",
    "for file in files:\n",
    "    with open(aist_path + file, \"r\") as f:\n",
    "        region = file.split(\"_\")[0]\n",
    "        # print(region)\n",
    "\n",
    "        lines = f.readlines()\n",
    "        lines = lines[0].split(\" \")\n",
    "        aist_mae[region] = float(lines[0])\n",
    "        aist_mse[region] = float(lines[1])\n",
    "    \n",
    "print(aist_mae)\n",
    "print(aist_mse)"
   ]
  },
  {
   "cell_type": "code",
   "execution_count": 54,
   "metadata": {},
   "outputs": [
    {
     "name": "stdout",
     "output_type": "stream",
     "text": [
      "[ 0.92519534  0.65475995  0.66964282  0.3437456   0.34821428  2.197745\n",
      "  1.63480107  2.9073308  -1.          0.11011905 -1.          0.04613095\n",
      "  0.11458333  0.38244048  0.35246474 -1.          0.10863095  0.05654762\n",
      "  0.47664059 -1.          0.4002976   1.88191402  0.79910708  3.4423257\n",
      " -1.         -1.          0.38244048  2.66104798 -1.          0.44494048\n",
      " -1.          3.18660176  0.41220233  0.19196429  0.63244048  0.05208333\n",
      "  0.07738095  0.42261887  0.20089286  0.26785706  0.34882763  0.34672619\n",
      "  1.16310778  1.03998499  0.09970238  0.44196429  0.02232143  0.11607143\n",
      "  0.81845238 -1.          0.27380952 -1.          0.28422619  0.08333333\n",
      "  0.05505952 -1.         -1.          0.16369048  0.12797619  0.20833333\n",
      "  0.49255731 -1.          0.20089286  0.11011905  0.33630952  0.64285711\n",
      "  0.55654762  0.64583329  0.68262573  0.33482141 -1.          0.10863095\n",
      "  0.43303571  0.05952381  0.22470237  0.29910714 -1.        ]\n"
     ]
    }
   ],
   "source": [
    "# convert into array\n",
    "\n",
    "aist_mae_arr = np.full(77, -1.0)\n",
    "aist_mse_arr = np.full(77, -1.0)\n",
    "\n",
    "for key, val in aist_mae.items():\n",
    "    aist_mae_arr[int(key)] = val\n",
    "\n",
    "for key, val in aist_mse.items():\n",
    "    aist_mse_arr[int(key)] = val\n",
    "\n",
    "print(aist_mae_arr)\n",
    "print(aist_mse_arr)"
   ]
  },
  {
   "cell_type": "code",
   "execution_count": 50,
   "metadata": {},
   "outputs": [
    {
     "name": "stderr",
     "output_type": "stream",
     "text": [
      "c:\\Users\\Asus\\AppData\\Local\\Programs\\Python\\Python37\\lib\\site-packages\\ipykernel_launcher.py:3: RuntimeWarning: invalid value encountered in sqrt\n",
      "  This is separate from the ipykernel package so we can avoid doing imports until\n"
     ]
    }
   ],
   "source": [
    "content = pd.DataFrame(columns=['MAE', 'RMSE'])\n",
    "content['MAE'] = aist_mae_arr\n",
    "content['RMSE'] = np.sqrt(aist_mse_arr)\n",
    "content.to_csv(\"Generated_CSV/AIST_regression.csv\", index=False)"
   ]
  },
  {
   "cell_type": "code",
   "execution_count": 51,
   "metadata": {},
   "outputs": [
    {
     "name": "stdout",
     "output_type": "stream",
     "text": [
      "77\n",
      "77\n"
     ]
    }
   ],
   "source": [
    "# load from the pickle file\n",
    "aist_macro = pickle.load(open(\"TEMPORAL_PRECISION/AIST/pickle_files/aist_24h_macro.pkl\", \"rb\"))\n",
    "aist_micro = pickle.load(open(\"TEMPORAL_PRECISION/AIST/pickle_files/aist_24h_micro.pkl\", \"rb\"))\n",
    "\n",
    "aist_macro = np.array(aist_macro)\n",
    "aist_micro = np.array(aist_micro)\n",
    "\n",
    "print(len(aist_macro))\n",
    "print(len(aist_micro))"
   ]
  },
  {
   "cell_type": "code",
   "execution_count": 52,
   "metadata": {},
   "outputs": [],
   "source": [
    "content = pd.DataFrame(columns=['Macro-F1', 'Micro-F1'])\n",
    "content['Macro-F1'] = aist_macro\n",
    "content['Micro-F1'] = aist_micro\n",
    "content.to_csv(\"Generated_CSV/AIST_classification.csv\", index=False)"
   ]
  },
  {
   "cell_type": "code",
   "execution_count": null,
   "metadata": {},
   "outputs": [],
   "source": []
  }
 ],
 "metadata": {
  "kernelspec": {
   "display_name": "venv",
   "language": "python",
   "name": "venv"
  },
  "language_info": {
   "codemirror_mode": {
    "name": "ipython",
    "version": 3
   },
   "file_extension": ".py",
   "mimetype": "text/x-python",
   "name": "python",
   "nbconvert_exporter": "python",
   "pygments_lexer": "ipython3",
   "version": "3.7.4"
  },
  "orig_nbformat": 4
 },
 "nbformat": 4,
 "nbformat_minor": 2
}
