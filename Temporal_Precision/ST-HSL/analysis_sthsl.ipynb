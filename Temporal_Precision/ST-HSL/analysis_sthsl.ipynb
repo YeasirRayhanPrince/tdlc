{
 "cells": [
  {
   "cell_type": "code",
   "execution_count": 2,
   "metadata": {},
   "outputs": [],
   "source": [
    "import numpy as np\n",
    "import pandas as pd\n",
    "import matplotlib.pyplot as plt\n",
    "import pickle\n",
    "import os\n",
    "import json"
   ]
  },
  {
   "cell_type": "code",
   "execution_count": 70,
   "metadata": {},
   "outputs": [],
   "source": [
    "## 1d\n",
    "files = os.listdir(\"Metrics/1d_Classification/\")\n",
    "\n",
    "sthsl_macro_1d = np.zeros(77)\n",
    "sthsl_micro_1d = np.zeros(77)\n",
    "\n",
    "for comm in range(1, 78):\n",
    "\n",
    "    if comm in [23, 76]:\n",
    "        sthsl_macro_1d[comm - 1] = -1\n",
    "        sthsl_micro_1d[comm - 1] = -1\n",
    "        continue\n",
    "\n",
    "   # reading the data from the file\n",
    "    with open(\"Metrics/1d_Classification/Comm_\" + str(comm) + \".txt\") as f:\n",
    "        data = f.read()\n",
    "        data = data.replace(\"'\", '\"')\n",
    "        data = data.replace(\"nan\", \"-1\")\n",
    "\n",
    "        # print(data)\n",
    "        if comm < 11:\n",
    "            data = data.split(\"\\\"macroF1\\\"\")[1]\n",
    "            macro = float(data.split(\":\")[1].split(\",\")[0])\n",
    "            micro = float(data.split(\"\\\"microF1\\\"\")[-1].split(\":\")[1].split(\"}\")[0])\n",
    "            \n",
    "            sthsl_macro_1d[comm - 1] = macro\n",
    "            sthsl_micro_1d[comm - 1] = micro\n",
    "        else:\n",
    "            data = data.split(\"\\\"macroF1_sklearn\\\"\")[1]\n",
    "            macro = float(data.split(\":\")[1].split(\",\")[0])\n",
    "            micro = float(data.split(\"\\\"microF1_sklearn\\\"\")[-1].split(\":\")[1].split(\"}\")[0])\n",
    "            sthsl_macro_1d[comm - 1] = macro\n",
    "            sthsl_micro_1d[comm - 1] = micro\n",
    "\n",
    "pickle.dump(sthsl_macro_1d, open(\"metrics_pickle_files/sthsl_macro_1d.pkl\", \"wb\"))\n",
    "pickle.dump(sthsl_micro_1d, open(\"metrics_pickle_files/sthsl_micro_1d.pkl\", \"wb\"))"
   ]
  },
  {
   "cell_type": "code",
   "execution_count": 75,
   "metadata": {},
   "outputs": [
    {
     "name": "stdout",
     "output_type": "stream",
     "text": [
      "74\n"
     ]
    }
   ],
   "source": [
    "## 4h\n",
    "files = os.listdir(\"Metrics/4h_Classification/\")\n",
    "print(len(files))\n",
    "\n",
    "sthsl_macro_4h = np.zeros(77)\n",
    "sthsl_micro_4h = np.zeros(77)\n",
    "\n",
    "for comm in range(1, 78):\n",
    "\n",
    "    if comm in [23, 35, 76]:\n",
    "        sthsl_macro_4h[comm - 1] = -1\n",
    "        sthsl_micro_4h[comm - 1] = -1\n",
    "        continue\n",
    "\n",
    "   # reading the data from the file\n",
    "    with open(\"Metrics/4h_Classification/Comm_\" + str(comm) + \".txt\") as f:\n",
    "        data = f.read()\n",
    "        data = data.replace(\"'\", '\"')\n",
    "        data = data.replace(\"nan\", \"-1\")\n",
    "\n",
    "        data = data.split(\"\\\"macroF1_sklearn\\\"\")[1]\n",
    "        macro = float(data.split(\":\")[1].split(\",\")[0])\n",
    "        micro = float(data.split(\"\\\"microF1_sklearn\\\"\")[-1].split(\":\")[1].split(\"}\")[0])\n",
    "        sthsl_macro_4h[comm - 1] = macro\n",
    "        sthsl_micro_4h[comm - 1] = micro\n",
    "\n",
    "pickle.dump(sthsl_macro_4h, open(\"metrics_pickle_files/sthsl_macro_4h.pkl\", \"wb\"))\n",
    "pickle.dump(sthsl_micro_4h, open(\"metrics_pickle_files/sthsl_micro_4h.pkl\", \"wb\"))"
   ]
  },
  {
   "cell_type": "code",
   "execution_count": 12,
   "metadata": {},
   "outputs": [
    {
     "name": "stdout",
     "output_type": "stream",
     "text": [
      "66\n",
      "0.23377387297001848\n",
      "0.3157616354258545\n"
     ]
    }
   ],
   "source": [
    "## 6h\n",
    "files = os.listdir(\"Metrics/6h_Classification/\")\n",
    "print(len(files))\n",
    "\n",
    "sthsl_macro_6h = np.zeros(77)\n",
    "sthsl_micro_6h = np.zeros(77)\n",
    "\n",
    "for comm in range(1, 78):\n",
    "\n",
    "    if comm in [2, 3, 4, 5, 6, 7, 8, 9, 10, 23, 76]:\n",
    "        sthsl_macro_6h[comm - 1] = -1\n",
    "        sthsl_micro_6h[comm - 1] = -1\n",
    "        continue\n",
    "\n",
    "   # reading the data from the file\n",
    "    with open(\"Metrics/6h_Classification/Comm_\" + str(comm) + \".txt\") as f:\n",
    "        data = f.read()\n",
    "        data = data.replace(\"'\", '\"')\n",
    "        data = data.replace(\"nan\", \"-1\")\n",
    "\n",
    "        data = data.split(\"\\\"macroF1_sklearn\\\"\")[1]\n",
    "        macro = float(data.split(\":\")[1].split(\",\")[0])\n",
    "        micro = float(data.split(\"\\\"microF1_sklearn\\\"\")[-1].split(\":\")[1].split(\"}\")[0])\n",
    "        sthsl_macro_6h[comm - 1] = macro\n",
    "        sthsl_micro_6h[comm - 1] = micro\n",
    "\n",
    "print(np.mean(sthsl_macro_6h[sthsl_macro_6h != -1]))\n",
    "print(np.mean(sthsl_micro_6h[sthsl_micro_6h != -1]))\n",
    "pickle.dump(sthsl_macro_6h, open(\"metrics_pickle_files/sthsl_macro_6h.pkl\", \"wb\"))\n",
    "pickle.dump(sthsl_micro_6h, open(\"metrics_pickle_files/sthsl_micro_6h.pkl\", \"wb\"))"
   ]
  },
  {
   "cell_type": "code",
   "execution_count": 3,
   "metadata": {},
   "outputs": [
    {
     "ename": "NameError",
     "evalue": "name 'sthsl_macro_1d' is not defined",
     "output_type": "error",
     "traceback": [
      "\u001b[1;31m---------------------------------------------------------------------------\u001b[0m",
      "\u001b[1;31mNameError\u001b[0m                                 Traceback (most recent call last)",
      "\u001b[1;32m<ipython-input-3-a6786920d739>\u001b[0m in \u001b[0;36m<module>\u001b[1;34m\u001b[0m\n\u001b[0;32m     28\u001b[0m \u001b[1;31m# pickle.dump(sthsl_micro_12h, open(\"metrics_pickle_files/sthsl_micro_12h.pkl\", \"wb\"))\u001b[0m\u001b[1;33m\u001b[0m\u001b[1;33m\u001b[0m\u001b[1;33m\u001b[0m\u001b[0m\n\u001b[0;32m     29\u001b[0m \u001b[1;33m\u001b[0m\u001b[0m\n\u001b[1;32m---> 30\u001b[1;33m \u001b[0msthsl_macro_1d\u001b[0m\u001b[1;33m\u001b[0m\u001b[1;33m\u001b[0m\u001b[0m\n\u001b[0m",
      "\u001b[1;31mNameError\u001b[0m: name 'sthsl_macro_1d' is not defined"
     ]
    }
   ],
   "source": [
    "## 12h\n",
    "files = os.listdir(\"Metrics/12h_Classification/\")\n",
    "print(len(files))\n",
    "\n",
    "sthsl_macro_12h = np.zeros(77)\n",
    "sthsl_micro_12h = np.zeros(77)\n",
    "\n",
    "for comm in range(1, 78):\n",
    "\n",
    "    if comm in [23, 35, 76]:\n",
    "        sthsl_macro_12h[comm - 1] = -1\n",
    "        sthsl_micro_12h[comm - 1] = -1\n",
    "        continue\n",
    "\n",
    "   # reading the data from the file\n",
    "    with open(\"Metrics/12h_Classification/Comm_\" + str(comm) + \".txt\") as f:\n",
    "        data = f.read()\n",
    "        data = data.replace(\"'\", '\"')\n",
    "        data = data.replace(\"nan\", \"-1\")\n",
    "\n",
    "        data = data.split(\"\\\"macroF1_sklearn\\\"\")[1]\n",
    "        macro = float(data.split(\":\")[1].split(\",\")[0])\n",
    "        micro = float(data.split(\"\\\"microF1_sklearn\\\"\")[-1].split(\":\")[1].split(\"}\")[0])\n",
    "        sthsl_macro_12h[comm - 1] = macro\n",
    "        sthsl_micro_12h[comm - 1] = micro\n",
    "\n",
    "pickle.dump(sthsl_macro_12h, open(\"metrics_pickle_files/sthsl_macro_12h.pkl\", \"wb\"))\n",
    "pickle.dump(sthsl_micro_12h, open(\"metrics_pickle_files/sthsl_micro_12h.pkl\", \"wb\"))"
   ]
  },
  {
   "attachments": {},
   "cell_type": "markdown",
   "metadata": {},
   "source": [
    "### Regression"
   ]
  },
  {
   "cell_type": "code",
   "execution_count": 4,
   "metadata": {},
   "outputs": [
    {
     "name": "stdout",
     "output_type": "stream",
     "text": [
      "75\n"
     ]
    }
   ],
   "source": [
    "## 12h\n",
    "files = os.listdir(\"Metrics/12h_Regression/\")\n",
    "print(len(files))\n",
    "\n",
    "sthsl_mae_12h = np.zeros(77)\n",
    "sthsl_mse_12h = np.zeros(77)\n",
    "\n",
    "for comm in range(1, 78):\n",
    "\n",
    "    if comm in [23, 35, 76]:\n",
    "        sthsl_mae_12h[comm - 1] = -1\n",
    "        sthsl_mse_12h[comm - 1] = -1\n",
    "        continue\n",
    "\n",
    "   # reading the data from the file\n",
    "    with open(\"Metrics/12h_Regression/Comm_\" + str(comm) + \".txt\") as f:\n",
    "        data = f.read()\n",
    "        data = data.replace(\"'\", '\"')\n",
    "        data = data.replace(\"nan\", \"-1\")\n",
    "        \n",
    "        # converting the string representation of list to list\n",
    "        data = json.loads(data)\n",
    "        sthsl_mae_12h[comm - 1] = data[\"MAE\"]\n",
    "        sthsl_mse_12h[comm - 1] = data[\"RMSE\"] * data[\"RMSE\"]\n",
    "\n",
    "pickle.dump(sthsl_mae_12h, open(\"metrics_pickle_files/sthsl_mae_12h.pkl\", \"wb\"))\n",
    "pickle.dump(sthsl_mse_12h, open(\"metrics_pickle_files/sthsl_mse_12h.pkl\", \"wb\"))"
   ]
  },
  {
   "cell_type": "code",
   "execution_count": null,
   "metadata": {},
   "outputs": [],
   "source": []
  }
 ],
 "metadata": {
  "kernelspec": {
   "display_name": "venv",
   "language": "python",
   "name": "venv"
  },
  "language_info": {
   "codemirror_mode": {
    "name": "ipython",
    "version": 3
   },
   "file_extension": ".py",
   "mimetype": "text/x-python",
   "name": "python",
   "nbconvert_exporter": "python",
   "pygments_lexer": "ipython3",
   "version": "3.7.4"
  },
  "orig_nbformat": 4
 },
 "nbformat": 4,
 "nbformat_minor": 2
}
