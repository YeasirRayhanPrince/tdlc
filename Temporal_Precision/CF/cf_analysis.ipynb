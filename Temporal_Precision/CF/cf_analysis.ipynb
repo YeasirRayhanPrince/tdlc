{
 "cells": [
  {
   "cell_type": "code",
   "execution_count": 2,
   "metadata": {},
   "outputs": [],
   "source": [
    "import numpy as np\n",
    "import pickle\n",
    "import os"
   ]
  },
  {
   "attachments": {},
   "cell_type": "markdown",
   "metadata": {},
   "source": [
    "# Classification"
   ]
  },
  {
   "cell_type": "code",
   "execution_count": 7,
   "metadata": {},
   "outputs": [],
   "source": [
    "cf_1d_path = \"1d_c/crimeforecaster_macro_micro.txt\"\n",
    "\n",
    "cf_1d_macro = np.zeros(77)\n",
    "cf_1d_micro = np.zeros(77)\n",
    "\n",
    "with open(cf_1d_path, \"r\") as f:\n",
    "    for line in f:\n",
    "        line = line.split()\n",
    "        cf_1d_macro[int(line[0])] = float(line[1])\n",
    "        cf_1d_micro[int(line[0])] = float(line[2])\n",
    "\n",
    "# pickle.dump(cf_1d_macro, open(\"pickle_files/cf_1d_macro.pkl\", \"wb\"))\n",
    "# pickle.dump(cf_1d_micro, open(\"pickle_files/cf_1d_micro.pkl\", \"wb\"))"
   ]
  },
  {
   "cell_type": "code",
   "execution_count": 10,
   "metadata": {},
   "outputs": [],
   "source": [
    "cf_4h_path = \"4h_c/crimeforecaster_macro_micro.txt\"\n",
    "\n",
    "cf_4h_macro = np.zeros(77)\n",
    "cf_4h_micro = np.zeros(77)\n",
    "\n",
    "with open(cf_4h_path, \"r\") as f:\n",
    "    for line in f:\n",
    "        line = line.split()\n",
    "        cf_4h_macro[int(line[0])] = float(line[1])\n",
    "        cf_4h_micro[int(line[0])] = float(line[2])\n",
    "\n",
    "# pickle.dump(cf_4h_macro, open(\"pickle_files/cf_4h_macro.pkl\", \"wb\"))\n",
    "# pickle.dump(cf_4h_micro, open(\"pickle_files/cf_4h_micro.pkl\", \"wb\"))"
   ]
  },
  {
   "cell_type": "code",
   "execution_count": 11,
   "metadata": {},
   "outputs": [],
   "source": [
    "cf_6h_path = \"6h_c/crimeforecaster_macro_micro.txt\"\n",
    "\n",
    "cf_6h_macro = np.zeros(77)\n",
    "cf_6h_micro = np.zeros(77)\n",
    "\n",
    "with open(cf_6h_path, \"r\") as f:\n",
    "    for line in f:\n",
    "        line = line.split()\n",
    "        cf_6h_macro[int(line[0])] = float(line[1])\n",
    "        cf_6h_micro[int(line[0])] = float(line[2])\n",
    "\n",
    "# pickle.dump(cf_6h_macro, open(\"pickle_files/cf_6h_macro.pkl\", \"wb\"))\n",
    "# pickle.dump(cf_6h_micro, open(\"pickle_files/cf_6h_micro.pkl\", \"wb\"))"
   ]
  },
  {
   "cell_type": "code",
   "execution_count": 12,
   "metadata": {},
   "outputs": [],
   "source": [
    "cf_12h_path = \"12h_c/crimeforecaster_macro_micro.txt\"\n",
    "\n",
    "cf_12h_macro = np.zeros(77)\n",
    "cf_12h_micro = np.zeros(77)\n",
    "\n",
    "with open(cf_12h_path, \"r\") as f:\n",
    "    for line in f:\n",
    "        line = line.split()\n",
    "        cf_12h_macro[int(line[0])] = float(line[1])\n",
    "        cf_12h_micro[int(line[0])] = float(line[2])\n",
    "\n",
    "# pickle.dump(cf_12h_macro, open(\"pickle_files/cf_12h_macro.pkl\", \"wb\"))\n",
    "# pickle.dump(cf_12h_micro, open(\"pickle_files/cf_12h_micro.pkl\", \"wb\"))"
   ]
  },
  {
   "attachments": {},
   "cell_type": "markdown",
   "metadata": {},
   "source": [
    "# Regression"
   ]
  },
  {
   "cell_type": "code",
   "execution_count": 16,
   "metadata": {},
   "outputs": [],
   "source": [
    "cf_1d_path = \"1d_r/crimeforcaster_mae_mse.txt\"\n",
    "\n",
    "cf_1d_mae = np.zeros(77)\n",
    "cf_1d_mse = np.zeros(77)\n",
    "\n",
    "with open(cf_1d_path, \"r\") as f:\n",
    "    for line in f:\n",
    "        line = line.split()\n",
    "        cf_1d_mae[int(line[0])] = float(line[1])\n",
    "        cf_1d_mse[int(line[0])] = float(line[2])\n",
    "\n",
    "pickle.dump(cf_1d_mae, open(\"pickle_files/cf_1d_mae.pkl\", \"wb\"))\n",
    "pickle.dump(cf_1d_mse, open(\"pickle_files/cf_1d_mse.pkl\", \"wb\"))"
   ]
  },
  {
   "cell_type": "code",
   "execution_count": 18,
   "metadata": {},
   "outputs": [],
   "source": [
    "cf_6h_path = \"6h_r/crimeforecaster_mae_mse.txt\"\n",
    "\n",
    "cf_6h_mae = np.zeros(77)\n",
    "cf_6h_mse = np.zeros(77)\n",
    "\n",
    "with open(cf_6h_path, \"r\") as f:\n",
    "    for line in f:\n",
    "        line = line.split()\n",
    "        cf_6h_mae[int(line[0])] = float(line[1])\n",
    "        cf_6h_mse[int(line[0])] = float(line[2])\n",
    "\n",
    "pickle.dump(cf_6h_mae, open(\"pickle_files/cf_6h_mae.pkl\", \"wb\"))\n",
    "pickle.dump(cf_6h_mse, open(\"pickle_files/cf_6h_mse.pkl\", \"wb\"))"
   ]
  },
  {
   "cell_type": "code",
   "execution_count": 19,
   "metadata": {},
   "outputs": [],
   "source": [
    "cf_12h_path = \"12h_r/crimeforecaster_mae_mse.txt\"\n",
    "\n",
    "cf_12h_mae = np.zeros(77)\n",
    "cf_12h_mse = np.zeros(77)\n",
    "\n",
    "with open(cf_12h_path, \"r\") as f:\n",
    "    for line in f:\n",
    "        line = line.split()\n",
    "        cf_12h_mae[int(line[0])] = float(line[1])\n",
    "        cf_12h_mse[int(line[0])] = float(line[2])\n",
    "\n",
    "pickle.dump(cf_12h_mae, open(\"pickle_files/cf_12h_mae.pkl\", \"wb\"))\n",
    "pickle.dump(cf_12h_mse, open(\"pickle_files/cf_12h_mse.pkl\", \"wb\"))"
   ]
  },
  {
   "cell_type": "code",
   "execution_count": 20,
   "metadata": {},
   "outputs": [],
   "source": [
    "cf_4h_path = \"4h_r/crimeforecaster_mae_mse.txt\"\n",
    "\n",
    "cf_4h_mae = np.zeros(77)\n",
    "cf_4h_mse = np.zeros(77)\n",
    "\n",
    "with open(cf_4h_path, \"r\") as f:\n",
    "    for line in f:\n",
    "        line = line.split()\n",
    "        cf_4h_mae[int(line[0])] = float(line[1])\n",
    "        cf_4h_mse[int(line[0])] = float(line[2])\n",
    "\n",
    "pickle.dump(cf_4h_mae, open(\"pickle_files/cf_4h_mae.pkl\", \"wb\"))\n",
    "pickle.dump(cf_4h_mse, open(\"pickle_files/cf_4h_mse.pkl\", \"wb\"))"
   ]
  },
  {
   "cell_type": "code",
   "execution_count": null,
   "metadata": {},
   "outputs": [],
   "source": []
  }
 ],
 "metadata": {
  "kernelspec": {
   "display_name": "venv",
   "language": "python",
   "name": "venv"
  },
  "language_info": {
   "codemirror_mode": {
    "name": "ipython",
    "version": 3
   },
   "file_extension": ".py",
   "mimetype": "text/x-python",
   "name": "python",
   "nbconvert_exporter": "python",
   "pygments_lexer": "ipython3",
   "version": "3.7.4"
  },
  "orig_nbformat": 4
 },
 "nbformat": 4,
 "nbformat_minor": 2
}
