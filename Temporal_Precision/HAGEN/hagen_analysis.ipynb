{
 "cells": [
  {
   "cell_type": "code",
   "execution_count": 2,
   "metadata": {},
   "outputs": [],
   "source": [
    "import numpy as np\n",
    "import pickle\n",
    "import os"
   ]
  },
  {
   "attachments": {},
   "cell_type": "markdown",
   "metadata": {},
   "source": [
    "# Classification"
   ]
  },
  {
   "cell_type": "code",
   "execution_count": 3,
   "metadata": {},
   "outputs": [],
   "source": [
    "hagen_1d_path = \"1d_c/hagen_macro_micro.txt\"\n",
    "\n",
    "hagen_1d_macro = np.zeros(77)\n",
    "hagen_1d_micro = np.zeros(77)\n",
    "\n",
    "with open(hagen_1d_path, \"r\") as f:\n",
    "    for line in f:\n",
    "        line = line.split()\n",
    "        hagen_1d_macro[int(line[0])] = float(line[1])\n",
    "        hagen_1d_micro[int(line[0])] = float(line[2])\n",
    "\n",
    "pickle.dump(hagen_1d_macro, open(\"pickle_files/hagen_1d_macro.pkl\", \"wb\"))\n",
    "pickle.dump(hagen_1d_micro, open(\"pickle_files/hagen_1d_micro.pkl\", \"wb\"))"
   ]
  },
  {
   "cell_type": "code",
   "execution_count": 4,
   "metadata": {},
   "outputs": [],
   "source": [
    "hagen_4h_path = \"4h_c/hagen_macro_micro.txt\"\n",
    "\n",
    "hagen_4h_macro = np.zeros(77)\n",
    "hagen_4h_micro = np.zeros(77)\n",
    "\n",
    "with open(hagen_4h_path, \"r\") as f:\n",
    "    for line in f:\n",
    "        line = line.split()\n",
    "        hagen_4h_macro[int(line[0])] = float(line[1])\n",
    "        hagen_4h_micro[int(line[0])] = float(line[2])\n",
    "\n",
    "pickle.dump(hagen_4h_macro, open(\"pickle_files/hagen_4h_macro.pkl\", \"wb\"))\n",
    "pickle.dump(hagen_4h_micro, open(\"pickle_files/hagen_4h_micro.pkl\", \"wb\"))"
   ]
  },
  {
   "cell_type": "code",
   "execution_count": 5,
   "metadata": {},
   "outputs": [],
   "source": [
    "hagen_6h_path = \"6h_c/hagen_macro_micro.txt\"\n",
    "\n",
    "hagen_6h_macro = np.zeros(77)\n",
    "hagen_6h_micro = np.zeros(77)\n",
    "\n",
    "with open(hagen_6h_path, \"r\") as f:\n",
    "    for line in f:\n",
    "        line = line.split()\n",
    "        hagen_6h_macro[int(line[0])] = float(line[1])\n",
    "        hagen_6h_micro[int(line[0])] = float(line[2])\n",
    "\n",
    "pickle.dump(hagen_6h_macro, open(\"pickle_files/hagen_6h_macro.pkl\", \"wb\"))\n",
    "pickle.dump(hagen_6h_micro, open(\"pickle_files/hagen_6h_micro.pkl\", \"wb\"))"
   ]
  },
  {
   "cell_type": "code",
   "execution_count": 6,
   "metadata": {},
   "outputs": [],
   "source": [
    "hagen_12h_path = \"12h_c/hagen_macro_micro.txt\"\n",
    "\n",
    "hagen_12h_macro = np.zeros(77)\n",
    "hagen_12h_micro = np.zeros(77)\n",
    "\n",
    "with open(hagen_12h_path, \"r\") as f:\n",
    "    for line in f:\n",
    "        line = line.split()\n",
    "        hagen_12h_macro[int(line[0])] = float(line[1])\n",
    "        hagen_12h_micro[int(line[0])] = float(line[2])\n",
    "\n",
    "pickle.dump(hagen_12h_macro, open(\"pickle_files/hagen_12h_macro.pkl\", \"wb\"))\n",
    "pickle.dump(hagen_12h_micro, open(\"pickle_files/hagen_12h_micro.pkl\", \"wb\"))"
   ]
  },
  {
   "attachments": {},
   "cell_type": "markdown",
   "metadata": {},
   "source": [
    "# Regression"
   ]
  },
  {
   "cell_type": "code",
   "execution_count": 3,
   "metadata": {},
   "outputs": [],
   "source": [
    "hagen_1d_path = \"1d_r/hagen_mae_mse.txt\"\n",
    "\n",
    "hagen_1d_mae = np.zeros(77)\n",
    "hagen_1d_mse = np.zeros(77)\n",
    "\n",
    "with open(hagen_1d_path, \"r\") as f:\n",
    "    for line in f:\n",
    "        line = line.split()\n",
    "        hagen_1d_mae[int(line[0])] = float(line[1])\n",
    "        hagen_1d_mse[int(line[0])] = float(line[2])\n",
    "\n",
    "pickle.dump(hagen_1d_mae, open(\"pickle_files/hagen_1d_mae.pkl\", \"wb\"))\n",
    "pickle.dump(hagen_1d_mse, open(\"pickle_files/hagen_1d_mse.pkl\", \"wb\"))"
   ]
  },
  {
   "cell_type": "code",
   "execution_count": 5,
   "metadata": {},
   "outputs": [],
   "source": [
    "hagen_4h_path = \"4h_r/hagen_mae_mse.txt\"\n",
    "\n",
    "hagen_4h_mae = np.zeros(77)\n",
    "hagen_4h_mse = np.zeros(77)\n",
    "\n",
    "with open(hagen_4h_path, \"r\") as f:\n",
    "    for line in f:\n",
    "        line = line.split()\n",
    "        hagen_4h_mae[int(line[0])] = float(line[1])\n",
    "        hagen_4h_mse[int(line[0])] = float(line[2])\n",
    "\n",
    "pickle.dump(hagen_4h_mae, open(\"pickle_files/hagen_4h_mae.pkl\", \"wb\"))\n",
    "pickle.dump(hagen_4h_mse, open(\"pickle_files/hagen_4h_mse.pkl\", \"wb\"))"
   ]
  },
  {
   "cell_type": "code",
   "execution_count": 6,
   "metadata": {},
   "outputs": [],
   "source": [
    "hagen_6h_path = \"6h_r/hagen_mae_mse.txt\"\n",
    "\n",
    "hagen_6h_mae = np.zeros(77)\n",
    "hagen_6h_mse = np.zeros(77)\n",
    "\n",
    "with open(hagen_6h_path, \"r\") as f:\n",
    "    for line in f:\n",
    "        line = line.split()\n",
    "        hagen_6h_mae[int(line[0])] = float(line[1])\n",
    "        hagen_6h_mse[int(line[0])] = float(line[2])\n",
    "\n",
    "pickle.dump(hagen_6h_mae, open(\"pickle_files/hagen_6h_mae.pkl\", \"wb\"))\n",
    "pickle.dump(hagen_6h_mse, open(\"pickle_files/hagen_6h_mse.pkl\", \"wb\"))"
   ]
  },
  {
   "cell_type": "code",
   "execution_count": 7,
   "metadata": {},
   "outputs": [],
   "source": [
    "hagen_12h_path = \"12h_r/hagen_mae_mse.txt\"\n",
    "\n",
    "hagen_12h_mae = np.zeros(77)\n",
    "hagen_12h_mse = np.zeros(77)\n",
    "\n",
    "with open(hagen_12h_path, \"r\") as f:\n",
    "    for line in f:\n",
    "        line = line.split()\n",
    "        hagen_12h_mae[int(line[0])] = float(line[1])\n",
    "        hagen_12h_mse[int(line[0])] = float(line[2])\n",
    "\n",
    "pickle.dump(hagen_12h_mae, open(\"pickle_files/hagen_12h_mae.pkl\", \"wb\"))\n",
    "pickle.dump(hagen_12h_mse, open(\"pickle_files/hagen_12h_mse.pkl\", \"wb\"))"
   ]
  },
  {
   "cell_type": "code",
   "execution_count": null,
   "metadata": {},
   "outputs": [],
   "source": []
  }
 ],
 "metadata": {
  "kernelspec": {
   "display_name": "venv",
   "language": "python",
   "name": "venv"
  },
  "language_info": {
   "codemirror_mode": {
    "name": "ipython",
    "version": 3
   },
   "file_extension": ".py",
   "mimetype": "text/x-python",
   "name": "python",
   "nbconvert_exporter": "python",
   "pygments_lexer": "ipython3",
   "version": "3.7.4"
  },
  "orig_nbformat": 4
 },
 "nbformat": 4,
 "nbformat_minor": 2
}
