{
 "cells": [
  {
   "cell_type": "code",
   "execution_count": 1,
   "metadata": {},
   "outputs": [],
   "source": [
    "import pandas as pd\n",
    "import numpy as np\n",
    "import matplotlib.pyplot as plt\n",
    "import pickle\n",
    "\n",
    "from sklearn.metrics import mean_squared_error as mse\n",
    "from sklearn.metrics import mean_absolute_error as mae\n",
    "from sklearn.metrics import f1_score"
   ]
  },
  {
   "cell_type": "code",
   "execution_count": 2,
   "metadata": {},
   "outputs": [],
   "source": [
    "time_slots = ['4h', '6h', '12h', '1d']"
   ]
  },
  {
   "attachments": {},
   "cell_type": "markdown",
   "metadata": {},
   "source": [
    "# MAE MSE"
   ]
  },
  {
   "cell_type": "code",
   "execution_count": 3,
   "metadata": {},
   "outputs": [
    {
     "name": "stdout",
     "output_type": "stream",
     "text": [
      "(31570, 4)\n",
      "(31570, 4)\n"
     ]
    }
   ],
   "source": [
    "trues_4h_path = 'Outputs/4h/trues_before_threshold.pkl'\n",
    "preds_4h_path = 'Outputs/4h/preds_before_threshold.pkl'\n",
    "\n",
    "trues_4h = pickle.load(open(trues_4h_path, 'rb'))\n",
    "preds_4h = pickle.load(open(preds_4h_path, 'rb'))\n",
    "\n",
    "print(trues_4h.shape)\n",
    "print(preds_4h.shape)"
   ]
  },
  {
   "cell_type": "code",
   "execution_count": 4,
   "metadata": {},
   "outputs": [
    {
     "name": "stdout",
     "output_type": "stream",
     "text": [
      "(9240, 4)\n",
      "(9240, 4)\n"
     ]
    }
   ],
   "source": [
    "trues_6h_path = 'Outputs/6h/trues_before_threshold.pkl'\n",
    "preds_6h_path = 'Outputs/6h/preds_before_threshold.pkl'\n",
    "\n",
    "trues_6h = pickle.load(open(trues_6h_path, 'rb'))\n",
    "preds_6h = pickle.load(open(preds_6h_path, 'rb'))\n",
    "\n",
    "print(trues_6h.shape)\n",
    "print(preds_6h.shape)"
   ]
  },
  {
   "cell_type": "code",
   "execution_count": 5,
   "metadata": {},
   "outputs": [
    {
     "name": "stdout",
     "output_type": "stream",
     "text": [
      "(9240, 4)\n",
      "(9240, 4)\n"
     ]
    }
   ],
   "source": [
    "trues_12h_path = 'Outputs/12h/trues_before_threshold.pkl'\n",
    "preds_12h_path = 'Outputs/12h/preds_before_threshold.pkl'\n",
    "\n",
    "trues_12h = pickle.load(open(trues_12h_path, 'rb'))\n",
    "preds_12h = pickle.load(open(preds_12h_path, 'rb'))\n",
    "\n",
    "print(trues_12h.shape)\n",
    "print(preds_12h.shape)"
   ]
  },
  {
   "cell_type": "code",
   "execution_count": 6,
   "metadata": {},
   "outputs": [
    {
     "name": "stdout",
     "output_type": "stream",
     "text": [
      "(3850, 4)\n",
      "(3850, 4)\n"
     ]
    }
   ],
   "source": [
    "trues_1d_path = 'Outputs/1d/trues_before_threshold_1d_run3.pkl'\n",
    "preds_1d_path = 'Outputs/1d/preds_before_threshold_1d_run3.pkl'\n",
    "\n",
    "trues_1d = pickle.load(open(trues_1d_path, 'rb'))\n",
    "preds_1d = pickle.load(open(preds_1d_path, 'rb'))\n",
    "\n",
    "print(trues_1d.shape)\n",
    "print(preds_1d.shape)"
   ]
  },
  {
   "cell_type": "code",
   "execution_count": 3,
   "metadata": {},
   "outputs": [],
   "source": [
    "def normalize(x):\n",
    "    return (x - np.min(x)) / (np.max(x) - np.min(x))"
   ]
  },
  {
   "cell_type": "code",
   "execution_count": 8,
   "metadata": {},
   "outputs": [
    {
     "name": "stdout",
     "output_type": "stream",
     "text": [
      "Trues: \n",
      "12.0\n",
      "24.0\n",
      "24.0\n",
      "31.0\n",
      "\n",
      "0.0\n",
      "0.0\n",
      "0.0\n",
      "0.0\n",
      "Preds: \n",
      "1\n",
      "1\n",
      "1\n",
      "1\n",
      "\n",
      "0\n",
      "0\n",
      "0\n",
      "0\n"
     ]
    }
   ],
   "source": [
    "print(\"Trues: \")\n",
    "print(np.max(trues_4h))\n",
    "print(np.max(trues_6h))\n",
    "print(np.max(trues_12h))\n",
    "print(np.max(trues_1d))\n",
    "print()\n",
    "print(np.min(trues_4h))\n",
    "print(np.min(trues_6h))\n",
    "print(np.min(trues_12h))\n",
    "print(np.min(trues_1d))\n",
    "\n",
    "print(\"Preds: \")\n",
    "print(np.max(preds_4h))\n",
    "print(np.max(preds_6h))\n",
    "print(np.max(preds_12h))\n",
    "print(np.max(preds_1d))\n",
    "print()\n",
    "print(np.min(preds_4h))\n",
    "print(np.min(preds_6h))\n",
    "print(np.min(preds_12h))\n",
    "print(np.min(preds_1d))"
   ]
  },
  {
   "cell_type": "code",
   "execution_count": 9,
   "metadata": {},
   "outputs": [],
   "source": [
    "trues_4h = normalize(trues_4h)\n",
    "trues_6h = normalize(trues_6h)\n",
    "trues_12h = normalize(trues_12h)\n",
    "trues_1d = normalize(trues_1d)\n",
    "\n",
    "preds_4h = normalize(preds_4h)\n",
    "preds_6h = normalize(preds_6h)\n",
    "preds_12h = normalize(preds_12h)\n",
    "preds_1d = normalize(preds_1d)"
   ]
  },
  {
   "cell_type": "code",
   "execution_count": 10,
   "metadata": {},
   "outputs": [
    {
     "name": "stdout",
     "output_type": "stream",
     "text": [
      "MAE: \n",
      "0.8837193802132824\n",
      "0.9300933441558441\n",
      "0.9169552669552671\n",
      "0.911887306242145\n"
     ]
    }
   ],
   "source": [
    "mae_4h = mae(trues_4h.reshape(-1, 1), preds_4h.reshape(-1, 1))\n",
    "mae_6h = mae(trues_6h.reshape(-1, 1), preds_6h.reshape(-1, 1))\n",
    "mae_12h = mae(trues_12h.reshape(-1, 1), preds_12h.reshape(-1, 1))\n",
    "mae_1d = mae(trues_1d.reshape(-1, 1), preds_1d.reshape(-1, 1))\n",
    "\n",
    "print(\"MAE: \")\n",
    "print(mae_4h)\n",
    "print(mae_6h)\n",
    "print(mae_12h)\n",
    "print(mae_1d)"
   ]
  },
  {
   "cell_type": "code",
   "execution_count": 11,
   "metadata": {},
   "outputs": [
    {
     "data": {
      "image/png": "[encoded data removed]",
      "text/plain": [
       "<Figure size 432x288 with 1 Axes>"
      ]
     },
     "metadata": {
      "needs_background": "light"
     },
     "output_type": "display_data"
    }
   ],
   "source": [
    "# Plot the mae in bar chart\n",
    "mae_list = [mae_4h, mae_6h, mae_12h, mae_1d]\n",
    "plt.bar(time_slots, mae_list, edgecolor='black', color='lightblue')\n",
    "plt.xlabel('Time slots')\n",
    "plt.ylabel('MAE')\n",
    "plt.title('MAE of different time slots')\n",
    "plt.savefig('Results/mae.jpg', bbox_inches='tight', dpi=300)\n",
    "plt.show()"
   ]
  },
  {
   "cell_type": "code",
   "execution_count": 12,
   "metadata": {},
   "outputs": [
    {
     "name": "stdout",
     "output_type": "stream",
     "text": [
      "MSE: \n",
      "0.8687178294266709\n",
      "0.9071826899951901\n",
      "0.8940446127946129\n",
      "0.8771960349743909\n"
     ]
    }
   ],
   "source": [
    "mse_4h = mse(trues_4h.reshape(-1, 1), preds_4h.reshape(-1, 1))\n",
    "mse_6h = mse(trues_6h.reshape(-1, 1), preds_6h.reshape(-1, 1))\n",
    "mse_12h = mse(trues_12h.reshape(-1, 1), preds_12h.reshape(-1, 1))\n",
    "mse_1d = mse(trues_1d.reshape(-1, 1), preds_1d.reshape(-1, 1))\n",
    "\n",
    "print(\"MSE: \")\n",
    "print(mse_4h)\n",
    "print(mse_6h)\n",
    "print(mse_12h)\n",
    "print(mse_1d)"
   ]
  },
  {
   "cell_type": "code",
   "execution_count": 13,
   "metadata": {},
   "outputs": [
    {
     "data": {
      "image/png": "[encoded data removed]",
      "text/plain": [
       "<Figure size 432x288 with 1 Axes>"
      ]
     },
     "metadata": {
      "needs_background": "light"
     },
     "output_type": "display_data"
    }
   ],
   "source": [
    "# Plot the mse in bar chart\n",
    "mse_list = [mse_4h**0.5, mse_6h**0.5, mse_12h**0.5, mse_1d**0.5]\n",
    "plt.bar(time_slots, mse_list, edgecolor='black', color='lightblue')\n",
    "plt.xlabel('Time slots')\n",
    "plt.ylabel('RMSE')\n",
    "plt.title('RMSE of different time slots')\n",
    "plt.savefig('Results/rmse.jpg', bbox_inches='tight', dpi=300)\n",
    "plt.show()"
   ]
  },
  {
   "cell_type": "code",
   "execution_count": 14,
   "metadata": {},
   "outputs": [],
   "source": [
    "pickle.dump(mae_4h, open(\"Metrics/mae_4h.pkl\", \"wb\"))\n",
    "pickle.dump(mae_6h, open(\"Metrics/mae_6h.pkl\", \"wb\"))\n",
    "pickle.dump(mae_12h, open(\"Metrics/mae_12h.pkl\", \"wb\"))\n",
    "pickle.dump(mae_1d, open(\"Metrics/mae_1d.pkl\", \"wb\"))\n",
    "\n",
    "pickle.dump(mse_4h, open(\"Metrics/mse_4h.pkl\", \"wb\"))\n",
    "pickle.dump(mse_6h, open(\"Metrics/mse_6h.pkl\", \"wb\"))\n",
    "pickle.dump(mse_12h, open(\"Metrics/mse_12h.pkl\", \"wb\"))\n",
    "pickle.dump(mse_1d, open(\"Metrics/mse_1d.pkl\", \"wb\"))"
   ]
  },
  {
   "cell_type": "code",
   "execution_count": 15,
   "metadata": {},
   "outputs": [],
   "source": [
    "del mae_4h\n",
    "del mae_6h\n",
    "del mae_12h\n",
    "del mae_1d\n",
    "\n",
    "del mse_4h\n",
    "del mse_6h\n",
    "del mse_12h\n",
    "del mse_1d"
   ]
  },
  {
   "attachments": {},
   "cell_type": "markdown",
   "metadata": {},
   "source": [
    "# F1 Scores"
   ]
  },
  {
   "cell_type": "code",
   "execution_count": 16,
   "metadata": {},
   "outputs": [
    {
     "name": "stdout",
     "output_type": "stream",
     "text": [
      "(31570, 4)\n",
      "(31570, 4)\n"
     ]
    }
   ],
   "source": [
    "trues_4h_path = 'Outputs/4h/trues_after_threshold.pkl'\n",
    "preds_4h_path = 'Outputs/4h/preds_after_threshold.pkl'\n",
    "\n",
    "trues_4h = pickle.load(open(trues_4h_path, 'rb'))\n",
    "preds_4h = pickle.load(open(preds_4h_path, 'rb'))\n",
    "\n",
    "print(trues_4h.shape)\n",
    "print(preds_4h.shape)"
   ]
  },
  {
   "cell_type": "code",
   "execution_count": 17,
   "metadata": {},
   "outputs": [
    {
     "name": "stdout",
     "output_type": "stream",
     "text": [
      "(9240, 4)\n",
      "(9240, 4)\n"
     ]
    }
   ],
   "source": [
    "trues_6h_path = 'Outputs/6h/trues_after_threshold.pkl'\n",
    "preds_6h_path = 'Outputs/6h/preds_after_threshold.pkl'\n",
    "\n",
    "trues_6h = pickle.load(open(trues_6h_path, 'rb'))\n",
    "preds_6h = pickle.load(open(preds_6h_path, 'rb'))\n",
    "\n",
    "print(trues_6h.shape)\n",
    "print(preds_6h.shape)"
   ]
  },
  {
   "cell_type": "code",
   "execution_count": 18,
   "metadata": {},
   "outputs": [
    {
     "name": "stdout",
     "output_type": "stream",
     "text": [
      "(9240, 4)\n",
      "(9240, 4)\n"
     ]
    }
   ],
   "source": [
    "trues_12h_path = 'Outputs/12h/trues_after_threshold.pkl'\n",
    "preds_12h_path = 'Outputs/12h/preds_after_threshold.pkl'\n",
    "\n",
    "trues_12h = pickle.load(open(trues_12h_path, 'rb'))\n",
    "preds_12h = pickle.load(open(preds_12h_path, 'rb'))\n",
    "\n",
    "print(trues_12h.shape)\n",
    "print(preds_12h.shape)"
   ]
  },
  {
   "cell_type": "code",
   "execution_count": 19,
   "metadata": {},
   "outputs": [
    {
     "name": "stdout",
     "output_type": "stream",
     "text": [
      "(3850, 4)\n",
      "(3850, 4)\n"
     ]
    }
   ],
   "source": [
    "trues_1d_path = 'Outputs/1d/trues_after_threshold_1d_run3.pkl'\n",
    "preds_1d_path = 'Outputs/1d/preds_after_threshold_1d_run3.pkl'\n",
    "\n",
    "trues_1d = pickle.load(open(trues_1d_path, 'rb'))\n",
    "preds_1d = pickle.load(open(preds_1d_path, 'rb'))\n",
    "\n",
    "print(trues_1d.shape)\n",
    "print(preds_1d.shape)"
   ]
  },
  {
   "cell_type": "code",
   "execution_count": 20,
   "metadata": {},
   "outputs": [],
   "source": [
    "trues_4h = normalize(trues_4h)\n",
    "trues_6h = normalize(trues_6h)\n",
    "trues_12h = normalize(trues_12h)\n",
    "trues_1d = normalize(trues_1d)\n",
    "\n",
    "preds_4h = normalize(preds_4h)\n",
    "preds_6h = normalize(preds_6h)\n",
    "preds_12h = normalize(preds_12h)\n",
    "preds_1d = normalize(preds_1d)"
   ]
  },
  {
   "cell_type": "code",
   "execution_count": 25,
   "metadata": {},
   "outputs": [
    {
     "name": "stdout",
     "output_type": "stream",
     "text": [
      "Macro F1: \n",
      "[0.4563576  0.4171627  0.44374913 0.44511986 0.35499876 0.39290918\n",
      " 0.36755952 0.36609497 0.34796238 0.44660432 0.37785026 0.4472957\n",
      " 0.42922374 0.43706745 0.4352458  0.46666667 0.4171627  0.42827443\n",
      " 0.44511986 0.47361495 0.40266452 0.4352458  0.45470233 0.40798204\n",
      " 0.37123244 0.43534726 0.40266452 0.40505377 0.48991122 0.42956349\n",
      " 0.42956349 0.44147644 0.48024948 0.46768743 0.43706745 0.42666667\n",
      " 0.42241047 0.39117199 0.4352458  0.4511703  0.42984286 0.47578348\n",
      " 0.49937422 0.45775254 0.45361826 0.39056425 0.47290174 0.40808543\n",
      " 0.40266452 0.42241047 0.38276946 0.4171627  0.43810235 0.43718712\n",
      " 0.44293433 0.4        0.40808543 0.39733104 0.45361826 0.42018143\n",
      " 0.45690313 0.47756156 0.40385591 0.43706745 0.42028986 0.39733104\n",
      " 0.42984286 0.40808543 0.41360068 0.39542658 0.37147216 0.36276214\n",
      " 0.45459158 0.3883792  0.4563576  0.40771221 0.41409199]\n",
      "Micro F1: \n",
      "[0.595 0.53  0.6   0.555 0.415 0.5   0.49  0.465 0.48  0.605 0.485 0.58\n",
      " 0.55  0.575 0.56  0.6   0.53  0.56  0.555 0.6   0.555 0.56  0.605 0.565\n",
      " 0.455 0.6   0.555 0.545 0.605 0.54  0.54  0.54  0.6   0.555 0.575 0.57\n",
      " 0.55  0.52  0.56  0.575 0.59  0.54  0.64  0.575 0.55  0.565 0.61  0.515\n",
      " 0.555 0.55  0.465 0.53  0.605 0.525 0.585 0.55  0.515 0.545 0.55  0.535\n",
      " 0.555 0.555 0.53  0.575 0.525 0.545 0.59  0.515 0.535 0.575 0.485 0.45\n",
      " 0.57  0.515 0.595 0.525 0.515]\n"
     ]
    }
   ],
   "source": [
    "# print(trues_4h.shape)\n",
    "# print(preds_4h.shape)\n",
    "\n",
    "trues_1d = trues_1d.reshape(77, -1, 4)\n",
    "preds_1d = preds_1d.reshape(77, -1, 4)\n",
    "\n",
    "macro_f1_1d_list = np.full(77, -1.0)\n",
    "micro_f1_1d_list = np.full(77, -1.0)\n",
    "\n",
    "for i in range(77):\n",
    "    macro_f1_1d_list[i] = f1_score(trues_1d[i, :, :].reshape(-1, 1), preds_1d[i, :, :].reshape(-1, 1), average='macro')\n",
    "    micro_f1_1d_list[i] = f1_score(trues_1d[i, :, :].reshape(-1, 1), preds_1d[i, :, :].reshape(-1, 1), average='micro')\n",
    "\n",
    "print(\"Macro F1: \")\n",
    "print(macro_f1_1d_list)\n",
    "print(\"Micro F1: \")\n",
    "print(micro_f1_1d_list)\n",
    "\n",
    "pickle.dump(macro_f1_1d_list, open(\"Metrics/macro_f1_1d.pkl\", \"wb\"))\n",
    "pickle.dump(micro_f1_1d_list, open(\"Metrics/micro_f1_1d.pkl\", \"wb\"))\n",
    "\n",
    "trues_1d = trues_1d.reshape(-1, 4)\n",
    "preds_1d = preds_1d.reshape(-1, 4)"
   ]
  },
  {
   "cell_type": "code",
   "execution_count": 36,
   "metadata": {},
   "outputs": [
    {
     "name": "stdout",
     "output_type": "stream",
     "text": [
      "Macro F1: \n",
      "0.24145477350868566\n",
      "0.3227565812015422\n",
      "0.34153986400257763\n",
      "0.4261819632912577\n"
     ]
    }
   ],
   "source": [
    "macro_f1_4h = f1_score(trues_4h.reshape(-1, 1), preds_4h.reshape(-1, 1), average='macro')\n",
    "macro_f1_6h = f1_score(trues_6h.reshape(-1, 1), preds_6h.reshape(-1, 1), average='macro')\n",
    "macro_f1_12h = f1_score(trues_12h.reshape(-1, 1), preds_12h.reshape(-1, 1), average='macro')\n",
    "macro_f1_1d = f1_score(trues_1d.reshape(-1, 1), preds_1d.reshape(-1, 1), average='macro')\n",
    "\n",
    "print(\"Macro F1: \")\n",
    "print(macro_f1_4h)\n",
    "print(macro_f1_6h)\n",
    "print(macro_f1_12h)\n",
    "print(macro_f1_1d)"
   ]
  },
  {
   "cell_type": "code",
   "execution_count": 37,
   "metadata": {},
   "outputs": [
    {
     "name": "stdout",
     "output_type": "stream",
     "text": [
      "Micro F1: \n",
      "0.24397370921761166\n",
      "0.38392857142857145\n",
      "0.39591450216450214\n",
      "0.5487012987012987\n"
     ]
    }
   ],
   "source": [
    "micro_f1_4h = f1_score(trues_4h.reshape(-1, 1), preds_4h.reshape(-1, 1), average='micro')\n",
    "micro_f1_6h = f1_score(trues_6h.reshape(-1, 1), preds_6h.reshape(-1, 1), average='micro')\n",
    "micro_f1_12h = f1_score(trues_12h.reshape(-1, 1), preds_12h.reshape(-1, 1), average='micro')\n",
    "micro_f1_1d = f1_score(trues_1d.reshape(-1, 1), preds_1d.reshape(-1, 1), average='micro')\n",
    "\n",
    "print(\"Micro F1: \")\n",
    "print(micro_f1_4h)\n",
    "print(micro_f1_6h)\n",
    "print(micro_f1_12h)\n",
    "print(micro_f1_1d)"
   ]
  },
  {
   "cell_type": "code",
   "execution_count": 38,
   "metadata": {},
   "outputs": [
    {
     "data": {
      "image/png": "[encoded data removed]",
      "text/plain": [
       "<Figure size 432x288 with 1 Axes>"
      ]
     },
     "metadata": {
      "needs_background": "light"
     },
     "output_type": "display_data"
    }
   ],
   "source": [
    "# plot the macro f1 in bar chart\n",
    "f1_list = [macro_f1_4h, macro_f1_6h, macro_f1_12h, macro_f1_1d]\n",
    "plt.bar(time_slots, f1_list, edgecolor='black', color='lightblue')\n",
    "plt.xlabel('Time slots')\n",
    "plt.ylabel('Macro F1')\n",
    "plt.title('Macro F1 of different time slots')\n",
    "plt.savefig('Results/macro_f1.jpg', bbox_inches='tight', dpi=300)\n",
    "plt.show()"
   ]
  },
  {
   "cell_type": "code",
   "execution_count": 39,
   "metadata": {},
   "outputs": [
    {
     "data": {
      "image/png": "[encoded data removed]",
      "text/plain": [
       "<Figure size 432x288 with 1 Axes>"
      ]
     },
     "metadata": {
      "needs_background": "light"
     },
     "output_type": "display_data"
    }
   ],
   "source": [
    "# plot the micro f1 in bar chart\n",
    "f1_list = [micro_f1_4h, micro_f1_6h, micro_f1_12h, micro_f1_1d]\n",
    "plt.bar(time_slots, f1_list, edgecolor='black', color='lightblue')\n",
    "plt.xlabel('Time slots')\n",
    "plt.ylabel('Micro F1')\n",
    "plt.title('Micro F1 of different time slots')\n",
    "plt.savefig('Results/micro_f1.jpg', bbox_inches='tight', dpi=300)\n",
    "plt.show()"
   ]
  },
  {
   "cell_type": "code",
   "execution_count": 40,
   "metadata": {},
   "outputs": [],
   "source": [
    "# pickle.dump(macro_f1_4h, open(\"Metrics/macro_f1_4h.pkl\", \"wb\"))\n",
    "# pickle.dump(macro_f1_6h, open(\"Metrics/macro_f1_6h.pkl\", \"wb\"))\n",
    "# pickle.dump(macro_f1_12h, open(\"Metrics/macro_f1_12h.pkl\", \"wb\"))\n",
    "# pickle.dump(macro_f1_1d, open(\"Metrics/macro_f1_1d.pkl\", \"wb\"))\n",
    "\n",
    "# pickle.dump(micro_f1_4h, open(\"Metrics/micro_f1_4h.pkl\", \"wb\"))\n",
    "# pickle.dump(micro_f1_6h, open(\"Metrics/micro_f1_6h.pkl\", \"wb\"))\n",
    "# pickle.dump(micro_f1_12h, open(\"Metrics/micro_f1_12h.pkl\", \"wb\"))\n",
    "# pickle.dump(micro_f1_1d, open(\"Metrics/micro_f1_1d.pkl\", \"wb\"))"
   ]
  },
  {
   "attachments": {},
   "cell_type": "markdown",
   "metadata": {},
   "source": [
    "# Ablation Study"
   ]
  },
  {
   "attachments": {},
   "cell_type": "markdown",
   "metadata": {},
   "source": [
    "### MAE RMSE"
   ]
  },
  {
   "cell_type": "code",
   "execution_count": 26,
   "metadata": {},
   "outputs": [
    {
     "name": "stdout",
     "output_type": "stream",
     "text": [
      "(3850, 4)\n",
      "(3850, 4)\n"
     ]
    }
   ],
   "source": [
    "trues_wo_ext_path = 'Outputs/1d_wo_external/trues_before_threshold.pkl'\n",
    "preds_wo_ext_path = 'Outputs/1d_wo_external/preds_before_threshold.pkl'\n",
    "\n",
    "trues_wo_ext = pickle.load(open(trues_wo_ext_path, 'rb'))\n",
    "preds_wo_ext = pickle.load(open(preds_wo_ext_path, 'rb'))\n",
    "\n",
    "print(trues_wo_ext.shape)\n",
    "print(preds_wo_ext.shape)\n",
    "\n",
    "trues_wo_ext = normalize(trues_wo_ext)\n",
    "preds_wo_ext = normalize(preds_wo_ext)"
   ]
  },
  {
   "cell_type": "code",
   "execution_count": 27,
   "metadata": {},
   "outputs": [
    {
     "name": "stdout",
     "output_type": "stream",
     "text": [
      "(3850, 4)\n",
      "(3850, 4)\n"
     ]
    }
   ],
   "source": [
    "trues_w_ext_path = 'Outputs/1d/trues_before_threshold_1d_run3.pkl'\n",
    "preds_w_ext_path = 'Outputs/1d/preds_before_threshold_1d_run3.pkl'\n",
    "\n",
    "trues_w_ext = pickle.load(open(trues_w_ext_path, 'rb'))\n",
    "preds_w_ext = pickle.load(open(preds_w_ext_path, 'rb'))\n",
    "\n",
    "print(trues_w_ext.shape)\n",
    "print(preds_w_ext.shape)\n",
    "\n",
    "trues_w_ext = normalize(trues_w_ext)\n",
    "preds_w_ext = normalize(preds_w_ext)"
   ]
  },
  {
   "cell_type": "code",
   "execution_count": 28,
   "metadata": {},
   "outputs": [
    {
     "name": "stdout",
     "output_type": "stream",
     "text": [
      "MAE: \n",
      "0.9157980728948472\n",
      "0.911887306242145\n"
     ]
    },
    {
     "data": {
      "image/png": "[encoded data removed]",
      "text/plain": [
       "<Figure size 432x288 with 1 Axes>"
      ]
     },
     "metadata": {
      "needs_background": "light"
     },
     "output_type": "display_data"
    }
   ],
   "source": [
    "mae_wo = mae(trues_wo_ext.reshape(-1, 1), preds_wo_ext.reshape(-1, 1))\n",
    "mae_w = mae(trues_w_ext.reshape(-1, 1), preds_w_ext.reshape(-1, 1))\n",
    "\n",
    "print(\"MAE: \")\n",
    "print(mae_wo)\n",
    "print(mae_w)\n",
    "\n",
    "# plot the mae in bar chart\n",
    "mae_list = [mae_wo, mae_w]\n",
    "plt.bar(['Without external data', 'With external data'], mae_list, edgecolor='black', color='lightblue')\n",
    "plt.xlabel('Models')\n",
    "plt.ylabel('MAE')\n",
    "plt.title('MAE of different models')\n",
    "plt.savefig('Results/ablation_mae.jpg', bbox_inches='tight', dpi=300)\n",
    "plt.show()"
   ]
  },
  {
   "cell_type": "code",
   "execution_count": 29,
   "metadata": {},
   "outputs": [
    {
     "name": "stdout",
     "output_type": "stream",
     "text": [
      "RMSE: \n",
      "0.9386728938384729\n",
      "0.9365874411790877\n"
     ]
    },
    {
     "data": {
      "image/png": "[encoded data removed]",
      "text/plain": [
       "<Figure size 432x288 with 1 Axes>"
      ]
     },
     "metadata": {
      "needs_background": "light"
     },
     "output_type": "display_data"
    }
   ],
   "source": [
    "mse_wo = mse(trues_wo_ext.reshape(-1, 1), preds_wo_ext.reshape(-1, 1))\n",
    "mse_w = mse(trues_w_ext.reshape(-1, 1), preds_w_ext.reshape(-1, 1))\n",
    "\n",
    "# finding the rmse\n",
    "mse_wo = mse_wo ** 0.5\n",
    "mse_w = mse_w ** 0.5\n",
    "\n",
    "print(\"RMSE: \")\n",
    "print(mse_wo)\n",
    "print(mse_w)\n",
    "\n",
    "# plot the mse in bar chart\n",
    "mse_list = [mse_wo, mse_w]\n",
    "plt.bar(['Without external data', 'With external data'], mse_list, edgecolor='black', color='lightblue')\n",
    "plt.xlabel('Models')\n",
    "plt.ylabel('RMSE')\n",
    "plt.title('MSE of different models')\n",
    "plt.savefig('Results/ablation_rmse.jpg', bbox_inches='tight', dpi=300)\n",
    "plt.show()"
   ]
  },
  {
   "attachments": {},
   "cell_type": "markdown",
   "metadata": {},
   "source": [
    "### F1 scores"
   ]
  },
  {
   "cell_type": "code",
   "execution_count": 38,
   "metadata": {},
   "outputs": [
    {
     "name": "stdout",
     "output_type": "stream",
     "text": [
      "(3850, 4)\n",
      "(3850, 4)\n"
     ]
    }
   ],
   "source": [
    "trues_wo_ext_path = 'Outputs/1d_wo_external/trues_after_threshold.pkl'\n",
    "preds_wo_ext_path = 'Outputs/1d_wo_external/preds_after_threshold.pkl'\n",
    "\n",
    "trues_wo_ext = pickle.load(open(trues_wo_ext_path, 'rb'))\n",
    "preds_wo_ext = pickle.load(open(preds_wo_ext_path, 'rb'))\n",
    "\n",
    "print(trues_wo_ext.shape)\n",
    "print(preds_wo_ext.shape)"
   ]
  },
  {
   "cell_type": "code",
   "execution_count": 39,
   "metadata": {},
   "outputs": [
    {
     "name": "stdout",
     "output_type": "stream",
     "text": [
      "(3850, 4)\n",
      "(3850, 4)\n"
     ]
    }
   ],
   "source": [
    "trues_w_ext_path = 'Outputs/1d/trues_after_threshold_1d_run3.pkl'\n",
    "preds_w_ext_path = 'Outputs/1d/preds_after_threshold_1d_run3.pkl'\n",
    "\n",
    "trues_w_ext = pickle.load(open(trues_w_ext_path, 'rb'))\n",
    "preds_w_ext = pickle.load(open(preds_w_ext_path, 'rb'))\n",
    "\n",
    "print(trues_w_ext.shape)\n",
    "print(preds_w_ext.shape)"
   ]
  },
  {
   "cell_type": "code",
   "execution_count": 40,
   "metadata": {},
   "outputs": [
    {
     "name": "stdout",
     "output_type": "stream",
     "text": [
      "Macro-F1: \n",
      "0.4204179310507313\n",
      "0.4261819632912577\n"
     ]
    },
    {
     "data": {
      "image/png": "[encoded data removed]",
      "text/plain": [
       "<Figure size 432x288 with 1 Axes>"
      ]
     },
     "metadata": {
      "needs_background": "light"
     },
     "output_type": "display_data"
    }
   ],
   "source": [
    "macrof1_wo = f1_score(trues_wo_ext.reshape(-1, 1), preds_wo_ext.reshape(-1, 1), average='macro')\n",
    "macrof1_w = f1_score(trues_w_ext.reshape(-1, 1), preds_w_ext.reshape(-1, 1), average='macro')\n",
    "\n",
    "print(\"Macro-F1: \")\n",
    "print(macrof1_wo)\n",
    "print(macrof1_w)\n",
    "\n",
    "# plot the macrof1 in bar chart\n",
    "macrof1_list = [macrof1_wo, macrof1_w]\n",
    "plt.bar(['Without external data', 'With external data'], macrof1_list, edgecolor='black', color='lightblue')\n",
    "plt.xlabel('Models')\n",
    "plt.ylabel('Macro-F1')\n",
    "plt.title('Macro-F1 of different models')\n",
    "plt.savefig('Results/ablation_macrof1.jpg', bbox_inches='tight', dpi=300)\n",
    "plt.show()"
   ]
  },
  {
   "cell_type": "code",
   "execution_count": 41,
   "metadata": {},
   "outputs": [
    {
     "name": "stdout",
     "output_type": "stream",
     "text": [
      "Micro-F1: \n",
      "0.5462987012987013\n",
      "0.5487012987012987\n"
     ]
    },
    {
     "data": {
      "image/png": "[encoded data removed]",
      "text/plain": [
       "<Figure size 432x288 with 1 Axes>"
      ]
     },
     "metadata": {
      "needs_background": "light"
     },
     "output_type": "display_data"
    }
   ],
   "source": [
    "microf1_wo = f1_score(trues_wo_ext.reshape(-1, 1), preds_wo_ext.reshape(-1, 1), average='micro')\n",
    "microf1_w = f1_score(trues_w_ext.reshape(-1, 1), preds_w_ext.reshape(-1, 1), average='micro')\n",
    "\n",
    "print(\"Micro-F1: \")\n",
    "print(microf1_wo)\n",
    "print(microf1_w)\n",
    "\n",
    "# plot the microf1 in bar chart\n",
    "microf1_list = [microf1_wo, microf1_w]\n",
    "plt.bar(['Without external data', 'With external data'], microf1_list, edgecolor='black', color='lightblue')\n",
    "plt.xlabel('Models')\n",
    "plt.ylabel('Micro-F1')\n",
    "plt.title('Micro-F1 of different models')\n",
    "plt.savefig('Results/ablation_microf1.jpg', bbox_inches='tight', dpi=300)\n",
    "plt.show()"
   ]
  },
  {
   "cell_type": "code",
   "execution_count": null,
   "metadata": {},
   "outputs": [],
   "source": []
  }
 ],
 "metadata": {
  "kernelspec": {
   "display_name": "venv",
   "language": "python",
   "name": "venv"
  },
  "language_info": {
   "codemirror_mode": {
    "name": "ipython",
    "version": 3
   },
   "file_extension": ".py",
   "mimetype": "text/x-python",
   "name": "python",
   "nbconvert_exporter": "python",
   "pygments_lexer": "ipython3",
   "version": "3.7.4"
  },
  "orig_nbformat": 4
 },
 "nbformat": 4,
 "nbformat_minor": 2
}
