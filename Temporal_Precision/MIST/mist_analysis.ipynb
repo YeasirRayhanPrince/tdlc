{
 "cells": [
  {
   "cell_type": "code",
   "execution_count": 1,
   "metadata": {},
   "outputs": [],
   "source": [
    "import pickle\n",
    "import numpy as np\n",
    "import os"
   ]
  },
  {
   "cell_type": "code",
   "execution_count": 27,
   "metadata": {},
   "outputs": [
    {
     "name": "stdout",
     "output_type": "stream",
     "text": [
      "0.6260517651362721\n"
     ]
    }
   ],
   "source": [
    "with open(\"Metrics/1d_r/1.txt\", 'r') as f:\n",
    "    data = str(f.readlines()[1].split(\" \")[5])\n",
    "    print(data)"
   ]
  },
  {
   "cell_type": "code",
   "execution_count": 47,
   "metadata": {},
   "outputs": [
    {
     "name": "stdout",
     "output_type": "stream",
     "text": [
      "77\n"
     ]
    }
   ],
   "source": [
    "files = os.listdir('Metrics/1d_r/')\n",
    "print(len(files))\n",
    "\n",
    "mae_list = np.zeros(77)\n",
    "mse_list = np.zeros(77)\n",
    "\n",
    "for i in range(1, 35):\n",
    "    with open('Metrics/1d_r/' + str(i) + \".txt\", 'r') as f:\n",
    "        line = f.readlines()[1].split(\" \")\n",
    "        mae = float(line[4])\n",
    "        mse = float(line[5])\n",
    "        mae_list[i-1] = mae\n",
    "        mse_list[i-1] = mse"
   ]
  },
  {
   "cell_type": "code",
   "execution_count": 48,
   "metadata": {},
   "outputs": [],
   "source": [
    "for i in range(35, 78):\n",
    "    with open('Metrics/1d_r/' + str(i) + \".txt\", 'r') as f:\n",
    "        line = f.readlines()[0].split(\" \")\n",
    "        mae = float(line[0])\n",
    "        mse = float(line[1])\n",
    "        mae_list[i-1] = mae\n",
    "        mse_list[i-1] = mse"
   ]
  },
  {
   "cell_type": "code",
   "execution_count": 51,
   "metadata": {},
   "outputs": [],
   "source": [
    "pickle.dump(mae_list, open(\"Pickle Files/mist_mae_1d_r.pkl\", \"wb\"))\n",
    "pickle.dump(mse_list, open(\"Pickle Files/mist_mse_1d_r.pkl\", \"wb\"))"
   ]
  },
  {
   "attachments": {},
   "cell_type": "markdown",
   "metadata": {},
   "source": [
    "### 12h Classifications"
   ]
  },
  {
   "cell_type": "code",
   "execution_count": 6,
   "metadata": {},
   "outputs": [
    {
     "name": "stdout",
     "output_type": "stream",
     "text": [
      "77\n"
     ]
    }
   ],
   "source": [
    "files = os.listdir('Metrics/12h_c/')\n",
    "print(len(files))\n",
    "\n",
    "macro_list = np.zeros(77)\n",
    "micro_list = np.zeros(77)\n",
    "\n",
    "for i in range(1, 78):\n",
    "    with open('Metrics/12h_c/' + str(i) + \".txt\", 'r') as f:\n",
    "        line = f.readlines()[0].split(\" \")\n",
    "        macro = float(line[0])\n",
    "        micro = float(line[1])\n",
    "        macro_list[i-1] = macro\n",
    "        micro_list[i-1] = micro\n",
    "\n",
    "pickle.dump(macro_list, open(\"Pickle Files/mist_macro_12h_c.pkl\", \"wb\"))\n",
    "pickle.dump(micro_list, open(\"Pickle Files/mist_micro_12h_c.pkl\", \"wb\"))"
   ]
  },
  {
   "attachments": {},
   "cell_type": "markdown",
   "metadata": {},
   "source": [
    "### 6h Classification"
   ]
  },
  {
   "cell_type": "code",
   "execution_count": 2,
   "metadata": {},
   "outputs": [
    {
     "name": "stdout",
     "output_type": "stream",
     "text": [
      "7\n",
      "0.04030655977128932 0.042606556614351074\n"
     ]
    }
   ],
   "source": [
    "files = os.listdir('Metrics/6h_c/')\n",
    "print(len(files))\n",
    "\n",
    "macro_list = []\n",
    "micro_list = []\n",
    "\n",
    "for file in files:\n",
    "    with open('Metrics/6h_c/' + file, 'r') as f:\n",
    "        line = f.readlines()[0].split(\" \")\n",
    "        macro = float(line[0])\n",
    "        micro = float(line[1])\n",
    "        macro_list.append(macro)\n",
    "        micro_list.append(micro)\n",
    "\n",
    "print(np.mean(macro_list), np.mean(micro_list))\n",
    "\n",
    "pickle.dump(macro_list, open(\"Pickle Files/mist_macro_6h_c.pkl\", \"wb\"))\n",
    "pickle.dump(micro_list, open(\"Pickle Files/mist_micro_6h_c.pkl\", \"wb\"))"
   ]
  },
  {
   "attachments": {},
   "cell_type": "markdown",
   "metadata": {},
   "source": [
    "### 4h Classification"
   ]
  },
  {
   "cell_type": "code",
   "execution_count": 3,
   "metadata": {},
   "outputs": [
    {
     "name": "stdout",
     "output_type": "stream",
     "text": [
      "74\n"
     ]
    }
   ],
   "source": [
    "files = os.listdir('Metrics/4h_c/')\n",
    "print(len(files))\n",
    "\n",
    "macro_list = np.zeros(77)\n",
    "micro_list = np.zeros(77)\n",
    "\n",
    "for i in range(1, 78):\n",
    "\n",
    "    if i in [75, 76, 77]:\n",
    "        macro_list[i-1] = -1\n",
    "        micro_list[i-1] = -1\n",
    "        continue\n",
    "\n",
    "    with open('Metrics/4h_c/' + str(i) + \".txt\", 'r') as f:\n",
    "        line = f.readlines()[0].split(\" \")\n",
    "        macro = float(line[0])\n",
    "        micro = float(line[1])\n",
    "        macro_list[i-1] = macro\n",
    "        micro_list[i-1] = micro\n",
    "\n",
    "pickle.dump(macro_list, open(\"Pickle Files/mist_macro_4h_c.pkl\", \"wb\"))\n",
    "pickle.dump(micro_list, open(\"Pickle Files/mist_micro_4h_c.pkl\", \"wb\"))"
   ]
  },
  {
   "attachments": {},
   "cell_type": "markdown",
   "metadata": {},
   "source": [
    "### 1d Classification"
   ]
  },
  {
   "cell_type": "code",
   "execution_count": 5,
   "metadata": {},
   "outputs": [
    {
     "name": "stdout",
     "output_type": "stream",
     "text": [
      "76\n"
     ]
    }
   ],
   "source": [
    "files = os.listdir('Metrics/1d_c/')\n",
    "print(len(files))\n",
    "\n",
    "macro_list = np.zeros(77)\n",
    "micro_list = np.zeros(77)\n",
    "\n",
    "for i in range(1, 78):\n",
    "\n",
    "    if i in [20]:\n",
    "        macro_list[i-1] = -1\n",
    "        micro_list[i-1] = -1\n",
    "        continue\n",
    "\n",
    "    with open('Metrics/1d_c/' + str(i) + \".txt\", 'r') as f:\n",
    "        line = f.readlines()[0].split(\" \")\n",
    "        macro = float(line[0])\n",
    "        micro = float(line[1])\n",
    "        macro_list[i-1] = macro\n",
    "        micro_list[i-1] = micro\n",
    "\n",
    "pickle.dump(macro_list, open(\"Pickle Files/mist_macro_1d_c.pkl\", \"wb\"))\n",
    "pickle.dump(micro_list, open(\"Pickle Files/mist_micro_1d_c.pkl\", \"wb\"))"
   ]
  },
  {
   "attachments": {},
   "cell_type": "markdown",
   "metadata": {},
   "source": [
    "### 12h Regression"
   ]
  },
  {
   "cell_type": "code",
   "execution_count": 10,
   "metadata": {},
   "outputs": [
    {
     "name": "stdout",
     "output_type": "stream",
     "text": [
      "77\n"
     ]
    }
   ],
   "source": [
    "files = os.listdir('Metrics/12h_r/')\n",
    "print(len(files))\n",
    "\n",
    "mae_list = np.zeros(77)\n",
    "mse_list = np.zeros(77)\n",
    "\n",
    "for i in range(1, 78):\n",
    "    with open('Metrics/12h_r/' + str(i) + \".txt\", 'r') as f:\n",
    "\n",
    "        if i > 12:\n",
    "            line = f.readlines()[0].split(\" \")\n",
    "            mae = float(line[0])\n",
    "            mse = float(line[1])\n",
    "            mae_list[i-1] = mae\n",
    "            mse_list[i-1] = mse\n",
    "            pass\n",
    "        else:\n",
    "            line = f.readlines()[1].split(\" \")\n",
    "            mae = float(line[4])\n",
    "            mse = float(line[5].split(\"\\n\")[0])\n",
    "            mae_list[i-1] = mae\n",
    "            mse_list[i-1] = mse\n",
    "\n",
    "pickle.dump(mae_list, open(\"Pickle Files/mist_mae_12h_r.pkl\", \"wb\"))\n",
    "pickle.dump(mse_list, open(\"Pickle Files/mist_mse_12h_r.pkl\", \"wb\"))"
   ]
  },
  {
   "attachments": {},
   "cell_type": "markdown",
   "metadata": {},
   "source": [
    "### 6h Regression"
   ]
  },
  {
   "cell_type": "code",
   "execution_count": 16,
   "metadata": {},
   "outputs": [
    {
     "name": "stdout",
     "output_type": "stream",
     "text": [
      "77\n"
     ]
    }
   ],
   "source": [
    "files = os.listdir('Metrics/6h_r/')\n",
    "print(len(files))\n",
    "\n",
    "mae_list = np.zeros(77)\n",
    "mse_list = np.zeros(77)\n",
    "\n",
    "for i in range(1, 78):\n",
    "    with open('Metrics/6h_r/' + str(i) + \".txt\", 'r') as f:\n",
    "        line = f.readlines()[0].split(\" \")\n",
    "        mae = float(line[0])\n",
    "        mse = float(line[1])\n",
    "        mae_list[i-1] = mae\n",
    "        mse_list[i-1] = mse\n",
    "\n",
    "pickle.dump(mae_list, open(\"Pickle Files/mist_mae_6h_r.pkl\", \"wb\"))\n",
    "pickle.dump(mse_list, open(\"Pickle Files/mist_mse_6h_r.pkl\", \"wb\"))"
   ]
  },
  {
   "attachments": {},
   "cell_type": "markdown",
   "metadata": {},
   "source": [
    "### 4h Regression"
   ]
  },
  {
   "cell_type": "code",
   "execution_count": 17,
   "metadata": {},
   "outputs": [
    {
     "ename": "FileNotFoundError",
     "evalue": "[WinError 3] The system cannot find the path specified: 'Metrics/4h_r/'",
     "output_type": "error",
     "traceback": [
      "\u001b[1;31m---------------------------------------------------------------------------\u001b[0m",
      "\u001b[1;31mFileNotFoundError\u001b[0m                         Traceback (most recent call last)",
      "\u001b[1;32m<ipython-input-17-1e7cae38384a>\u001b[0m in \u001b[0;36m<module>\u001b[1;34m\u001b[0m\n\u001b[1;32m----> 1\u001b[1;33m \u001b[0mfiles\u001b[0m \u001b[1;33m=\u001b[0m \u001b[0mos\u001b[0m\u001b[1;33m.\u001b[0m\u001b[0mlistdir\u001b[0m\u001b[1;33m(\u001b[0m\u001b[1;34m'Metrics/4h_r/'\u001b[0m\u001b[1;33m)\u001b[0m\u001b[1;33m\u001b[0m\u001b[1;33m\u001b[0m\u001b[0m\n\u001b[0m\u001b[0;32m      2\u001b[0m \u001b[0mprint\u001b[0m\u001b[1;33m(\u001b[0m\u001b[0mlen\u001b[0m\u001b[1;33m(\u001b[0m\u001b[0mfiles\u001b[0m\u001b[1;33m)\u001b[0m\u001b[1;33m)\u001b[0m\u001b[1;33m\u001b[0m\u001b[1;33m\u001b[0m\u001b[0m\n\u001b[0;32m      3\u001b[0m \u001b[1;33m\u001b[0m\u001b[0m\n\u001b[0;32m      4\u001b[0m \u001b[0mmae_list\u001b[0m \u001b[1;33m=\u001b[0m \u001b[0mnp\u001b[0m\u001b[1;33m.\u001b[0m\u001b[0mzeros\u001b[0m\u001b[1;33m(\u001b[0m\u001b[1;36m77\u001b[0m\u001b[1;33m)\u001b[0m\u001b[1;33m\u001b[0m\u001b[1;33m\u001b[0m\u001b[0m\n\u001b[0;32m      5\u001b[0m \u001b[0mmse_list\u001b[0m \u001b[1;33m=\u001b[0m \u001b[0mnp\u001b[0m\u001b[1;33m.\u001b[0m\u001b[0mzeros\u001b[0m\u001b[1;33m(\u001b[0m\u001b[1;36m77\u001b[0m\u001b[1;33m)\u001b[0m\u001b[1;33m\u001b[0m\u001b[1;33m\u001b[0m\u001b[0m\n",
      "\u001b[1;31mFileNotFoundError\u001b[0m: [WinError 3] The system cannot find the path specified: 'Metrics/4h_r/'"
     ]
    }
   ],
   "source": [
    "files = os.listdir('Metrics/4h_r/')\n",
    "print(len(files))\n",
    "\n",
    "mae_list = np.zeros(77)\n",
    "mse_list = np.zeros(77)\n",
    "\n",
    "for i in range(1, 78):\n",
    "    with open('Metrics/4h_r/' + str(i) + \".txt\", 'r') as f:\n",
    "        line = f.readlines()[0].split(\" \")\n",
    "        mae = float(line[0])\n",
    "        mse = float(line[1])\n",
    "        mae_list[i-1] = mae\n",
    "        mse_list[i-1] = mse\n",
    "\n",
    "pickle.dump(mae_list, open(\"Pickle Files/mist_mae_4h_r.pkl\", \"wb\"))\n",
    "pickle.dump(mse_list, open(\"Pickle Files/mist_mse_4h_r.pkl\", \"wb\"))"
   ]
  },
  {
   "cell_type": "code",
   "execution_count": null,
   "metadata": {},
   "outputs": [],
   "source": []
  }
 ],
 "metadata": {
  "kernelspec": {
   "display_name": "venv",
   "language": "python",
   "name": "venv"
  },
  "language_info": {
   "codemirror_mode": {
    "name": "ipython",
    "version": 3
   },
   "file_extension": ".py",
   "mimetype": "text/x-python",
   "name": "python",
   "nbconvert_exporter": "python",
   "pygments_lexer": "ipython3",
   "version": "3.7.4"
  },
  "orig_nbformat": 4
 },
 "nbformat": 4,
 "nbformat_minor": 2
}
