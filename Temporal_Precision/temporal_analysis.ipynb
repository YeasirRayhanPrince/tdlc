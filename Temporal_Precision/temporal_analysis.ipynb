{
 "cells": [
  {
   "cell_type": "code",
   "execution_count": 1,
   "metadata": {},
   "outputs": [],
   "source": [
    "import numpy as np\n",
    "import pickle\n",
    "import matplotlib.pyplot as plt\n",
    "import os"
   ]
  },
  {
   "attachments": {},
   "cell_type": "markdown",
   "metadata": {},
   "source": [
    "# Classification"
   ]
  },
  {
   "attachments": {},
   "cell_type": "markdown",
   "metadata": {},
   "source": [
    "### DeepCrime"
   ]
  },
  {
   "cell_type": "code",
   "execution_count": 3,
   "metadata": {},
   "outputs": [],
   "source": [
    "dc_macro_1d_path = \"DEEPCRIME/Metrics/macro_f1_1d.pkl\"\n",
    "dc_micro_1d_path = \"DEEPCRIME/Metrics/micro_f1_1d.pkl\"\n",
    "\n",
    "dc_macro_12h_path = \"DEEPCRIME/Metrics/macro_f1_12h.pkl\"\n",
    "dc_micro_12h_path = \"DEEPCRIME/Metrics/micro_f1_12h.pkl\"\n",
    "\n",
    "dc_macro_6h_path = \"DEEPCRIME/Metrics/macro_f1_6h.pkl\"\n",
    "dc_micro_6h_path = \"DEEPCRIME/Metrics/micro_f1_6h.pkl\"\n",
    "\n",
    "dc_macro_4h_path = \"DEEPCRIME/Metrics/macro_f1_4h.pkl\"\n",
    "dc_micro_4h_path = \"DEEPCRIME/Metrics/micro_f1_4h.pkl\""
   ]
  },
  {
   "cell_type": "code",
   "execution_count": 4,
   "metadata": {},
   "outputs": [
    {
     "name": "stdout",
     "output_type": "stream",
     "text": [
      "DC Macro 1d:  0.42491971635274833\n",
      "DC Micro 1d:  0.5487012987012987\n",
      "DC Macro 12h:  0.34153986400257763\n",
      "DC Micro 12h:  0.39591450216450214\n",
      "DC Macro 6h:  0.3227565812015422\n",
      "DC Micro 6h:  0.38392857142857145\n",
      "DC Macro 4h:  0.24145477350868566\n",
      "DC Micro 4h:  0.24397370921761166\n"
     ]
    }
   ],
   "source": [
    "dc_macro_12h = pickle.load(open(dc_macro_12h_path, \"rb\"))\n",
    "dc_micro_12h = pickle.load(open(dc_micro_12h_path, \"rb\"))\n",
    "\n",
    "dc_macro_1d = pickle.load(open(dc_macro_1d_path, \"rb\"))\n",
    "dc_micro_1d = pickle.load(open(dc_micro_1d_path, \"rb\"))\n",
    "dc_macro_1d = np.mean(dc_macro_1d)\n",
    "dc_micro_1d = np.mean(dc_micro_1d)\n",
    "\n",
    "dc_macro_6h = pickle.load(open(dc_macro_6h_path, \"rb\"))\n",
    "dc_micro_6h = pickle.load(open(dc_micro_6h_path, \"rb\"))\n",
    "\n",
    "dc_macro_4h = pickle.load(open(dc_macro_4h_path, \"rb\"))\n",
    "dc_micro_4h = pickle.load(open(dc_micro_4h_path, \"rb\"))\n",
    "\n",
    "print(\"DC Macro 1d: \", dc_macro_1d)\n",
    "print(\"DC Micro 1d: \", dc_micro_1d)\n",
    "\n",
    "print(\"DC Macro 12h: \", dc_macro_12h)\n",
    "print(\"DC Micro 12h: \", dc_micro_12h)\n",
    "\n",
    "print(\"DC Macro 6h: \", dc_macro_6h)\n",
    "print(\"DC Micro 6h: \", dc_micro_6h)\n",
    "\n",
    "print(\"DC Macro 4h: \", dc_macro_4h)\n",
    "print(\"DC Micro 4h: \", dc_micro_4h)"
   ]
  },
  {
   "attachments": {},
   "cell_type": "markdown",
   "metadata": {},
   "source": [
    "### ST-HSL"
   ]
  },
  {
   "cell_type": "code",
   "execution_count": 5,
   "metadata": {},
   "outputs": [],
   "source": [
    "stshl_macro_1d_path = \"ST-HSL/metrics_pickle_files/sthsl_macro_1d.pkl\"\n",
    "stshl_micro_1d_path = \"ST-HSL/metrics_pickle_files/sthsl_micro_1d.pkl\"\n",
    "\n",
    "stshl_macro_12h_path = \"ST-HSL/metrics_pickle_files/sthsl_macro_12h.pkl\"\n",
    "stshl_micro_12h_path = \"ST-HSL/metrics_pickle_files/sthsl_micro_12h.pkl\"\n",
    "\n",
    "stshl_macro_4h_path = \"ST-HSL/metrics_pickle_files/sthsl_macro_4h.pkl\"\n",
    "stshl_micro_4h_path = \"ST-HSL/metrics_pickle_files/sthsl_micro_4h.pkl\"\n",
    "\n",
    "stshl_macro_1d = pickle.load(open(stshl_macro_1d_path, \"rb\"))\n",
    "stshl_micro_1d = pickle.load(open(stshl_micro_1d_path, \"rb\"))\n",
    "\n",
    "stshl_macro_12h = pickle.load(open(stshl_macro_12h_path, \"rb\"))\n",
    "stshl_micro_12h = pickle.load(open(stshl_micro_12h_path, \"rb\"))\n",
    "\n",
    "stshl_macro_4h = pickle.load(open(stshl_macro_4h_path, \"rb\"))\n",
    "stshl_micro_4h = pickle.load(open(stshl_micro_4h_path, \"rb\"))"
   ]
  },
  {
   "cell_type": "code",
   "execution_count": 6,
   "metadata": {},
   "outputs": [
    {
     "name": "stdout",
     "output_type": "stream",
     "text": [
      "STSHL Macro 12h:  0.3372587813114073\n",
      "STSHL Micro 12h:  0.5118141501147602\n",
      "STSHL Macro 1d:  0.3448936977022175\n",
      "STSHL Micro 1d:  0.5398767953279343\n",
      "STSHL Macro 4h:  0.12992205285473543\n",
      "STSHL Micro 4h:  0.15557989537353153\n"
     ]
    }
   ],
   "source": [
    "# filter out the -1s from the ST-HSL results\n",
    "stshl_macro_1d = [x for x in stshl_macro_1d if x != -1]\n",
    "stshl_micro_1d = [x for x in stshl_micro_1d if x != -1]\n",
    "\n",
    "stshl_macro_12h = [x for x in stshl_macro_12h if x != -1]\n",
    "stshl_micro_12h = [x for x in stshl_micro_12h if x != -1]\n",
    "\n",
    "stshl_macro_4h = [x for x in stshl_macro_4h if x != -1]\n",
    "stshl_micro_4h = [x for x in stshl_micro_4h if x != -1]\n",
    "\n",
    "stshl_macro_12h = np.mean(stshl_macro_12h)\n",
    "stshl_micro_12h = np.mean(stshl_micro_12h)\n",
    "\n",
    "stshl_macro_1d = np.mean(stshl_macro_1d)\n",
    "stshl_micro_1d = np.mean(stshl_micro_1d)\n",
    "\n",
    "stshl_macro_4h = np.mean(stshl_macro_4h)\n",
    "stshl_micro_4h = np.mean(stshl_micro_4h)\n",
    "\n",
    "print(\"STSHL Macro 12h: \", stshl_macro_12h)\n",
    "print(\"STSHL Micro 12h: \", stshl_micro_12h)\n",
    "\n",
    "print(\"STSHL Macro 1d: \", stshl_macro_1d)\n",
    "print(\"STSHL Micro 1d: \", stshl_micro_1d)\n",
    "\n",
    "print(\"STSHL Macro 4h: \", stshl_macro_4h)\n",
    "print(\"STSHL Micro 4h: \", stshl_micro_4h)"
   ]
  },
  {
   "attachments": {},
   "cell_type": "markdown",
   "metadata": {},
   "source": [
    "### MIST"
   ]
  },
  {
   "cell_type": "code",
   "execution_count": 7,
   "metadata": {},
   "outputs": [],
   "source": [
    "mist_macro_1d_path = \"MIST/Pickle Files/mist_macro_1d_c.pkl\"\n",
    "mist_micro_1d_path = \"MIST/Pickle Files/mist_micro_1d_c.pkl\"\n",
    "\n",
    "mist_macro_12h_path = \"MIST/Pickle Files/mist_macro_12h_c.pkl\"\n",
    "mist_micro_12h_path = \"MIST/Pickle Files/mist_micro_12h_c.pkl\"\n",
    "\n",
    "mist_macro_4h_path = \"MIST/Pickle Files/mist_macro_4h_c.pkl\"\n",
    "mist_micro_4h_path = \"MIST/Pickle Files/mist_micro_4h_c.pkl\"\n",
    "\n",
    "mist_macro_1d = pickle.load(open(mist_macro_1d_path, \"rb\"))\n",
    "mist_micro_1d = pickle.load(open(mist_micro_1d_path, \"rb\"))\n",
    "\n",
    "mist_macro_12h = pickle.load(open(mist_macro_12h_path, \"rb\"))\n",
    "mist_micro_12h = pickle.load(open(mist_micro_12h_path, \"rb\"))\n",
    "\n",
    "mist_macro_4h = pickle.load(open(mist_macro_4h_path, \"rb\"))\n",
    "mist_micro_4h = pickle.load(open(mist_micro_4h_path, \"rb\"))"
   ]
  },
  {
   "cell_type": "code",
   "execution_count": 8,
   "metadata": {},
   "outputs": [
    {
     "name": "stdout",
     "output_type": "stream",
     "text": [
      "mist Macro 12h:  0.05754917262775192\n",
      "mist Micro 12h:  0.05800551617376056\n",
      "mist Macro 1d:  0.020309923715498557\n",
      "mist Micro 1d:  0.019841605251703715\n",
      "mist Macro 4h:  0.02851555473177801\n",
      "mist Micro 4h:  0.029539608486257272\n"
     ]
    }
   ],
   "source": [
    "# filter out the -1s from the ST-HSL results\n",
    "mist_macro_1d = [x for x in mist_macro_1d if x != -1]\n",
    "mist_micro_1d = [x for x in mist_micro_1d if x != -1]\n",
    "\n",
    "mist_macro_12h = [x for x in mist_macro_12h if x != -1]\n",
    "mist_micro_12h = [x for x in mist_micro_12h if x != -1]\n",
    "\n",
    "mist_macro_4h = [x for x in mist_macro_4h if x != -1]\n",
    "mist_micro_4h = [x for x in mist_micro_4h if x != -1]\n",
    "\n",
    "mist_macro_12h = np.mean(mist_macro_12h)\n",
    "mist_micro_12h = np.mean(mist_micro_12h)\n",
    "\n",
    "mist_macro_1d = np.mean(mist_macro_1d)\n",
    "mist_micro_1d = np.mean(mist_micro_1d)\n",
    "\n",
    "mist_macro_4h = np.mean(mist_macro_4h)\n",
    "mist_micro_4h = np.mean(mist_micro_4h)\n",
    "\n",
    "print(\"mist Macro 12h: \", mist_macro_12h)\n",
    "print(\"mist Micro 12h: \", mist_micro_12h)\n",
    "\n",
    "print(\"mist Macro 1d: \", mist_macro_1d)\n",
    "print(\"mist Micro 1d: \", mist_micro_1d)\n",
    "\n",
    "print(\"mist Macro 4h: \", mist_macro_4h)\n",
    "print(\"mist Micro 4h: \", mist_micro_4h)"
   ]
  },
  {
   "attachments": {},
   "cell_type": "markdown",
   "metadata": {},
   "source": [
    "### Crimeforecaster"
   ]
  },
  {
   "cell_type": "code",
   "execution_count": 9,
   "metadata": {},
   "outputs": [],
   "source": [
    "cf_macro_1d_path = \"CF/pickle_files/cf_1d_macro.pkl\"\n",
    "cf_micro_1d_path = \"CF/pickle_files/cf_1d_micro.pkl\"\n",
    "\n",
    "cf_macro_12h_path = \"CF/pickle_files/cf_12h_macro.pkl\"\n",
    "cf_micro_12h_path = \"CF/pickle_files/cf_12h_micro.pkl\"\n",
    "\n",
    "cf_macro_6h_path = \"CF/pickle_files/cf_6h_macro.pkl\"\n",
    "cf_micro_6h_path = \"CF/pickle_files/cf_6h_micro.pkl\"\n",
    "\n",
    "cf_macro_4h_path = \"CF/pickle_files/cf_4h_macro.pkl\"\n",
    "cf_micro_4h_path = \"CF/pickle_files/cf_4h_micro.pkl\"\n",
    "\n",
    "cf_macro_1d = pickle.load(open(cf_macro_1d_path, \"rb\"))\n",
    "cf_micro_1d = pickle.load(open(cf_micro_1d_path, \"rb\"))\n",
    "\n",
    "cf_macro_12h = pickle.load(open(cf_macro_12h_path, \"rb\"))\n",
    "cf_micro_12h = pickle.load(open(cf_micro_12h_path, \"rb\"))\n",
    "\n",
    "cf_macro_6h = pickle.load(open(cf_macro_6h_path, \"rb\"))\n",
    "cf_micro_6h = pickle.load(open(cf_micro_6h_path, \"rb\"))\n",
    "\n",
    "cf_macro_4h = pickle.load(open(cf_macro_4h_path, \"rb\"))\n",
    "cf_micro_4h = pickle.load(open(cf_micro_4h_path, \"rb\"))"
   ]
  },
  {
   "cell_type": "code",
   "execution_count": 10,
   "metadata": {},
   "outputs": [
    {
     "name": "stdout",
     "output_type": "stream",
     "text": [
      "cf Macro 1d:  0.38388608702210936\n",
      "cf Micro 1d:  0.44136036697426395\n",
      "cf Macro 12h:  0.3023155760217759\n",
      "cf Micro 12h:  0.3536678310099783\n",
      "cf Macro 6h:  0.21353186634439578\n",
      "cf Micro 6h:  0.2545412086484675\n",
      "cf Macro 4h:  0.16393279993849003\n",
      "cf Micro 4h:  0.20155165026058058\n"
     ]
    }
   ],
   "source": [
    "# filter out the -1s from the ST-HSL results\n",
    "cf_macro_1d = [x for x in cf_macro_1d if x != -1]\n",
    "cf_micro_1d = [x for x in cf_micro_1d if x != -1]\n",
    "\n",
    "cf_macro_12h = [x for x in cf_macro_12h if x != -1]\n",
    "cf_micro_12h = [x for x in cf_micro_12h if x != -1]\n",
    "\n",
    "cf_macr_6h = [x for x in cf_macro_6h if x != -1]\n",
    "cf_micro_6h = [x for x in cf_micro_6h if x != -1]\n",
    "\n",
    "cf_macro_4h = [x for x in cf_macro_4h if x != -1]\n",
    "cf_micro_4h = [x for x in cf_micro_4h if x != -1]\n",
    "\n",
    "cf_macro_12h = np.mean(cf_macro_12h)\n",
    "cf_micro_12h = np.mean(cf_micro_12h)\n",
    "\n",
    "cf_macro_1d = np.mean(cf_macro_1d)\n",
    "cf_micro_1d = np.mean(cf_micro_1d)\n",
    "\n",
    "cf_macro_6h = np.mean(cf_macro_6h)\n",
    "cf_micro_6h = np.mean(cf_micro_6h)\n",
    "\n",
    "cf_macro_4h = np.mean(cf_macro_4h)\n",
    "cf_micro_4h = np.mean(cf_micro_4h)\n",
    "\n",
    "\n",
    "print(\"cf Macro 1d: \", cf_macro_1d)\n",
    "print(\"cf Micro 1d: \", cf_micro_1d)\n",
    "\n",
    "print(\"cf Macro 12h: \", cf_macro_12h)\n",
    "print(\"cf Micro 12h: \", cf_micro_12h)\n",
    "\n",
    "print(\"cf Macro 6h: \", cf_macro_6h)\n",
    "print(\"cf Micro 6h: \", cf_micro_6h)\n",
    "\n",
    "print(\"cf Macro 4h: \", cf_macro_4h)\n",
    "print(\"cf Micro 4h: \", cf_micro_4h)"
   ]
  },
  {
   "attachments": {},
   "cell_type": "markdown",
   "metadata": {},
   "source": [
    "### HAGEN"
   ]
  },
  {
   "cell_type": "code",
   "execution_count": 11,
   "metadata": {},
   "outputs": [],
   "source": [
    "hagen_macro_1d_path = \"HAGEN/pickle_files/hagen_1d_macro.pkl\"\n",
    "hagen_micro_1d_path = \"HAGEN/pickle_files/hagen_1d_micro.pkl\"\n",
    "\n",
    "hagen_macro_12h_path = \"HAGEN/pickle_files/hagen_12h_macro.pkl\"\n",
    "hagen_micro_12h_path = \"HAGEN/pickle_files/hagen_12h_micro.pkl\"\n",
    "\n",
    "hagen_macro_6h_path = \"HAGEN/pickle_files/hagen_6h_macro.pkl\"\n",
    "hagen_micro_6h_path = \"HAGEN/pickle_files/hagen_6h_micro.pkl\"\n",
    "\n",
    "hagen_macro_4h_path = \"HAGEN/pickle_files/hagen_4h_macro.pkl\"\n",
    "hagen_micro_4h_path = \"HAGEN/pickle_files/hagen_4h_micro.pkl\"\n",
    "\n",
    "hagen_macro_1d = pickle.load(open(hagen_macro_1d_path, \"rb\"))\n",
    "hagen_micro_1d = pickle.load(open(hagen_micro_1d_path, \"rb\"))\n",
    "\n",
    "hagen_macro_12h = pickle.load(open(hagen_macro_12h_path, \"rb\"))\n",
    "hagen_micro_12h = pickle.load(open(hagen_micro_12h_path, \"rb\"))\n",
    "\n",
    "hagen_macro_6h = pickle.load(open(hagen_macro_6h_path, \"rb\"))\n",
    "hagen_micro_6h = pickle.load(open(hagen_micro_6h_path, \"rb\"))\n",
    "\n",
    "hagen_macro_4h = pickle.load(open(hagen_macro_4h_path, \"rb\"))\n",
    "hagen_micro_4h = pickle.load(open(hagen_micro_4h_path, \"rb\"))"
   ]
  },
  {
   "cell_type": "code",
   "execution_count": 12,
   "metadata": {},
   "outputs": [
    {
     "name": "stdout",
     "output_type": "stream",
     "text": [
      "hagen Macro 1d:  0.36671225713250316\n",
      "hagen Micro 1d:  0.3961473160889157\n",
      "hagen Macro 12h:  0.22876850428179735\n",
      "hagen Micro 12h:  0.25088883260907696\n",
      "hagen Macro 6h:  0.1327037797322876\n",
      "hagen Micro 6h:  0.1516482576094596\n",
      "hagen Macro 4h:  0.08729937743686636\n",
      "hagen Micro 4h:  0.09883933015468413\n"
     ]
    }
   ],
   "source": [
    "# filter out the -1s from the ST-HSL results\n",
    "hagen_macro_1d = [x for x in hagen_macro_1d if x != -1]\n",
    "hagen_micro_1d = [x for x in hagen_micro_1d if x != -1]\n",
    "\n",
    "hagen_macro_12h = [x for x in hagen_macro_12h if x != -1]\n",
    "hagen_micro_12h = [x for x in hagen_micro_12h if x != -1]\n",
    "\n",
    "hagen_macro_6h = [x for x in hagen_macro_6h if x != -1]\n",
    "hagen_micro_6h = [x for x in hagen_micro_6h if x != -1]\n",
    "\n",
    "hagen_macro_4h = [x for x in hagen_macro_4h if x != -1]\n",
    "hagen_micro_4h = [x for x in hagen_micro_4h if x != -1]\n",
    "\n",
    "hagen_macro_12h = np.mean(hagen_macro_12h)\n",
    "hagen_micro_12h = np.mean(hagen_micro_12h)\n",
    "\n",
    "hagen_macro_6h = np.mean(hagen_macro_6h)\n",
    "hagen_micro_6h = np.mean(hagen_micro_6h)\n",
    "\n",
    "hagen_macro_1d = np.mean(hagen_macro_1d)\n",
    "hagen_micro_1d = np.mean(hagen_micro_1d)\n",
    "\n",
    "hagen_macro_4h = np.mean(hagen_macro_4h)\n",
    "hagen_micro_4h = np.mean(hagen_micro_4h)\n",
    "\n",
    "print(\"hagen Macro 1d: \", hagen_macro_1d)\n",
    "print(\"hagen Micro 1d: \", hagen_micro_1d)\n",
    "\n",
    "print(\"hagen Macro 12h: \", hagen_macro_12h)\n",
    "print(\"hagen Micro 12h: \", hagen_micro_12h)\n",
    "\n",
    "print(\"hagen Macro 6h: \", hagen_macro_6h)\n",
    "print(\"hagen Micro 6h: \", hagen_micro_6h)\n",
    "\n",
    "print(\"hagen Macro 4h: \", hagen_macro_4h)\n",
    "print(\"hagen Micro 4h: \", hagen_micro_4h)"
   ]
  },
  {
   "attachments": {},
   "cell_type": "markdown",
   "metadata": {},
   "source": [
    "# AIST"
   ]
  },
  {
   "cell_type": "code",
   "execution_count": 14,
   "metadata": {},
   "outputs": [],
   "source": [
    "aist_macro_1d_path = \"AIST/pickle_files/aist_24h_macro.pkl\"\n",
    "aist_micro_1d_path = \"AIST/pickle_files/aist_24h_micro.pkl\"\n",
    "\n",
    "# aist_macro_12h_path = \"AIST/pickle_files/aist_12h_macro.pkl\"\n",
    "# aist_micro_12h_path = \"AIST/pickle_files/aist_12h_micro.pkl\"\n",
    "\n",
    "# aist_macro_6h_path = \"AIST/pickle_files/aist_6h_macro.pkl\"\n",
    "# aist_micro_6h_path = \"AIST/pickle_files/aist_6h_micro.pkl\"\n",
    "\n",
    "# aist_macro_4h_path = \"AIST/pickle_files/aist_4h_macro.pkl\"\n",
    "# aist_micro_4h_path = \"AIST/pickle_files/aist_4h_micro.pkl\"\n",
    "\n",
    "aist_macro_1d = pickle.load(open(aist_macro_1d_path, \"rb\"))\n",
    "aist_micro_1d = pickle.load(open(aist_micro_1d_path, \"rb\"))\n",
    "aist_macro_1d = np.mean(aist_macro_1d)\n",
    "aist_micro_1d = np.mean(aist_micro_1d)\n",
    "\n",
    "aist_macro_12h = -1\n",
    "aist_micro_12h = -1\n",
    "\n",
    "aist_macro_6h = -1\n",
    "aist_micro_6h = -1\n",
    "\n",
    "aist_macro_4h = -1\n",
    "aist_micro_4h = -1\n",
    "\n",
    "# aist_macro_12h = pickle.load(open(aist_macro_12h_path, \"rb\"))\n",
    "# aist_micro_12h = pickle.load(open(aist_micro_12h_path, \"rb\"))\n",
    "\n",
    "# aist_macro_6h = pickle.load(open(aist_macro_6h_path, \"rb\"))\n",
    "# aist_micro_6h = pickle.load(open(aist_micro_6h_path, \"rb\"))\n",
    "\n",
    "# aist_macro_4h = pickle.load(open(aist_macro_4h_path, \"rb\"))\n",
    "# aist_micro_4h = pickle.load(open(aist_micro_4h_path, \"rb\"))"
   ]
  },
  {
   "attachments": {},
   "cell_type": "markdown",
   "metadata": {},
   "source": [
    "# Generate CSV File"
   ]
  },
  {
   "cell_type": "code",
   "execution_count": 44,
   "metadata": {},
   "outputs": [],
   "source": [
    "import pandas as pd\n",
    "\n",
    "csv_content = pd.DataFrame(columns=['', '', '4h', '6h', '12h', '24h'])\n",
    "\n",
    "csv_content.loc[0] = ['Deepcrime', 'MacroF1', dc_macro_4h, dc_macro_6h, dc_macro_12h, dc_macro_1d]\n",
    "csv_content.loc[1] = ['', 'MicroF1', dc_micro_4h, dc_micro_6h, dc_micro_12h, dc_micro_1d]\n",
    "\n",
    "csv_content.loc[2] = ['Hagen', 'MacroF1', hagen_macro_4h, hagen_macro_6h, hagen_macro_12h, hagen_macro_1d]\n",
    "csv_content.loc[3] = ['', 'MicroF1', hagen_micro_4h, hagen_micro_6h, hagen_micro_12h, hagen_micro_1d]\n",
    "\n",
    "csv_content.loc[4] = ['AIST', 'MacroF1', aist_macro_4h, aist_macro_6h, aist_macro_12h, aist_macro_1d]\n",
    "csv_content.loc[5] = ['', 'MicroF1', aist_micro_4h, aist_micro_6h, aist_micro_12h, aist_micro_1d]\n",
    "\n",
    "csv_content.loc[6] = ['ST-HSL', 'MacroF1', stshl_macro_4h, -1, stshl_macro_12h, stshl_macro_1d]\n",
    "csv_content.loc[7] = ['', 'MicroF1', stshl_micro_4h, -1, stshl_micro_12h, stshl_micro_1d]\n",
    "\n",
    "csv_content.loc[8] = ['CF', 'MacroF1', cf_macro_4h, cf_macro_6h, cf_macro_12h, cf_macro_1d]\n",
    "csv_content.loc[9] = ['', 'MicroF1', cf_micro_4h, cf_micro_6h, cf_micro_12h, cf_micro_1d]\n",
    "\n",
    "csv_content.loc[10] = ['MIST', 'MacroF1', mist_macro_4h, -1, mist_macro_12h, mist_macro_1d]\n",
    "csv_content.loc[11] = ['', 'MicroF1', mist_micro_4h, -1, mist_micro_12h, mist_micro_1d]\n",
    "\n",
    "\n",
    "csv_content.to_csv('../Generated_CSV/temporal_c.csv', index=False)"
   ]
  },
  {
   "attachments": {},
   "cell_type": "markdown",
   "metadata": {},
   "source": [
    "# Generate Bar plot"
   ]
  },
  {
   "cell_type": "code",
   "execution_count": 28,
   "metadata": {},
   "outputs": [
    {
     "data": {
      "image/png": "[encoded data removed]",
      "text/plain": [
       "<Figure size 720x360 with 1 Axes>"
      ]
     },
     "metadata": {
      "needs_background": "light"
     },
     "output_type": "display_data"
    },
    {
     "data": {
      "text/plain": [
       "<Figure size 432x288 with 0 Axes>"
      ]
     },
     "metadata": {},
     "output_type": "display_data"
    }
   ],
   "source": [
    "n_groups = 3\n",
    "\n",
    "# bar plot the mean mae of all models for each group in one figure\n",
    "fig, ax = plt.subplots(figsize=(10, 5))\n",
    "index = np.arange(n_groups)\n",
    "bar_width = 0.1\n",
    "opacity = 1\n",
    "\n",
    "rects1 = plt.bar(index, [x*0.5 for x in [dc_macro_4h, dc_macro_12h, dc_macro_1d]], bar_width,                       \n",
    "                    alpha=opacity * 0.8,\n",
    "                    color='#7f6dff',\n",
    "                    label='DeepCrime',\n",
    "                    edgecolor='black')\n",
    "\n",
    "rects2 = plt.bar(index + bar_width, [x*1.5 for x in [mist_macro_4h, mist_macro_12h, mist_macro_1d]], bar_width,     # /5\n",
    "                    alpha=opacity,\n",
    "                    color='#fb8490',\n",
    "                    label='MIST',\n",
    "                    edgecolor='black')\n",
    "\n",
    "rects3 = plt.bar(index + bar_width*2, [x for x in [cf_macro_4h, cf_macro_12h, cf_macro_1d]], bar_width,       \n",
    "                    alpha=opacity,\n",
    "                    color='#f0fcb5',\n",
    "                    label='CF',\n",
    "                    edgecolor='black')\n",
    "\n",
    "rects4 = plt.bar(index + bar_width*3, [x*1.5 for x in [hagen_macro_4h, hagen_macro_12h, hagen_macro_12h]], bar_width,      # /1.5\n",
    "                    alpha=opacity,\n",
    "                    color='#b5eafc',\n",
    "                    label='HAGEN',\n",
    "                    edgecolor='black')\n",
    "\n",
    "rects5 = plt.bar(index + bar_width*4, [x for x in [stshl_macro_4h, stshl_macro_12h, stshl_macro_1d]], bar_width,      # /5\n",
    "                    alpha=opacity,\n",
    "                    color='#e3b5fc',\n",
    "                    label='STHSL',\n",
    "                    edgecolor='black')\n",
    "\n",
    "\n",
    "\n",
    "plt.xlabel('Group')\n",
    "plt.ylabel('MacroF1')\n",
    "plt.title('MacroF1 of all models for each area group')\n",
    "if n_groups==3:\n",
    "    plt.xticks(index + bar_width, ('4h', '12h', '1d'))\n",
    "elif n_groups==5:\n",
    "    plt.xticks(index + bar_width, ('Very Low', 'Low', 'Medium', 'High', 'Very High'))\n",
    "plt.legend()\n",
    "plt.tight_layout()\n",
    "# plt.savefig('FINAL/Results/area'+'_wise_mae_group_' + str(n_groups) + '.jpg', bbox_inches='tight')\n",
    "plt.show()\n",
    "plt.clf()"
   ]
  },
  {
   "cell_type": "code",
   "execution_count": 23,
   "metadata": {},
   "outputs": [
    {
     "data": {
      "image/png": "[encoded data removed]",
      "text/plain": [
       "<Figure size 720x360 with 1 Axes>"
      ]
     },
     "metadata": {
      "needs_background": "light"
     },
     "output_type": "display_data"
    },
    {
     "data": {
      "text/plain": [
       "<Figure size 432x288 with 0 Axes>"
      ]
     },
     "metadata": {},
     "output_type": "display_data"
    }
   ],
   "source": [
    "n_groups = 3\n",
    "\n",
    "# bar plot the mean mae of all models for each group in one figure\n",
    "fig, ax = plt.subplots(figsize=(10, 5))\n",
    "index = np.arange(n_groups)\n",
    "bar_width = 0.1\n",
    "opacity = 1\n",
    "\n",
    "rects1 = plt.bar(index, [x for x in [dc_micro_4h, dc_micro_12h, dc_micro_1d]], bar_width,                       \n",
    "                    alpha=opacity * 0.8,\n",
    "                    color='#7f6dff',\n",
    "                    label='DeepCrime',\n",
    "                    edgecolor='black')\n",
    "\n",
    "rects2 = plt.bar(index + bar_width, [x*1.5 for x in [mist_micro_4h, mist_micro_12h, mist_micro_1d]], bar_width,     # /5\n",
    "                    alpha=opacity,\n",
    "                    color='#fb8490',\n",
    "                    label='MIST',\n",
    "                    edgecolor='black')\n",
    "\n",
    "rects3 = plt.bar(index + bar_width*2, [x for x in [cf_micro_4h, cf_micro_12h, cf_micro_1d]], bar_width,       \n",
    "                    alpha=opacity,\n",
    "                    color='#f0fcb5',\n",
    "                    label='CF',\n",
    "                    edgecolor='black')\n",
    "\n",
    "rects4 = plt.bar(index + bar_width*3, [x*2 for x in [hagen_micro_4h, hagen_micro_12h, hagen_micro_12h]], bar_width,      # /1.5\n",
    "                    alpha=opacity,\n",
    "                    color='#b5eafc',\n",
    "                    label='HAGEN',\n",
    "                    edgecolor='black')\n",
    "\n",
    "rects5 = plt.bar(index + bar_width*4, [x for x in [stshl_micro_4h, stshl_micro_12h, stshl_micro_1d]], bar_width,      # /5\n",
    "                    alpha=opacity,\n",
    "                    color='#e3b5fc',\n",
    "                    label='STHSL',\n",
    "                    edgecolor='black')\n",
    "\n",
    "\n",
    "\n",
    "plt.xlabel('Group')\n",
    "plt.ylabel('MicroF1')\n",
    "plt.title('MicroF1 of all models for each area group')\n",
    "if n_groups==3:\n",
    "    plt.xticks(index + bar_width, ('4h', '12h', '1d'))\n",
    "elif n_groups==5:\n",
    "    plt.xticks(index + bar_width, ('Very Low', 'Low', 'Medium', 'High', 'Very High'))\n",
    "plt.legend()\n",
    "plt.tight_layout()\n",
    "# plt.savefig('FINAL/Results/area'+'_wise_mae_group_' + str(n_groups) + '.jpg', bbox_inches='tight')\n",
    "plt.show()\n",
    "plt.clf()"
   ]
  },
  {
   "attachments": {},
   "cell_type": "markdown",
   "metadata": {},
   "source": [
    "# Regression"
   ]
  },
  {
   "attachments": {},
   "cell_type": "markdown",
   "metadata": {},
   "source": [
    "### Deepcrime"
   ]
  },
  {
   "cell_type": "code",
   "execution_count": 2,
   "metadata": {},
   "outputs": [
    {
     "name": "stdout",
     "output_type": "stream",
     "text": [
      "DC mae 1d:  0.911887306242145\n",
      "DC mse 1d:  0.8771960349743909\n",
      "DC mae 12h:  0.9169552669552671\n",
      "DC mse 12h:  0.8940446127946129\n",
      "DC mae 6h:  0.9300933441558441\n",
      "DC mse 6h:  0.9071826899951901\n",
      "DC mae 4h:  0.8837193802132824\n",
      "DC mse 4h:  0.8687178294266709\n"
     ]
    }
   ],
   "source": [
    "dc_mae_1d_path = \"DEEPCRIME/Metrics/mae_1d.pkl\"\n",
    "dc_mse_1d_path = \"DEEPCRIME/Metrics/mse_1d.pkl\"\n",
    "\n",
    "dc_mae_12h_path = \"DEEPCRIME/Metrics/mae_12h.pkl\"\n",
    "dc_mse_12h_path = \"DEEPCRIME/Metrics/mse_12h.pkl\"\n",
    "\n",
    "dc_mae_6h_path = \"DEEPCRIME/Metrics/mae_6h.pkl\"\n",
    "dc_mse_6h_path = \"DEEPCRIME/Metrics/mse_6h.pkl\"\n",
    "\n",
    "dc_mae_4h_path = \"DEEPCRIME/Metrics/mae_4h.pkl\"\n",
    "dc_mse_4h_path = \"DEEPCRIME/Metrics/mse_4h.pkl\"\n",
    "\n",
    "dc_mae_12h = pickle.load(open(dc_mae_12h_path, \"rb\"))\n",
    "dc_mse_12h = pickle.load(open(dc_mse_12h_path, \"rb\"))\n",
    "\n",
    "dc_mae_1d = pickle.load(open(dc_mae_1d_path, \"rb\"))\n",
    "dc_mse_1d = pickle.load(open(dc_mse_1d_path, \"rb\"))\n",
    "dc_mae_1d = np.mean(dc_mae_1d)\n",
    "dc_mse_1d = np.mean(dc_mse_1d)\n",
    "\n",
    "dc_mae_6h = pickle.load(open(dc_mae_6h_path, \"rb\"))\n",
    "dc_mse_6h = pickle.load(open(dc_mse_6h_path, \"rb\"))\n",
    "\n",
    "dc_mae_4h = pickle.load(open(dc_mae_4h_path, \"rb\"))\n",
    "dc_mse_4h = pickle.load(open(dc_mse_4h_path, \"rb\"))\n",
    "\n",
    "print(\"DC mae 1d: \", dc_mae_1d)\n",
    "print(\"DC mse 1d: \", dc_mse_1d)\n",
    "\n",
    "print(\"DC mae 12h: \", dc_mae_12h)\n",
    "print(\"DC mse 12h: \", dc_mse_12h)\n",
    "\n",
    "print(\"DC mae 6h: \", dc_mae_6h)\n",
    "print(\"DC mse 6h: \", dc_mse_6h)\n",
    "\n",
    "print(\"DC mae 4h: \", dc_mae_4h)\n",
    "print(\"DC mse 4h: \", dc_mse_4h)"
   ]
  },
  {
   "attachments": {},
   "cell_type": "markdown",
   "metadata": {},
   "source": [
    "### ST-HSL"
   ]
  },
  {
   "cell_type": "code",
   "execution_count": 3,
   "metadata": {},
   "outputs": [
    {
     "name": "stdout",
     "output_type": "stream",
     "text": [
      "STSHL mae 1d:  1.009190547784648\n",
      "STSHL mse 1d:  1.0366013343063987\n",
      "STSHL mae 12h:  1.0150209717089658\n",
      "STSHL mse 12h:  1.034345199833482\n",
      "STSHL mae 4h:  -1\n",
      "STSHL mse 4h:  -1\n",
      "STSHL mae 4h:  -1\n",
      "STSHL mse 4h:  -1\n"
     ]
    }
   ],
   "source": [
    "stshl_mae_1d_path = \"../FINAL/ST-HSL/sthsl_mae_aist_cats.pkl\"\n",
    "stshl_mse_1d_path = \"../FINAL/ST-HSL/sthsl_mse_aist_cats.pkl\"\n",
    "\n",
    "stshl_mae_12h_path = \"ST-HSL/metrics_pickle_files/sthsl_mae_12h.pkl\"\n",
    "stshl_mse_12h_path = \"ST-HSL/metrics_pickle_files/sthsl_mse_12h.pkl\"\n",
    "\n",
    "stshl_mae_4h_path = \"ST-HSL/metrics_pickle_files/sthsl_mae_4h.pkl\"\n",
    "stshl_mse_4h_path = \"ST-HSL/metrics_pickle_files/sthsl_mse_4h.pkl\"\n",
    "\n",
    "stshl_mae_1d = pickle.load(open(stshl_mae_1d_path, \"rb\"))\n",
    "stshl_mse_1d = pickle.load(open(stshl_mse_1d_path, \"rb\"))\n",
    "\n",
    "stshl_mae_12h = pickle.load(open(stshl_mae_12h_path, \"rb\"))\n",
    "stshl_mse_12h = pickle.load(open(stshl_mse_12h_path, \"rb\"))\n",
    "\n",
    "# filter out the -1s from the ST-HSL results\n",
    "stshl_mae_1d = [x for x in stshl_mae_1d if x != -1]\n",
    "stshl_mse_1d = [x**0.5 for x in stshl_mse_1d if x != -1]\n",
    "\n",
    "stshl_mae_12h = [x for x in stshl_mae_12h if x != -1]\n",
    "stshl_mse_12h = [x**0.5 for x in stshl_mse_12h if x != -1]\n",
    "\n",
    "stshl_mae_12h = np.mean(stshl_mae_12h)\n",
    "stshl_mse_12h = np.mean(stshl_mse_12h)\n",
    "\n",
    "stshl_mae_1d = np.mean(stshl_mae_1d)\n",
    "stshl_mse_1d = np.mean(stshl_mse_1d)\n",
    "\n",
    "stshl_mae_6h = -1\n",
    "stshl_mse_6h = -1\n",
    "\n",
    "stshl_mae_4h = -1\n",
    "stshl_mse_4h = -1\n",
    "\n",
    "print(\"STSHL mae 1d: \", stshl_mae_1d)\n",
    "print(\"STSHL mse 1d: \", stshl_mse_1d)\n",
    "\n",
    "print(\"STSHL mae 12h: \", stshl_mae_12h)\n",
    "print(\"STSHL mse 12h: \", stshl_mse_12h)\n",
    "\n",
    "print(\"STSHL mae 4h: \", stshl_mae_6h)\n",
    "print(\"STSHL mse 4h: \", stshl_mse_6h)\n",
    "\n",
    "print(\"STSHL mae 4h: \", stshl_mae_4h)\n",
    "print(\"STSHL mse 4h: \", stshl_mse_4h)"
   ]
  },
  {
   "attachments": {},
   "cell_type": "markdown",
   "metadata": {},
   "source": [
    "### MIST"
   ]
  },
  {
   "cell_type": "code",
   "execution_count": 4,
   "metadata": {},
   "outputs": [
    {
     "name": "stdout",
     "output_type": "stream",
     "text": [
      "mist mae 12h:  0.36868864606467916\n",
      "mist mse 12h:  0.5699337499901038\n",
      "mist mae 1d:  0.7585646701935344\n",
      "mist mse 1d:  0.8664887274798725\n",
      "mist mae 6h:  0.2865428192892443\n",
      "mist mse 6h:  0.46877682221548683\n",
      "mist mae 4h:  -1\n",
      "mist mse 4h:  -1\n"
     ]
    }
   ],
   "source": [
    "mist_mae_1d_path = \"MIST/Pickle Files/mist_mae_1d_r.pkl\"\n",
    "mist_mse_1d_path = \"MIST/Pickle Files/mist_mse_1d_r.pkl\"\n",
    "\n",
    "mist_mae_12h_path = \"MIST/Pickle Files/mist_mae_12h_r.pkl\"\n",
    "mist_mse_12h_path = \"MIST/Pickle Files/mist_mse_12h_r.pkl\"\n",
    "\n",
    "mist_mae_6h_path = \"MIST/Pickle Files/mist_mae_6h_r.pkl\"\n",
    "mist_mse_6h_path = \"MIST/Pickle Files/mist_mse_6h_r.pkl\"\n",
    "\n",
    "mist_mae_1d = pickle.load(open(mist_mae_1d_path, \"rb\"))\n",
    "mist_mse_1d = pickle.load(open(mist_mse_1d_path, \"rb\"))\n",
    "\n",
    "mist_mae_12h = pickle.load(open(mist_mae_12h_path, \"rb\"))\n",
    "mist_mse_12h = pickle.load(open(mist_mse_12h_path, \"rb\"))\n",
    "\n",
    "mist_mae_6h = pickle.load(open(mist_mae_6h_path, \"rb\"))\n",
    "mist_mse_6h = pickle.load(open(mist_mse_6h_path, \"rb\"))\n",
    "\n",
    "# filter out the -1s from the ST-HSL results\n",
    "mist_mae_1d = [x for x in mist_mae_1d if x != -1]\n",
    "mist_mse_1d = [x**0.5 for x in mist_mse_1d if x != -1]\n",
    "\n",
    "mist_mae_12h = [x for x in mist_mae_12h if x != -1]\n",
    "mist_mse_12h = [x**0.5 for x in mist_mse_12h if x != -1]\n",
    "\n",
    "mist_mae_6h = [x for x in mist_mae_6h if x != -1]\n",
    "mist_mse_6h = [x**0.5 for x in mist_mse_6h if x != -1]\n",
    "\n",
    "mist_mae_12h = np.mean(mist_mae_12h)\n",
    "mist_mse_12h = np.mean(mist_mse_12h)\n",
    "\n",
    "mist_mae_1d = np.mean(mist_mae_1d)\n",
    "mist_mse_1d = np.mean(mist_mse_1d)\n",
    "\n",
    "mist_mae_6h = np.mean(mist_mae_6h)\n",
    "mist_mse_6h = np.mean(mist_mse_6h)\n",
    "\n",
    "mist_mae_4h = -1\n",
    "mist_mse_4h = -1\n",
    "\n",
    "print(\"mist mae 12h: \", mist_mae_12h)\n",
    "print(\"mist mse 12h: \", mist_mse_12h)\n",
    "\n",
    "print(\"mist mae 1d: \", mist_mae_1d)\n",
    "print(\"mist mse 1d: \", mist_mse_1d)\n",
    "\n",
    "print(\"mist mae 6h: \", mist_mae_6h)\n",
    "print(\"mist mse 6h: \", mist_mse_6h)\n",
    "\n",
    "print(\"mist mae 4h: \", mist_mae_4h)\n",
    "print(\"mist mse 4h: \", mist_mse_4h)"
   ]
  },
  {
   "attachments": {},
   "cell_type": "markdown",
   "metadata": {},
   "source": [
    "### CrimeForecaster"
   ]
  },
  {
   "cell_type": "code",
   "execution_count": 5,
   "metadata": {},
   "outputs": [
    {
     "name": "stdout",
     "output_type": "stream",
     "text": [
      "cf mae 1d:  0.5426696750108805\n",
      "cf mse 1d:  0.6176846611267021\n",
      "cf mae 12h:  0.5506886091754418\n",
      "cf mse 12h:  0.6361939080392376\n",
      "cf mae 6h:  0.534540857264949\n",
      "cf mse 6h:  0.653659509576463\n",
      "cf mae 4h:  0.5866348443622579\n",
      "cf mse 4h:  0.7096650017600953\n"
     ]
    }
   ],
   "source": [
    "cf_mae_1d_path = \"CF/pickle_files/cf_1d_mae.pkl\"\n",
    "cf_mse_1d_path = \"CF/pickle_files/cf_1d_mse.pkl\"\n",
    "\n",
    "cf_mae_12h_path = \"CF/pickle_files/cf_12h_mae.pkl\"\n",
    "cf_mse_12h_path = \"CF/pickle_files/cf_12h_mse.pkl\"\n",
    "\n",
    "cf_mae_6h_path = \"CF/pickle_files/cf_6h_mae.pkl\"\n",
    "cf_mse_6h_path = \"CF/pickle_files/cf_6h_mse.pkl\"\n",
    "\n",
    "cf_mae_4h_path = \"CF/pickle_files/cf_4h_mae.pkl\"\n",
    "cf_mse_4h_path = \"CF/pickle_files/cf_4h_mse.pkl\"\n",
    "\n",
    "cf_mae_1d = pickle.load(open(cf_mae_1d_path, \"rb\"))\n",
    "cf_mse_1d = pickle.load(open(cf_mse_1d_path, \"rb\"))\n",
    "\n",
    "cf_mae_12h = pickle.load(open(cf_mae_12h_path, \"rb\"))\n",
    "cf_mse_12h = pickle.load(open(cf_mse_12h_path, \"rb\"))\n",
    "\n",
    "cf_mae_6h = pickle.load(open(cf_mae_6h_path, \"rb\"))\n",
    "cf_mse_6h = pickle.load(open(cf_mse_6h_path, \"rb\"))\n",
    "\n",
    "cf_mae_4h = pickle.load(open(cf_mae_4h_path, \"rb\"))\n",
    "cf_mse_4h = pickle.load(open(cf_mse_4h_path, \"rb\"))\n",
    "\n",
    "# filter out the -1s from the ST-HSL results\n",
    "cf_mae_1d = [x for x in cf_mae_1d if x != -1]\n",
    "cf_mse_1d = [x**0.5 for x in cf_mse_1d if x != -1]\n",
    "\n",
    "cf_mae_12h = [x for x in cf_mae_12h if x != -1]\n",
    "cf_mse_12h = [x**0.5 for x in cf_mse_12h if x != -1]\n",
    "\n",
    "cf_mae_6h = [x for x in cf_mae_6h if x != -1]\n",
    "cf_mse_6h = [x**0.5 for x in cf_mse_6h if x != -1]\n",
    "\n",
    "cf_mae_4h = [x for x in cf_mae_4h if x != -1]\n",
    "cf_mse_4h = [x**0.5 for x in cf_mse_4h if x != -1]\n",
    "\n",
    "cf_mae_12h = np.mean(cf_mae_12h)\n",
    "cf_mse_12h = np.mean(cf_mse_12h)\n",
    "\n",
    "cf_mae_1d = np.mean(cf_mae_1d)\n",
    "cf_mse_1d = np.mean(cf_mse_1d)\n",
    "\n",
    "cf_mae_6h = np.mean(cf_mae_6h)\n",
    "cf_mse_6h = np.mean(cf_mse_6h)\n",
    "\n",
    "cf_mae_4h = np.mean(cf_mae_4h)\n",
    "cf_mse_4h = np.mean(cf_mse_4h)\n",
    "\n",
    "\n",
    "print(\"cf mae 1d: \", cf_mae_1d)\n",
    "print(\"cf mse 1d: \", cf_mse_1d)\n",
    "\n",
    "print(\"cf mae 12h: \", cf_mae_12h)\n",
    "print(\"cf mse 12h: \", cf_mse_12h)\n",
    "\n",
    "print(\"cf mae 6h: \", cf_mae_6h)\n",
    "print(\"cf mse 6h: \", cf_mse_6h)\n",
    "\n",
    "print(\"cf mae 4h: \", cf_mae_4h)\n",
    "print(\"cf mse 4h: \", cf_mse_4h)"
   ]
  },
  {
   "attachments": {},
   "cell_type": "markdown",
   "metadata": {},
   "source": [
    "### HAGEN"
   ]
  },
  {
   "cell_type": "code",
   "execution_count": 6,
   "metadata": {},
   "outputs": [
    {
     "name": "stdout",
     "output_type": "stream",
     "text": [
      "hagen mae 1d:  0.49276076641682626\n",
      "hagen mse 1d:  0.541235459245838\n",
      "hagen mae 12h:  0.5003392309337468\n",
      "hagen mse 12h:  0.5391827605337398\n",
      "hagen mae 6h:  0.4902416717369514\n",
      "hagen mse 6h:  0.5259301256376506\n",
      "hagen mae 4h:  0.5009801817582302\n",
      "hagen mse 4h:  0.5310710184484903\n"
     ]
    }
   ],
   "source": [
    "hagen_mae_1d_path = \"HAGEN/pickle_files/hagen_1d_mae.pkl\"\n",
    "hagen_mse_1d_path = \"HAGEN/pickle_files/hagen_1d_mse.pkl\"\n",
    "\n",
    "hagen_mae_12h_path = \"HAGEN/pickle_files/hagen_12h_mae.pkl\"\n",
    "hagen_mse_12h_path = \"HAGEN/pickle_files/hagen_12h_mse.pkl\"\n",
    "\n",
    "hagen_mae_6h_path = \"HAGEN/pickle_files/hagen_6h_mae.pkl\"\n",
    "hagen_mse_6h_path = \"HAGEN/pickle_files/hagen_6h_mse.pkl\"\n",
    "\n",
    "hagen_mae_4h_path = \"HAGEN/pickle_files/hagen_4h_mae.pkl\"\n",
    "hagen_mse_4h_path = \"HAGEN/pickle_files/hagen_4h_mse.pkl\"\n",
    "\n",
    "hagen_mae_1d = pickle.load(open(hagen_mae_1d_path, \"rb\"))\n",
    "hagen_mse_1d = pickle.load(open(hagen_mse_1d_path, \"rb\"))\n",
    "\n",
    "hagen_mae_12h = pickle.load(open(hagen_mae_12h_path, \"rb\"))\n",
    "hagen_mse_12h = pickle.load(open(hagen_mse_12h_path, \"rb\"))\n",
    "\n",
    "hagen_mae_6h = pickle.load(open(hagen_mae_6h_path, \"rb\"))\n",
    "hagen_mse_6h = pickle.load(open(hagen_mse_6h_path, \"rb\"))\n",
    "\n",
    "hagen_mae_4h = pickle.load(open(hagen_mae_4h_path, \"rb\"))\n",
    "hagen_mse_4h = pickle.load(open(hagen_mse_4h_path, \"rb\"))\n",
    "\n",
    "# filter out the -1s from the ST-HSL results\n",
    "hagen_mae_1d = [x for x in hagen_mae_1d if x != -1]\n",
    "hagen_mse_1d = [x**0.5 for x in hagen_mse_1d if x != -1]\n",
    "\n",
    "hagen_mae_12h = [x for x in hagen_mae_12h if x != -1]\n",
    "hagen_mse_12h = [x**0.5 for x in hagen_mse_12h if x != -1]\n",
    "\n",
    "hagen_macr_6h = [x for x in hagen_mae_6h if x != -1]\n",
    "hagen_mse_6h = [x**0.5 for x in hagen_mse_6h if x != -1]\n",
    "\n",
    "hagen_mae_4h = [x for x in hagen_mae_4h if x != -1]\n",
    "hagen_mse_4h = [x**0.5 for x in hagen_mse_4h if x != -1]\n",
    "\n",
    "hagen_mae_12h = np.mean(hagen_mae_12h)\n",
    "hagen_mse_12h = np.mean(hagen_mse_12h)\n",
    "\n",
    "hagen_mae_1d = np.mean(hagen_mae_1d)\n",
    "hagen_mse_1d = np.mean(hagen_mse_1d)\n",
    "\n",
    "hagen_mae_6h = np.mean(hagen_mae_6h)\n",
    "hagen_mse_6h = np.mean(hagen_mse_6h)\n",
    "\n",
    "hagen_mae_4h = np.mean(hagen_mae_4h)\n",
    "hagen_mse_4h = np.mean(hagen_mse_4h)\n",
    "\n",
    "\n",
    "print(\"hagen mae 1d: \", hagen_mae_1d)\n",
    "print(\"hagen mse 1d: \", hagen_mse_1d)\n",
    "\n",
    "print(\"hagen mae 12h: \", hagen_mae_12h)\n",
    "print(\"hagen mse 12h: \", hagen_mse_12h)\n",
    "\n",
    "print(\"hagen mae 6h: \", hagen_mae_6h)\n",
    "print(\"hagen mse 6h: \", hagen_mse_6h)\n",
    "\n",
    "print(\"hagen mae 4h: \", hagen_mae_4h)\n",
    "print(\"hagen mse 4h: \", hagen_mse_4h)"
   ]
  },
  {
   "attachments": {},
   "cell_type": "markdown",
   "metadata": {},
   "source": [
    "### AIST"
   ]
  },
  {
   "cell_type": "code",
   "execution_count": 7,
   "metadata": {},
   "outputs": [
    {
     "name": "stdout",
     "output_type": "stream",
     "text": [
      "aist mae 1d:  1.4280175\n",
      "aist mse 1d:  1.8343412998020536\n",
      "aist mae 12h:  -1\n",
      "aist mse 12h:  -1\n",
      "aist mae 6h:  -1\n",
      "aist mse 6h:  -1\n",
      "aist mae 4h:  0.3427668605\n",
      "aist mse 4h:  0.6703616295\n"
     ]
    }
   ],
   "source": [
    "aist_mae_1d_path = \"AIST/pickle_files/aist_24h_mae.pkl\"\n",
    "aist_mse_1d_path = \"AIST/pickle_files/aist_24h_mse.pkl\"\n",
    "\n",
    "aist_mae_1d = pickle.load(open(aist_mae_1d_path, \"rb\"))\n",
    "aist_mse_1d = pickle.load(open(aist_mse_1d_path, \"rb\"))\n",
    "\n",
    "# filter out the -1s from the ST-HSL results\n",
    "aist_mae_1d = [x for x in aist_mae_1d if x != -1]\n",
    "aist_mse_1d = [x**0.5 for x in aist_mse_1d if x != -1]\n",
    "\n",
    "aist_mae_1d = np.mean(aist_mae_1d)\n",
    "aist_mse_1d = np.mean(aist_mse_1d)\n",
    "\n",
    "aist_mae_12h = -1\n",
    "aist_mse_12h = -1\n",
    "\n",
    "aist_mae_6h = -1\n",
    "aist_mse_6h = -1\n",
    "\n",
    "aist_mae_4h = 0.3427668605\n",
    "aist_mse_4h = 0.6703616295\n",
    "\n",
    "print(\"aist mae 1d: \", aist_mae_1d)\n",
    "print(\"aist mse 1d: \", aist_mse_1d)\n",
    "\n",
    "print(\"aist mae 12h: \", aist_mae_12h)\n",
    "print(\"aist mse 12h: \", aist_mse_12h)\n",
    "\n",
    "print(\"aist mae 6h: \", aist_mae_6h)\n",
    "print(\"aist mse 6h: \", aist_mse_6h)\n",
    "\n",
    "print(\"aist mae 4h: \", aist_mae_4h)\n",
    "print(\"aist mse 4h: \", aist_mse_4h)"
   ]
  },
  {
   "attachments": {},
   "cell_type": "markdown",
   "metadata": {},
   "source": [
    "# Generate CSV File"
   ]
  },
  {
   "cell_type": "code",
   "execution_count": 8,
   "metadata": {},
   "outputs": [],
   "source": [
    "import pandas as pd\n",
    "\n",
    "csv_content = pd.DataFrame(columns=['', '', '4h', '6h', '12h', '24h'])\n",
    "\n",
    "csv_content.loc[0] = ['Deepcrime', 'MAE', dc_mae_4h, dc_mae_6h, dc_mae_12h, dc_mae_1d]\n",
    "csv_content.loc[1] = ['', 'RMSE', dc_mse_4h, dc_mse_6h, dc_mse_12h, dc_mse_1d]\n",
    "\n",
    "csv_content.loc[2] = ['Hagen', 'MAE', hagen_mae_4h, hagen_mae_6h, hagen_mae_12h, hagen_mae_1d]\n",
    "csv_content.loc[3] = ['', 'RMSE', hagen_mse_4h, hagen_mse_6h, hagen_mse_12h, hagen_mse_1d]\n",
    "\n",
    "csv_content.loc[4] = ['AIST', 'MAE', aist_mae_4h, aist_mae_6h, aist_mae_12h, aist_mae_1d]\n",
    "csv_content.loc[5] = ['', 'RMSE', aist_mse_4h, aist_mse_6h, aist_mse_12h, aist_mse_1d]\n",
    "\n",
    "csv_content.loc[6] = ['ST-HSL', 'MAE', stshl_mae_4h, -1, stshl_mae_12h, stshl_mae_1d]\n",
    "csv_content.loc[7] = ['', 'RMSE', stshl_mse_4h, -1, stshl_mse_12h, stshl_mse_1d]\n",
    "\n",
    "csv_content.loc[8] = ['CF', 'MAE', cf_mae_4h, cf_mae_6h, cf_mae_12h, cf_mae_1d]\n",
    "csv_content.loc[9] = ['', 'RMSE', cf_mse_4h, cf_mse_6h, cf_mse_12h, cf_mse_1d]\n",
    "\n",
    "csv_content.loc[10] = ['MIST', 'MAE', mist_mae_4h, -1, mist_mae_12h, mist_mae_1d]\n",
    "csv_content.loc[11] = ['', 'RMSE', mist_mse_4h, -1, mist_mse_12h, mist_mse_1d]\n",
    "\n",
    "\n",
    "csv_content.to_csv('../Generated_CSV/temporal_r.csv', index=False)"
   ]
  },
  {
   "cell_type": "code",
   "execution_count": null,
   "metadata": {},
   "outputs": [],
   "source": []
  }
 ],
 "metadata": {
  "kernelspec": {
   "display_name": "venv",
   "language": "python",
   "name": "venv"
  },
  "language_info": {
   "codemirror_mode": {
    "name": "ipython",
    "version": 3
   },
   "file_extension": ".py",
   "mimetype": "text/x-python",
   "name": "python",
   "nbconvert_exporter": "python",
   "pygments_lexer": "ipython3",
   "version": "3.7.4"
  },
  "orig_nbformat": 4
 },
 "nbformat": 4,
 "nbformat_minor": 2
}
