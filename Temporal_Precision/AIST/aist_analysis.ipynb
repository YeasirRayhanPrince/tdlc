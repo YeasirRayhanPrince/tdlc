{
 "cells": [
  {
   "cell_type": "code",
   "execution_count": 1,
   "metadata": {},
   "outputs": [],
   "source": [
    "import numpy as np\n",
    "import pickle\n",
    "import os"
   ]
  },
  {
   "attachments": {},
   "cell_type": "markdown",
   "metadata": {},
   "source": [
    "# Classification"
   ]
  },
  {
   "cell_type": "code",
   "execution_count": 2,
   "metadata": {},
   "outputs": [],
   "source": [
    "aist_24h_path = \"24h_c/aist_micro_macro.txt\"\n",
    "\n",
    "aist_24h_macro = np.full(77, -1.0)\n",
    "aist_24h_micro = np.full(77, -1.0)\n",
    "\n",
    "with open(aist_24h_path, \"r\") as f:\n",
    "    for line in f:\n",
    "        line = line.split()\n",
    "        aist_24h_micro[int(line[0])] = float(line[1])\n",
    "        aist_24h_macro[int(line[0])] = float(line[2])\n",
    "\n",
    "pickle.dump(aist_24h_macro, open(\"pickle_files/aist_24h_macro.pkl\", \"wb\"))\n",
    "pickle.dump(aist_24h_micro, open(\"pickle_files/aist_24h_micro.pkl\", \"wb\"))"
   ]
  },
  {
   "cell_type": "code",
   "execution_count": 4,
   "metadata": {},
   "outputs": [
    {
     "name": "stdout",
     "output_type": "stream",
     "text": [
      "0.6586270871985158 0.4928037120311173\n"
     ]
    }
   ],
   "source": [
    "aist_12h_path = \"12h_c/aist_micro_macro.txt\"\n",
    "\n",
    "aist_12h_macro = np.full(77, -1.0)\n",
    "aist_12h_micro = np.full(77, -1.0)\n",
    "\n",
    "with open(aist_12h_path, \"r\") as f:\n",
    "    for line in f:\n",
    "        line = line.split()\n",
    "        aist_12h_micro[int(line[0])] = float(line[1])\n",
    "        aist_12h_macro[int(line[0])] = float(line[2])\n",
    "\n",
    "print(np.mean(aist_12h_micro), np.mean(aist_12h_macro))\n",
    "\n",
    "# pickle.dump(aist_12h_macro, open(\"pickle_files/aist_12h_macro.pkl\", \"wb\"))\n",
    "# pickle.dump(aist_12h_micro, open(\"pickle_files/aist_12h_micro.pkl\", \"wb\"))"
   ]
  },
  {
   "attachments": {},
   "cell_type": "markdown",
   "metadata": {},
   "source": [
    "# Regression"
   ]
  },
  {
   "cell_type": "code",
   "execution_count": 3,
   "metadata": {},
   "outputs": [],
   "source": [
    "aist_24h_path = \"24h_r/aist_mae_mse.txt\"\n",
    "\n",
    "aist_24h_mae = np.full(77, -1.0)\n",
    "aist_24h_mse = np.full(77, -1.0)\n",
    "\n",
    "with open(aist_24h_path, \"r\") as f:\n",
    "    for line in f:\n",
    "        line = line.split()\n",
    "        aist_24h_mae[int(float(line[0]))] = float(line[1])\n",
    "        aist_24h_mse[int(float(line[0]))] = float(line[2])\n",
    "\n",
    "pickle.dump(aist_24h_mae, open(\"pickle_files/aist_24h_mae.pkl\", \"wb\"))\n",
    "pickle.dump(aist_24h_mse, open(\"pickle_files/aist_24h_mse.pkl\", \"wb\"))"
   ]
  },
  {
   "cell_type": "code",
   "execution_count": 5,
   "metadata": {},
   "outputs": [
    {
     "data": {
      "text/plain": [
       "0"
      ]
     },
     "execution_count": 5,
     "metadata": {},
     "output_type": "execute_result"
    }
   ],
   "source": [
    "int(0.000000)"
   ]
  },
  {
   "cell_type": "code",
   "execution_count": null,
   "metadata": {},
   "outputs": [],
   "source": []
  }
 ],
 "metadata": {
  "kernelspec": {
   "display_name": "venv",
   "language": "python",
   "name": "venv"
  },
  "language_info": {
   "codemirror_mode": {
    "name": "ipython",
    "version": 3
   },
   "file_extension": ".py",
   "mimetype": "text/x-python",
   "name": "python",
   "nbconvert_exporter": "python",
   "pygments_lexer": "ipython3",
   "version": "3.7.4"
  },
  "orig_nbformat": 4
 },
 "nbformat": 4,
 "nbformat_minor": 2
}
